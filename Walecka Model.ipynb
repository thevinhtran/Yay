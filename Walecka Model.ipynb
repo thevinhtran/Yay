{
 "cells": [
  {
   "cell_type": "code",
   "execution_count": 116,
   "id": "c9130d1e",
   "metadata": {},
   "outputs": [],
   "source": [
    "import numpy as np\n",
    "import sympy as sym\n",
    "import matplotlib.pyplot as plt\n",
    "from broyden import *\n",
    "import time\n",
    "\n",
    "Pi = sym.symbols('pi')\n",
    "n0 = 0.153\n",
    "hc = 197.326980 # MeV fm"
   ]
  },
  {
   "cell_type": "code",
   "execution_count": 117,
   "id": "6fb40c25",
   "metadata": {},
   "outputs": [],
   "source": [
    "class eos:\n",
    "    def __init__(self, g_sigma, g_omega, g_rho = 0.0, b = 0.0, c = 0.0):\n",
    "        \n",
    "        self.g_sigma = g_sigma\n",
    "        self.g_omega = g_omega\n",
    "        self.g_rho = g_rho\n",
    "        self.b = b\n",
    "        self.c = c\n",
    "\n",
    "class baryon:\n",
    "    def __init__(self, mass, spin, isospin, charge, kind, var_type, mass_eff = 0.0, num_density = 0.0,\\\n",
    "                 frac = 0.0, kf = 0.0, ef = 0.0, chem_pot = 0.0):\n",
    "    \n",
    "        # variables to be established at baryon declaration\n",
    "        self.mass = mass\n",
    "        self.spin = spin \n",
    "        self.isospin = isospin\n",
    "        self.charge = charge\n",
    "        self.kind = kind\n",
    "        self.var_type = var_type\n",
    "    \n",
    "        # variables to be stored later\n",
    "        self.mass_eff = mass_eff\n",
    "        self.num_density = num_density\n",
    "        self.frac = frac\n",
    "        self.kf = kf\n",
    "        self.ef = ef\n",
    "        self.chem_pot = chem_pot\n",
    "        \n",
    "        # other things\n",
    "        self.g_sigma = 0.0\n",
    "        self.g_omega = 0.0 \n",
    "        self.g_rho = 0.0 \n",
    "        self.g_phi = 0.0 \n",
    "\n",
    "class lepton:\n",
    "    def __init__(self, mass, charge, num_density = 0.0, frac = 0.0, var_type = 0.0, kf = 0.0, chem_pot = 0.0):\n",
    "        self.mass = mass\n",
    "        self.charge = charge\n",
    "        self.num_density = num_density\n",
    "        self.frac = frac\n",
    "        self.var_type = var_type\n",
    "        self.kf = kf\n",
    "        self.chem_pot = chem_pot\n",
    "\n",
    "class meson:\n",
    "    def __init__(self, mass, field = 0.0):\n",
    "        self.mass = mass # in MeV\n",
    "        self.field = field\n",
    "        \n",
    "class independent_var:\n",
    "    def __init__(self, var, func, tilde_chem_pot = 0.0, tilde_chem_pot_val = 0.0, num_val = 0.0, total_deriv = 0.0):\n",
    "        self.var = var # var is the symbol for the variable\n",
    "        self.func = func \n",
    "        \n",
    "        self.tilde_chem_pot = tilde_chem_pot\n",
    "        self.tilde_chem_pot_val = tilde_chem_pot_val\n",
    "        \n",
    "        self.num_val = num_val\n",
    "        \n",
    "        # total derivative of fraction wrt to nB\n",
    "        self.total_deriv = total_deriv"
   ]
  },
  {
   "cell_type": "code",
   "execution_count": 118,
   "id": "074096d0",
   "metadata": {},
   "outputs": [],
   "source": [
    "# glen denning constants\n",
    "rmf = eos(g_sigma = 8.79509376389, g_omega = 9.1815177, g_rho = 9.7793745, b = 0.00414, c = 0.00716)\n",
    "\n",
    "g_sigma, g_omega, g_rho, b, c = sym.symbols('g_sigma, g_omega, g_rho, b, c')\n",
    "\n",
    "# initializing symbolic eos object\n",
    "rmf_sym = eos(g_sigma, g_omega, g_rho, b, c)"
   ]
  },
  {
   "cell_type": "code",
   "execution_count": 119,
   "id": "b9e932c4",
   "metadata": {},
   "outputs": [],
   "source": [
    "# electron\n",
    "electron_sym = lepton(sym.symbols('m_e'), -1, sym.symbols('n_e'), sym.symbols('x_e'), 'Independent',\\\n",
    "                      sym.symbols('k_F_e'), sym.symbols('\\mu_e'))\n",
    "electron_num = lepton(0.510, -1)\n",
    "\n",
    "# proton \n",
    "proton_sym = baryon(sym.symbols('m'), 1/2, 1/2, 1, 'Nucleon', 'Dependent', sym.symbols('m_p^*'),\\\n",
    "                    sym.symbols('n_p'), sym.symbols('x_p'), sym.symbols('k_F_p'),\\\n",
    "                    sym.symbols('E^*_F_p'), sym.symbols('mu_p'))\n",
    "proton_num = baryon(939.0, 1/2, 1/2, 1, 'Nucleon', 'Dependent')\n",
    "\n",
    "# neutron \n",
    "neutron_sym = baryon(sym.symbols('m'), 1/2, -1/2, 0, 'Nucleon', 'Dependent', sym.symbols('m_n^*'),\\\n",
    "                    sym.symbols('n_n'), sym.symbols('x_n'), sym.symbols('k_F_n'),\\\n",
    "                    sym.symbols('E^*_F_n'), sym.symbols('mu_n'))\n",
    "neutron_num = baryon(939.0, 1/2, -1/2, 0, 'Nucleon', 'Dependent')"
   ]
  },
  {
   "cell_type": "code",
   "execution_count": 120,
   "id": "dd86968f",
   "metadata": {},
   "outputs": [],
   "source": [
    "proton_sym.g_sigma = rmf_sym.g_sigma\n",
    "proton_num.g_sigma = rmf.g_sigma\n",
    "\n",
    "proton_sym.g_omega = rmf_sym.g_omega\n",
    "proton_num.g_omega = rmf.g_omega\n",
    "\n",
    "neutron_sym.g_sigma = rmf_sym.g_sigma\n",
    "neutron_num.g_sigma = rmf.g_sigma\n",
    "\n",
    "neutron_sym.g_omega = rmf_sym.g_omega\n",
    "neutron_num.g_omega = rmf.g_omega"
   ]
  },
  {
   "cell_type": "code",
   "execution_count": 121,
   "id": "d420c9cc",
   "metadata": {},
   "outputs": [],
   "source": [
    "# declaring the symbolic meson objects\n",
    "sigma_sym = meson(sym.symbols('m_sigma'), sym.symbols('sigma'))\n",
    "omega_sym = meson(sym.symbols('m_omega'), sym.symbols('omega'))\n",
    "\n",
    "# declaring the numeric meson objects\n",
    "sigma_num = meson(550.0)\n",
    "omega_num = meson(783.0)"
   ]
  },
  {
   "cell_type": "code",
   "execution_count": 122,
   "id": "4823b9db",
   "metadata": {},
   "outputs": [],
   "source": [
    "# initializing independent variables\n",
    "nb = independent_var(sym.symbols('n_B'), sym.Function('n_B'))\n",
    "xe = independent_var(sym.symbols('x_e'), sym.Function('x_e'), sym.symbols('mu tilde_x_e'))"
   ]
  },
  {
   "cell_type": "markdown",
   "id": "80368818",
   "metadata": {},
   "source": [
    "Practice with solving $\\sigma-\\omega$ Model\n",
    "$$\n",
    "    m_\\sigma^2 \\sigma + m_N b g_\\sigma^3 \\sigma^2 + c g_\\sigma^4 \\sigma^3 = g_\\sigma n^s \\qquad n^s = \\frac{m^*}{\\pi^2}\\left[k_F E_F - {m^*}^2\\ln\\frac{k_F + E_F}{m^*}\\right]\\\\\n",
    "    m_\\omega^2 \\omega = g_\\omega n_B\n",
    "$$\n",
    "with constraints\n",
    "$$\n",
    "    n_n + n_p = n_B\\\\\n",
    "    n_p = n_e\n",
    "$$"
   ]
  },
  {
   "cell_type": "code",
   "execution_count": 123,
   "id": "b88866ca",
   "metadata": {},
   "outputs": [
    {
     "data": {
      "text/latex": [
       "$\\displaystyle b g_{\\sigma}^{3} m \\sigma^{2} + c g_{\\sigma}^{4} \\sigma^{3} - g_{\\sigma} \\left(n^{s}_{n} + n^{s}_{p}\\right) + m_{\\sigma}^{2} \\sigma$"
      ],
      "text/plain": [
       "b*g_sigma**3*m*sigma**2 + c*g_sigma**4*sigma**3 - g_sigma*(n_n^s + n_p^s) + m_sigma**2*sigma"
      ]
     },
     "execution_count": 123,
     "metadata": {},
     "output_type": "execute_result"
    }
   ],
   "source": [
    "eqn1 = sigma_sym.mass**2*sigma_sym.field + neutron_sym.mass*rmf_sym.b*rmf_sym.g_sigma**3*sigma_sym.field**2 + rmf_sym.c*rmf_sym.g_sigma**4*sigma_sym.field**3 - rmf_sym.g_sigma*(sym.symbols('n_n^s') + sym.symbols('n_p^s'))\n",
    "eqn1"
   ]
  },
  {
   "cell_type": "code",
   "execution_count": 124,
   "id": "36706b71",
   "metadata": {},
   "outputs": [],
   "source": [
    "ns_n = neutron_sym.mass_eff/Pi**2*(neutron_sym.kf*neutron_sym.ef - neutron_sym.mass_eff**2*sym.log((neutron_sym.kf + neutron_sym.ef)/neutron_sym.mass_eff))\n",
    "ns_p = proton_sym.mass_eff/Pi**2*(proton_sym.kf*proton_sym.ef - proton_sym.mass_eff**2*sym.log((proton_sym.kf + proton_sym.ef)/proton_sym.mass_eff))"
   ]
  },
  {
   "cell_type": "code",
   "execution_count": 125,
   "id": "ddd6b09f",
   "metadata": {},
   "outputs": [
    {
     "data": {
      "text/latex": [
       "$\\displaystyle b g_{\\sigma}^{3} m \\sigma^{2} + c g_{\\sigma}^{4} \\sigma^{3} - g_{\\sigma} \\left(\\frac{m^{*}_{n} \\left(E^{*}_{F n} k_{F n} - \\left(m^{*}_{n}\\right)^{2} \\log{\\left(\\frac{E^{*}_{F n} + k_{F n}}{m^{*}_{n}} \\right)}\\right)}{\\pi^{2}} + \\frac{m^{*}_{p} \\left(E^{*}_{F p} k_{F p} - \\left(m^{*}_{p}\\right)^{2} \\log{\\left(\\frac{E^{*}_{F p} + k_{F p}}{m^{*}_{p}} \\right)}\\right)}{\\pi^{2}}\\right) + m_{\\sigma}^{2} \\sigma$"
      ],
      "text/plain": [
       "b*g_sigma**3*m*sigma**2 + c*g_sigma**4*sigma**3 - g_sigma*(m_n^**(E^*_F_n*k_F_n - m_n^***2*log((E^*_F_n + k_F_n)/m_n^*))/pi**2 + m_p^**(E^*_F_p*k_F_p - m_p^***2*log((E^*_F_p + k_F_p)/m_p^*))/pi**2) + m_sigma**2*sigma"
      ]
     },
     "execution_count": 125,
     "metadata": {},
     "output_type": "execute_result"
    }
   ],
   "source": [
    "eqn1 = eqn1.subs([(sym.symbols('n_p^s'), ns_p), (sym.symbols('n_n^s'), ns_n)])\n",
    "eqn1"
   ]
  },
  {
   "cell_type": "code",
   "execution_count": 126,
   "id": "d4ad6dc0",
   "metadata": {},
   "outputs": [],
   "source": [
    "kf_n = (3*Pi**2*sym.symbols('n_n'))**(1/3)\n",
    "kf_p = (3*Pi**2*sym.symbols('n_p'))**(1/3)\n",
    "ef_n = sym.sqrt(kf_n**2 + (neutron_sym.mass - rmf_sym.g_sigma*sigma_sym.field)**2)\n",
    "ef_p = sym.sqrt(kf_p**2 + (proton_sym.mass - rmf_sym.g_sigma*sigma_sym.field)**2)"
   ]
  },
  {
   "cell_type": "code",
   "execution_count": 127,
   "id": "0caf96c9",
   "metadata": {},
   "outputs": [
    {
     "data": {
      "text/latex": [
       "$\\displaystyle b g_{\\sigma}^{3} m \\sigma^{2} + c g_{\\sigma}^{4} \\sigma^{3} - g_{\\sigma} \\left(\\frac{\\left(- g_{\\sigma} \\sigma + m\\right) \\left(2.0800838230519 \\left(n_{n} \\pi^{2}\\right)^{0.333333333333333} \\sqrt{\\left(n_{n} \\pi^{2}\\right)^{0.666666666666667} + 0.480749856769136 \\left(- g_{\\sigma} \\sigma + m\\right)^{2}} - \\left(- g_{\\sigma} \\sigma + m\\right)^{2} \\log{\\left(\\frac{1.44224957030741 \\left(n_{n} \\pi^{2}\\right)^{0.333333333333333} + 1.44224957030741 \\sqrt{\\left(n_{n} \\pi^{2}\\right)^{0.666666666666667} + 0.480749856769136 \\left(- g_{\\sigma} \\sigma + m\\right)^{2}}}{- g_{\\sigma} \\sigma + m} \\right)}\\right)}{\\pi^{2}} + \\frac{\\left(- g_{\\sigma} \\sigma + m\\right) \\left(2.0800838230519 \\left(n_{p} \\pi^{2}\\right)^{0.333333333333333} \\sqrt{\\left(n_{p} \\pi^{2}\\right)^{0.666666666666667} + 0.480749856769136 \\left(- g_{\\sigma} \\sigma + m\\right)^{2}} - \\left(- g_{\\sigma} \\sigma + m\\right)^{2} \\log{\\left(\\frac{1.44224957030741 \\left(n_{p} \\pi^{2}\\right)^{0.333333333333333} + 1.44224957030741 \\sqrt{\\left(n_{p} \\pi^{2}\\right)^{0.666666666666667} + 0.480749856769136 \\left(- g_{\\sigma} \\sigma + m\\right)^{2}}}{- g_{\\sigma} \\sigma + m} \\right)}\\right)}{\\pi^{2}}\\right) + m_{\\sigma}^{2} \\sigma$"
      ],
      "text/plain": [
       "b*g_sigma**3*m*sigma**2 + c*g_sigma**4*sigma**3 - g_sigma*((-g_sigma*sigma + m)*(2.0800838230519*(n_n*pi**2)**0.333333333333333*sqrt((n_n*pi**2)**0.666666666666667 + 0.480749856769136*(-g_sigma*sigma + m)**2) - (-g_sigma*sigma + m)**2*log((1.44224957030741*(n_n*pi**2)**0.333333333333333 + 1.44224957030741*sqrt((n_n*pi**2)**0.666666666666667 + 0.480749856769136*(-g_sigma*sigma + m)**2))/(-g_sigma*sigma + m)))/pi**2 + (-g_sigma*sigma + m)*(2.0800838230519*(n_p*pi**2)**0.333333333333333*sqrt((n_p*pi**2)**0.666666666666667 + 0.480749856769136*(-g_sigma*sigma + m)**2) - (-g_sigma*sigma + m)**2*log((1.44224957030741*(n_p*pi**2)**0.333333333333333 + 1.44224957030741*sqrt((n_p*pi**2)**0.666666666666667 + 0.480749856769136*(-g_sigma*sigma + m)**2))/(-g_sigma*sigma + m)))/pi**2) + m_sigma**2*sigma"
      ]
     },
     "execution_count": 127,
     "metadata": {},
     "output_type": "execute_result"
    }
   ],
   "source": [
    "eqn1 = eqn1.subs([(neutron_sym.kf, kf_n), (neutron_sym.ef, ef_n), (proton_sym.kf, kf_p), (proton_sym.ef, ef_p)])\n",
    "eqn1 = eqn1.subs(neutron_sym.mass_eff, neutron_sym.mass - rmf_sym.g_sigma*sigma_sym.field)\n",
    "eqn1 = eqn1.subs(proton_sym.mass_eff, proton_sym.mass - rmf_sym.g_sigma*sigma_sym.field)\n",
    "eqn1"
   ]
  },
  {
   "cell_type": "code",
   "execution_count": 128,
   "id": "edeb55d8",
   "metadata": {},
   "outputs": [
    {
     "data": {
      "text/latex": [
       "$\\displaystyle 42.8425110597058 \\sigma^{3} + 2644.76661894523 \\sigma^{2} + 302500.0 \\sigma - 0.891129310402678 \\left(939.0 - 8.79509376389 \\sigma\\right) \\left(2904.95399497705 \\left(n_{B} x_{e}\\right)^{0.333333333333333} \\sqrt{1.08546581068471 \\cdot 10^{-5} \\left(n_{B} x_{e}\\right)^{0.666666666666667} + \\left(1 - 0.0093664470328967 \\sigma\\right)^{2}} - 881721.0 \\left(1 - 0.0093664470328967 \\sigma\\right)^{2} \\log{\\left(\\frac{3.09366772628014 \\left(n_{B} x_{e}\\right)^{0.333333333333333} + 939.0 \\sqrt{1.08546581068471 \\cdot 10^{-5} \\left(n_{B} x_{e}\\right)^{0.666666666666667} + \\left(1 - 0.0093664470328967 \\sigma\\right)^{2}}}{939.0 - 8.79509376389 \\sigma} \\right)}\\right) - 0.891129310402678 \\left(939.0 - 8.79509376389 \\sigma\\right) \\left(2904.95399497705 \\left(n_{B} \\left(1 - x_{e}\\right)\\right)^{0.333333333333333} \\sqrt{1.08546581068471 \\cdot 10^{-5} \\left(n_{B} \\left(1 - x_{e}\\right)\\right)^{0.666666666666667} + \\left(1 - 0.0093664470328967 \\sigma\\right)^{2}} - 881721.0 \\left(1 - 0.0093664470328967 \\sigma\\right)^{2} \\log{\\left(\\frac{3.09366772628014 \\left(n_{B} \\left(1 - x_{e}\\right)\\right)^{0.333333333333333} + 939.0 \\sqrt{1.08546581068471 \\cdot 10^{-5} \\left(n_{B} \\left(1 - x_{e}\\right)\\right)^{0.666666666666667} + \\left(1 - 0.0093664470328967 \\sigma\\right)^{2}}}{939.0 - 8.79509376389 \\sigma} \\right)}\\right)$"
      ],
      "text/plain": [
       "42.8425110597058*sigma**3 + 2644.76661894523*sigma**2 + 302500.0*sigma - 0.891129310402678*(939.0 - 8.79509376389*sigma)*(2904.95399497705*(n_B*x_e)**0.333333333333333*sqrt(1.08546581068471e-5*(n_B*x_e)**0.666666666666667 + (1 - 0.0093664470328967*sigma)**2) - 881721.0*(1 - 0.0093664470328967*sigma)**2*log((3.09366772628014*(n_B*x_e)**0.333333333333333 + 939.0*sqrt(1.08546581068471e-5*(n_B*x_e)**0.666666666666667 + (1 - 0.0093664470328967*sigma)**2))/(939.0 - 8.79509376389*sigma))) - 0.891129310402678*(939.0 - 8.79509376389*sigma)*(2904.95399497705*(n_B*(1 - x_e))**0.333333333333333*sqrt(1.08546581068471e-5*(n_B*(1 - x_e))**0.666666666666667 + (1 - 0.0093664470328967*sigma)**2) - 881721.0*(1 - 0.0093664470328967*sigma)**2*log((3.09366772628014*(n_B*(1 - x_e))**0.333333333333333 + 939.0*sqrt(1.08546581068471e-5*(n_B*(1 - x_e))**0.666666666666667 + (1 - 0.0093664470328967*sigma)**2))/(939.0 - 8.79509376389*sigma)))"
      ]
     },
     "execution_count": 128,
     "metadata": {},
     "output_type": "execute_result"
    }
   ],
   "source": [
    "eqn1 = eqn1.subs(sym.symbols('m'), neutron_num.mass)\n",
    "eqn1 = eqn1.subs([(sym.symbols('b'), rmf.b), (sym.symbols('c'), rmf.c), (rmf_sym.g_sigma, rmf.g_sigma)])\n",
    "eqn1 = eqn1.subs(sigma_sym.mass, sigma_num.mass)\n",
    "eqn1 = eqn1.subs(Pi, np.pi)\n",
    "eqn1 = eqn1.subs([(neutron_sym.num_density, nb.var*(1-electron_sym.frac)),(proton_sym.num_density, nb.var*electron_sym.frac)])\n",
    "eqn1"
   ]
  },
  {
   "cell_type": "markdown",
   "id": "5882bbfe",
   "metadata": {},
   "source": [
    "At this stage, the equation of motion for the sigma field has three unknowns: nB, xe, and sigma. We have a second equation that we can use: beta-equilibrium. Then, we can solve for everything in terms of nB values."
   ]
  },
  {
   "cell_type": "code",
   "execution_count": 129,
   "id": "bcd5f7e3",
   "metadata": {},
   "outputs": [],
   "source": [
    "nB = np.arange(0.27, 8.00, 0.01)\n",
    "nB_mev = nB*n0*hc**3"
   ]
  },
  {
   "cell_type": "code",
   "execution_count": 130,
   "id": "f1e69210",
   "metadata": {
    "scrolled": true
   },
   "outputs": [],
   "source": [
    "# Beta Equilibrium"
   ]
  },
  {
   "cell_type": "markdown",
   "id": "296b0bb3",
   "metadata": {},
   "source": [
    "Solving for Particle Fractions\n",
    "1. We have a few things to consider:\n",
    "- Baryon number conservation\n",
    "- Charge neutrality\n",
    "- Beta equilibrium \n",
    "2. When considering just $npe$ matter. We have four unknowns: $n_B, n_p, n_n, n_e$. But we have three equations so we can write everything as a function of $n_B$. \n",
    "$$\n",
    "    n_B = n_p + n_n\\\\\n",
    "    n_p = n_e\\\\\n",
    "    \\mu_n = \\mu_p + \\mu_e\n",
    "$$\n",
    "3. For these equations, it might be more simple to re-write most things in terms of the first two first... "
   ]
  },
  {
   "cell_type": "code",
   "execution_count": 131,
   "id": "a11371a7",
   "metadata": {},
   "outputs": [],
   "source": [
    "eqn2 = neutron_sym.chem_pot - proton_sym.chem_pot - electron_sym.chem_pot"
   ]
  },
  {
   "cell_type": "code",
   "execution_count": 132,
   "id": "296eb148",
   "metadata": {},
   "outputs": [
    {
     "data": {
      "text/latex": [
       "$\\displaystyle \\mu_{n} - \\mu_{p} - \\sqrt{k_{F e}^{2} + m_{e}^{2}}$"
      ],
      "text/plain": [
       "mu_n - mu_p - sqrt(k_F_e**2 + m_e**2)"
      ]
     },
     "execution_count": 132,
     "metadata": {},
     "output_type": "execute_result"
    }
   ],
   "source": [
    "eqn2 = eqn2.subs(electron_sym.chem_pot, sym.sqrt(electron_sym.kf**2 + electron_sym.mass**2))\n",
    "eqn2"
   ]
  },
  {
   "cell_type": "code",
   "execution_count": 133,
   "id": "5da3311d",
   "metadata": {},
   "outputs": [
    {
     "data": {
      "text/latex": [
       "$\\displaystyle \\mu_{n} - \\sqrt{k_{F e}^{2} + m_{e}^{2}} - \\sqrt{k_{F p}^{2} + \\left(- g_{\\sigma} \\sigma + m\\right)^{2}}$"
      ],
      "text/plain": [
       "mu_n - sqrt(k_F_e**2 + m_e**2) - sqrt(k_F_p**2 + (-g_sigma*sigma + m)**2)"
      ]
     },
     "execution_count": 133,
     "metadata": {},
     "output_type": "execute_result"
    }
   ],
   "source": [
    "eqn2 = eqn2.subs(proton_sym.chem_pot, sym.sqrt(proton_sym.kf**2 + (proton_sym.mass - rmf_sym.g_sigma*sigma_sym.field)**2))\n",
    "eqn2"
   ]
  },
  {
   "cell_type": "code",
   "execution_count": 134,
   "id": "c4537ed1",
   "metadata": {},
   "outputs": [
    {
     "data": {
      "text/latex": [
       "$\\displaystyle - \\sqrt{k_{F e}^{2} + m_{e}^{2}} + \\sqrt{k_{F n}^{2} + \\left(- g_{\\sigma} \\sigma + m\\right)^{2}} - \\sqrt{k_{F p}^{2} + \\left(- g_{\\sigma} \\sigma + m\\right)^{2}}$"
      ],
      "text/plain": [
       "-sqrt(k_F_e**2 + m_e**2) + sqrt(k_F_n**2 + (-g_sigma*sigma + m)**2) - sqrt(k_F_p**2 + (-g_sigma*sigma + m)**2)"
      ]
     },
     "execution_count": 134,
     "metadata": {},
     "output_type": "execute_result"
    }
   ],
   "source": [
    "eqn2 = eqn2.subs(neutron_sym.chem_pot, sym.sqrt(neutron_sym.kf**2 + (neutron_sym.mass - rmf_sym.g_sigma*sigma_sym.field)**2))\n",
    "eqn2"
   ]
  },
  {
   "cell_type": "code",
   "execution_count": 135,
   "id": "8a808390",
   "metadata": {},
   "outputs": [
    {
     "data": {
      "text/latex": [
       "$\\displaystyle - 1.44224957030741 \\sqrt{0.480749856769136 m_{e}^{2} + \\left(n_{B} \\pi^{2} x_{e}\\right)^{0.666666666666667}} + 1.44224957030741 \\sqrt{\\left(n_{n} \\pi^{2}\\right)^{0.666666666666667} + 0.480749856769136 \\left(- g_{\\sigma} \\sigma + m\\right)^{2}} - 1.44224957030741 \\sqrt{\\left(n_{p} \\pi^{2}\\right)^{0.666666666666667} + 0.480749856769136 \\left(- g_{\\sigma} \\sigma + m\\right)^{2}}$"
      ],
      "text/plain": [
       "-1.44224957030741*sqrt(0.480749856769136*m_e**2 + (n_B*pi**2*x_e)**0.666666666666667) + 1.44224957030741*sqrt((n_n*pi**2)**0.666666666666667 + 0.480749856769136*(-g_sigma*sigma + m)**2) - 1.44224957030741*sqrt((n_p*pi**2)**0.666666666666667 + 0.480749856769136*(-g_sigma*sigma + m)**2)"
      ]
     },
     "execution_count": 135,
     "metadata": {},
     "output_type": "execute_result"
    }
   ],
   "source": [
    "eqn2 = eqn2.subs([(neutron_sym.kf, kf_n), (proton_sym.kf, kf_p), (electron_sym.kf, (3*Pi**2*nb.var*electron_sym.frac)**((1)/3))])\n",
    "eqn2"
   ]
  },
  {
   "cell_type": "code",
   "execution_count": 136,
   "id": "7173fe53",
   "metadata": {},
   "outputs": [
    {
     "data": {
      "text/latex": [
       "$\\displaystyle - 939.0 \\sqrt{1.08546581068471 \\cdot 10^{-5} \\left(n_{B} x_{e}\\right)^{0.666666666666667} + \\left(1 - 0.0093664470328967 \\sigma\\right)^{2}} - 3.09366772628014 \\sqrt{\\left(n_{B} x_{e}\\right)^{0.666666666666667} + 0.027176468373837} + 939.0 \\sqrt{1.08546581068471 \\cdot 10^{-5} \\left(n_{B} \\left(1 - x_{e}\\right)\\right)^{0.666666666666667} + \\left(1 - 0.0093664470328967 \\sigma\\right)^{2}}$"
      ],
      "text/plain": [
       "-939.0*sqrt(1.08546581068471e-5*(n_B*x_e)**0.666666666666667 + (1 - 0.0093664470328967*sigma)**2) - 3.09366772628014*sqrt((n_B*x_e)**0.666666666666667 + 0.027176468373837) + 939.0*sqrt(1.08546581068471e-5*(n_B*(1 - x_e))**0.666666666666667 + (1 - 0.0093664470328967*sigma)**2)"
      ]
     },
     "execution_count": 136,
     "metadata": {},
     "output_type": "execute_result"
    }
   ],
   "source": [
    "eqn2 = eqn2.subs(sym.symbols('m'), neutron_num.mass)\n",
    "eqn2 = eqn2.subs(sym.symbols('m_e'), electron_num.mass)\n",
    "eqn2 = eqn2.subs(sigma_sym.mass, sigma_num.mass)\n",
    "eqn2 = eqn2.subs(Pi, np.pi)\n",
    "eqn2 = eqn2.subs(rmf_sym.g_sigma, rmf.g_sigma)\n",
    "eqn2 = eqn2.subs([(neutron_sym.num_density, nb.var*(1-electron_sym.frac)),(proton_sym.num_density, nb.var*electron_sym.frac)])\n",
    "eqn2"
   ]
  },
  {
   "cell_type": "markdown",
   "id": "f7b4fdea",
   "metadata": {},
   "source": [
    "### Equation 2 down, written in terms of our 3 variables... now we can just iterate through nB and then solve these two system of equations for the two unknowns!"
   ]
  },
  {
   "cell_type": "code",
   "execution_count": 137,
   "id": "9238a37a",
   "metadata": {},
   "outputs": [],
   "source": [
    "sigma_array = np.zeros(len(nB_mev))\n",
    "electron_frac = np.zeros(len(nB_mev))"
   ]
  },
  {
   "cell_type": "code",
   "execution_count": 138,
   "id": "66cde144",
   "metadata": {},
   "outputs": [],
   "source": [
    "sigma, elec_frac = sym.symbols('sigma x_e')\n",
    "ind_vars = np.array([sigma, elec_frac])\n",
    "sys_eqn = np.array([eqn1, eqn2])\n",
    "\n",
    "x_guess = np.array([8.0, 0.005])"
   ]
  },
  {
   "cell_type": "code",
   "execution_count": 139,
   "id": "dea16000",
   "metadata": {},
   "outputs": [],
   "source": [
    "sig_guess = 15.0 \n",
    "e_frac_guess = 0.005\n",
    "\n",
    "for i in range(len(nB_mev)):\n",
    "    eqn_1 = eqn1.subs(nb.var, nB_mev[i])\n",
    "    eqn_2 = eqn2.subs(nb.var, nB_mev[i])\n",
    "    \n",
    "    sys_eqn = np.array([eqn_1, eqn_2])\n",
    "    \n",
    "    A = broyden(sys_eqn, ind_vars, np.array([sig_guess, e_frac_guess]))\n",
    "    \n",
    "    sigma_array[i] = A[0]\n",
    "    electron_frac[i] = A[1]\n",
    "    \n",
    "    sig_guess = A[0]\n",
    "    e_frac_guess = A[1]"
   ]
  },
  {
   "cell_type": "code",
   "execution_count": 61,
   "id": "c863c394",
   "metadata": {},
   "outputs": [
    {
     "data": {
      "text/plain": [
       "array([14.43618476, 14.87394074, 15.30705988, 15.73567807, 16.15992408,\n",
       "       16.57992009, 16.99578215, 17.40762056, 17.81554031, 18.21964135,\n",
       "       18.620019  , 19.01676416, 19.40996364, 19.79970039, 20.18605371,\n",
       "       20.56909951, 20.94891047, 21.32555621, 21.69910351, 22.06961645,\n",
       "       22.43715651, 22.80178277, 23.16355202, 23.52251886, 23.87873582,\n",
       "       24.23225348, 24.58312053, 24.93138393, 25.27708892, 25.62027915,\n",
       "       25.96099672, 26.29928229, 26.63517514, 26.96871319, 27.29993312,\n",
       "       27.62887038, 27.95555928, 28.280033  , 28.60232369, 28.92246246,\n",
       "       29.24047945, 29.5564039 , 29.87026411, 30.18208756, 30.49190091,\n",
       "       30.79973   , 31.10559994, 31.40953511, 31.71155919, 32.01169519,\n",
       "       32.30996547, 32.60639178, 32.90099525, 33.19379646, 33.48481544,\n",
       "       33.77407167, 34.06158412, 34.34737127, 34.63145113, 34.91384124,\n",
       "       35.19455871, 35.47362021, 35.75104202, 36.02683999, 36.30102962,\n",
       "       36.57362603, 36.84464397, 37.11409786, 37.38200179, 37.64836951,\n",
       "       37.91321449, 38.17654987, 38.43838852, 38.69874302, 38.9576257 ,\n",
       "       39.2150486 , 39.47102352, 39.72556202, 39.97867543, 40.23037483,\n",
       "       40.48067111, 40.72957491, 40.97709669, 41.22324671, 41.46803502,\n",
       "       41.7114715 , 41.95356584, 42.19432757, 42.43376602, 42.67189039,\n",
       "       42.9087097 , 43.14423283, 43.37846849, 43.61142528, 43.84311164,\n",
       "       44.07353587, 44.30270615, 44.53063053, 44.75731695, 44.98277321,\n",
       "       45.20700701, 45.43002595, 45.65183749, 45.87244902, 46.09186781,\n",
       "       46.31010103, 46.52715577, 46.74303903, 46.9577577 , 47.17131861,\n",
       "       47.38372849, 47.59499399, 47.8051217 , 48.01411811, 48.22198965,\n",
       "       48.42874268, 48.6343835 , 48.83891831, 49.04235329, 49.24469454,\n",
       "       49.44594807, 49.64611988, 49.84521589, 50.04324196, 50.2402039 ,\n",
       "       50.43610748, 50.6309584 , 50.82476233, 51.01752489, 51.20925164,\n",
       "       51.39994811, 51.58961978, 51.77827209, 51.96591044, 52.15254019,\n",
       "       52.33816667, 52.52279515, 52.70643089, 52.88907911, 53.07074497,\n",
       "       53.25143364, 53.43115021, 53.60989978, 53.7876874 , 53.9645181 ,\n",
       "       54.14039685, 54.31532864, 54.48931839, 54.66237103, 54.83449143,\n",
       "       55.00568445, 55.17595494, 55.34530769, 55.51374751, 55.68127914,\n",
       "       55.84790734, 56.01363682, 56.17847228, 56.3424184 , 56.50547982,\n",
       "       56.66766119, 56.82896711, 56.98940219, 57.148971  , 57.3076781 ,\n",
       "       57.46552801, 57.62252527, 57.77867438, 57.93397981, 58.08844604,\n",
       "       58.24207751, 58.39487866, 58.54685389, 58.69800761, 58.8483442 ,\n",
       "       58.99786803, 59.14658344, 59.29449476, 59.44160633, 59.58792243,\n",
       "       59.73344735, 59.87818537, 60.02214074, 60.1653177 , 60.30772047,\n",
       "       60.44935328, 60.5902203 , 60.73032573, 60.86967373, 61.00826845,\n",
       "       61.14611403, 61.28321458, 61.41957422, 61.55519705, 61.69008713,\n",
       "       61.82424853, 61.9576853 , 62.09040148, 62.22240108, 62.35368812,\n",
       "       62.48426658, 62.61414044, 62.74331367, 62.87179021, 62.99957399,\n",
       "       63.12666894, 63.25307896, 63.37880795, 63.50385977, 63.62823829,\n",
       "       63.75194735, 63.87499079, 63.99737243, 64.11909607, 64.2401655 ,\n",
       "       64.36058449, 64.4803568 , 64.59948617, 64.71797634, 64.83583102,\n",
       "       64.95305391, 65.06964869, 65.18561904, 65.30096861, 65.41570104,\n",
       "       65.52981995, 65.64332896, 65.75623166, 65.86853164, 65.98023245,\n",
       "       66.09133764, 66.20185075, 66.3117753 , 66.4211148 , 66.52987272,\n",
       "       66.63805255, 66.74565774, 66.85269174, 66.95915796, 67.06505983,\n",
       "       67.17040074, 67.27518406, 67.37941316, 67.4830914 , 67.5862221 ,\n",
       "       67.68880859, 67.79085416, 67.8923621 , 67.99333568, 68.09377816,\n",
       "       68.19369277, 68.29308275, 68.39195129, 68.49030159, 68.58813682,\n",
       "       68.68546015, 68.78227471, 68.87858365, 68.97439006, 69.06969705,\n",
       "       69.16450769, 69.25882506, 69.3526522 , 69.44599215, 69.53884791,\n",
       "       69.6312225 , 69.7231189 , 69.81454008, 69.90548898, 69.99596856,\n",
       "       70.08598173, 70.1755314 , 70.26462045, 70.35325177, 70.44142821,\n",
       "       70.52915262, 70.61642782, 70.70325662, 70.78964182, 70.8755862 ,\n",
       "       70.96109252, 71.04616353, 71.13080197, 71.21501055, 71.29879197,\n",
       "       71.38214893, 71.46508408, 71.54760009, 71.62969959, 71.71138521,\n",
       "       71.79265956, 71.87352522, 71.95398479, 72.03404081, 72.11369584,\n",
       "       72.19295242, 72.27181304, 72.35028023, 72.42835646, 72.5060442 ,\n",
       "       72.58334592, 72.66026405, 72.73680101, 72.81295923, 72.8887411 ,\n",
       "       72.96414899, 73.03918528, 73.11385232, 73.18815244, 73.26208797,\n",
       "       73.33566121, 73.40887447, 73.48173001, 73.55423011, 73.62637701,\n",
       "       73.69817296, 73.76962017, 73.84072084, 73.91147718, 73.98189137,\n",
       "       74.05196556, 74.12170192, 74.19110257, 74.26016964, 74.32890525,\n",
       "       74.39731148, 74.46539042, 74.53314415, 74.6005747 , 74.66768414,\n",
       "       74.73447447, 74.80094773, 74.86710591, 74.932951  , 74.99848498,\n",
       "       75.0637098 , 75.12862742, 75.19323977, 75.25754878, 75.32155636,\n",
       "       75.3852644 , 75.44867479, 75.5117894 , 75.5746101 , 75.63713872,\n",
       "       75.6993771 , 75.76132707, 75.82299044, 75.884369  , 75.94546453,\n",
       "       76.00627882, 76.06681362, 76.12707069, 76.18705175, 76.24675854,\n",
       "       76.30619277, 76.36535614, 76.42425034, 76.48287706, 76.54123795,\n",
       "       76.59933467, 76.65716887, 76.71474218, 76.77205623, 76.82911262,\n",
       "       76.88591295, 76.94245881, 76.99875179, 77.05479344, 77.11058532,\n",
       "       77.16612897, 77.22142594, 77.27647774, 77.33128589, 77.38585189,\n",
       "       77.44017723, 77.4942634 , 77.54811186, 77.60172408, 77.6551015 ,\n",
       "       77.70824557, 77.76115772, 77.81383938, 77.86629194, 77.91851681,\n",
       "       77.97051538, 78.02228904, 78.07383916, 78.12516709, 78.1762742 ,\n",
       "       78.22716182, 78.27783128, 78.32828392, 78.37852105, 78.42854397,\n",
       "       78.47835398, 78.52795237, 78.57734041, 78.62651938, 78.67549054,\n",
       "       78.72425514, 78.77281441, 78.82116961, 78.86932195, 78.91727264,\n",
       "       78.96502291, 79.01257394, 79.05992693, 79.10708307, 79.15404352,\n",
       "       79.20080945, 79.24738203, 79.29376241, 79.33995172, 79.3859511 ,\n",
       "       79.43176167, 79.47738456, 79.52282088, 79.56807172, 79.61313819,\n",
       "       79.65802136, 79.70272233, 79.74724216, 79.79158192, 79.83574266,\n",
       "       79.87972543, 79.92353128, 79.96716124, 80.01061634, 80.0538976 ,\n",
       "       80.09700604, 80.13994265, 80.18270844, 80.2253044 , 80.26773152,\n",
       "       80.30999078, 80.35208314, 80.39400957, 80.43577103, 80.47736848,\n",
       "       80.51880285, 80.56007508, 80.60118611, 80.64213686, 80.68292825,\n",
       "       80.72356119, 80.7640366 , 80.80435535, 80.84451837, 80.88452652,\n",
       "       80.92438068, 80.96408175, 81.00363058, 81.04302803, 81.08227497,\n",
       "       81.12137224, 81.16032069, 81.19912116, 81.23777448, 81.27628148,\n",
       "       81.31464298, 81.3528598 , 81.39093275, 81.42886263, 81.46665024,\n",
       "       81.50429639, 81.54180184, 81.5791674 , 81.61639383, 81.6534819 ,\n",
       "       81.6904324 , 81.72724607, 81.76392367, 81.80046596, 81.83687369,\n",
       "       81.87314758, 81.90928838, 81.94529682, 81.98117363, 82.01691953,\n",
       "       82.05253522, 82.08802144, 82.12337887, 82.15860822, 82.1937102 ,\n",
       "       82.22868548, 82.26353476, 82.29825873, 82.33285806, 82.36733341,\n",
       "       82.40168548, 82.4359149 , 82.47002236, 82.5040085 , 82.53787397,\n",
       "       82.57161942, 82.60524549, 82.63875283, 82.67214206, 82.70541381,\n",
       "       82.73856871, 82.77160739, 82.80453045, 82.83733851, 82.87003218,\n",
       "       82.90261207, 82.93507877, 82.96743288, 82.999675  , 83.0318057 ,\n",
       "       83.06382559, 83.09573523, 83.12753521, 83.1592261 , 83.19080846,\n",
       "       83.22228287, 83.25364989, 83.28491007, 83.31606396, 83.34711213,\n",
       "       83.37805511, 83.40889346, 83.4396277 , 83.47025838, 83.50078603,\n",
       "       83.53121119, 83.56153436, 83.59175609, 83.62187688, 83.65189725,\n",
       "       83.68181772, 83.7116388 , 83.74136098, 83.77098478, 83.80051069,\n",
       "       83.82993921, 83.85927083, 83.88850604, 83.91764533, 83.94668918,\n",
       "       83.97563807, 84.00449248, 84.03325287, 84.06191974, 84.09049353,\n",
       "       84.11897471, 84.14736376, 84.17566112, 84.20386725, 84.23198261,\n",
       "       84.26000764, 84.2879428 , 84.31578852, 84.34354525, 84.37121343,\n",
       "       84.3987935 , 84.42628588, 84.45369101, 84.48100931, 84.50824122,\n",
       "       84.53538714, 84.56244752, 84.58942275, 84.61631325, 84.64311944,\n",
       "       84.66984173, 84.69648052, 84.72303622, 84.74950922, 84.77589993,\n",
       "       84.80220875, 84.82843606, 84.85458226, 84.88064774, 84.90663289,\n",
       "       84.93253809, 84.95836371, 84.98411015, 85.00977778, 85.03536697,\n",
       "       85.0608781 , 85.08631154, 85.11166765, 85.1369468 , 85.16214936,\n",
       "       85.18727568, 85.21232612, 85.23730105, 85.26220081, 85.28702576,\n",
       "       85.31177625, 85.33645263, 85.36105524, 85.38558443, 85.41004054,\n",
       "       85.4344239 , 85.45873487, 85.48297376, 85.50714092, 85.53123668,\n",
       "       85.55526137, 85.57921531, 85.60309883, 85.62691225, 85.65065591,\n",
       "       85.6743301 , 85.69793517, 85.72147141, 85.74493914, 85.76833868,\n",
       "       85.79167034, 85.81493443, 85.83813124, 85.86126109, 85.88432428,\n",
       "       85.90732112, 85.93025189, 85.9531169 , 85.97591644, 85.99865082,\n",
       "       86.02132031, 86.04392521, 86.06646582, 86.08894241, 86.11135527,\n",
       "       86.13370469, 86.15599095, 86.17821434, 86.20037511, 86.22247357,\n",
       "       86.24450998, 86.26648461, 86.28839774, 86.31024964, 86.33204058,\n",
       "       86.35377083, 86.37544065, 86.3970503 , 86.41860006, 86.44009018,\n",
       "       86.46152092, 86.48289254, 86.5042053 , 86.52545945, 86.54665525,\n",
       "       86.56779296, 86.58887281, 86.60989507, 86.63085997, 86.65176778,\n",
       "       86.67261872, 86.69341306, 86.71415102, 86.73483285, 86.7554588 ,\n",
       "       86.7760291 , 86.79654398, 86.81700369, 86.83740845, 86.85775851,\n",
       "       86.87805409, 86.89829542, 86.91848274, 86.93861627, 86.95869624,\n",
       "       86.97872287, 86.99869639, 87.01861703, 87.03848499, 87.05830051,\n",
       "       87.07806381, 87.09777509, 87.11743459, 87.13704251, 87.15659907,\n",
       "       87.17610448, 87.19555895, 87.2149627 , 87.23431594, 87.25361887,\n",
       "       87.2728717 , 87.29207464, 87.31122789, 87.33033166, 87.34938615,\n",
       "       87.36839157, 87.3873481 , 87.40625596, 87.42511534, 87.44392644,\n",
       "       87.46268946, 87.48140458, 87.50007201, 87.51869194, 87.53726457,\n",
       "       87.55579007, 87.57426864, 87.59270048, 87.61108577, 87.62942469,\n",
       "       87.64771744, 87.66596419, 87.68416514, 87.70232046, 87.72043033,\n",
       "       87.73849495, 87.75651449, 87.77448912, 87.79241903, 87.8103044 ,\n",
       "       87.82814539, 87.84594219, 87.86369497, 87.88140391, 87.89906917,\n",
       "       87.91669093, 87.93426935, 87.95180462, 87.9692969 , 87.98674635,\n",
       "       88.00415315, 88.02151746, 88.03883944, 88.05611927, 88.0733571 ,\n",
       "       88.09055309, 88.10770742, 88.12482024, 88.14189171, 88.15892199,\n",
       "       88.17591124, 88.19285962, 88.20976729, 88.22663439, 88.2434611 ,\n",
       "       88.26024756, 88.27699392, 88.29370034, 88.31036697, 88.32699397,\n",
       "       88.34358148, 88.36012966, 88.37663864, 88.3931086 , 88.40953966,\n",
       "       88.42593197, 88.44228569, 88.45860096, 88.47487792, 88.49111672,\n",
       "       88.50731751, 88.52348041, 88.53960558, 88.55569315, 88.57174328,\n",
       "       88.58775609, 88.60373172, 88.61967032, 88.63557202, 88.65143696,\n",
       "       88.66726528, 88.68305711, 88.69881258, 88.71453183, 88.73021499,\n",
       "       88.74586221, 88.7614736 , 88.7770493 , 88.79258944, 88.80809415,\n",
       "       88.82356357, 88.83899781, 88.85439701])"
      ]
     },
     "execution_count": 61,
     "metadata": {},
     "output_type": "execute_result"
    }
   ],
   "source": [
    "sigma_array"
   ]
  },
  {
   "cell_type": "code",
   "execution_count": 75,
   "id": "ee008f93",
   "metadata": {},
   "outputs": [
    {
     "data": {
      "text/plain": [
       "array([0.00197937, 0.00207505, 0.00217235, 0.00227128, 0.00237185,\n",
       "       0.00247406, 0.00257792, 0.00268342, 0.00279058, 0.0028994 ,\n",
       "       0.00300988, 0.00312203, 0.00323584, 0.00335133, 0.00346849,\n",
       "       0.00358734, 0.00370787, 0.00383008, 0.00395399, 0.00407959,\n",
       "       0.00420688, 0.00433588, 0.00446657, 0.00459897, 0.00473308,\n",
       "       0.00486889, 0.00500641, 0.00514564, 0.00528659, 0.00542925,\n",
       "       0.00557362, 0.00571971, 0.00586752, 0.00601704, 0.00616828,\n",
       "       0.00632124, 0.00647591, 0.0066323 , 0.0067904 , 0.00695021,\n",
       "       0.00711174, 0.00727498, 0.00743993, 0.00760658, 0.00777494,\n",
       "       0.00794499, 0.00811675, 0.0082902 , 0.00846535, 0.00864218,\n",
       "       0.0088207 , 0.00900089, 0.00918276, 0.0093663 , 0.00955151,\n",
       "       0.00973837, 0.00992689, 0.01011706, 0.01030886, 0.01050231,\n",
       "       0.01069737, 0.01089406, 0.01109236, 0.01129227, 0.01149377,\n",
       "       0.01169686, 0.01190153, 0.01210778, 0.01231558, 0.01252493,\n",
       "       0.01273582, 0.01294825, 0.0131622 , 0.01337765, 0.01359461,\n",
       "       0.01381305, 0.01403297, 0.01425436, 0.01447719, 0.01470147,\n",
       "       0.01492717, 0.01515428, 0.0153828 , 0.0156127 , 0.01584398,\n",
       "       0.01607661, 0.01631059, 0.0165459 , 0.01678253, 0.01702045,\n",
       "       0.01725966, 0.01750014, 0.01774188, 0.01798485, 0.01822904,\n",
       "       0.01847444, 0.01872103, 0.01896879, 0.01921771, 0.01946776,\n",
       "       0.01971893, 0.01997121, 0.02022457, 0.02047899, 0.02073447,\n",
       "       0.02099098, 0.0212485 , 0.02150701, 0.0217665 , 0.02202695,\n",
       "       0.02228833, 0.02255063, 0.02281383, 0.02307791, 0.02334285,\n",
       "       0.02360863, 0.02387523, 0.02414263, 0.02441081, 0.02467975,\n",
       "       0.02494944, 0.02521985, 0.02549095, 0.02576274, 0.02603519,\n",
       "       0.02630828, 0.02658199, 0.0268563 , 0.02713119, 0.02740664,\n",
       "       0.02768263, 0.02795914, 0.02823614, 0.02851363, 0.02879157,\n",
       "       0.02906994, 0.02934874, 0.02962793, 0.02990749, 0.03018742,\n",
       "       0.03046768, 0.03074825, 0.03102912, 0.03131027, 0.03159167,\n",
       "       0.03187331, 0.03215516, 0.03243721, 0.03271944, 0.03300182,\n",
       "       0.03328435, 0.03356699, 0.03384973, 0.03413255, 0.03441543,\n",
       "       0.03469836, 0.03498131, 0.03526426, 0.03554721, 0.03583012,\n",
       "       0.03611298, 0.03639577, 0.03667848, 0.03696108, 0.03724357,\n",
       "       0.03752591, 0.0378081 , 0.03809012, 0.03837195, 0.03865357,\n",
       "       0.03893497, 0.03921613, 0.03949703, 0.03977766, 0.04005801,\n",
       "       0.04033805, 0.04061777, 0.04089716, 0.0411762 , 0.04145487,\n",
       "       0.04173316, 0.04201107, 0.04228856, 0.04256563, 0.04284227,\n",
       "       0.04311845, 0.04339417, 0.04366942, 0.04394417, 0.04421843,\n",
       "       0.04449216, 0.04476537, 0.04503804, 0.04531015, 0.0455817 ,\n",
       "       0.04585267, 0.04612306, 0.04639284, 0.04666202, 0.04693057,\n",
       "       0.04719849, 0.04746577, 0.0477324 , 0.04799836, 0.04826365,\n",
       "       0.04852825, 0.04879217, 0.04905538, 0.04931788, 0.04957966,\n",
       "       0.04984072, 0.05010103, 0.05036061, 0.05061942, 0.05087748,\n",
       "       0.05113477, 0.05139128, 0.05164701, 0.05190195, 0.05215609,\n",
       "       0.05240942, 0.05266194, 0.05291365, 0.05316453, 0.05341458,\n",
       "       0.0536638 , 0.05391218, 0.0541597 , 0.05440638, 0.0546522 ,\n",
       "       0.05489716, 0.05514124, 0.05538446, 0.0556268 , 0.05586826,\n",
       "       0.05610884, 0.05634852, 0.05658732, 0.05682522, 0.05706222,\n",
       "       0.05729831, 0.0575335 , 0.05776778, 0.05800115, 0.0582336 ,\n",
       "       0.05846513, 0.05869575, 0.05892544, 0.0591542 , 0.05938205,\n",
       "       0.05960896, 0.05983494, 0.06005999, 0.0602841 , 0.06050728,\n",
       "       0.06072953, 0.06095083, 0.0611712 , 0.06139063, 0.06160912,\n",
       "       0.06182666, 0.06204327, 0.06225893, 0.06247365, 0.06268743,\n",
       "       0.06290026, 0.06311216, 0.06332311, 0.06353311, 0.06374218,\n",
       "       0.0639503 , 0.06415748, 0.06436372, 0.06456902, 0.06477338,\n",
       "       0.0649768 , 0.06517928, 0.06538083, 0.06558144, 0.06578111,\n",
       "       0.06597985, 0.06617766, 0.06637454, 0.06657049, 0.06676551,\n",
       "       0.0669596 , 0.06715277, 0.06734502, 0.06753634, 0.06772674,\n",
       "       0.06791623, 0.0681048 , 0.06829246, 0.06847921, 0.06866505,\n",
       "       0.06884998, 0.069034  , 0.06921712, 0.06939935, 0.06958067,\n",
       "       0.0697611 , 0.06994064, 0.07011928, 0.07029704, 0.07047391,\n",
       "       0.07064991, 0.07082502, 0.07099925, 0.07117261, 0.0713451 ,\n",
       "       0.07151672, 0.07168747, 0.07185736, 0.0720264 , 0.07219457,\n",
       "       0.07236189, 0.07252836, 0.07269399, 0.07285877, 0.0730227 ,\n",
       "       0.0731858 , 0.07334807, 0.0735095 , 0.07367011, 0.07382988,\n",
       "       0.07398884, 0.07414698, 0.0743043 , 0.07446081, 0.07461652,\n",
       "       0.07477141, 0.07492551, 0.0750788 , 0.0752313 , 0.07538301,\n",
       "       0.07553393, 0.07568407, 0.07583342, 0.075982  , 0.0761298 ,\n",
       "       0.07627683, 0.07642309, 0.07656859, 0.07671333, 0.07685731,\n",
       "       0.07700054, 0.07714302, 0.07728475, 0.07742574, 0.07756598,\n",
       "       0.0777055 , 0.07784428, 0.07798233, 0.07811965, 0.07825626,\n",
       "       0.07839214, 0.07852732, 0.07866178, 0.07879553, 0.07892858,\n",
       "       0.07906092, 0.07919257, 0.07932353, 0.0794538 , 0.07958338,\n",
       "       0.07971228, 0.07984049, 0.07996804, 0.0800949 , 0.08022111,\n",
       "       0.08034664, 0.08047151, 0.08059573, 0.08071929, 0.0808422 ,\n",
       "       0.08096446, 0.08108607, 0.08120704, 0.08132738, 0.08144708,\n",
       "       0.08156615, 0.0816846 , 0.08180241, 0.08191961, 0.08203619,\n",
       "       0.08215216, 0.08226752, 0.08238226, 0.08249641, 0.08260995,\n",
       "       0.0827229 , 0.08283525, 0.08294701, 0.08305819, 0.08316878,\n",
       "       0.08327879, 0.08338822, 0.08349708, 0.08360536, 0.08371308,\n",
       "       0.08382023, 0.08392682, 0.08403286, 0.08413833, 0.08424326,\n",
       "       0.08434763, 0.08445146, 0.08455475, 0.0846575 , 0.08475971,\n",
       "       0.08486139, 0.08496253, 0.08506315, 0.08516325, 0.08526282,\n",
       "       0.08536188, 0.08546042, 0.08555844, 0.08565596, 0.08575297,\n",
       "       0.08584948, 0.08594549, 0.086041  , 0.08613601, 0.08623053,\n",
       "       0.08632457, 0.08641811, 0.08651118, 0.08660376, 0.08669586,\n",
       "       0.08678749, 0.08687865, 0.08696934, 0.08705956, 0.08714932,\n",
       "       0.08723861, 0.08732745, 0.08741583, 0.08750376, 0.08759123,\n",
       "       0.08767826, 0.08776485, 0.08785099, 0.08793669, 0.08802195,\n",
       "       0.08810678, 0.08819118, 0.08827514, 0.08835868, 0.0884418 ,\n",
       "       0.08852449, 0.08860676, 0.08868862, 0.08877006, 0.08885109,\n",
       "       0.08893171, 0.08901192, 0.08909172, 0.08917113, 0.08925013,\n",
       "       0.08932873, 0.08940694, 0.08948476, 0.08956218, 0.08963922,\n",
       "       0.08971587, 0.08979214, 0.08986802, 0.08994353, 0.09001866,\n",
       "       0.09009341, 0.09016779, 0.0902418 , 0.09031544, 0.09038872,\n",
       "       0.09046163, 0.09053418, 0.09060637, 0.0906782 , 0.09074968,\n",
       "       0.0908208 , 0.09089157, 0.09096199, 0.09103207, 0.0911018 ,\n",
       "       0.09117119, 0.09124023, 0.09130894, 0.09137731, 0.09144535,\n",
       "       0.09151305, 0.09158042, 0.09164747, 0.09171418, 0.09178057,\n",
       "       0.09184664, 0.09191238, 0.09197781, 0.09204292, 0.09210771,\n",
       "       0.09217219, 0.09223636, 0.09230021, 0.09236376, 0.092427  ,\n",
       "       0.09248994, 0.09255257, 0.09261491, 0.09267694, 0.09273867,\n",
       "       0.09280011, 0.09286126, 0.09292211, 0.09298267, 0.09304295,\n",
       "       0.09310293, 0.09316263, 0.09322205, 0.09328118, 0.09334004,\n",
       "       0.09339861, 0.09345691, 0.09351493, 0.09357267, 0.09363015,\n",
       "       0.09368735, 0.09374428, 0.09380095, 0.09385735, 0.09391348,\n",
       "       0.09396936, 0.09402496, 0.09408031, 0.0941354 , 0.09419024,\n",
       "       0.09424482, 0.09429914, 0.09435321, 0.09440703, 0.0944606 ,\n",
       "       0.09451392, 0.09456699, 0.09461982, 0.09467241, 0.09472475,\n",
       "       0.09477685, 0.09482871, 0.09488033, 0.09493172, 0.09498287,\n",
       "       0.09503378, 0.09508446, 0.09513491, 0.09518513, 0.09523512,\n",
       "       0.09528488, 0.09533442, 0.09538373, 0.09543281, 0.09548168,\n",
       "       0.09553032, 0.09557874, 0.09562694, 0.09567493, 0.0957227 ,\n",
       "       0.09577025, 0.09581759, 0.09586472, 0.09591163, 0.09595834,\n",
       "       0.09600483, 0.09605112, 0.0960972 , 0.09614307, 0.09618874,\n",
       "       0.09623421, 0.09627948, 0.09632454, 0.0963694 , 0.09641407,\n",
       "       0.09645853, 0.0965028 , 0.09654688, 0.09659076, 0.09663445,\n",
       "       0.09667794, 0.09672124, 0.09676436, 0.09680728, 0.09685002,\n",
       "       0.09689257, 0.09693493, 0.09697711, 0.0970191 , 0.09706091,\n",
       "       0.09710254, 0.09714399, 0.09718526, 0.09722635, 0.09726726,\n",
       "       0.097308  , 0.09734855, 0.09738894, 0.09742915, 0.09746919,\n",
       "       0.09750905, 0.09754874, 0.09758827, 0.09762762, 0.09766681,\n",
       "       0.09770583, 0.09774468, 0.09778336, 0.09782188, 0.09786024,\n",
       "       0.09789844, 0.09793647, 0.09797434, 0.09801205, 0.0980496 ,\n",
       "       0.098087  , 0.09812423, 0.09816131, 0.09819823, 0.098235  ,\n",
       "       0.09827161, 0.09830807, 0.09834438, 0.09838053, 0.09841653,\n",
       "       0.09845239, 0.09848809, 0.09852365, 0.09855905, 0.09859431,\n",
       "       0.09862943, 0.0986644 , 0.09869922, 0.0987339 , 0.09876844,\n",
       "       0.09880283, 0.09883708, 0.09887119, 0.09890516, 0.098939  ,\n",
       "       0.09897269, 0.09900624, 0.09903966, 0.09907294, 0.09910609,\n",
       "       0.0991391 , 0.09917198, 0.09920472, 0.09923733, 0.0992698 ,\n",
       "       0.09930215, 0.09933436, 0.09936645, 0.0993984 , 0.09943023,\n",
       "       0.09946193, 0.0994935 , 0.09952494, 0.09955626, 0.09958745,\n",
       "       0.09961851, 0.09964946, 0.09968028, 0.09971097, 0.09974154,\n",
       "       0.099772  , 0.09980233, 0.09983254, 0.09986263, 0.0998926 ,\n",
       "       0.09992245, 0.09995218, 0.0999818 , 0.1000113 , 0.10004069,\n",
       "       0.10006995, 0.10009911, 0.10012815, 0.10015707, 0.10018588,\n",
       "       0.10021458, 0.10024317, 0.10027164, 0.10030001, 0.10032826,\n",
       "       0.10035641, 0.10038444, 0.10041237, 0.10044018, 0.10046789,\n",
       "       0.1004955 , 0.10052299, 0.10055038, 0.10057767, 0.10060485,\n",
       "       0.10063192, 0.10065889, 0.10068576, 0.10071252, 0.10073919,\n",
       "       0.10076575, 0.10079221, 0.10081856, 0.10084482, 0.10087098,\n",
       "       0.10089704, 0.100923  , 0.10094886, 0.10097462, 0.10100029,\n",
       "       0.10102586, 0.10105133, 0.10107671, 0.10110199, 0.10112717,\n",
       "       0.10115226, 0.10117726, 0.10120216, 0.10122697, 0.10125169,\n",
       "       0.10127632, 0.10130085, 0.10132529, 0.10134964, 0.1013739 ,\n",
       "       0.10139807, 0.10142215, 0.10144614, 0.10147004, 0.10149386,\n",
       "       0.10151758, 0.10154122, 0.10156477, 0.10158824, 0.10161162,\n",
       "       0.10163491, 0.10165812, 0.10168124, 0.10170428, 0.10172723,\n",
       "       0.1017501 , 0.10177289, 0.10179559, 0.10181821, 0.10184075,\n",
       "       0.1018632 , 0.10188558, 0.10190787, 0.10193009, 0.10195222,\n",
       "       0.10197427, 0.10199625, 0.10201814, 0.10203996, 0.10206169,\n",
       "       0.10208335, 0.10210493, 0.10212644, 0.10214787, 0.10216922,\n",
       "       0.10219049, 0.10221169, 0.10223281, 0.10225386, 0.10227483,\n",
       "       0.10229573, 0.10231656, 0.10233731])"
      ]
     },
     "execution_count": 75,
     "metadata": {},
     "output_type": "execute_result"
    }
   ],
   "source": [
    "electron_frac"
   ]
  },
  {
   "cell_type": "code",
   "execution_count": 140,
   "id": "0133dd9c",
   "metadata": {},
   "outputs": [
    {
     "ename": "NameError",
     "evalue": "name 'omega' is not defined",
     "output_type": "error",
     "traceback": [
      "\u001b[0;31m---------------------------------------------------------------------------\u001b[0m",
      "\u001b[0;31mNameError\u001b[0m                                 Traceback (most recent call last)",
      "\u001b[0;32m<ipython-input-140-6fe120b91cf6>\u001b[0m in \u001b[0;36m<module>\u001b[0;34m\u001b[0m\n\u001b[1;32m      1\u001b[0m \u001b[0mplt\u001b[0m\u001b[0;34m.\u001b[0m\u001b[0mplot\u001b[0m\u001b[0;34m(\u001b[0m\u001b[0mnB\u001b[0m\u001b[0;34m*\u001b[0m\u001b[0;36m0.153\u001b[0m\u001b[0;34m,\u001b[0m \u001b[0;36m8.784820\u001b[0m\u001b[0;34m*\u001b[0m\u001b[0msigma_array\u001b[0m\u001b[0;34m)\u001b[0m\u001b[0;34m\u001b[0m\u001b[0;34m\u001b[0m\u001b[0m\n\u001b[0;32m----> 2\u001b[0;31m \u001b[0mplt\u001b[0m\u001b[0;34m.\u001b[0m\u001b[0mplot\u001b[0m\u001b[0;34m(\u001b[0m\u001b[0mnB\u001b[0m\u001b[0;34m*\u001b[0m\u001b[0;36m0.153\u001b[0m\u001b[0;34m,\u001b[0m \u001b[0mrmf\u001b[0m\u001b[0;34m.\u001b[0m\u001b[0mg_omega\u001b[0m\u001b[0;34m*\u001b[0m\u001b[0momega\u001b[0m\u001b[0;34m)\u001b[0m\u001b[0;34m\u001b[0m\u001b[0;34m\u001b[0m\u001b[0m\n\u001b[0m\u001b[1;32m      3\u001b[0m \u001b[0mplt\u001b[0m\u001b[0;34m.\u001b[0m\u001b[0mxlabel\u001b[0m\u001b[0;34m(\u001b[0m\u001b[0;34m'$n_B$ (in fm-3)'\u001b[0m\u001b[0;34m)\u001b[0m\u001b[0;34m\u001b[0m\u001b[0;34m\u001b[0m\u001b[0m\n\u001b[1;32m      4\u001b[0m \u001b[0mplt\u001b[0m\u001b[0;34m.\u001b[0m\u001b[0mylabel\u001b[0m\u001b[0;34m(\u001b[0m\u001b[0;34m'MeV'\u001b[0m\u001b[0;34m)\u001b[0m\u001b[0;34m\u001b[0m\u001b[0;34m\u001b[0m\u001b[0m\n\u001b[1;32m      5\u001b[0m \u001b[0mplt\u001b[0m\u001b[0;34m.\u001b[0m\u001b[0mshow\u001b[0m\u001b[0;34m(\u001b[0m\u001b[0;34m)\u001b[0m\u001b[0;34m\u001b[0m\u001b[0;34m\u001b[0m\u001b[0m\n",
      "\u001b[0;31mNameError\u001b[0m: name 'omega' is not defined"
     ]
    },
    {
     "data": {
      "image/png": "[encoded data removed]",
      "text/plain": [
       "<Figure size 432x288 with 1 Axes>"
      ]
     },
     "metadata": {
      "needs_background": "light"
     },
     "output_type": "display_data"
    }
   ],
   "source": [
    "plt.plot(nB*0.153, 8.784820*sigma_array)\n",
    "plt.plot(nB*0.153, rmf.g_omega*omega)\n",
    "plt.xlabel('$n_B$ (in fm-3)')\n",
    "plt.ylabel('MeV')\n",
    "plt.show()"
   ]
  },
  {
   "cell_type": "code",
   "execution_count": 73,
   "id": "5cc6f484",
   "metadata": {},
   "outputs": [],
   "source": [
    "neutron_frac = np.zeros(len(nB_mev))\n",
    "\n",
    "def n_frac(elec_frac):\n",
    "    # baryon num. cons -> 1 = x_n + x_p, charge cons -> x_p = x_e\n",
    "    return 1.0 - elec_frac\n",
    "\n",
    "for i in range(len(neutron_frac)):\n",
    "    neutron_frac[i] = n_frac(electron_frac[i])"
   ]
  },
  {
   "cell_type": "code",
   "execution_count": 74,
   "id": "e9b8e4a1",
   "metadata": {},
   "outputs": [
    {
     "data": {
      "image/png": "[encoded data removed]",
      "text/plain": [
       "<Figure size 432x288 with 1 Axes>"
      ]
     },
     "metadata": {
      "needs_background": "light"
     },
     "output_type": "display_data"
    }
   ],
   "source": [
    "plt.plot(nB*0.153, electron_frac)\n",
    "plt.plot(nB*0.153, neutron_frac)\n",
    "plt.show()"
   ]
  },
  {
   "cell_type": "markdown",
   "id": "51551634",
   "metadata": {},
   "source": [
    "## Omega Field\n",
    "$$\n",
    "    \\omega = \\frac{g_\\omega}{m_\\omega^2}n_B\n",
    "$$"
   ]
  },
  {
   "cell_type": "code",
   "execution_count": 86,
   "id": "b97d88f5",
   "metadata": {},
   "outputs": [
    {
     "data": {
      "text/plain": [
       "array([  4.75341305,   4.92946539,   5.10551772,   5.28157006,\n",
       "         5.45762239,   5.63367473,   5.80972706,   5.9857794 ,\n",
       "         6.16183174,   6.33788407,   6.51393641,   6.68998874,\n",
       "         6.86604108,   7.04209341,   7.21814575,   7.39419808,\n",
       "         7.57025042,   7.74630275,   7.92235509,   8.09840742,\n",
       "         8.27445976,   8.45051209,   8.62656443,   8.80261676,\n",
       "         8.9786691 ,   9.15472144,   9.33077377,   9.50682611,\n",
       "         9.68287844,   9.85893078,  10.03498311,  10.21103545,\n",
       "        10.38708778,  10.56314012,  10.73919245,  10.91524479,\n",
       "        11.09129712,  11.26734946,  11.44340179,  11.61945413,\n",
       "        11.79550646,  11.9715588 ,  12.14761114,  12.32366347,\n",
       "        12.49971581,  12.67576814,  12.85182048,  13.02787281,\n",
       "        13.20392515,  13.37997748,  13.55602982,  13.73208215,\n",
       "        13.90813449,  14.08418682,  14.26023916,  14.43629149,\n",
       "        14.61234383,  14.78839616,  14.9644485 ,  15.14050084,\n",
       "        15.31655317,  15.49260551,  15.66865784,  15.84471018,\n",
       "        16.02076251,  16.19681485,  16.37286718,  16.54891952,\n",
       "        16.72497185,  16.90102419,  17.07707652,  17.25312886,\n",
       "        17.42918119,  17.60523353,  17.78128586,  17.9573382 ,\n",
       "        18.13339053,  18.30944287,  18.48549521,  18.66154754,\n",
       "        18.83759988,  19.01365221,  19.18970455,  19.36575688,\n",
       "        19.54180922,  19.71786155,  19.89391389,  20.06996622,\n",
       "        20.24601856,  20.42207089,  20.59812323,  20.77417556,\n",
       "        20.9502279 ,  21.12628023,  21.30233257,  21.47838491,\n",
       "        21.65443724,  21.83048958,  22.00654191,  22.18259425,\n",
       "        22.35864658,  22.53469892,  22.71075125,  22.88680359,\n",
       "        23.06285592,  23.23890826,  23.41496059,  23.59101293,\n",
       "        23.76706526,  23.9431176 ,  24.11916993,  24.29522227,\n",
       "        24.47127461,  24.64732694,  24.82337928,  24.99943161,\n",
       "        25.17548395,  25.35153628,  25.52758862,  25.70364095,\n",
       "        25.87969329,  26.05574562,  26.23179796,  26.40785029,\n",
       "        26.58390263,  26.75995496,  26.9360073 ,  27.11205963,\n",
       "        27.28811197,  27.46416431,  27.64021664,  27.81626898,\n",
       "        27.99232131,  28.16837365,  28.34442598,  28.52047832,\n",
       "        28.69653065,  28.87258299,  29.04863532,  29.22468766,\n",
       "        29.40073999,  29.57679233,  29.75284466,  29.928897  ,\n",
       "        30.10494933,  30.28100167,  30.45705401,  30.63310634,\n",
       "        30.80915868,  30.98521101,  31.16126335,  31.33731568,\n",
       "        31.51336802,  31.68942035,  31.86547269,  32.04152502,\n",
       "        32.21757736,  32.39362969,  32.56968203,  32.74573436,\n",
       "        32.9217867 ,  33.09783903,  33.27389137,  33.44994371,\n",
       "        33.62599604,  33.80204838,  33.97810071,  34.15415305,\n",
       "        34.33020538,  34.50625772,  34.68231005,  34.85836239,\n",
       "        35.03441472,  35.21046706,  35.38651939,  35.56257173,\n",
       "        35.73862406,  35.9146764 ,  36.09072873,  36.26678107,\n",
       "        36.44283341,  36.61888574,  36.79493808,  36.97099041,\n",
       "        37.14704275,  37.32309508,  37.49914742,  37.67519975,\n",
       "        37.85125209,  38.02730442,  38.20335676,  38.37940909,\n",
       "        38.55546143,  38.73151376,  38.9075661 ,  39.08361843,\n",
       "        39.25967077,  39.43572311,  39.61177544,  39.78782778,\n",
       "        39.96388011,  40.13993245,  40.31598478,  40.49203712,\n",
       "        40.66808945,  40.84414179,  41.02019412,  41.19624646,\n",
       "        41.37229879,  41.54835113,  41.72440346,  41.9004558 ,\n",
       "        42.07650813,  42.25256047,  42.42861281,  42.60466514,\n",
       "        42.78071748,  42.95676981,  43.13282215,  43.30887448,\n",
       "        43.48492682,  43.66097915,  43.83703149,  44.01308382,\n",
       "        44.18913616,  44.36518849,  44.54124083,  44.71729316,\n",
       "        44.8933455 ,  45.06939783,  45.24545017,  45.42150251,\n",
       "        45.59755484,  45.77360718,  45.94965951,  46.12571185,\n",
       "        46.30176418,  46.47781652,  46.65386885,  46.82992119,\n",
       "        47.00597352,  47.18202586,  47.35807819,  47.53413053,\n",
       "        47.71018286,  47.8862352 ,  48.06228753,  48.23833987,\n",
       "        48.4143922 ,  48.59044454,  48.76649688,  48.94254921,\n",
       "        49.11860155,  49.29465388,  49.47070622,  49.64675855,\n",
       "        49.82281089,  49.99886322,  50.17491556,  50.35096789,\n",
       "        50.52702023,  50.70307256,  50.8791249 ,  51.05517723,\n",
       "        51.23122957,  51.4072819 ,  51.58333424,  51.75938658,\n",
       "        51.93543891,  52.11149125,  52.28754358,  52.46359592,\n",
       "        52.63964825,  52.81570059,  52.99175292,  53.16780526,\n",
       "        53.34385759,  53.51990993,  53.69596226,  53.8720146 ,\n",
       "        54.04806693,  54.22411927,  54.4001716 ,  54.57622394,\n",
       "        54.75227628,  54.92832861,  55.10438095,  55.28043328,\n",
       "        55.45648562,  55.63253795,  55.80859029,  55.98464262,\n",
       "        56.16069496,  56.33674729,  56.51279963,  56.68885196,\n",
       "        56.8649043 ,  57.04095663,  57.21700897,  57.3930613 ,\n",
       "        57.56911364,  57.74516598,  57.92121831,  58.09727065,\n",
       "        58.27332298,  58.44937532,  58.62542765,  58.80147999,\n",
       "        58.97753232,  59.15358466,  59.32963699,  59.50568933,\n",
       "        59.68174166,  59.857794  ,  60.03384633,  60.20989867,\n",
       "        60.385951  ,  60.56200334,  60.73805568,  60.91410801,\n",
       "        61.09016035,  61.26621268,  61.44226502,  61.61831735,\n",
       "        61.79436969,  61.97042202,  62.14647436,  62.32252669,\n",
       "        62.49857903,  62.67463136,  62.8506837 ,  63.02673603,\n",
       "        63.20278837,  63.3788407 ,  63.55489304,  63.73094538,\n",
       "        63.90699771,  64.08305005,  64.25910238,  64.43515472,\n",
       "        64.61120705,  64.78725939,  64.96331172,  65.13936406,\n",
       "        65.31541639,  65.49146873,  65.66752106,  65.8435734 ,\n",
       "        66.01962573,  66.19567807,  66.3717304 ,  66.54778274,\n",
       "        66.72383508,  66.89988741,  67.07593975,  67.25199208,\n",
       "        67.42804442,  67.60409675,  67.78014909,  67.95620142,\n",
       "        68.13225376,  68.30830609,  68.48435843,  68.66041076,\n",
       "        68.8364631 ,  69.01251543,  69.18856777,  69.3646201 ,\n",
       "        69.54067244,  69.71672478,  69.89277711,  70.06882945,\n",
       "        70.24488178,  70.42093412,  70.59698645,  70.77303879,\n",
       "        70.94909112,  71.12514346,  71.30119579,  71.47724813,\n",
       "        71.65330046,  71.8293528 ,  72.00540513,  72.18145747,\n",
       "        72.3575098 ,  72.53356214,  72.70961448,  72.88566681,\n",
       "        73.06171915,  73.23777148,  73.41382382,  73.58987615,\n",
       "        73.76592849,  73.94198082,  74.11803316,  74.29408549,\n",
       "        74.47013783,  74.64619016,  74.8222425 ,  74.99829483,\n",
       "        75.17434717,  75.3503995 ,  75.52645184,  75.70250418,\n",
       "        75.87855651,  76.05460885,  76.23066118,  76.40671352,\n",
       "        76.58276585,  76.75881819,  76.93487052,  77.11092286,\n",
       "        77.28697519,  77.46302753,  77.63907986,  77.8151322 ,\n",
       "        77.99118453,  78.16723687,  78.3432892 ,  78.51934154,\n",
       "        78.69539387,  78.87144621,  79.04749855,  79.22355088,\n",
       "        79.39960322,  79.57565555,  79.75170789,  79.92776022,\n",
       "        80.10381256,  80.27986489,  80.45591723,  80.63196956,\n",
       "        80.8080219 ,  80.98407423,  81.16012657,  81.3361789 ,\n",
       "        81.51223124,  81.68828357,  81.86433591,  82.04038825,\n",
       "        82.21644058,  82.39249292,  82.56854525,  82.74459759,\n",
       "        82.92064992,  83.09670226,  83.27275459,  83.44880693,\n",
       "        83.62485926,  83.8009116 ,  83.97696393,  84.15301627,\n",
       "        84.3290686 ,  84.50512094,  84.68117327,  84.85722561,\n",
       "        85.03327795,  85.20933028,  85.38538262,  85.56143495,\n",
       "        85.73748729,  85.91353962,  86.08959196,  86.26564429,\n",
       "        86.44169663,  86.61774896,  86.7938013 ,  86.96985363,\n",
       "        87.14590597,  87.3219583 ,  87.49801064,  87.67406297,\n",
       "        87.85011531,  88.02616765,  88.20221998,  88.37827232,\n",
       "        88.55432465,  88.73037699,  88.90642932,  89.08248166,\n",
       "        89.25853399,  89.43458633,  89.61063866,  89.786691  ,\n",
       "        89.96274333,  90.13879567,  90.314848  ,  90.49090034,\n",
       "        90.66695267,  90.84300501,  91.01905735,  91.19510968,\n",
       "        91.37116202,  91.54721435,  91.72326669,  91.89931902,\n",
       "        92.07537136,  92.25142369,  92.42747603,  92.60352836,\n",
       "        92.7795807 ,  92.95563303,  93.13168537,  93.3077377 ,\n",
       "        93.48379004,  93.65984237,  93.83589471,  94.01194705,\n",
       "        94.18799938,  94.36405172,  94.54010405,  94.71615639,\n",
       "        94.89220872,  95.06826106,  95.24431339,  95.42036573,\n",
       "        95.59641806,  95.7724704 ,  95.94852273,  96.12457507,\n",
       "        96.3006274 ,  96.47667974,  96.65273207,  96.82878441,\n",
       "        97.00483675,  97.18088908,  97.35694142,  97.53299375,\n",
       "        97.70904609,  97.88509842,  98.06115076,  98.23720309,\n",
       "        98.41325543,  98.58930776,  98.7653601 ,  98.94141243,\n",
       "        99.11746477,  99.2935171 ,  99.46956944,  99.64562177,\n",
       "        99.82167411,  99.99772645, 100.17377878, 100.34983112,\n",
       "       100.52588345, 100.70193579, 100.87798812, 101.05404046,\n",
       "       101.23009279, 101.40614513, 101.58219746, 101.7582498 ,\n",
       "       101.93430213, 102.11035447, 102.2864068 , 102.46245914,\n",
       "       102.63851147, 102.81456381, 102.99061615, 103.16666848,\n",
       "       103.34272082, 103.51877315, 103.69482549, 103.87087782,\n",
       "       104.04693016, 104.22298249, 104.39903483, 104.57508716,\n",
       "       104.7511395 , 104.92719183, 105.10324417, 105.2792965 ,\n",
       "       105.45534884, 105.63140117, 105.80745351, 105.98350585,\n",
       "       106.15955818, 106.33561052, 106.51166285, 106.68771519,\n",
       "       106.86376752, 107.03981986, 107.21587219, 107.39192453,\n",
       "       107.56797686, 107.7440292 , 107.92008153, 108.09613387,\n",
       "       108.2721862 , 108.44823854, 108.62429087, 108.80034321,\n",
       "       108.97639555, 109.15244788, 109.32850022, 109.50455255,\n",
       "       109.68060489, 109.85665722, 110.03270956, 110.20876189,\n",
       "       110.38481423, 110.56086656, 110.7369189 , 110.91297123,\n",
       "       111.08902357, 111.2650759 , 111.44112824, 111.61718057,\n",
       "       111.79323291, 111.96928524, 112.14533758, 112.32138992,\n",
       "       112.49744225, 112.67349459, 112.84954692, 113.02559926,\n",
       "       113.20165159, 113.37770393, 113.55375626, 113.7298086 ,\n",
       "       113.90586093, 114.08191327, 114.2579656 , 114.43401794,\n",
       "       114.61007027, 114.78612261, 114.96217494, 115.13822728,\n",
       "       115.31427962, 115.49033195, 115.66638429, 115.84243662,\n",
       "       116.01848896, 116.19454129, 116.37059363, 116.54664596,\n",
       "       116.7226983 , 116.89875063, 117.07480297, 117.2508553 ,\n",
       "       117.42690764, 117.60295997, 117.77901231, 117.95506464,\n",
       "       118.13111698, 118.30716932, 118.48322165, 118.65927399,\n",
       "       118.83532632, 119.01137866, 119.18743099, 119.36348333,\n",
       "       119.53953566, 119.715588  , 119.89164033, 120.06769267,\n",
       "       120.243745  , 120.41979734, 120.59584967, 120.77190201,\n",
       "       120.94795434, 121.12400668, 121.30005902, 121.47611135,\n",
       "       121.65216369, 121.82821602, 122.00426836, 122.18032069,\n",
       "       122.35637303, 122.53242536, 122.7084777 , 122.88453003,\n",
       "       123.06058237, 123.2366347 , 123.41268704, 123.58873937,\n",
       "       123.76479171, 123.94084404, 124.11689638, 124.29294872,\n",
       "       124.46900105, 124.64505339, 124.82110572, 124.99715806,\n",
       "       125.17321039, 125.34926273, 125.52531506, 125.7013674 ,\n",
       "       125.87741973, 126.05347207, 126.2295244 , 126.40557674,\n",
       "       126.58162907, 126.75768141, 126.93373374, 127.10978608,\n",
       "       127.28583842, 127.46189075, 127.63794309, 127.81399542,\n",
       "       127.99004776, 128.16610009, 128.34215243, 128.51820476,\n",
       "       128.6942571 , 128.87030943, 129.04636177, 129.2224141 ,\n",
       "       129.39846644, 129.57451877, 129.75057111, 129.92662344,\n",
       "       130.10267578, 130.27872812, 130.45478045, 130.63083279,\n",
       "       130.80688512, 130.98293746, 131.15898979, 131.33504213,\n",
       "       131.51109446, 131.6871468 , 131.86319913, 132.03925147,\n",
       "       132.2153038 , 132.39135614, 132.56740847, 132.74346081,\n",
       "       132.91951314, 133.09556548, 133.27161782, 133.44767015,\n",
       "       133.62372249, 133.79977482, 133.97582716, 134.15187949,\n",
       "       134.32793183, 134.50398416, 134.6800365 , 134.85608883,\n",
       "       135.03214117, 135.2081935 , 135.38424584, 135.56029817,\n",
       "       135.73635051, 135.91240284, 136.08845518, 136.26450752,\n",
       "       136.44055985, 136.61661219, 136.79266452, 136.96871686,\n",
       "       137.14476919, 137.32082153, 137.49687386, 137.6729262 ,\n",
       "       137.84897853, 138.02503087, 138.2010832 , 138.37713554,\n",
       "       138.55318787, 138.72924021, 138.90529254, 139.08134488,\n",
       "       139.25739722, 139.43344955, 139.60950189, 139.78555422,\n",
       "       139.96160656, 140.13765889, 140.31371123, 140.48976356,\n",
       "       140.6658159 ])"
      ]
     },
     "execution_count": 86,
     "metadata": {},
     "output_type": "execute_result"
    }
   ],
   "source": [
    "omega = np.zeros(len(nB))\n",
    "for i in range(len(nB)):\n",
    "    omega[i] = rmf.g_omega/omega_num.mass**2*nB_mev[i]\n",
    "omega\n",
    "# results match up extremely well with data from Suprovo for this field... \n",
    "# up until lambda baryon appears so we'll have to see when we learn how to solve baryonic... "
   ]
  },
  {
   "cell_type": "markdown",
   "id": "50b1207f",
   "metadata": {},
   "source": [
    "We want to solve:\n",
    "$$\n",
    "    m_\\sigma^2 \\sigma + \\frac{dU}{d\\sigma} = \\sum_i g_{\\sigma i}n^s_i\\\\\n",
    "    m_\\omega^2 \\omega_0 = \\sum_i g_{\\omega i} n_i\\\\\n",
    "    \\mu_n = \\mu_p + \\mu_e\\\\\n",
    "    k_p = k_e \\quad \\leftrightarrow \\quad n_p = n_e\\\\\n",
    "    n_B = n_n + n_p\n",
    "$$\n",
    "Unknowns: $\\omega, \\sigma, k_p, k_e, k_n$"
   ]
  },
  {
   "cell_type": "code",
   "execution_count": 22,
   "id": "d55b1526",
   "metadata": {},
   "outputs": [],
   "source": [
    "ns_n = neutron_sym.mass_eff/Pi**2*(neutron_sym.kf*neutron_sym.ef - neutron_sym.mass_eff**2*sym.log((neutron_sym.kf + neutron_sym.ef)/neutron_sym.mass_eff))"
   ]
  },
  {
   "cell_type": "code",
   "execution_count": 31,
   "id": "5db0d2ed",
   "metadata": {},
   "outputs": [
    {
     "data": {
      "text/latex": [
       "$\\displaystyle \\frac{\\left(- g_{\\sigma} \\sigma + m\\right) \\left(k_{F n} \\sqrt{k_{F n}^{2} + \\left(- g_{\\sigma} \\sigma + m\\right)^{2}} - \\left(- g_{\\sigma} \\sigma + m\\right)^{2} \\log{\\left(\\frac{k_{F n} + \\sqrt{k_{F n}^{2} + \\left(- g_{\\sigma} \\sigma + m\\right)^{2}}}{- g_{\\sigma} \\sigma + m} \\right)}\\right)}{\\pi^{2}}$"
      ],
      "text/plain": [
       "(-g_sigma*sigma + m)*(k_F_n*sqrt(k_F_n**2 + (-g_sigma*sigma + m)**2) - (-g_sigma*sigma + m)**2*log((k_F_n + sqrt(k_F_n**2 + (-g_sigma*sigma + m)**2))/(-g_sigma*sigma + m)))/pi**2"
      ]
     },
     "execution_count": 31,
     "metadata": {},
     "output_type": "execute_result"
    }
   ],
   "source": [
    "ns_new = ns_n.subs(neutron_sym.ef, sym.sqrt(neutron_sym.kf**2 + neutron_sym.mass_eff**2 ))\n",
    "ns_new = ns_new.subs(neutron_sym.mass_eff, neutron_sym.mass - rmf_sym.g_sigma*sigma_sym.field)\n",
    "ns_new"
   ]
  },
  {
   "cell_type": "code",
   "execution_count": 74,
   "id": "b5348adb",
   "metadata": {},
   "outputs": [],
   "source": [
    "def scalar_density(baryon):\n",
    "    # returns scalar density n_s\n",
    "    \n",
    "    coeff_1 = (2*baryon.spin + 1)/(2*Pi**2)\n",
    "    coeff_2 = baryon.g_sigma*baryon.mass_eff\n",
    "    term_2 = baryon.ef*baryon.kf \n",
    "    term_3 = sym.log((baryon.ef + baryon.kf)/baryon.mass_eff)\n",
    "    \n",
    "    return coeff_1*coeff_2*(term_2 - baryon.mass_eff**2*term_3)"
   ]
  },
  {
   "cell_type": "code",
   "execution_count": 84,
   "id": "8c0c8247",
   "metadata": {},
   "outputs": [],
   "source": [
    "def sigma_eom(baryon_list):\n",
    "    # returns symbolic sigma equation of motion\n",
    "    \n",
    "    m_sigma, sigma, b, c, m_n, g_sigma = sym.symbols('m_sigma sigma b c m_n g_sigma')    \n",
    "    term_1 = m_sigma**2*sigma + b*m_n*g_sigma**3*sigma**2 + c*g_sigma**4*sigma**3\n",
    "    \n",
    "    tot = 0\n",
    "    \n",
    "    for baryon in baryon_list:\n",
    "        tot += g_sigma*scalar_density(baryon)\n",
    "\n",
    "    return term_1 + tot"
   ]
  },
  {
   "cell_type": "code",
   "execution_count": 80,
   "id": "8d4a66be",
   "metadata": {},
   "outputs": [
    {
     "data": {
      "text/latex": [
       "$\\displaystyle \\frac{1.0 g_{\\sigma} m^{*}_{p} \\left(E^{*}_{F p} k_{F p} - \\left(m^{*}_{p}\\right)^{2} \\log{\\left(\\frac{E^{*}_{F p} + k_{F p}}{m^{*}_{p}} \\right)}\\right)}{\\pi^{2}}$"
      ],
      "text/plain": [
       "1.0*g_sigma*m_p^**(E^*_F_p*k_F_p - m_p^***2*log((E^*_F_p + k_F_p)/m_p^*))/pi**2"
      ]
     },
     "execution_count": 80,
     "metadata": {},
     "output_type": "execute_result"
    }
   ],
   "source": [
    "scalar_density(proton_sym)"
   ]
  },
  {
   "cell_type": "code",
   "execution_count": 85,
   "id": "c0ff9942",
   "metadata": {},
   "outputs": [
    {
     "data": {
      "text/latex": [
       "$\\displaystyle b g_{\\sigma}^{3} m_{n} \\sigma^{2} + c g_{\\sigma}^{4} \\sigma^{3} + \\frac{1.0 g_{\\sigma}^{2} m^{*}_{n} \\left(E^{*}_{F n} k_{F n} - \\left(m^{*}_{n}\\right)^{2} \\log{\\left(\\frac{E^{*}_{F n} + k_{F n}}{m^{*}_{n}} \\right)}\\right)}{\\pi^{2}} + \\frac{1.0 g_{\\sigma}^{2} m^{*}_{p} \\left(E^{*}_{F p} k_{F p} - \\left(m^{*}_{p}\\right)^{2} \\log{\\left(\\frac{E^{*}_{F p} + k_{F p}}{m^{*}_{p}} \\right)}\\right)}{\\pi^{2}} + m_{\\sigma}^{2} \\sigma$"
      ],
      "text/plain": [
       "b*g_sigma**3*m_n*sigma**2 + c*g_sigma**4*sigma**3 + 1.0*g_sigma**2*m_n^**(E^*_F_n*k_F_n - m_n^***2*log((E^*_F_n + k_F_n)/m_n^*))/pi**2 + 1.0*g_sigma**2*m_p^**(E^*_F_p*k_F_p - m_p^***2*log((E^*_F_p + k_F_p)/m_p^*))/pi**2 + m_sigma**2*sigma"
      ]
     },
     "execution_count": 85,
     "metadata": {},
     "output_type": "execute_result"
    }
   ],
   "source": [
    "sigma_eom([proton_sym, neutron_sym])"
   ]
  },
  {
   "cell_type": "code",
   "execution_count": 114,
   "id": "d306c9b0",
   "metadata": {},
   "outputs": [],
   "source": [
    "def baryon_chem_pot_simplified(baryon):\n",
    "    # returns symbolic chemical potential for all mesons\n",
    "    # we can restrict the number of mesons in our system by setting the coupling constants equal to zero! \n",
    "    \n",
    "    sigma, omega, rho, phi = sym.symbols('sigma omega rho phi')\n",
    "    return sym.sqrt(baryon.kf**2 + baryon.mass_eff**2) + baryon.g_omega*omega + baryon.g_rho*baryon.isospin*rho + baryon.g_phi*phi"
   ]
  },
  {
   "cell_type": "code",
   "execution_count": 113,
   "id": "c1d74f00",
   "metadata": {},
   "outputs": [
    {
     "data": {
      "text/latex": [
       "$\\displaystyle g_{\\omega} \\omega + \\sqrt{k_{F p}^{2} + \\left(m^{*}_{p}\\right)^{2}}$"
      ],
      "text/plain": [
       "g_omega*omega + sqrt(k_F_p**2 + m_p^***2)"
      ]
     },
     "execution_count": 113,
     "metadata": {},
     "output_type": "execute_result"
    }
   ],
   "source": [
    "baryon_chem_pot_simplified(proton_sym)"
   ]
  },
  {
   "cell_type": "code",
   "execution_count": 101,
   "id": "011a02b2",
   "metadata": {},
   "outputs": [],
   "source": [
    "def baryon_fermi(baryon):\n",
    "    nB = sym.symbols('n_B')\n",
    "    return (3*Pi**2*nB*baryon.frac)**(sym.S(1)/3)"
   ]
  },
  {
   "cell_type": "code",
   "execution_count": 102,
   "id": "df9f11e1",
   "metadata": {},
   "outputs": [],
   "source": [
    "def baryon_chem_pot_expanded(baryon):\n",
    "    tot = baryon_chem_pot_simplified(baryon)\n",
    "    return tot.subs([(baryon.mass_eff, baryon.mass - baryon.g_sigma*sigma), (baryon.kf, baryon_fermi(baryon))])"
   ]
  },
  {
   "cell_type": "code",
   "execution_count": 103,
   "id": "1a670c74",
   "metadata": {},
   "outputs": [
    {
     "data": {
      "text/latex": [
       "$\\displaystyle g_{\\omega} \\omega + \\sqrt{3^{\\frac{2}{3}} \\left(n_{B} \\pi^{2} x_{p}\\right)^{\\frac{2}{3}} + \\left(- g_{\\sigma} \\sigma + m\\right)^{2}}$"
      ],
      "text/plain": [
       "g_omega*omega + sqrt(3**(2/3)*(n_B*pi**2*x_p)**(2/3) + (-g_sigma*sigma + m)**2)"
      ]
     },
     "execution_count": 103,
     "metadata": {},
     "output_type": "execute_result"
    }
   ],
   "source": [
    "baryon_chem_pot_expanded(proton_sym)"
   ]
  },
  {
   "cell_type": "code",
   "execution_count": null,
   "id": "18d004e1",
   "metadata": {},
   "outputs": [],
   "source": []
  }
 ],
 "metadata": {
  "kernelspec": {
   "display_name": "Python 3",
   "language": "python",
   "name": "python3"
  },
  "language_info": {
   "codemirror_mode": {
    "name": "ipython",
    "version": 3
   },
   "file_extension": ".py",
   "mimetype": "text/x-python",
   "name": "python",
   "nbconvert_exporter": "python",
   "pygments_lexer": "ipython3",
   "version": "3.8.8"
  }
 },
 "nbformat": 4,
 "nbformat_minor": 5
}
