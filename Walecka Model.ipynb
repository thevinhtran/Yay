{
 "cells": [
  {
   "cell_type": "code",
   "execution_count": 2,
   "id": "c9130d1e",
   "metadata": {},
   "outputs": [],
   "source": [
    "import numpy as np\n",
    "import sympy as sym\n",
    "\n",
    "Pi = sym.symbols('pi')\n",
    "n0 = 0.153\n",
    "hc = 197.326980 # MeV fm"
   ]
  },
  {
   "cell_type": "code",
   "execution_count": 3,
   "id": "6fb40c25",
   "metadata": {},
   "outputs": [],
   "source": [
    "class eos:\n",
    "    def __init__(self, g_sigma, g_omega, b, c):\n",
    "        \n",
    "        self.g_sigma = g_sigma\n",
    "        self.g_omega = g_omega\n",
    "        self.b = b\n",
    "        self.c = c\n",
    "\n",
    "class baryon:\n",
    "    def __init__(self, mass, isospin, charge, kind, var_type, mass_eff = 0.0, num_density = 0.0,\\\n",
    "                 frac = 0.0, kf = 0.0, ef = 0.0, chem_pot = 0.0):\n",
    "    \n",
    "        # variables to be established at baryon declaration\n",
    "        self.mass = mass\n",
    "        self.isospin = isospin\n",
    "        self.charge = charge\n",
    "        self.kind = kind\n",
    "        self.var_type = var_type\n",
    "    \n",
    "        # variables to be stored later\n",
    "        self.mass_eff = mass_eff\n",
    "        self.num_density = num_density\n",
    "        self.frac = frac\n",
    "        self.kf = kf\n",
    "        self.ef = ef\n",
    "        self.chem_pot = chem_pot\n",
    "\n",
    "class lepton:\n",
    "    def __init__(self, mass, charge, num_density = 0.0, frac = 0.0, var_type = 0.0, kf = 0.0, chem_pot = 0.0):\n",
    "        self.mass = mass\n",
    "        self.charge = charge\n",
    "        self.num_density = num_density\n",
    "        self.frac = frac\n",
    "        self.var_type = var_type\n",
    "        self.kf = kf\n",
    "        self.chem_pot = chem_pot\n",
    "\n",
    "class meson:\n",
    "    def __init__(self, mass, field = 0.0):\n",
    "        self.mass = mass # in MeV\n",
    "        self.field = field\n",
    "        \n",
    "class independent_var:\n",
    "    def __init__(self, var, func, tilde_chem_pot = 0.0, tilde_chem_pot_val = 0.0, num_val = 0.0, total_deriv = 0.0):\n",
    "        self.var = var # var is the symbol for the variable\n",
    "        self.func = func \n",
    "        \n",
    "        self.tilde_chem_pot = tilde_chem_pot\n",
    "        self.tilde_chem_pot_val = tilde_chem_pot_val\n",
    "        \n",
    "        self.num_val = num_val\n",
    "        \n",
    "        # total derivative of fraction wrt to nB\n",
    "        self.total_deriv = total_deriv"
   ]
  },
  {
   "cell_type": "code",
   "execution_count": 4,
   "id": "074096d0",
   "metadata": {},
   "outputs": [],
   "source": [
    "rmf = eos(g_sigma = 8.784820, g_omega = 8.720086, b = 0.008628, c = -0.002433)\n",
    "\n",
    "g_sigma, g_omega, b, c = sym.symbols('g_sigma, g_omega, b, c')\n",
    "\n",
    "# initializing symbolic eos object\n",
    "rmf_sym = eos(g_sigma, g_omega, b, c)"
   ]
  },
  {
   "cell_type": "code",
   "execution_count": 5,
   "id": "b9e932c4",
   "metadata": {},
   "outputs": [],
   "source": [
    "# electron\n",
    "electron_sym = lepton(sym.symbols('m_e'), -1, sym.symbols('n_e'), sym.symbols('x_e'), 'Independent',\\\n",
    "                      sym.symbols('k_F_e'), sym.symbols('\\mu_e'))\n",
    "electron_num = lepton(0.510, -1)\n",
    "\n",
    "# proton \n",
    "proton_sym = baryon(sym.symbols('m'), 1/2, 1, 'Nucleon', 'Dependent', sym.symbols('m_p^*'),\\\n",
    "                    sym.symbols('n_p'), sym.symbols('x_p'), sym.symbols('k_F_p'),\\\n",
    "                    sym.symbols('E^*_F_p'), sym.symbols('mu_p'))\n",
    "proton_num = baryon(939.0, 1/2, 1, 'Nucleon', 'Dependent')\n",
    "\n",
    "# neutron \n",
    "neutron_sym = baryon(sym.symbols('m'), -1/2, 0, 'Nucleon', 'Dependent', sym.symbols('m_n^*'),\\\n",
    "                    sym.symbols('n_n'), sym.symbols('x_n'), sym.symbols('k_F_n'),\\\n",
    "                    sym.symbols('E^*_F_n'), sym.symbols('mu_n'))\n",
    "neutron_num = baryon(939.0, -1/2, 0, 'Nucleon', 'Dependent')"
   ]
  },
  {
   "cell_type": "code",
   "execution_count": 6,
   "id": "d420c9cc",
   "metadata": {},
   "outputs": [],
   "source": [
    "# declaring the symbolic meson objects\n",
    "sigma_sym = meson(sym.symbols('m_sigma'), sym.symbols('sigma'))\n",
    "omega_sym = meson(sym.symbols('m_omega'), sym.symbols('omega'))\n",
    "\n",
    "# declaring the numeric meson objects\n",
    "sigma_num = meson(550.0)\n",
    "omega_num = meson(783.0)"
   ]
  },
  {
   "cell_type": "code",
   "execution_count": 7,
   "id": "4823b9db",
   "metadata": {},
   "outputs": [],
   "source": [
    "# initializing independent variables\n",
    "nb = independent_var(sym.symbols('n_B'), sym.Function('n_B'))\n",
    "xe = independent_var(sym.symbols('x_e'), sym.Function('x_e'), sym.symbols('mu tilde_x_e'))"
   ]
  },
  {
   "cell_type": "markdown",
   "id": "80368818",
   "metadata": {},
   "source": [
    "Practice with solving $\\sigma-\\omega$ Model\n",
    "$$\n",
    "    m_\\sigma^2 \\sigma + m_N b g_\\sigma^3 \\sigma^2 + c g_\\sigma^4 \\sigma^3 = g_\\sigma n^s \\qquad n^s = \\frac{m^*}{\\pi^2}\\left[k_F E_F - {m^*}^2\\ln\\frac{k_F + E_F}{m^*}\\right]\\\\\n",
    "    m_\\omega^2 \\omega = g_\\omega n_B\n",
    "$$\n",
    "with constraints\n",
    "$$\n",
    "    n_n + n_p = n_B\\\\\n",
    "    n_p = n_e\n",
    "$$"
   ]
  },
  {
   "cell_type": "code",
   "execution_count": 8,
   "id": "b88866ca",
   "metadata": {},
   "outputs": [
    {
     "data": {
      "text/latex": [
       "$\\displaystyle b g_{\\sigma}^{3} m \\sigma^{2} + c g_{\\sigma}^{4} \\sigma^{3} - g_{\\sigma} \\left(n^{s}_{n} + n^{s}_{p}\\right) + m_{\\sigma}^{2} \\sigma$"
      ],
      "text/plain": [
       "b*g_sigma**3*m*sigma**2 + c*g_sigma**4*sigma**3 - g_sigma*(n_n^s + n_p^s) + m_sigma**2*sigma"
      ]
     },
     "execution_count": 8,
     "metadata": {},
     "output_type": "execute_result"
    }
   ],
   "source": [
    "eqn1 = sigma_sym.mass**2*sigma_sym.field + neutron_sym.mass*rmf_sym.b*rmf_sym.g_sigma**3*sigma_sym.field**2 + rmf_sym.c*rmf_sym.g_sigma**4*sigma_sym.field**3 - rmf_sym.g_sigma*(sym.symbols('n_n^s') + sym.symbols('n_p^s'))\n",
    "eqn1"
   ]
  },
  {
   "cell_type": "code",
   "execution_count": 26,
   "id": "36706b71",
   "metadata": {},
   "outputs": [],
   "source": [
    "ns_n = neutron_sym.mass_eff/Pi**2*(neutron_sym.kf*neutron_sym.ef - neutron_sym.mass_eff**2*sym.log((neutron_sym.kf + neutron_sym.ef)/neutron_sym.mass_eff))\n",
    "ns_p = proton_sym.mass_eff/Pi**2*(proton_sym.kf*proton_sym.ef - proton_sym.mass_eff**2*sym.log((proton_sym.kf + proton_sym.ef)/proton_sym.mass_eff))"
   ]
  },
  {
   "cell_type": "code",
   "execution_count": 10,
   "id": "ddd6b09f",
   "metadata": {},
   "outputs": [
    {
     "data": {
      "text/latex": [
       "$\\displaystyle b g_{\\sigma}^{3} m \\sigma^{2} + c g_{\\sigma}^{4} \\sigma^{3} - g_{\\sigma} \\left(\\frac{m^{*}_{n} \\left(E^{*}_{F n} k_{F n} - \\left(m^{*}_{n}\\right)^{2} \\log{\\left(\\frac{E^{*}_{F n} + k_{F n}}{m^{*}_{n}} \\right)}\\right)}{\\pi^{2}} + \\frac{m^{*}_{p} \\left(E^{*}_{F p} k_{F p} - \\left(m^{*}_{p}\\right)^{2} \\log{\\left(\\frac{E^{*}_{F p} + k_{F p}}{m^{*}_{p}} \\right)}\\right)}{\\pi^{2}}\\right) + m_{\\sigma}^{2} \\sigma$"
      ],
      "text/plain": [
       "b*g_sigma**3*m*sigma**2 + c*g_sigma**4*sigma**3 - g_sigma*(m_n^**(E^*_F_n*k_F_n - m_n^***2*log((E^*_F_n + k_F_n)/m_n^*))/pi**2 + m_p^**(E^*_F_p*k_F_p - m_p^***2*log((E^*_F_p + k_F_p)/m_p^*))/pi**2) + m_sigma**2*sigma"
      ]
     },
     "execution_count": 10,
     "metadata": {},
     "output_type": "execute_result"
    }
   ],
   "source": [
    "eqn1 = eqn1.subs([(sym.symbols('n_p^s'), ns_p), (sym.symbols('n_n^s'), ns_n)])\n",
    "eqn1"
   ]
  },
  {
   "cell_type": "code",
   "execution_count": 27,
   "id": "d4ad6dc0",
   "metadata": {},
   "outputs": [],
   "source": [
    "ef_n = sym.sqrt(kf_n**2 + (neutron_sym.mass - rmf_sym.g_sigma*sigma_sym.field)**2)\n",
    "ef_p = sym.sqrt(kf_p**2 + (proton_sym.mass - rmf_sym.g_sigma*sigma_sym.field)**2)\n",
    "kf_n = (3*Pi**2*sym.symbols('n_n'))**(1/3)\n",
    "kf_p = (3*Pi**2*sym.symbols('n_p'))**(1/3)"
   ]
  },
  {
   "cell_type": "code",
   "execution_count": 12,
   "id": "0caf96c9",
   "metadata": {},
   "outputs": [
    {
     "data": {
      "text/latex": [
       "$\\displaystyle b g_{\\sigma}^{3} m \\sigma^{2} + c g_{\\sigma}^{4} \\sigma^{3} - g_{\\sigma} \\left(\\frac{\\left(- g_{\\sigma} \\sigma + m\\right) \\left(2.0800838230519 \\left(n_{n} \\pi^{2}\\right)^{0.333333333333333} \\sqrt{\\left(n_{n} \\pi^{2}\\right)^{0.666666666666667} + 0.480749856769136 \\left(- g_{\\sigma} \\sigma + m\\right)^{2}} - \\left(- g_{\\sigma} \\sigma + m\\right)^{2} \\log{\\left(\\frac{1.44224957030741 \\left(n_{n} \\pi^{2}\\right)^{0.333333333333333} + 1.44224957030741 \\sqrt{\\left(n_{n} \\pi^{2}\\right)^{0.666666666666667} + 0.480749856769136 \\left(- g_{\\sigma} \\sigma + m\\right)^{2}}}{- g_{\\sigma} \\sigma + m} \\right)}\\right)}{\\pi^{2}} + \\frac{\\left(- g_{\\sigma} \\sigma + m\\right) \\left(2.0800838230519 \\left(n_{p} \\pi^{2}\\right)^{0.333333333333333} \\sqrt{\\left(n_{p} \\pi^{2}\\right)^{0.666666666666667} + 0.480749856769136 \\left(- g_{\\sigma} \\sigma + m\\right)^{2}} - \\left(- g_{\\sigma} \\sigma + m\\right)^{2} \\log{\\left(\\frac{1.44224957030741 \\left(n_{p} \\pi^{2}\\right)^{0.333333333333333} + 1.44224957030741 \\sqrt{\\left(n_{p} \\pi^{2}\\right)^{0.666666666666667} + 0.480749856769136 \\left(- g_{\\sigma} \\sigma + m\\right)^{2}}}{- g_{\\sigma} \\sigma + m} \\right)}\\right)}{\\pi^{2}}\\right) + m_{\\sigma}^{2} \\sigma$"
      ],
      "text/plain": [
       "b*g_sigma**3*m*sigma**2 + c*g_sigma**4*sigma**3 - g_sigma*((-g_sigma*sigma + m)*(2.0800838230519*(n_n*pi**2)**0.333333333333333*sqrt((n_n*pi**2)**0.666666666666667 + 0.480749856769136*(-g_sigma*sigma + m)**2) - (-g_sigma*sigma + m)**2*log((1.44224957030741*(n_n*pi**2)**0.333333333333333 + 1.44224957030741*sqrt((n_n*pi**2)**0.666666666666667 + 0.480749856769136*(-g_sigma*sigma + m)**2))/(-g_sigma*sigma + m)))/pi**2 + (-g_sigma*sigma + m)*(2.0800838230519*(n_p*pi**2)**0.333333333333333*sqrt((n_p*pi**2)**0.666666666666667 + 0.480749856769136*(-g_sigma*sigma + m)**2) - (-g_sigma*sigma + m)**2*log((1.44224957030741*(n_p*pi**2)**0.333333333333333 + 1.44224957030741*sqrt((n_p*pi**2)**0.666666666666667 + 0.480749856769136*(-g_sigma*sigma + m)**2))/(-g_sigma*sigma + m)))/pi**2) + m_sigma**2*sigma"
      ]
     },
     "execution_count": 12,
     "metadata": {},
     "output_type": "execute_result"
    }
   ],
   "source": [
    "eqn1 = eqn1.subs([(neutron_sym.kf, kf_n), (neutron_sym.ef, ef_n), (proton_sym.kf, kf_p), (proton_sym.ef, ef_p)])\n",
    "eqn1 = eqn1.subs(neutron_sym.mass_eff, neutron_sym.mass - rmf_sym.g_sigma*sigma_sym.field)\n",
    "eqn1 = eqn1.subs(proton_sym.mass_eff, proton_sym.mass - rmf_sym.g_sigma*sigma_sym.field)\n",
    "eqn1"
   ]
  },
  {
   "cell_type": "code",
   "execution_count": 13,
   "id": "edeb55d8",
   "metadata": {},
   "outputs": [
    {
     "data": {
      "text/latex": [
       "$\\displaystyle - 14.4901732481197 \\sigma^{3} + 5492.55393864515 \\sigma^{2} + 302500.0 \\sigma - 0.890088360484882 \\left(939.0 - 8.78482 \\sigma\\right) \\left(2904.95399497705 \\left(n_{B} x_{e}\\right)^{0.333333333333333} \\sqrt{1.08546581068471 \\cdot 10^{-5} \\left(n_{B} x_{e}\\right)^{0.666666666666667} + \\left(1 - 0.009355505857295 \\sigma\\right)^{2}} - 881721.0 \\left(1 - 0.009355505857295 \\sigma\\right)^{2} \\log{\\left(\\frac{3.09366772628014 \\left(n_{B} x_{e}\\right)^{0.333333333333333} + 939.0 \\sqrt{1.08546581068471 \\cdot 10^{-5} \\left(n_{B} x_{e}\\right)^{0.666666666666667} + \\left(1 - 0.009355505857295 \\sigma\\right)^{2}}}{939.0 - 8.78482 \\sigma} \\right)}\\right) - 0.890088360484882 \\left(939.0 - 8.78482 \\sigma\\right) \\left(2904.95399497705 \\left(n_{B} \\left(1 - x_{e}\\right)\\right)^{0.333333333333333} \\sqrt{1.08546581068471 \\cdot 10^{-5} \\left(n_{B} \\left(1 - x_{e}\\right)\\right)^{0.666666666666667} + \\left(1 - 0.009355505857295 \\sigma\\right)^{2}} - 881721.0 \\left(1 - 0.009355505857295 \\sigma\\right)^{2} \\log{\\left(\\frac{3.09366772628014 \\left(n_{B} \\left(1 - x_{e}\\right)\\right)^{0.333333333333333} + 939.0 \\sqrt{1.08546581068471 \\cdot 10^{-5} \\left(n_{B} \\left(1 - x_{e}\\right)\\right)^{0.666666666666667} + \\left(1 - 0.009355505857295 \\sigma\\right)^{2}}}{939.0 - 8.78482 \\sigma} \\right)}\\right)$"
      ],
      "text/plain": [
       "-14.4901732481197*sigma**3 + 5492.55393864515*sigma**2 + 302500.0*sigma - 0.890088360484882*(939.0 - 8.78482*sigma)*(2904.95399497705*(n_B*x_e)**0.333333333333333*sqrt(1.08546581068471e-5*(n_B*x_e)**0.666666666666667 + (1 - 0.009355505857295*sigma)**2) - 881721.0*(1 - 0.009355505857295*sigma)**2*log((3.09366772628014*(n_B*x_e)**0.333333333333333 + 939.0*sqrt(1.08546581068471e-5*(n_B*x_e)**0.666666666666667 + (1 - 0.009355505857295*sigma)**2))/(939.0 - 8.78482*sigma))) - 0.890088360484882*(939.0 - 8.78482*sigma)*(2904.95399497705*(n_B*(1 - x_e))**0.333333333333333*sqrt(1.08546581068471e-5*(n_B*(1 - x_e))**0.666666666666667 + (1 - 0.009355505857295*sigma)**2) - 881721.0*(1 - 0.009355505857295*sigma)**2*log((3.09366772628014*(n_B*(1 - x_e))**0.333333333333333 + 939.0*sqrt(1.08546581068471e-5*(n_B*(1 - x_e))**0.666666666666667 + (1 - 0.009355505857295*sigma)**2))/(939.0 - 8.78482*sigma)))"
      ]
     },
     "execution_count": 13,
     "metadata": {},
     "output_type": "execute_result"
    }
   ],
   "source": [
    "eqn1 = eqn1.subs(sym.symbols('m'), neutron_num.mass)\n",
    "eqn1 = eqn1.subs([(sym.symbols('b'), rmf.b), (sym.symbols('c'), rmf.c), (rmf_sym.g_sigma, rmf.g_sigma)])\n",
    "eqn1 = eqn1.subs(sigma_sym.mass, sigma_num.mass)\n",
    "eqn1 = eqn1.subs(Pi, np.pi)\n",
    "eqn1 = eqn1.subs([(neutron_sym.num_density, nb.var*(1-electron_sym.frac)),(proton_sym.num_density, nb.var*electron_sym.frac)])\n",
    "eqn1"
   ]
  },
  {
   "cell_type": "markdown",
   "id": "5882bbfe",
   "metadata": {},
   "source": [
    "At this stage, the equation of motion for the sigma field has three unknowns: nB, xe, and sigma. We have a second equation that we can use: beta-equilibrium. Then, we can solve for everything in terms of nB values."
   ]
  },
  {
   "cell_type": "code",
   "execution_count": 14,
   "id": "bcd5f7e3",
   "metadata": {},
   "outputs": [],
   "source": [
    "nB = np.arange(0.27, 8.00, 0.01)\n",
    "nB_mev = nB*n0*hc**3"
   ]
  },
  {
   "cell_type": "code",
   "execution_count": 15,
   "id": "f1e69210",
   "metadata": {},
   "outputs": [
    {
     "ename": "SyntaxError",
     "evalue": "invalid syntax (<ipython-input-15-d9323f8de746>, line 2)",
     "output_type": "error",
     "traceback": [
      "\u001b[0;36m  File \u001b[0;32m\"<ipython-input-15-d9323f8de746>\"\u001b[0;36m, line \u001b[0;32m2\u001b[0m\n\u001b[0;31m    =\u001b[0m\n\u001b[0m    ^\u001b[0m\n\u001b[0;31mSyntaxError\u001b[0m\u001b[0;31m:\u001b[0m invalid syntax\n"
     ]
    }
   ],
   "source": [
    "# Beta Equilibrium\n",
    "="
   ]
  },
  {
   "cell_type": "markdown",
   "id": "296b0bb3",
   "metadata": {},
   "source": [
    "Solving for Particle Fractions\n",
    "1. We have a few things to consider:\n",
    "- Baryon number conservation\n",
    "- Charge neutrality\n",
    "- Beta equilibrium \n",
    "2. When considering just $npe$ matter. We have four unknowns: $n_B, n_p, n_n, n_e$. But we have three equations so we can write everything as a function of $n_B$. \n",
    "$$\n",
    "    n_B = n_p + n_n\\\\\n",
    "    n_p = n_e\\\\\n",
    "    \\mu_n = \\mu_p + \\mu_e\n",
    "$$\n",
    "3. For these equations, it might be more simple to re-write most things in terms of the first two first... "
   ]
  },
  {
   "cell_type": "code",
   "execution_count": 16,
   "id": "a11371a7",
   "metadata": {},
   "outputs": [],
   "source": [
    "eqn2 = neutron_sym.chem_pot - proton_sym.chem_pot - electron_sym.chem_pot"
   ]
  },
  {
   "cell_type": "code",
   "execution_count": 17,
   "id": "296eb148",
   "metadata": {},
   "outputs": [
    {
     "data": {
      "text/latex": [
       "$\\displaystyle \\mu_{n} - \\mu_{p} - \\sqrt{k_{F e}^{2} + m_{e}^{2}}$"
      ],
      "text/plain": [
       "mu_n - mu_p - sqrt(k_F_e**2 + m_e**2)"
      ]
     },
     "execution_count": 17,
     "metadata": {},
     "output_type": "execute_result"
    }
   ],
   "source": [
    "eqn2 = eqn2.subs(electron_sym.chem_pot, sym.sqrt(electron_sym.kf**2 + electron_sym.mass**2))\n",
    "eqn2"
   ]
  },
  {
   "cell_type": "code",
   "execution_count": 18,
   "id": "5da3311d",
   "metadata": {},
   "outputs": [
    {
     "data": {
      "text/latex": [
       "$\\displaystyle \\mu_{n} - \\sqrt{k_{F e}^{2} + m_{e}^{2}} - \\sqrt{k_{F p}^{2} + \\left(- g_{\\sigma} \\sigma + m\\right)^{2}}$"
      ],
      "text/plain": [
       "mu_n - sqrt(k_F_e**2 + m_e**2) - sqrt(k_F_p**2 + (-g_sigma*sigma + m)**2)"
      ]
     },
     "execution_count": 18,
     "metadata": {},
     "output_type": "execute_result"
    }
   ],
   "source": [
    "eqn2 = eqn2.subs(proton_sym.chem_pot, sym.sqrt(proton_sym.kf**2 + (proton_sym.mass - rmf_sym.g_sigma*sigma_sym.field)**2))\n",
    "eqn2"
   ]
  },
  {
   "cell_type": "code",
   "execution_count": 19,
   "id": "c4537ed1",
   "metadata": {},
   "outputs": [
    {
     "data": {
      "text/latex": [
       "$\\displaystyle - \\sqrt{k_{F e}^{2} + m_{e}^{2}} + \\sqrt{k_{F n}^{2} + \\left(- g_{\\sigma} \\sigma + m\\right)^{2}} - \\sqrt{k_{F p}^{2} + \\left(- g_{\\sigma} \\sigma + m\\right)^{2}}$"
      ],
      "text/plain": [
       "-sqrt(k_F_e**2 + m_e**2) + sqrt(k_F_n**2 + (-g_sigma*sigma + m)**2) - sqrt(k_F_p**2 + (-g_sigma*sigma + m)**2)"
      ]
     },
     "execution_count": 19,
     "metadata": {},
     "output_type": "execute_result"
    }
   ],
   "source": [
    "eqn2 = eqn2.subs(neutron_sym.chem_pot, sym.sqrt(neutron_sym.kf**2 + (neutron_sym.mass - rmf_sym.g_sigma*sigma_sym.field)**2))\n",
    "eqn2"
   ]
  },
  {
   "cell_type": "code",
   "execution_count": 20,
   "id": "8a808390",
   "metadata": {},
   "outputs": [
    {
     "data": {
      "text/latex": [
       "$\\displaystyle - 1.44224957030741 \\sqrt{0.480749856769136 m_{e}^{2} + \\left(n_{B} \\pi^{2} x_{e}\\right)^{0.666666666666667}} + 1.44224957030741 \\sqrt{\\left(n_{n} \\pi^{2}\\right)^{0.666666666666667} + 0.480749856769136 \\left(- g_{\\sigma} \\sigma + m\\right)^{2}} - 1.44224957030741 \\sqrt{\\left(n_{p} \\pi^{2}\\right)^{0.666666666666667} + 0.480749856769136 \\left(- g_{\\sigma} \\sigma + m\\right)^{2}}$"
      ],
      "text/plain": [
       "-1.44224957030741*sqrt(0.480749856769136*m_e**2 + (n_B*pi**2*x_e)**0.666666666666667) + 1.44224957030741*sqrt((n_n*pi**2)**0.666666666666667 + 0.480749856769136*(-g_sigma*sigma + m)**2) - 1.44224957030741*sqrt((n_p*pi**2)**0.666666666666667 + 0.480749856769136*(-g_sigma*sigma + m)**2)"
      ]
     },
     "execution_count": 20,
     "metadata": {},
     "output_type": "execute_result"
    }
   ],
   "source": [
    "eqn2 = eqn2.subs([(neutron_sym.kf, kf_n), (proton_sym.kf, kf_p), (electron_sym.kf, (3*Pi**2*nb.var*electron_sym.frac)**((1)/3))])\n",
    "eqn2"
   ]
  },
  {
   "cell_type": "code",
   "execution_count": 21,
   "id": "7173fe53",
   "metadata": {},
   "outputs": [
    {
     "data": {
      "text/latex": [
       "$\\displaystyle - 939.0 \\sqrt{1.08546581068471 \\cdot 10^{-5} \\left(n_{B} x_{e}\\right)^{0.666666666666667} + \\left(1 - 0.009355505857295 \\sigma\\right)^{2}} - 3.09366772628014 \\sqrt{\\left(n_{B} x_{e}\\right)^{0.666666666666667} + 0.027176468373837} + 939.0 \\sqrt{1.08546581068471 \\cdot 10^{-5} \\left(n_{B} \\left(1 - x_{e}\\right)\\right)^{0.666666666666667} + \\left(1 - 0.009355505857295 \\sigma\\right)^{2}}$"
      ],
      "text/plain": [
       "-939.0*sqrt(1.08546581068471e-5*(n_B*x_e)**0.666666666666667 + (1 - 0.009355505857295*sigma)**2) - 3.09366772628014*sqrt((n_B*x_e)**0.666666666666667 + 0.027176468373837) + 939.0*sqrt(1.08546581068471e-5*(n_B*(1 - x_e))**0.666666666666667 + (1 - 0.009355505857295*sigma)**2)"
      ]
     },
     "execution_count": 21,
     "metadata": {},
     "output_type": "execute_result"
    }
   ],
   "source": [
    "eqn2 = eqn2.subs(sym.symbols('m'), neutron_num.mass)\n",
    "eqn2 = eqn2.subs(sym.symbols('m_e'), electron_num.mass)\n",
    "eqn2 = eqn2.subs(sigma_sym.mass, sigma_num.mass)\n",
    "eqn2 = eqn2.subs(Pi, np.pi)\n",
    "eqn2 = eqn2.subs(rmf_sym.g_sigma, rmf.g_sigma)\n",
    "eqn2 = eqn2.subs([(neutron_sym.num_density, nb.var*(1-electron_sym.frac)),(proton_sym.num_density, nb.var*electron_sym.frac)])\n",
    "eqn2"
   ]
  },
  {
   "cell_type": "markdown",
   "id": "f7b4fdea",
   "metadata": {},
   "source": [
    "### Equation 2 down, written in terms of our 3 variables... now we can just iterate through nB and then solve these two system of equations for the two unknowns!"
   ]
  },
  {
   "cell_type": "code",
   "execution_count": 187,
   "id": "08df8fff",
   "metadata": {},
   "outputs": [],
   "source": [
    "eqn1 = sym.N(eqn1.subs(nb.var, nB_mev[2]))\n",
    "eqn2 = sym.N(eqn2.subs(nb.var, nB_mev[2]))\n",
    "#sym.nonlinsolve([eqn1, eqn2], [xe.var, sigma_sym.field]) "
   ]
  },
  {
   "cell_type": "code",
   "execution_count": 188,
   "id": "e42f3ea6",
   "metadata": {},
   "outputs": [
    {
     "data": {
      "text/latex": [
       "$\\displaystyle - 14.4901732481197 \\sigma^{3} + 5492.55393864515 \\sigma^{2} + 302500.0 \\sigma - 0.890088360484882 \\left(939.0 - 8.78482 \\sigma\\right) \\left(202934.337387096 x_{e}^{0.333333333333333} \\left(0.0529722849471088 x_{e}^{0.666666666666667} + \\left(1.0 - 0.009355505857295 \\sigma\\right)^{2}\\right)^{0.5} - 881721.0 \\left(1.0 - 0.009355505857295 \\sigma\\right)^{2} \\log{\\left(\\frac{216.117505204576 x_{e}^{0.333333333333333} + 939.0 \\sqrt{0.0529722849471088 x_{e}^{0.666666666666667} + \\left(1 - 0.009355505857295 \\sigma\\right)^{2}}}{939.0 - 8.78482 \\sigma} \\right)}\\right) - 0.890088360484882 \\left(939.0 - 8.78482 \\sigma\\right) \\left(- 881721.0 \\left(1.0 - 0.009355505857295 \\sigma\\right)^{2} \\log{\\left(\\frac{216.117505204576 \\left(1 - x_{e}\\right)^{0.333333333333333} + 939.0 \\sqrt{\\left(1 - 0.009355505857295 \\sigma\\right)^{2} + 0.0529722849471088 \\left(1 - x_{e}\\right)^{0.666666666666667}}}{939.0 - 8.78482 \\sigma} \\right)} + 202934.337387096 \\left(1.0 - x_{e}\\right)^{0.333333333333333} \\left(\\left(1.0 - 0.009355505857295 \\sigma\\right)^{2} + 0.0529722849471088 \\left(1.0 - x_{e}\\right)^{0.666666666666667}\\right)^{0.5}\\right)$"
      ],
      "text/plain": [
       "-14.4901732481197*sigma**3 + 5492.55393864515*sigma**2 + 302500.0*sigma - 0.890088360484882*(939.0 - 8.78482*sigma)*(202934.337387096*x_e**0.333333333333333*(0.0529722849471088*x_e**0.666666666666667 + (1.0 - 0.009355505857295*sigma)**2)**0.5 - 881721.0*(1.0 - 0.009355505857295*sigma)**2*log((216.117505204576*x_e**0.333333333333333 + 939.0*sqrt(0.0529722849471088*x_e**0.666666666666667 + (1 - 0.009355505857295*sigma)**2))/(939.0 - 8.78482*sigma))) - 0.890088360484882*(939.0 - 8.78482*sigma)*(-881721.0*(1.0 - 0.009355505857295*sigma)**2*log((216.117505204576*(1 - x_e)**0.333333333333333 + 939.0*sqrt((1 - 0.009355505857295*sigma)**2 + 0.0529722849471088*(1 - x_e)**0.666666666666667))/(939.0 - 8.78482*sigma)) + 202934.337387096*(1.0 - x_e)**0.333333333333333*((1.0 - 0.009355505857295*sigma)**2 + 0.0529722849471088*(1.0 - x_e)**0.666666666666667)**0.5)"
      ]
     },
     "execution_count": 188,
     "metadata": {},
     "output_type": "execute_result"
    }
   ],
   "source": [
    "eqn1"
   ]
  },
  {
   "cell_type": "code",
   "execution_count": 189,
   "id": "804c3f5b",
   "metadata": {},
   "outputs": [
    {
     "ename": "TypeError",
     "evalue": "'>=' not supported between instances of 'NoneType' and 'int'",
     "output_type": "error",
     "traceback": [
      "\u001b[0;31m---------------------------------------------------------------------------\u001b[0m",
      "\u001b[0;31mTypeError\u001b[0m                                 Traceback (most recent call last)",
      "\u001b[0;32m<ipython-input-189-dcf4bb2f7d17>\u001b[0m in \u001b[0;36m<module>\u001b[0;34m\u001b[0m\n\u001b[0;32m----> 1\u001b[0;31m \u001b[0msym\u001b[0m\u001b[0;34m.\u001b[0m\u001b[0mnsolve\u001b[0m\u001b[0;34m(\u001b[0m\u001b[0;34m[\u001b[0m\u001b[0meqn1\u001b[0m\u001b[0;34m,\u001b[0m \u001b[0meqn2\u001b[0m\u001b[0;34m]\u001b[0m\u001b[0;34m,\u001b[0m\u001b[0;34m[\u001b[0m\u001b[0mxe\u001b[0m\u001b[0;34m.\u001b[0m\u001b[0mvar\u001b[0m\u001b[0;34m,\u001b[0m \u001b[0msigma_sym\u001b[0m\u001b[0;34m.\u001b[0m\u001b[0mfield\u001b[0m\u001b[0;34m]\u001b[0m\u001b[0;34m,\u001b[0m \u001b[0;34m(\u001b[0m\u001b[0;36m1\u001b[0m\u001b[0;34m,\u001b[0m\u001b[0;36m1\u001b[0m\u001b[0;34m)\u001b[0m\u001b[0;34m)\u001b[0m\u001b[0;34m\u001b[0m\u001b[0;34m\u001b[0m\u001b[0m\n\u001b[0m",
      "\u001b[0;32m~/opt/anaconda3/lib/python3.8/site-packages/sympy/utilities/decorator.py\u001b[0m in \u001b[0;36mfunc_wrapper\u001b[0;34m(*args, **kwargs)\u001b[0m\n\u001b[1;32m     86\u001b[0m         \u001b[0mdps\u001b[0m \u001b[0;34m=\u001b[0m \u001b[0mmpmath\u001b[0m\u001b[0;34m.\u001b[0m\u001b[0mmp\u001b[0m\u001b[0;34m.\u001b[0m\u001b[0mdps\u001b[0m\u001b[0;34m\u001b[0m\u001b[0;34m\u001b[0m\u001b[0m\n\u001b[1;32m     87\u001b[0m         \u001b[0;32mtry\u001b[0m\u001b[0;34m:\u001b[0m\u001b[0;34m\u001b[0m\u001b[0;34m\u001b[0m\u001b[0m\n\u001b[0;32m---> 88\u001b[0;31m             \u001b[0;32mreturn\u001b[0m \u001b[0mfunc\u001b[0m\u001b[0;34m(\u001b[0m\u001b[0;34m*\u001b[0m\u001b[0margs\u001b[0m\u001b[0;34m,\u001b[0m \u001b[0;34m**\u001b[0m\u001b[0mkwargs\u001b[0m\u001b[0;34m)\u001b[0m\u001b[0;34m\u001b[0m\u001b[0;34m\u001b[0m\u001b[0m\n\u001b[0m\u001b[1;32m     89\u001b[0m         \u001b[0;32mfinally\u001b[0m\u001b[0;34m:\u001b[0m\u001b[0;34m\u001b[0m\u001b[0;34m\u001b[0m\u001b[0m\n\u001b[1;32m     90\u001b[0m             \u001b[0mmpmath\u001b[0m\u001b[0;34m.\u001b[0m\u001b[0mmp\u001b[0m\u001b[0;34m.\u001b[0m\u001b[0mdps\u001b[0m \u001b[0;34m=\u001b[0m \u001b[0mdps\u001b[0m\u001b[0;34m\u001b[0m\u001b[0;34m\u001b[0m\u001b[0m\n",
      "\u001b[0;32m~/opt/anaconda3/lib/python3.8/site-packages/sympy/solvers/solvers.py\u001b[0m in \u001b[0;36mnsolve\u001b[0;34m(dict, *args, **kwargs)\u001b[0m\n\u001b[1;32m   2952\u001b[0m     \u001b[0mJ\u001b[0m \u001b[0;34m=\u001b[0m \u001b[0mlambdify\u001b[0m\u001b[0;34m(\u001b[0m\u001b[0mfargs\u001b[0m\u001b[0;34m,\u001b[0m \u001b[0mJ\u001b[0m\u001b[0;34m,\u001b[0m \u001b[0mmodules\u001b[0m\u001b[0;34m)\u001b[0m\u001b[0;34m\u001b[0m\u001b[0;34m\u001b[0m\u001b[0m\n\u001b[1;32m   2953\u001b[0m     \u001b[0;31m# solve the system numerically\u001b[0m\u001b[0;34m\u001b[0m\u001b[0;34m\u001b[0m\u001b[0;34m\u001b[0m\u001b[0m\n\u001b[0;32m-> 2954\u001b[0;31m     \u001b[0mx\u001b[0m \u001b[0;34m=\u001b[0m \u001b[0mfindroot\u001b[0m\u001b[0;34m(\u001b[0m\u001b[0mf\u001b[0m\u001b[0;34m,\u001b[0m \u001b[0mx0\u001b[0m\u001b[0;34m,\u001b[0m \u001b[0mJ\u001b[0m\u001b[0;34m=\u001b[0m\u001b[0mJ\u001b[0m\u001b[0;34m,\u001b[0m \u001b[0;34m**\u001b[0m\u001b[0mkwargs\u001b[0m\u001b[0;34m)\u001b[0m\u001b[0;34m\u001b[0m\u001b[0;34m\u001b[0m\u001b[0m\n\u001b[0m\u001b[1;32m   2955\u001b[0m     \u001b[0;32mif\u001b[0m \u001b[0mas_dict\u001b[0m\u001b[0;34m:\u001b[0m\u001b[0;34m\u001b[0m\u001b[0;34m\u001b[0m\u001b[0m\n\u001b[1;32m   2956\u001b[0m         \u001b[0;32mreturn\u001b[0m \u001b[0;34m[\u001b[0m\u001b[0mdict\u001b[0m\u001b[0;34m(\u001b[0m\u001b[0mzip\u001b[0m\u001b[0;34m(\u001b[0m\u001b[0mfargs\u001b[0m\u001b[0;34m,\u001b[0m \u001b[0;34m[\u001b[0m\u001b[0msympify\u001b[0m\u001b[0;34m(\u001b[0m\u001b[0mxi\u001b[0m\u001b[0;34m)\u001b[0m \u001b[0;32mfor\u001b[0m \u001b[0mxi\u001b[0m \u001b[0;32min\u001b[0m \u001b[0mx\u001b[0m\u001b[0;34m]\u001b[0m\u001b[0;34m)\u001b[0m\u001b[0;34m)\u001b[0m\u001b[0;34m]\u001b[0m\u001b[0;34m\u001b[0m\u001b[0;34m\u001b[0m\u001b[0m\n",
      "\u001b[0;32m~/opt/anaconda3/lib/python3.8/site-packages/mpmath/calculus/optimization.py\u001b[0m in \u001b[0;36mfindroot\u001b[0;34m(ctx, f, x0, solver, tol, verbose, verify, **kwargs)\u001b[0m\n\u001b[1;32m    967\u001b[0m             \u001b[0mmaxsteps\u001b[0m \u001b[0;34m=\u001b[0m \u001b[0miterations\u001b[0m\u001b[0;34m.\u001b[0m\u001b[0mmaxsteps\u001b[0m\u001b[0;34m\u001b[0m\u001b[0;34m\u001b[0m\u001b[0m\n\u001b[1;32m    968\u001b[0m         \u001b[0mi\u001b[0m \u001b[0;34m=\u001b[0m \u001b[0;36m0\u001b[0m\u001b[0;34m\u001b[0m\u001b[0;34m\u001b[0m\u001b[0m\n\u001b[0;32m--> 969\u001b[0;31m         \u001b[0;32mfor\u001b[0m \u001b[0mx\u001b[0m\u001b[0;34m,\u001b[0m \u001b[0merror\u001b[0m \u001b[0;32min\u001b[0m \u001b[0miterations\u001b[0m\u001b[0;34m:\u001b[0m\u001b[0;34m\u001b[0m\u001b[0;34m\u001b[0m\u001b[0m\n\u001b[0m\u001b[1;32m    970\u001b[0m             \u001b[0;32mif\u001b[0m \u001b[0mverbose\u001b[0m\u001b[0;34m:\u001b[0m\u001b[0;34m\u001b[0m\u001b[0;34m\u001b[0m\u001b[0m\n\u001b[1;32m    971\u001b[0m                 \u001b[0mprint\u001b[0m\u001b[0;34m(\u001b[0m\u001b[0;34m'x:    '\u001b[0m\u001b[0;34m,\u001b[0m \u001b[0mx\u001b[0m\u001b[0;34m)\u001b[0m\u001b[0;34m\u001b[0m\u001b[0;34m\u001b[0m\u001b[0m\n",
      "\u001b[0;32m~/opt/anaconda3/lib/python3.8/site-packages/mpmath/calculus/optimization.py\u001b[0m in \u001b[0;36m__iter__\u001b[0;34m(self)\u001b[0m\n\u001b[1;32m    658\u001b[0m             \u001b[0mfxn\u001b[0m \u001b[0;34m=\u001b[0m \u001b[0;34m-\u001b[0m\u001b[0mfx\u001b[0m\u001b[0;34m\u001b[0m\u001b[0;34m\u001b[0m\u001b[0m\n\u001b[1;32m    659\u001b[0m             \u001b[0mJx\u001b[0m \u001b[0;34m=\u001b[0m \u001b[0mJ\u001b[0m\u001b[0;34m(\u001b[0m\u001b[0;34m*\u001b[0m\u001b[0mx0\u001b[0m\u001b[0;34m)\u001b[0m\u001b[0;34m\u001b[0m\u001b[0;34m\u001b[0m\u001b[0m\n\u001b[0;32m--> 660\u001b[0;31m             \u001b[0ms\u001b[0m \u001b[0;34m=\u001b[0m \u001b[0mself\u001b[0m\u001b[0;34m.\u001b[0m\u001b[0mctx\u001b[0m\u001b[0;34m.\u001b[0m\u001b[0mlu_solve\u001b[0m\u001b[0;34m(\u001b[0m\u001b[0mJx\u001b[0m\u001b[0;34m,\u001b[0m \u001b[0mfxn\u001b[0m\u001b[0;34m)\u001b[0m\u001b[0;34m\u001b[0m\u001b[0;34m\u001b[0m\u001b[0m\n\u001b[0m\u001b[1;32m    661\u001b[0m             \u001b[0;32mif\u001b[0m \u001b[0mself\u001b[0m\u001b[0;34m.\u001b[0m\u001b[0mverbose\u001b[0m\u001b[0;34m:\u001b[0m\u001b[0;34m\u001b[0m\u001b[0;34m\u001b[0m\u001b[0m\n\u001b[1;32m    662\u001b[0m                 \u001b[0mprint\u001b[0m\u001b[0;34m(\u001b[0m\u001b[0;34m'Jx:'\u001b[0m\u001b[0;34m)\u001b[0m\u001b[0;34m\u001b[0m\u001b[0;34m\u001b[0m\u001b[0m\n",
      "\u001b[0;32m~/opt/anaconda3/lib/python3.8/site-packages/mpmath/matrices/linalg.py\u001b[0m in \u001b[0;36mlu_solve\u001b[0;34m(ctx, A, b, **kwargs)\u001b[0m\n\u001b[1;32m    224\u001b[0m             \u001b[0;32melse\u001b[0m\u001b[0;34m:\u001b[0m\u001b[0;34m\u001b[0m\u001b[0;34m\u001b[0m\u001b[0m\n\u001b[1;32m    225\u001b[0m                 \u001b[0;31m# LU factorization\u001b[0m\u001b[0;34m\u001b[0m\u001b[0;34m\u001b[0m\u001b[0;34m\u001b[0m\u001b[0m\n\u001b[0;32m--> 226\u001b[0;31m                 \u001b[0mA\u001b[0m\u001b[0;34m,\u001b[0m \u001b[0mp\u001b[0m \u001b[0;34m=\u001b[0m \u001b[0mctx\u001b[0m\u001b[0;34m.\u001b[0m\u001b[0mLU_decomp\u001b[0m\u001b[0;34m(\u001b[0m\u001b[0mA\u001b[0m\u001b[0;34m)\u001b[0m\u001b[0;34m\u001b[0m\u001b[0;34m\u001b[0m\u001b[0m\n\u001b[0m\u001b[1;32m    227\u001b[0m                 \u001b[0mb\u001b[0m \u001b[0;34m=\u001b[0m \u001b[0mctx\u001b[0m\u001b[0;34m.\u001b[0m\u001b[0mL_solve\u001b[0m\u001b[0;34m(\u001b[0m\u001b[0mA\u001b[0m\u001b[0;34m,\u001b[0m \u001b[0mb\u001b[0m\u001b[0;34m,\u001b[0m \u001b[0mp\u001b[0m\u001b[0;34m)\u001b[0m\u001b[0;34m\u001b[0m\u001b[0;34m\u001b[0m\u001b[0m\n\u001b[1;32m    228\u001b[0m                 \u001b[0mx\u001b[0m \u001b[0;34m=\u001b[0m \u001b[0mctx\u001b[0m\u001b[0;34m.\u001b[0m\u001b[0mU_solve\u001b[0m\u001b[0;34m(\u001b[0m\u001b[0mA\u001b[0m\u001b[0;34m,\u001b[0m \u001b[0mb\u001b[0m\u001b[0;34m)\u001b[0m\u001b[0;34m\u001b[0m\u001b[0;34m\u001b[0m\u001b[0m\n",
      "\u001b[0;32m~/opt/anaconda3/lib/python3.8/site-packages/mpmath/matrices/linalg.py\u001b[0m in \u001b[0;36mLU_decomp\u001b[0;34m(ctx, A, overwrite, use_cache)\u001b[0m\n\u001b[1;32m    140\u001b[0m                     \u001b[0mp\u001b[0m\u001b[0;34m[\u001b[0m\u001b[0mj\u001b[0m\u001b[0;34m]\u001b[0m \u001b[0;34m=\u001b[0m \u001b[0mk\u001b[0m\u001b[0;34m\u001b[0m\u001b[0;34m\u001b[0m\u001b[0m\n\u001b[1;32m    141\u001b[0m             \u001b[0;31m# swap rows according to p\u001b[0m\u001b[0;34m\u001b[0m\u001b[0;34m\u001b[0m\u001b[0;34m\u001b[0m\u001b[0m\n\u001b[0;32m--> 142\u001b[0;31m             \u001b[0mctx\u001b[0m\u001b[0;34m.\u001b[0m\u001b[0mswap_row\u001b[0m\u001b[0;34m(\u001b[0m\u001b[0mA\u001b[0m\u001b[0;34m,\u001b[0m \u001b[0mj\u001b[0m\u001b[0;34m,\u001b[0m \u001b[0mp\u001b[0m\u001b[0;34m[\u001b[0m\u001b[0mj\u001b[0m\u001b[0;34m]\u001b[0m\u001b[0;34m)\u001b[0m\u001b[0;34m\u001b[0m\u001b[0;34m\u001b[0m\u001b[0m\n\u001b[0m\u001b[1;32m    143\u001b[0m             \u001b[0;32mif\u001b[0m \u001b[0mctx\u001b[0m\u001b[0;34m.\u001b[0m\u001b[0mabsmin\u001b[0m\u001b[0;34m(\u001b[0m\u001b[0mA\u001b[0m\u001b[0;34m[\u001b[0m\u001b[0mj\u001b[0m\u001b[0;34m,\u001b[0m\u001b[0mj\u001b[0m\u001b[0;34m]\u001b[0m\u001b[0;34m)\u001b[0m \u001b[0;34m<=\u001b[0m \u001b[0mtol\u001b[0m\u001b[0;34m:\u001b[0m\u001b[0;34m\u001b[0m\u001b[0;34m\u001b[0m\u001b[0m\n\u001b[1;32m    144\u001b[0m                 \u001b[0;32mraise\u001b[0m \u001b[0mZeroDivisionError\u001b[0m\u001b[0;34m(\u001b[0m\u001b[0;34m'matrix is numerically singular'\u001b[0m\u001b[0;34m)\u001b[0m\u001b[0;34m\u001b[0m\u001b[0;34m\u001b[0m\u001b[0m\n",
      "\u001b[0;32m~/opt/anaconda3/lib/python3.8/site-packages/mpmath/matrices/matrices.py\u001b[0m in \u001b[0;36mswap_row\u001b[0;34m(ctx, A, i, j)\u001b[0m\n\u001b[1;32m    874\u001b[0m         \u001b[0;32mif\u001b[0m \u001b[0misinstance\u001b[0m\u001b[0;34m(\u001b[0m\u001b[0mA\u001b[0m\u001b[0;34m,\u001b[0m \u001b[0mctx\u001b[0m\u001b[0;34m.\u001b[0m\u001b[0mmatrix\u001b[0m\u001b[0;34m)\u001b[0m\u001b[0;34m:\u001b[0m\u001b[0;34m\u001b[0m\u001b[0;34m\u001b[0m\u001b[0m\n\u001b[1;32m    875\u001b[0m             \u001b[0;32mfor\u001b[0m \u001b[0mk\u001b[0m \u001b[0;32min\u001b[0m \u001b[0mxrange\u001b[0m\u001b[0;34m(\u001b[0m\u001b[0mA\u001b[0m\u001b[0;34m.\u001b[0m\u001b[0mcols\u001b[0m\u001b[0;34m)\u001b[0m\u001b[0;34m:\u001b[0m\u001b[0;34m\u001b[0m\u001b[0;34m\u001b[0m\u001b[0m\n\u001b[0;32m--> 876\u001b[0;31m                 \u001b[0mA\u001b[0m\u001b[0;34m[\u001b[0m\u001b[0mi\u001b[0m\u001b[0;34m,\u001b[0m\u001b[0mk\u001b[0m\u001b[0;34m]\u001b[0m\u001b[0;34m,\u001b[0m \u001b[0mA\u001b[0m\u001b[0;34m[\u001b[0m\u001b[0mj\u001b[0m\u001b[0;34m,\u001b[0m\u001b[0mk\u001b[0m\u001b[0;34m]\u001b[0m \u001b[0;34m=\u001b[0m \u001b[0mA\u001b[0m\u001b[0;34m[\u001b[0m\u001b[0mj\u001b[0m\u001b[0;34m,\u001b[0m\u001b[0mk\u001b[0m\u001b[0;34m]\u001b[0m\u001b[0;34m,\u001b[0m \u001b[0mA\u001b[0m\u001b[0;34m[\u001b[0m\u001b[0mi\u001b[0m\u001b[0;34m,\u001b[0m\u001b[0mk\u001b[0m\u001b[0;34m]\u001b[0m\u001b[0;34m\u001b[0m\u001b[0;34m\u001b[0m\u001b[0m\n\u001b[0m\u001b[1;32m    877\u001b[0m         \u001b[0;32melif\u001b[0m \u001b[0misinstance\u001b[0m\u001b[0;34m(\u001b[0m\u001b[0mA\u001b[0m\u001b[0;34m,\u001b[0m \u001b[0mlist\u001b[0m\u001b[0;34m)\u001b[0m\u001b[0;34m:\u001b[0m\u001b[0;34m\u001b[0m\u001b[0;34m\u001b[0m\u001b[0m\n\u001b[1;32m    878\u001b[0m             \u001b[0mA\u001b[0m\u001b[0;34m[\u001b[0m\u001b[0mi\u001b[0m\u001b[0;34m]\u001b[0m\u001b[0;34m,\u001b[0m \u001b[0mA\u001b[0m\u001b[0;34m[\u001b[0m\u001b[0mj\u001b[0m\u001b[0;34m]\u001b[0m \u001b[0;34m=\u001b[0m \u001b[0mA\u001b[0m\u001b[0;34m[\u001b[0m\u001b[0mj\u001b[0m\u001b[0;34m]\u001b[0m\u001b[0;34m,\u001b[0m \u001b[0mA\u001b[0m\u001b[0;34m[\u001b[0m\u001b[0mi\u001b[0m\u001b[0;34m]\u001b[0m\u001b[0;34m\u001b[0m\u001b[0;34m\u001b[0m\u001b[0m\n",
      "\u001b[0;32m~/opt/anaconda3/lib/python3.8/site-packages/mpmath/matrices/matrices.py\u001b[0m in \u001b[0;36m__getitem__\u001b[0;34m(self, key)\u001b[0m\n\u001b[1;32m    488\u001b[0m         \u001b[0;32melse\u001b[0m\u001b[0;34m:\u001b[0m\u001b[0;34m\u001b[0m\u001b[0;34m\u001b[0m\u001b[0m\n\u001b[1;32m    489\u001b[0m             \u001b[0;31m# single element extraction\u001b[0m\u001b[0;34m\u001b[0m\u001b[0;34m\u001b[0m\u001b[0;34m\u001b[0m\u001b[0m\n\u001b[0;32m--> 490\u001b[0;31m             \u001b[0;32mif\u001b[0m \u001b[0mkey\u001b[0m\u001b[0;34m[\u001b[0m\u001b[0;36m0\u001b[0m\u001b[0;34m]\u001b[0m \u001b[0;34m>=\u001b[0m \u001b[0mself\u001b[0m\u001b[0;34m.\u001b[0m\u001b[0m__rows\u001b[0m \u001b[0;32mor\u001b[0m \u001b[0mkey\u001b[0m\u001b[0;34m[\u001b[0m\u001b[0;36m1\u001b[0m\u001b[0;34m]\u001b[0m \u001b[0;34m>=\u001b[0m \u001b[0mself\u001b[0m\u001b[0;34m.\u001b[0m\u001b[0m__cols\u001b[0m\u001b[0;34m:\u001b[0m\u001b[0;34m\u001b[0m\u001b[0;34m\u001b[0m\u001b[0m\n\u001b[0m\u001b[1;32m    491\u001b[0m                 \u001b[0;32mraise\u001b[0m \u001b[0mIndexError\u001b[0m\u001b[0;34m(\u001b[0m\u001b[0;34m'matrix index out of range'\u001b[0m\u001b[0;34m)\u001b[0m\u001b[0;34m\u001b[0m\u001b[0;34m\u001b[0m\u001b[0m\n\u001b[1;32m    492\u001b[0m             \u001b[0;32mif\u001b[0m \u001b[0mkey\u001b[0m \u001b[0;32min\u001b[0m \u001b[0mself\u001b[0m\u001b[0;34m.\u001b[0m\u001b[0m__data\u001b[0m\u001b[0;34m:\u001b[0m\u001b[0;34m\u001b[0m\u001b[0;34m\u001b[0m\u001b[0m\n",
      "\u001b[0;31mTypeError\u001b[0m: '>=' not supported between instances of 'NoneType' and 'int'"
     ]
    }
   ],
   "source": [
    "sym.nsolve([eqn1, eqn2],[xe.var, sigma_sym.field], (1,1))"
   ]
  },
  {
   "cell_type": "code",
   "execution_count": null,
   "id": "dea16000",
   "metadata": {},
   "outputs": [],
   "source": [
    "for i in range(len(nB_mev)):\n",
    "    eqn1 = eqn1.subs(nb.var, nB_mev[i])\n",
    "    eqn2 = eqn2.subs(nb.var, nB_mev[i])\n",
    "    sym.solve([eqn1, eqn2], [xe.var, sigma_sym.field])"
   ]
  },
  {
   "cell_type": "markdown",
   "id": "51551634",
   "metadata": {},
   "source": [
    "## Omega Field\n",
    "$$\n",
    "    \\omega = \\frac{g_\\omega}{m_\\omega^2}n_B\n",
    "$$"
   ]
  },
  {
   "cell_type": "code",
   "execution_count": 128,
   "id": "b97d88f5",
   "metadata": {},
   "outputs": [
    {
     "data": {
      "text/plain": [
       "array([  4.51452276,   4.68172731,   4.84893185,   5.0161364 ,\n",
       "         5.18334094,   5.35054549,   5.51775004,   5.68495458,\n",
       "         5.85215913,   6.01936368,   6.18656822,   6.35377277,\n",
       "         6.52097732,   6.68818186,   6.85538641,   7.02259096,\n",
       "         7.1897955 ,   7.35700005,   7.5242046 ,   7.69140914,\n",
       "         7.85861369,   8.02581824,   8.19302278,   8.36022733,\n",
       "         8.52743188,   8.69463642,   8.86184097,   9.02904552,\n",
       "         9.19625006,   9.36345461,   9.53065916,   9.6978637 ,\n",
       "         9.86506825,  10.0322728 ,  10.19947734,  10.36668189,\n",
       "        10.53388644,  10.70109098,  10.86829553,  11.03550008,\n",
       "        11.20270462,  11.36990917,  11.53711372,  11.70431826,\n",
       "        11.87152281,  12.03872736,  12.2059319 ,  12.37313645,\n",
       "        12.540341  ,  12.70754554,  12.87475009,  13.04195464,\n",
       "        13.20915918,  13.37636373,  13.54356828,  13.71077282,\n",
       "        13.87797737,  14.04518192,  14.21238646,  14.37959101,\n",
       "        14.54679556,  14.7140001 ,  14.88120465,  15.0484092 ,\n",
       "        15.21561374,  15.38281829,  15.55002283,  15.71722738,\n",
       "        15.88443193,  16.05163647,  16.21884102,  16.38604557,\n",
       "        16.55325011,  16.72045466,  16.88765921,  17.05486375,\n",
       "        17.2220683 ,  17.38927285,  17.55647739,  17.72368194,\n",
       "        17.89088649,  18.05809103,  18.22529558,  18.39250013,\n",
       "        18.55970467,  18.72690922,  18.89411377,  19.06131831,\n",
       "        19.22852286,  19.39572741,  19.56293195,  19.7301365 ,\n",
       "        19.89734105,  20.06454559,  20.23175014,  20.39895469,\n",
       "        20.56615923,  20.73336378,  20.90056833,  21.06777287,\n",
       "        21.23497742,  21.40218197,  21.56938651,  21.73659106,\n",
       "        21.90379561,  22.07100015,  22.2382047 ,  22.40540925,\n",
       "        22.57261379,  22.73981834,  22.90702289,  23.07422743,\n",
       "        23.24143198,  23.40863653,  23.57584107,  23.74304562,\n",
       "        23.91025017,  24.07745471,  24.24465926,  24.41186381,\n",
       "        24.57906835,  24.7462729 ,  24.91347745,  25.08068199,\n",
       "        25.24788654,  25.41509108,  25.58229563,  25.74950018,\n",
       "        25.91670472,  26.08390927,  26.25111382,  26.41831836,\n",
       "        26.58552291,  26.75272746,  26.919932  ,  27.08713655,\n",
       "        27.2543411 ,  27.42154564,  27.58875019,  27.75595474,\n",
       "        27.92315928,  28.09036383,  28.25756838,  28.42477292,\n",
       "        28.59197747,  28.75918202,  28.92638656,  29.09359111,\n",
       "        29.26079566,  29.4280002 ,  29.59520475,  29.7624093 ,\n",
       "        29.92961384,  30.09681839,  30.26402294,  30.43122748,\n",
       "        30.59843203,  30.76563658,  30.93284112,  31.10004567,\n",
       "        31.26725022,  31.43445476,  31.60165931,  31.76886386,\n",
       "        31.9360684 ,  32.10327295,  32.2704775 ,  32.43768204,\n",
       "        32.60488659,  32.77209114,  32.93929568,  33.10650023,\n",
       "        33.27370478,  33.44090932,  33.60811387,  33.77531842,\n",
       "        33.94252296,  34.10972751,  34.27693206,  34.4441366 ,\n",
       "        34.61134115,  34.7785457 ,  34.94575024,  35.11295479,\n",
       "        35.28015934,  35.44736388,  35.61456843,  35.78177297,\n",
       "        35.94897752,  36.11618207,  36.28338661,  36.45059116,\n",
       "        36.61779571,  36.78500025,  36.9522048 ,  37.11940935,\n",
       "        37.28661389,  37.45381844,  37.62102299,  37.78822753,\n",
       "        37.95543208,  38.12263663,  38.28984117,  38.45704572,\n",
       "        38.62425027,  38.79145481,  38.95865936,  39.12586391,\n",
       "        39.29306845,  39.460273  ,  39.62747755,  39.79468209,\n",
       "        39.96188664,  40.12909119,  40.29629573,  40.46350028,\n",
       "        40.63070483,  40.79790937,  40.96511392,  41.13231847,\n",
       "        41.29952301,  41.46672756,  41.63393211,  41.80113665,\n",
       "        41.9683412 ,  42.13554575,  42.30275029,  42.46995484,\n",
       "        42.63715939,  42.80436393,  42.97156848,  43.13877303,\n",
       "        43.30597757,  43.47318212,  43.64038667,  43.80759121,\n",
       "        43.97479576,  44.14200031,  44.30920485,  44.4764094 ,\n",
       "        44.64361395,  44.81081849,  44.97802304,  45.14522759,\n",
       "        45.31243213,  45.47963668,  45.64684123,  45.81404577,\n",
       "        45.98125032,  46.14845486,  46.31565941,  46.48286396,\n",
       "        46.6500685 ,  46.81727305,  46.9844776 ,  47.15168214,\n",
       "        47.31888669,  47.48609124,  47.65329578,  47.82050033,\n",
       "        47.98770488,  48.15490942,  48.32211397,  48.48931852,\n",
       "        48.65652306,  48.82372761,  48.99093216,  49.1581367 ,\n",
       "        49.32534125,  49.4925458 ,  49.65975034,  49.82695489,\n",
       "        49.99415944,  50.16136398,  50.32856853,  50.49577308,\n",
       "        50.66297762,  50.83018217,  50.99738672,  51.16459126,\n",
       "        51.33179581,  51.49900036,  51.6662049 ,  51.83340945,\n",
       "        52.000614  ,  52.16781854,  52.33502309,  52.50222764,\n",
       "        52.66943218,  52.83663673,  53.00384128,  53.17104582,\n",
       "        53.33825037,  53.50545492,  53.67265946,  53.83986401,\n",
       "        54.00706856,  54.1742731 ,  54.34147765,  54.5086822 ,\n",
       "        54.67588674,  54.84309129,  55.01029584,  55.17750038,\n",
       "        55.34470493,  55.51190948,  55.67911402,  55.84631857,\n",
       "        56.01352311,  56.18072766,  56.34793221,  56.51513675,\n",
       "        56.6823413 ,  56.84954585,  57.01675039,  57.18395494,\n",
       "        57.35115949,  57.51836403,  57.68556858,  57.85277313,\n",
       "        58.01997767,  58.18718222,  58.35438677,  58.52159131,\n",
       "        58.68879586,  58.85600041,  59.02320495,  59.1904095 ,\n",
       "        59.35761405,  59.52481859,  59.69202314,  59.85922769,\n",
       "        60.02643223,  60.19363678,  60.36084133,  60.52804587,\n",
       "        60.69525042,  60.86245497,  61.02965951,  61.19686406,\n",
       "        61.36406861,  61.53127315,  61.6984777 ,  61.86568225,\n",
       "        62.03288679,  62.20009134,  62.36729589,  62.53450043,\n",
       "        62.70170498,  62.86890953,  63.03611407,  63.20331862,\n",
       "        63.37052317,  63.53772771,  63.70493226,  63.87213681,\n",
       "        64.03934135,  64.2065459 ,  64.37375045,  64.54095499,\n",
       "        64.70815954,  64.87536409,  65.04256863,  65.20977318,\n",
       "        65.37697773,  65.54418227,  65.71138682,  65.87859137,\n",
       "        66.04579591,  66.21300046,  66.380205  ,  66.54740955,\n",
       "        66.7146141 ,  66.88181864,  67.04902319,  67.21622774,\n",
       "        67.38343228,  67.55063683,  67.71784138,  67.88504592,\n",
       "        68.05225047,  68.21945502,  68.38665956,  68.55386411,\n",
       "        68.72106866,  68.8882732 ,  69.05547775,  69.2226823 ,\n",
       "        69.38988684,  69.55709139,  69.72429594,  69.89150048,\n",
       "        70.05870503,  70.22590958,  70.39311412,  70.56031867,\n",
       "        70.72752322,  70.89472776,  71.06193231,  71.22913686,\n",
       "        71.3963414 ,  71.56354595,  71.7307505 ,  71.89795504,\n",
       "        72.06515959,  72.23236414,  72.39956868,  72.56677323,\n",
       "        72.73397778,  72.90118232,  73.06838687,  73.23559142,\n",
       "        73.40279596,  73.57000051,  73.73720506,  73.9044096 ,\n",
       "        74.07161415,  74.2388187 ,  74.40602324,  74.57322779,\n",
       "        74.74043234,  74.90763688,  75.07484143,  75.24204598,\n",
       "        75.40925052,  75.57645507,  75.74365962,  75.91086416,\n",
       "        76.07806871,  76.24527325,  76.4124778 ,  76.57968235,\n",
       "        76.74688689,  76.91409144,  77.08129599,  77.24850053,\n",
       "        77.41570508,  77.58290963,  77.75011417,  77.91731872,\n",
       "        78.08452327,  78.25172781,  78.41893236,  78.58613691,\n",
       "        78.75334145,  78.920546  ,  79.08775055,  79.25495509,\n",
       "        79.42215964,  79.58936419,  79.75656873,  79.92377328,\n",
       "        80.09097783,  80.25818237,  80.42538692,  80.59259147,\n",
       "        80.75979601,  80.92700056,  81.09420511,  81.26140965,\n",
       "        81.4286142 ,  81.59581875,  81.76302329,  81.93022784,\n",
       "        82.09743239,  82.26463693,  82.43184148,  82.59904603,\n",
       "        82.76625057,  82.93345512,  83.10065967,  83.26786421,\n",
       "        83.43506876,  83.60227331,  83.76947785,  83.9366824 ,\n",
       "        84.10388695,  84.27109149,  84.43829604,  84.60550059,\n",
       "        84.77270513,  84.93990968,  85.10711423,  85.27431877,\n",
       "        85.44152332,  85.60872787,  85.77593241,  85.94313696,\n",
       "        86.11034151,  86.27754605,  86.4447506 ,  86.61195514,\n",
       "        86.77915969,  86.94636424,  87.11356878,  87.28077333,\n",
       "        87.44797788,  87.61518242,  87.78238697,  87.94959152,\n",
       "        88.11679606,  88.28400061,  88.45120516,  88.6184097 ,\n",
       "        88.78561425,  88.9528188 ,  89.12002334,  89.28722789,\n",
       "        89.45443244,  89.62163698,  89.78884153,  89.95604608,\n",
       "        90.12325062,  90.29045517,  90.45765972,  90.62486426,\n",
       "        90.79206881,  90.95927336,  91.1264779 ,  91.29368245,\n",
       "        91.460887  ,  91.62809154,  91.79529609,  91.96250064,\n",
       "        92.12970518,  92.29690973,  92.46411428,  92.63131882,\n",
       "        92.79852337,  92.96572792,  93.13293246,  93.30013701,\n",
       "        93.46734156,  93.6345461 ,  93.80175065,  93.9689552 ,\n",
       "        94.13615974,  94.30336429,  94.47056884,  94.63777338,\n",
       "        94.80497793,  94.97218248,  95.13938702,  95.30659157,\n",
       "        95.47379612,  95.64100066,  95.80820521,  95.97540976,\n",
       "        96.1426143 ,  96.30981885,  96.4770234 ,  96.64422794,\n",
       "        96.81143249,  96.97863703,  97.14584158,  97.31304613,\n",
       "        97.48025067,  97.64745522,  97.81465977,  97.98186431,\n",
       "        98.14906886,  98.31627341,  98.48347795,  98.6506825 ,\n",
       "        98.81788705,  98.98509159,  99.15229614,  99.31950069,\n",
       "        99.48670523,  99.65390978,  99.82111433,  99.98831887,\n",
       "       100.15552342, 100.32272797, 100.48993251, 100.65713706,\n",
       "       100.82434161, 100.99154615, 101.1587507 , 101.32595525,\n",
       "       101.49315979, 101.66036434, 101.82756889, 101.99477343,\n",
       "       102.16197798, 102.32918253, 102.49638707, 102.66359162,\n",
       "       102.83079617, 102.99800071, 103.16520526, 103.33240981,\n",
       "       103.49961435, 103.6668189 , 103.83402345, 104.00122799,\n",
       "       104.16843254, 104.33563709, 104.50284163, 104.67004618,\n",
       "       104.83725073, 105.00445527, 105.17165982, 105.33886437,\n",
       "       105.50606891, 105.67327346, 105.84047801, 106.00768255,\n",
       "       106.1748871 , 106.34209165, 106.50929619, 106.67650074,\n",
       "       106.84370528, 107.01090983, 107.17811438, 107.34531892,\n",
       "       107.51252347, 107.67972802, 107.84693256, 108.01413711,\n",
       "       108.18134166, 108.3485462 , 108.51575075, 108.6829553 ,\n",
       "       108.85015984, 109.01736439, 109.18456894, 109.35177348,\n",
       "       109.51897803, 109.68618258, 109.85338712, 110.02059167,\n",
       "       110.18779622, 110.35500076, 110.52220531, 110.68940986,\n",
       "       110.8566144 , 111.02381895, 111.1910235 , 111.35822804,\n",
       "       111.52543259, 111.69263714, 111.85984168, 112.02704623,\n",
       "       112.19425078, 112.36145532, 112.52865987, 112.69586442,\n",
       "       112.86306896, 113.03027351, 113.19747806, 113.3646826 ,\n",
       "       113.53188715, 113.6990917 , 113.86629624, 114.03350079,\n",
       "       114.20070534, 114.36790988, 114.53511443, 114.70231898,\n",
       "       114.86952352, 115.03672807, 115.20393262, 115.37113716,\n",
       "       115.53834171, 115.70554626, 115.8727508 , 116.03995535,\n",
       "       116.2071599 , 116.37436444, 116.54156899, 116.70877354,\n",
       "       116.87597808, 117.04318263, 117.21038717, 117.37759172,\n",
       "       117.54479627, 117.71200081, 117.87920536, 118.04640991,\n",
       "       118.21361445, 118.380819  , 118.54802355, 118.71522809,\n",
       "       118.88243264, 119.04963719, 119.21684173, 119.38404628,\n",
       "       119.55125083, 119.71845537, 119.88565992, 120.05286447,\n",
       "       120.22006901, 120.38727356, 120.55447811, 120.72168265,\n",
       "       120.8888872 , 121.05609175, 121.22329629, 121.39050084,\n",
       "       121.55770539, 121.72490993, 121.89211448, 122.05931903,\n",
       "       122.22652357, 122.39372812, 122.56093267, 122.72813721,\n",
       "       122.89534176, 123.06254631, 123.22975085, 123.3969554 ,\n",
       "       123.56415995, 123.73136449, 123.89856904, 124.06577359,\n",
       "       124.23297813, 124.40018268, 124.56738723, 124.73459177,\n",
       "       124.90179632, 125.06900087, 125.23620541, 125.40340996,\n",
       "       125.57061451, 125.73781905, 125.9050236 , 126.07222815,\n",
       "       126.23943269, 126.40663724, 126.57384179, 126.74104633,\n",
       "       126.90825088, 127.07545542, 127.24265997, 127.40986452,\n",
       "       127.57706906, 127.74427361, 127.91147816, 128.0786827 ,\n",
       "       128.24588725, 128.4130918 , 128.58029634, 128.74750089,\n",
       "       128.91470544, 129.08190998, 129.24911453, 129.41631908,\n",
       "       129.58352362, 129.75072817, 129.91793272, 130.08513726,\n",
       "       130.25234181, 130.41954636, 130.5867509 , 130.75395545,\n",
       "       130.92116   , 131.08836454, 131.25556909, 131.42277364,\n",
       "       131.58997818, 131.75718273, 131.92438728, 132.09159182,\n",
       "       132.25879637, 132.42600092, 132.59320546, 132.76041001,\n",
       "       132.92761456, 133.0948191 , 133.26202365, 133.4292282 ,\n",
       "       133.59643274])"
      ]
     },
     "execution_count": 128,
     "metadata": {},
     "output_type": "execute_result"
    }
   ],
   "source": [
    "omega = np.zeros(len(nB))\n",
    "for i in range(len(nB)):\n",
    "    omega[i] = rmf.g_omega/omega_num.mass**2*nB_mev[i]\n",
    "omega\n",
    "# results match up extremely well with data from Suprovo for this field... \n",
    "# up until lambda baryon appears so we'll have to see when we learn how to solve baryonic... "
   ]
  },
  {
   "cell_type": "markdown",
   "id": "50b1207f",
   "metadata": {},
   "source": [
    "We want to solve:\n",
    "$$\n",
    "    m_\\sigma^2 \\sigma + \\frac{dU}{d\\sigma} = \\sum_i g_{\\sigma i}n^s_i\\\\\n",
    "    m_\\omega^2 \\omega_0 = \\sum_i g_{\\omega i} n_i\\\\\n",
    "    \\mu_n = \\mu_p + \\mu_e\\\\\n",
    "    k_p = k_e \\quad \\leftrightarrow \\quad n_p = n_e\\\\\n",
    "    n_B = n_n + n_p\n",
    "$$\n",
    "Unknowns: $\\omega, \\sigma, k_p, k_e, k_n$"
   ]
  },
  {
   "cell_type": "code",
   "execution_count": 22,
   "id": "d55b1526",
   "metadata": {},
   "outputs": [],
   "source": [
    "ns_n = neutron_sym.mass_eff/Pi**2*(neutron_sym.kf*neutron_sym.ef - neutron_sym.mass_eff**2*sym.log((neutron_sym.kf + neutron_sym.ef)/neutron_sym.mass_eff))"
   ]
  },
  {
   "cell_type": "code",
   "execution_count": 31,
   "id": "5db0d2ed",
   "metadata": {},
   "outputs": [
    {
     "data": {
      "text/latex": [
       "$\\displaystyle \\frac{\\left(- g_{\\sigma} \\sigma + m\\right) \\left(k_{F n} \\sqrt{k_{F n}^{2} + \\left(- g_{\\sigma} \\sigma + m\\right)^{2}} - \\left(- g_{\\sigma} \\sigma + m\\right)^{2} \\log{\\left(\\frac{k_{F n} + \\sqrt{k_{F n}^{2} + \\left(- g_{\\sigma} \\sigma + m\\right)^{2}}}{- g_{\\sigma} \\sigma + m} \\right)}\\right)}{\\pi^{2}}$"
      ],
      "text/plain": [
       "(-g_sigma*sigma + m)*(k_F_n*sqrt(k_F_n**2 + (-g_sigma*sigma + m)**2) - (-g_sigma*sigma + m)**2*log((k_F_n + sqrt(k_F_n**2 + (-g_sigma*sigma + m)**2))/(-g_sigma*sigma + m)))/pi**2"
      ]
     },
     "execution_count": 31,
     "metadata": {},
     "output_type": "execute_result"
    }
   ],
   "source": [
    "ns_new = ns_n.subs(neutron_sym.ef, sym.sqrt(neutron_sym.kf**2 + neutron_sym.mass_eff**2 ))\n",
    "ns_new = ns_new.subs(neutron_sym.mass_eff, neutron_sym.mass - rmf_sym.g_sigma*sigma_sym.field)\n",
    "ns_new"
   ]
  },
  {
   "cell_type": "code",
   "execution_count": null,
   "id": "2892c052",
   "metadata": {},
   "outputs": [],
   "source": []
  }
 ],
 "metadata": {
  "kernelspec": {
   "display_name": "Python 3",
   "language": "python",
   "name": "python3"
  },
  "language_info": {
   "codemirror_mode": {
    "name": "ipython",
    "version": 3
   },
   "file_extension": ".py",
   "mimetype": "text/x-python",
   "name": "python",
   "nbconvert_exporter": "python",
   "pygments_lexer": "ipython3",
   "version": "3.8.8"
  }
 },
 "nbformat": 4,
 "nbformat_minor": 5
}
