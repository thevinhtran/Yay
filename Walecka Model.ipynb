{
 "cells": [
  {
   "cell_type": "code",
   "execution_count": 390,
   "id": "c9130d1e",
   "metadata": {},
   "outputs": [],
   "source": [
    "import numpy as np\n",
    "import sympy as sym\n",
    "import matplotlib.pyplot as plt\n",
    "from broyden import *\n",
    "import time\n",
    "\n",
    "Pi = sym.symbols('pi')\n",
    "pi = np.pi\n",
    "n0 = 0.153\n",
    "hc = 197.326980 # MeV fm"
   ]
  },
  {
   "cell_type": "code",
   "execution_count": 391,
   "id": "6fb40c25",
   "metadata": {},
   "outputs": [],
   "source": [
    "class eos:\n",
    "    def __init__(self, g_sigma, g_omega, g_rho = 0.0, b = 0.0, c = 0.0):\n",
    "        \n",
    "        self.g_sigma = g_sigma\n",
    "        self.g_omega = g_omega\n",
    "        self.g_rho = g_rho\n",
    "        self.b = b\n",
    "        self.c = c\n",
    "\n",
    "class baryon:\n",
    "    def __init__(self, mass, spin, isospin, charge, kind, var_type, mass_eff = 0.0, num_density = 0.0,\\\n",
    "                 frac = 0.0, kf = 0.0, ef = 0.0, chem_pot = 0.0):\n",
    "    \n",
    "        # variables to be established at baryon declaration\n",
    "        self.mass = mass\n",
    "        self.spin = spin \n",
    "        self.isospin = isospin\n",
    "        self.charge = charge\n",
    "        self.kind = kind\n",
    "        self.var_type = var_type\n",
    "    \n",
    "        # variables to be stored later\n",
    "        self.mass_eff = mass_eff\n",
    "        self.num_density = num_density\n",
    "        self.frac = frac\n",
    "        self.kf = kf\n",
    "        self.ef = ef\n",
    "        self.chem_pot = chem_pot\n",
    "        \n",
    "        # other things\n",
    "        self.g_sigma = 0.0\n",
    "        self.g_omega = 0.0 \n",
    "        self.g_rho = 0.0 \n",
    "        self.g_phi = 0.0 \n",
    "\n",
    "class lepton:\n",
    "    def __init__(self, mass, charge, num_density = 0.0, frac = 0.0, var_type = 0.0, kf = 0.0, chem_pot = 0.0):\n",
    "        self.mass = mass\n",
    "        self.charge = charge\n",
    "        self.num_density = num_density\n",
    "        self.frac = frac\n",
    "        self.var_type = var_type\n",
    "        self.kf = kf\n",
    "        self.chem_pot = chem_pot\n",
    "\n",
    "class meson:\n",
    "    def __init__(self, mass, field = 0.0):\n",
    "        self.mass = mass # in MeV\n",
    "        self.field = field\n",
    "        \n",
    "class independent_var:\n",
    "    def __init__(self, var, func, tilde_chem_pot = 0.0, tilde_chem_pot_val = 0.0, num_val = 0.0, total_deriv = 0.0):\n",
    "        self.var = var # var is the symbol for the variable\n",
    "        self.func = func \n",
    "        \n",
    "        self.tilde_chem_pot = tilde_chem_pot\n",
    "        self.tilde_chem_pot_val = tilde_chem_pot_val\n",
    "        \n",
    "        self.num_val = num_val\n",
    "        \n",
    "        # total derivative of fraction wrt to nB\n",
    "        self.total_deriv = total_deriv"
   ]
  },
  {
   "cell_type": "code",
   "execution_count": 392,
   "id": "074096d0",
   "metadata": {},
   "outputs": [],
   "source": [
    "# glen denning constants\n",
    "rmf = eos(g_sigma = 8.79509376389, g_omega = 9.1815177, g_rho = 9.7793745, b = 0.00414, c = 0.00716)\n",
    "rmf_num = eos(g_sigma = 8.79509376389, g_omega = 9.1815177, g_rho = 9.7793745, b = 0.00414, c = 0.00716)\n",
    "\n",
    "g_sigma, g_omega, g_rho, b, c = sym.symbols('g_sigma, g_omega, g_rho, b, c')\n",
    "\n",
    "# initializing symbolic eos object\n",
    "rmf_sym = eos(g_sigma, g_omega, g_rho, b, c)"
   ]
  },
  {
   "cell_type": "code",
   "execution_count": 393,
   "id": "b9e932c4",
   "metadata": {},
   "outputs": [],
   "source": [
    "# electron\n",
    "electron_sym = lepton(sym.symbols('m_e'), -1, sym.symbols('n_e'), sym.symbols('x_e'), 'Independent',\\\n",
    "                      sym.symbols('k_F_e'), sym.symbols('\\mu_e'))\n",
    "electron_num = lepton(0.510, -1)\n",
    "\n",
    "# proton \n",
    "proton_sym = baryon(sym.symbols('m_p'), 1/2, 1/2, 1, 'Nucleon', 'Dependent', sym.symbols('m_p^*'),\\\n",
    "                    sym.symbols('n_p'), sym.symbols('x_p'), sym.symbols('k_F_p'),\\\n",
    "                    sym.symbols('E^*_F_p'), sym.symbols('mu_p'))\n",
    "proton_num = baryon(939.0, 1/2, 1/2, 1, 'Nucleon', 'Dependent')\n",
    "\n",
    "# neutron \n",
    "neutron_sym = baryon(sym.symbols('m_n'), 1/2, -1/2, 0, 'Nucleon', 'Dependent', sym.symbols('m_n^*'),\\\n",
    "                    sym.symbols('n_n'), sym.symbols('x_n'), sym.symbols('k_F_n'),\\\n",
    "                    sym.symbols('E^*_F_n'), sym.symbols('mu_n'))\n",
    "neutron_num = baryon(939.0, 1/2, -1/2, 0, 'Nucleon', 'Dependent')"
   ]
  },
  {
   "cell_type": "code",
   "execution_count": 394,
   "id": "dd86968f",
   "metadata": {},
   "outputs": [],
   "source": [
    "proton_sym.g_sigma = rmf_sym.g_sigma\n",
    "proton_num.g_sigma = rmf.g_sigma\n",
    "\n",
    "proton_sym.g_omega = rmf_sym.g_omega\n",
    "proton_num.g_omega = rmf.g_omega\n",
    "\n",
    "proton_sym.g_rho = rmf_sym.g_rho\n",
    "proton_num.g_rho = rmf.g_rho\n",
    "\n",
    "\n",
    "\n",
    "\n",
    "neutron_sym.g_sigma = rmf_sym.g_sigma\n",
    "neutron_num.g_sigma = rmf.g_sigma\n",
    "\n",
    "neutron_sym.g_omega = rmf_sym.g_omega\n",
    "neutron_num.g_omega = rmf.g_omega\n",
    "\n",
    "neutron_sym.g_rho = rmf_sym.g_rho\n",
    "neutron_num.g_rho = rmf.g_rho"
   ]
  },
  {
   "cell_type": "code",
   "execution_count": 395,
   "id": "d420c9cc",
   "metadata": {},
   "outputs": [],
   "source": [
    "# declaring the symbolic meson objects\n",
    "sigma_sym = meson(sym.symbols('m_sigma'), sym.symbols('sigma'))\n",
    "omega_sym = meson(sym.symbols('m_omega'), sym.symbols('omega'))\n",
    "rho_sym = meson(sym.symbols('m_rho'), sym.symbols('rho'))\n",
    "\n",
    "# declaring the numeric meson objects\n",
    "sigma_num = meson(550.0)\n",
    "omega_num = meson(783.0)\n",
    "rho_num = meson(770.0)"
   ]
  },
  {
   "cell_type": "code",
   "execution_count": 396,
   "id": "4823b9db",
   "metadata": {},
   "outputs": [],
   "source": [
    "# initializing independent variables\n",
    "nb = independent_var(sym.symbols('n_B'), sym.Function('n_B'))\n",
    "xe = independent_var(sym.symbols('x_e'), sym.Function('x_e'), sym.symbols('mu tilde_x_e'))"
   ]
  },
  {
   "cell_type": "code",
   "execution_count": 397,
   "id": "a590f16b",
   "metadata": {},
   "outputs": [],
   "source": [
    "baryon_list = [proton_sym, neutron_sym]\n",
    "baryon_num_list = [proton_num, neutron_num]\n",
    "meson_list = [sigma_sym, omega_sym, rho_sym]\n",
    "meson_num_list = [sigma_num, omega_num, rho_num]\n",
    "lepton_list = [electron_sym]\n",
    "lepton_num_list = [electron_num]"
   ]
  },
  {
   "cell_type": "markdown",
   "id": "80368818",
   "metadata": {},
   "source": [
    "Practice with solving $\\sigma-\\omega$ Model\n",
    "$$\n",
    "    m_\\sigma^2 \\sigma + m_N b g_\\sigma^3 \\sigma^2 + c g_\\sigma^4 \\sigma^3 = g_\\sigma n^s \\qquad n^s = \\frac{m^*}{\\pi^2}\\left[k_F E_F - {m^*}^2\\ln\\frac{k_F + E_F}{m^*}\\right]\\\\\n",
    "    m_\\omega^2 \\omega = g_\\omega n_B\n",
    "$$\n",
    "with constraints\n",
    "$$\n",
    "    n_n + n_p = n_B\\\\\n",
    "    n_p = n_e\n",
    "$$"
   ]
  },
  {
   "cell_type": "code",
   "execution_count": 398,
   "id": "b88866ca",
   "metadata": {},
   "outputs": [
    {
     "data": {
      "text/latex": [
       "$\\displaystyle b g_{\\sigma}^{3} m_{n} \\sigma^{2} + c g_{\\sigma}^{4} \\sigma^{3} - g_{\\sigma} \\left(n^{s}_{n} + n^{s}_{p}\\right) + m_{\\sigma}^{2} \\sigma$"
      ],
      "text/plain": [
       "b*g_sigma**3*m_n*sigma**2 + c*g_sigma**4*sigma**3 - g_sigma*(n_n^s + n_p^s) + m_sigma**2*sigma"
      ]
     },
     "execution_count": 398,
     "metadata": {},
     "output_type": "execute_result"
    }
   ],
   "source": [
    "eqn1 = sigma_sym.mass**2*sigma_sym.field + neutron_sym.mass*rmf_sym.b*rmf_sym.g_sigma**3*sigma_sym.field**2 + rmf_sym.c*rmf_sym.g_sigma**4*sigma_sym.field**3 - rmf_sym.g_sigma*(sym.symbols('n_n^s') + sym.symbols('n_p^s'))\n",
    "eqn1"
   ]
  },
  {
   "cell_type": "code",
   "execution_count": 399,
   "id": "36706b71",
   "metadata": {},
   "outputs": [],
   "source": [
    "ns_n = neutron_sym.mass_eff/Pi**2*(neutron_sym.kf*neutron_sym.ef - neutron_sym.mass_eff**2*sym.log((neutron_sym.kf + neutron_sym.ef)/neutron_sym.mass_eff))\n",
    "ns_p = proton_sym.mass_eff/Pi**2*(proton_sym.kf*proton_sym.ef - proton_sym.mass_eff**2*sym.log((proton_sym.kf + proton_sym.ef)/proton_sym.mass_eff))"
   ]
  },
  {
   "cell_type": "code",
   "execution_count": 400,
   "id": "ddd6b09f",
   "metadata": {},
   "outputs": [
    {
     "data": {
      "text/latex": [
       "$\\displaystyle b g_{\\sigma}^{3} m_{n} \\sigma^{2} + c g_{\\sigma}^{4} \\sigma^{3} - g_{\\sigma} \\left(\\frac{m^{*}_{n} \\left(E^{*}_{F n} k_{F n} - \\left(m^{*}_{n}\\right)^{2} \\log{\\left(\\frac{E^{*}_{F n} + k_{F n}}{m^{*}_{n}} \\right)}\\right)}{\\pi^{2}} + \\frac{m^{*}_{p} \\left(E^{*}_{F p} k_{F p} - \\left(m^{*}_{p}\\right)^{2} \\log{\\left(\\frac{E^{*}_{F p} + k_{F p}}{m^{*}_{p}} \\right)}\\right)}{\\pi^{2}}\\right) + m_{\\sigma}^{2} \\sigma$"
      ],
      "text/plain": [
       "b*g_sigma**3*m_n*sigma**2 + c*g_sigma**4*sigma**3 - g_sigma*(m_n^**(E^*_F_n*k_F_n - m_n^***2*log((E^*_F_n + k_F_n)/m_n^*))/pi**2 + m_p^**(E^*_F_p*k_F_p - m_p^***2*log((E^*_F_p + k_F_p)/m_p^*))/pi**2) + m_sigma**2*sigma"
      ]
     },
     "execution_count": 400,
     "metadata": {},
     "output_type": "execute_result"
    }
   ],
   "source": [
    "eqn1 = eqn1.subs([(sym.symbols('n_p^s'), ns_p), (sym.symbols('n_n^s'), ns_n)])\n",
    "eqn1"
   ]
  },
  {
   "cell_type": "code",
   "execution_count": 401,
   "id": "d4ad6dc0",
   "metadata": {},
   "outputs": [],
   "source": [
    "kf_n = (3*Pi**2*sym.symbols('n_n'))**(1/3)\n",
    "kf_p = (3*Pi**2*sym.symbols('n_p'))**(1/3)\n",
    "ef_n = sym.sqrt(kf_n**2 + (neutron_sym.mass - rmf_sym.g_sigma*sigma_sym.field)**2)\n",
    "ef_p = sym.sqrt(kf_p**2 + (proton_sym.mass - rmf_sym.g_sigma*sigma_sym.field)**2)"
   ]
  },
  {
   "cell_type": "code",
   "execution_count": 402,
   "id": "0caf96c9",
   "metadata": {},
   "outputs": [
    {
     "data": {
      "text/latex": [
       "$\\displaystyle b g_{\\sigma}^{3} m_{n} \\sigma^{2} + c g_{\\sigma}^{4} \\sigma^{3} - g_{\\sigma} \\left(\\frac{\\left(- g_{\\sigma} \\sigma + m_{n}\\right) \\left(2.0800838230519 \\left(n_{n} \\pi^{2}\\right)^{0.333333333333333} \\sqrt{\\left(n_{n} \\pi^{2}\\right)^{0.666666666666667} + 0.480749856769136 \\left(- g_{\\sigma} \\sigma + m_{n}\\right)^{2}} - \\left(- g_{\\sigma} \\sigma + m_{n}\\right)^{2} \\log{\\left(\\frac{1.44224957030741 \\left(n_{n} \\pi^{2}\\right)^{0.333333333333333} + 1.44224957030741 \\sqrt{\\left(n_{n} \\pi^{2}\\right)^{0.666666666666667} + 0.480749856769136 \\left(- g_{\\sigma} \\sigma + m_{n}\\right)^{2}}}{- g_{\\sigma} \\sigma + m_{n}} \\right)}\\right)}{\\pi^{2}} + \\frac{\\left(- g_{\\sigma} \\sigma + m_{p}\\right) \\left(2.0800838230519 \\left(n_{p} \\pi^{2}\\right)^{0.333333333333333} \\sqrt{\\left(n_{p} \\pi^{2}\\right)^{0.666666666666667} + 0.480749856769136 \\left(- g_{\\sigma} \\sigma + m_{p}\\right)^{2}} - \\left(- g_{\\sigma} \\sigma + m_{p}\\right)^{2} \\log{\\left(\\frac{1.44224957030741 \\left(n_{p} \\pi^{2}\\right)^{0.333333333333333} + 1.44224957030741 \\sqrt{\\left(n_{p} \\pi^{2}\\right)^{0.666666666666667} + 0.480749856769136 \\left(- g_{\\sigma} \\sigma + m_{p}\\right)^{2}}}{- g_{\\sigma} \\sigma + m_{p}} \\right)}\\right)}{\\pi^{2}}\\right) + m_{\\sigma}^{2} \\sigma$"
      ],
      "text/plain": [
       "b*g_sigma**3*m_n*sigma**2 + c*g_sigma**4*sigma**3 - g_sigma*((-g_sigma*sigma + m_n)*(2.0800838230519*(n_n*pi**2)**0.333333333333333*sqrt((n_n*pi**2)**0.666666666666667 + 0.480749856769136*(-g_sigma*sigma + m_n)**2) - (-g_sigma*sigma + m_n)**2*log((1.44224957030741*(n_n*pi**2)**0.333333333333333 + 1.44224957030741*sqrt((n_n*pi**2)**0.666666666666667 + 0.480749856769136*(-g_sigma*sigma + m_n)**2))/(-g_sigma*sigma + m_n)))/pi**2 + (-g_sigma*sigma + m_p)*(2.0800838230519*(n_p*pi**2)**0.333333333333333*sqrt((n_p*pi**2)**0.666666666666667 + 0.480749856769136*(-g_sigma*sigma + m_p)**2) - (-g_sigma*sigma + m_p)**2*log((1.44224957030741*(n_p*pi**2)**0.333333333333333 + 1.44224957030741*sqrt((n_p*pi**2)**0.666666666666667 + 0.480749856769136*(-g_sigma*sigma + m_p)**2))/(-g_sigma*sigma + m_p)))/pi**2) + m_sigma**2*sigma"
      ]
     },
     "execution_count": 402,
     "metadata": {},
     "output_type": "execute_result"
    }
   ],
   "source": [
    "eqn1 = eqn1.subs([(neutron_sym.kf, kf_n), (neutron_sym.ef, ef_n), (proton_sym.kf, kf_p), (proton_sym.ef, ef_p)])\n",
    "eqn1 = eqn1.subs(neutron_sym.mass_eff, neutron_sym.mass - rmf_sym.g_sigma*sigma_sym.field)\n",
    "eqn1 = eqn1.subs(proton_sym.mass_eff, proton_sym.mass - rmf_sym.g_sigma*sigma_sym.field)\n",
    "eqn1"
   ]
  },
  {
   "cell_type": "code",
   "execution_count": 403,
   "id": "edeb55d8",
   "metadata": {},
   "outputs": [
    {
     "data": {
      "text/latex": [
       "$\\displaystyle 2.81657786895125 m_{n} \\sigma^{2} + 42.8425110597058 \\sigma^{3} + 302500.0 \\sigma - 0.891129310402678 \\left(m_{n} - 8.79509376389 \\sigma\\right) \\left(27.2090977269542 \\left(n_{B} \\left(1 - x_{e}\\right)\\right)^{0.333333333333333} \\sqrt{0.123727542166605 \\left(n_{B} \\left(1 - x_{e}\\right)\\right)^{0.666666666666667} + \\left(0.113699754300028 m_{n} - \\sigma\\right)^{2}} - 77.3536743156168 \\left(0.113699754300028 m_{n} - \\sigma\\right)^{2} \\log{\\left(\\frac{3.09366772628014 \\left(n_{B} \\left(1 - x_{e}\\right)\\right)^{0.333333333333333} + 8.79509376389 \\sqrt{0.123727542166605 \\left(n_{B} \\left(1 - x_{e}\\right)\\right)^{0.666666666666667} + \\left(0.113699754300028 m_{n} - \\sigma\\right)^{2}}}{m_{n} - 8.79509376389 \\sigma} \\right)}\\right) - 0.891129310402678 \\left(m_{p} - 8.79509376389 \\sigma\\right) \\left(27.2090977269542 \\left(n_{B} x_{e}\\right)^{0.333333333333333} \\sqrt{0.123727542166605 \\left(n_{B} x_{e}\\right)^{0.666666666666667} + \\left(0.113699754300028 m_{p} - \\sigma\\right)^{2}} - 77.3536743156168 \\left(0.113699754300028 m_{p} - \\sigma\\right)^{2} \\log{\\left(\\frac{3.09366772628014 \\left(n_{B} x_{e}\\right)^{0.333333333333333} + 8.79509376389 \\sqrt{0.123727542166605 \\left(n_{B} x_{e}\\right)^{0.666666666666667} + \\left(0.113699754300028 m_{p} - \\sigma\\right)^{2}}}{m_{p} - 8.79509376389 \\sigma} \\right)}\\right)$"
      ],
      "text/plain": [
       "2.81657786895125*m_n*sigma**2 + 42.8425110597058*sigma**3 + 302500.0*sigma - 0.891129310402678*(m_n - 8.79509376389*sigma)*(27.2090977269542*(n_B*(1 - x_e))**0.333333333333333*sqrt(0.123727542166605*(n_B*(1 - x_e))**0.666666666666667 + (0.113699754300028*m_n - sigma)**2) - 77.3536743156168*(0.113699754300028*m_n - sigma)**2*log((3.09366772628014*(n_B*(1 - x_e))**0.333333333333333 + 8.79509376389*sqrt(0.123727542166605*(n_B*(1 - x_e))**0.666666666666667 + (0.113699754300028*m_n - sigma)**2))/(m_n - 8.79509376389*sigma))) - 0.891129310402678*(m_p - 8.79509376389*sigma)*(27.2090977269542*(n_B*x_e)**0.333333333333333*sqrt(0.123727542166605*(n_B*x_e)**0.666666666666667 + (0.113699754300028*m_p - sigma)**2) - 77.3536743156168*(0.113699754300028*m_p - sigma)**2*log((3.09366772628014*(n_B*x_e)**0.333333333333333 + 8.79509376389*sqrt(0.123727542166605*(n_B*x_e)**0.666666666666667 + (0.113699754300028*m_p - sigma)**2))/(m_p - 8.79509376389*sigma)))"
      ]
     },
     "execution_count": 403,
     "metadata": {},
     "output_type": "execute_result"
    }
   ],
   "source": [
    "eqn1 = eqn1.subs(sym.symbols('m'), neutron_num.mass)\n",
    "eqn1 = eqn1.subs([(sym.symbols('b'), rmf.b), (sym.symbols('c'), rmf.c), (rmf_sym.g_sigma, rmf.g_sigma)])\n",
    "eqn1 = eqn1.subs(sigma_sym.mass, sigma_num.mass)\n",
    "eqn1 = eqn1.subs(Pi, np.pi)\n",
    "eqn1 = eqn1.subs([(neutron_sym.num_density, nb.var*(1-electron_sym.frac)),(proton_sym.num_density, nb.var*electron_sym.frac)])\n",
    "eqn1"
   ]
  },
  {
   "cell_type": "markdown",
   "id": "5882bbfe",
   "metadata": {},
   "source": [
    "At this stage, the equation of motion for the sigma field has three unknowns: nB, xe, and sigma. We have a second equation that we can use: beta-equilibrium. Then, we can solve for everything in terms of nB values."
   ]
  },
  {
   "cell_type": "code",
   "execution_count": 404,
   "id": "bcd5f7e3",
   "metadata": {},
   "outputs": [],
   "source": [
    "nB = np.arange(0.27, 8.00, 0.01)\n",
    "nB_mev = nB*n0*hc**3"
   ]
  },
  {
   "cell_type": "code",
   "execution_count": 405,
   "id": "f1e69210",
   "metadata": {
    "scrolled": true
   },
   "outputs": [],
   "source": [
    "# Beta Equilibrium"
   ]
  },
  {
   "cell_type": "markdown",
   "id": "296b0bb3",
   "metadata": {},
   "source": [
    "Solving for Particle Fractions\n",
    "1. We have a few things to consider:\n",
    "- Baryon number conservation\n",
    "- Charge neutrality\n",
    "- Beta equilibrium \n",
    "2. When considering just $npe$ matter. We have four unknowns: $n_B, n_p, n_n, n_e$. But we have three equations so we can write everything as a function of $n_B$. \n",
    "$$\n",
    "    n_B = n_p + n_n\\\\\n",
    "    n_p = n_e\\\\\n",
    "    \\mu_n = \\mu_p + \\mu_e\n",
    "$$\n",
    "3. For these equations, it might be more simple to re-write most things in terms of the first two first... "
   ]
  },
  {
   "cell_type": "code",
   "execution_count": 406,
   "id": "a11371a7",
   "metadata": {},
   "outputs": [],
   "source": [
    "eqn2 = neutron_sym.chem_pot - proton_sym.chem_pot - electron_sym.chem_pot"
   ]
  },
  {
   "cell_type": "code",
   "execution_count": 407,
   "id": "296eb148",
   "metadata": {},
   "outputs": [
    {
     "data": {
      "text/latex": [
       "$\\displaystyle \\mu_{n} - \\mu_{p} - \\sqrt{k_{F e}^{2} + m_{e}^{2}}$"
      ],
      "text/plain": [
       "mu_n - mu_p - sqrt(k_F_e**2 + m_e**2)"
      ]
     },
     "execution_count": 407,
     "metadata": {},
     "output_type": "execute_result"
    }
   ],
   "source": [
    "eqn2 = eqn2.subs(electron_sym.chem_pot, sym.sqrt(electron_sym.kf**2 + electron_sym.mass**2))\n",
    "eqn2"
   ]
  },
  {
   "cell_type": "code",
   "execution_count": 408,
   "id": "5da3311d",
   "metadata": {},
   "outputs": [
    {
     "data": {
      "text/latex": [
       "$\\displaystyle \\mu_{n} - \\sqrt{k_{F e}^{2} + m_{e}^{2}} - \\sqrt{k_{F p}^{2} + \\left(- g_{\\sigma} \\sigma + m_{p}\\right)^{2}}$"
      ],
      "text/plain": [
       "mu_n - sqrt(k_F_e**2 + m_e**2) - sqrt(k_F_p**2 + (-g_sigma*sigma + m_p)**2)"
      ]
     },
     "execution_count": 408,
     "metadata": {},
     "output_type": "execute_result"
    }
   ],
   "source": [
    "eqn2 = eqn2.subs(proton_sym.chem_pot, sym.sqrt(proton_sym.kf**2 + (proton_sym.mass - rmf_sym.g_sigma*sigma_sym.field)**2))\n",
    "eqn2"
   ]
  },
  {
   "cell_type": "code",
   "execution_count": 409,
   "id": "c4537ed1",
   "metadata": {},
   "outputs": [
    {
     "data": {
      "text/latex": [
       "$\\displaystyle - \\sqrt{k_{F e}^{2} + m_{e}^{2}} + \\sqrt{k_{F n}^{2} + \\left(- g_{\\sigma} \\sigma + m_{n}\\right)^{2}} - \\sqrt{k_{F p}^{2} + \\left(- g_{\\sigma} \\sigma + m_{p}\\right)^{2}}$"
      ],
      "text/plain": [
       "-sqrt(k_F_e**2 + m_e**2) + sqrt(k_F_n**2 + (-g_sigma*sigma + m_n)**2) - sqrt(k_F_p**2 + (-g_sigma*sigma + m_p)**2)"
      ]
     },
     "execution_count": 409,
     "metadata": {},
     "output_type": "execute_result"
    }
   ],
   "source": [
    "eqn2 = eqn2.subs(neutron_sym.chem_pot, sym.sqrt(neutron_sym.kf**2 + (neutron_sym.mass - rmf_sym.g_sigma*sigma_sym.field)**2))\n",
    "eqn2"
   ]
  },
  {
   "cell_type": "code",
   "execution_count": 410,
   "id": "8a808390",
   "metadata": {},
   "outputs": [
    {
     "data": {
      "text/latex": [
       "$\\displaystyle - 1.44224957030741 \\sqrt{0.480749856769136 m_{e}^{2} + \\left(n_{B} \\pi^{2} x_{e}\\right)^{0.666666666666667}} + 1.44224957030741 \\sqrt{\\left(n_{n} \\pi^{2}\\right)^{0.666666666666667} + 0.480749856769136 \\left(- g_{\\sigma} \\sigma + m_{n}\\right)^{2}} - 1.44224957030741 \\sqrt{\\left(n_{p} \\pi^{2}\\right)^{0.666666666666667} + 0.480749856769136 \\left(- g_{\\sigma} \\sigma + m_{p}\\right)^{2}}$"
      ],
      "text/plain": [
       "-1.44224957030741*sqrt(0.480749856769136*m_e**2 + (n_B*pi**2*x_e)**0.666666666666667) + 1.44224957030741*sqrt((n_n*pi**2)**0.666666666666667 + 0.480749856769136*(-g_sigma*sigma + m_n)**2) - 1.44224957030741*sqrt((n_p*pi**2)**0.666666666666667 + 0.480749856769136*(-g_sigma*sigma + m_p)**2)"
      ]
     },
     "execution_count": 410,
     "metadata": {},
     "output_type": "execute_result"
    }
   ],
   "source": [
    "eqn2 = eqn2.subs([(neutron_sym.kf, kf_n), (proton_sym.kf, kf_p), (electron_sym.kf, (3*Pi**2*nb.var*electron_sym.frac)**((1)/3))])\n",
    "eqn2"
   ]
  },
  {
   "cell_type": "code",
   "execution_count": 411,
   "id": "7173fe53",
   "metadata": {},
   "outputs": [
    {
     "data": {
      "text/latex": [
       "$\\displaystyle - 8.79509376389 \\sqrt{0.123727542166605 \\left(n_{B} x_{e}\\right)^{0.666666666666667} + \\left(0.113699754300028 m_{p} - \\sigma\\right)^{2}} - 3.09366772628014 \\sqrt{\\left(n_{B} x_{e}\\right)^{0.666666666666667} + 0.027176468373837} + 8.79509376389 \\sqrt{0.123727542166605 \\left(n_{B} \\left(1 - x_{e}\\right)\\right)^{0.666666666666667} + \\left(0.113699754300028 m_{n} - \\sigma\\right)^{2}}$"
      ],
      "text/plain": [
       "-8.79509376389*sqrt(0.123727542166605*(n_B*x_e)**0.666666666666667 + (0.113699754300028*m_p - sigma)**2) - 3.09366772628014*sqrt((n_B*x_e)**0.666666666666667 + 0.027176468373837) + 8.79509376389*sqrt(0.123727542166605*(n_B*(1 - x_e))**0.666666666666667 + (0.113699754300028*m_n - sigma)**2)"
      ]
     },
     "execution_count": 411,
     "metadata": {},
     "output_type": "execute_result"
    }
   ],
   "source": [
    "eqn2 = eqn2.subs(sym.symbols('m'), neutron_num.mass)\n",
    "eqn2 = eqn2.subs(sym.symbols('m_e'), electron_num.mass)\n",
    "eqn2 = eqn2.subs(sigma_sym.mass, sigma_num.mass)\n",
    "eqn2 = eqn2.subs(Pi, np.pi)\n",
    "eqn2 = eqn2.subs(rmf_sym.g_sigma, rmf.g_sigma)\n",
    "eqn2 = eqn2.subs([(neutron_sym.num_density, nb.var*(1-electron_sym.frac)),(proton_sym.num_density, nb.var*electron_sym.frac)])\n",
    "eqn2"
   ]
  },
  {
   "cell_type": "markdown",
   "id": "f7b4fdea",
   "metadata": {},
   "source": [
    "### Equation 2 down, written in terms of our 3 variables... now we can just iterate through nB and then solve these two system of equations for the two unknowns!"
   ]
  },
  {
   "cell_type": "code",
   "execution_count": 412,
   "id": "9238a37a",
   "metadata": {},
   "outputs": [],
   "source": [
    "sigma_array = np.zeros(len(nB_mev))\n",
    "electron_frac = np.zeros(len(nB_mev))"
   ]
  },
  {
   "cell_type": "code",
   "execution_count": 413,
   "id": "66cde144",
   "metadata": {},
   "outputs": [],
   "source": [
    "sigma, elec_frac = sym.symbols('sigma x_e')\n",
    "ind_vars = np.array([sigma, elec_frac])\n",
    "sys_eqn = np.array([eqn1, eqn2])\n",
    "\n",
    "x_guess = np.array([8.0, 0.005])"
   ]
  },
  {
   "cell_type": "code",
   "execution_count": 414,
   "id": "dea16000",
   "metadata": {},
   "outputs": [
    {
     "ename": "TypeError",
     "evalue": "can't convert expression to float",
     "output_type": "error",
     "traceback": [
      "\u001b[0;31m---------------------------------------------------------------------------\u001b[0m",
      "\u001b[0;31mTypeError\u001b[0m                                 Traceback (most recent call last)",
      "\u001b[0;32m<ipython-input-414-60ddff373e95>\u001b[0m in \u001b[0;36m<module>\u001b[0;34m\u001b[0m\n\u001b[1;32m      8\u001b[0m     \u001b[0msys_eqn\u001b[0m \u001b[0;34m=\u001b[0m \u001b[0mnp\u001b[0m\u001b[0;34m.\u001b[0m\u001b[0marray\u001b[0m\u001b[0;34m(\u001b[0m\u001b[0;34m[\u001b[0m\u001b[0meqn_1\u001b[0m\u001b[0;34m,\u001b[0m \u001b[0meqn_2\u001b[0m\u001b[0;34m]\u001b[0m\u001b[0;34m)\u001b[0m\u001b[0;34m\u001b[0m\u001b[0;34m\u001b[0m\u001b[0m\n\u001b[1;32m      9\u001b[0m \u001b[0;34m\u001b[0m\u001b[0m\n\u001b[0;32m---> 10\u001b[0;31m     \u001b[0mA\u001b[0m \u001b[0;34m=\u001b[0m \u001b[0mbroyden\u001b[0m\u001b[0;34m(\u001b[0m\u001b[0msys_eqn\u001b[0m\u001b[0;34m,\u001b[0m \u001b[0mind_vars\u001b[0m\u001b[0;34m,\u001b[0m \u001b[0mnp\u001b[0m\u001b[0;34m.\u001b[0m\u001b[0marray\u001b[0m\u001b[0;34m(\u001b[0m\u001b[0;34m[\u001b[0m\u001b[0msig_guess\u001b[0m\u001b[0;34m,\u001b[0m \u001b[0me_frac_guess\u001b[0m\u001b[0;34m]\u001b[0m\u001b[0;34m)\u001b[0m\u001b[0;34m)\u001b[0m\u001b[0;34m\u001b[0m\u001b[0;34m\u001b[0m\u001b[0m\n\u001b[0m\u001b[1;32m     11\u001b[0m \u001b[0;34m\u001b[0m\u001b[0m\n\u001b[1;32m     12\u001b[0m     \u001b[0msigma_array\u001b[0m\u001b[0;34m[\u001b[0m\u001b[0mi\u001b[0m\u001b[0;34m]\u001b[0m \u001b[0;34m=\u001b[0m \u001b[0mA\u001b[0m\u001b[0;34m[\u001b[0m\u001b[0;36m0\u001b[0m\u001b[0;34m]\u001b[0m\u001b[0;34m\u001b[0m\u001b[0;34m\u001b[0m\u001b[0m\n",
      "\u001b[0;32m~/Desktop/Yay/broyden.py\u001b[0m in \u001b[0;36mbroyden\u001b[0;34m(sys_eqn, ind_vars, initial_guess, accept_error)\u001b[0m\n\u001b[1;32m    125\u001b[0m \u001b[0;34m\u001b[0m\u001b[0m\n\u001b[1;32m    126\u001b[0m     \u001b[0manswer\u001b[0m\u001b[0;34m.\u001b[0m\u001b[0mF_x_current\u001b[0m \u001b[0;34m=\u001b[0m \u001b[0mF_x_num\u001b[0m\u001b[0;34m(\u001b[0m\u001b[0msys_eqn\u001b[0m\u001b[0;34m,\u001b[0m \u001b[0mind_vars\u001b[0m\u001b[0;34m,\u001b[0m \u001b[0manswer\u001b[0m\u001b[0;34m.\u001b[0m\u001b[0msolution\u001b[0m\u001b[0;34m)\u001b[0m\u001b[0;34m\u001b[0m\u001b[0;34m\u001b[0m\u001b[0m\n\u001b[0;32m--> 127\u001b[0;31m     \u001b[0manswer\u001b[0m\u001b[0;34m.\u001b[0m\u001b[0mA_current_inv\u001b[0m \u001b[0;34m=\u001b[0m \u001b[0mnp\u001b[0m\u001b[0;34m.\u001b[0m\u001b[0mlinalg\u001b[0m\u001b[0;34m.\u001b[0m\u001b[0mpinv\u001b[0m\u001b[0;34m(\u001b[0m\u001b[0mJ_x_num\u001b[0m\u001b[0;34m(\u001b[0m\u001b[0msys_eqn\u001b[0m\u001b[0;34m,\u001b[0m \u001b[0mind_vars\u001b[0m\u001b[0;34m,\u001b[0m \u001b[0manswer\u001b[0m\u001b[0;34m.\u001b[0m\u001b[0msolution\u001b[0m\u001b[0;34m)\u001b[0m\u001b[0;34m)\u001b[0m\u001b[0;34m\u001b[0m\u001b[0;34m\u001b[0m\u001b[0m\n\u001b[0m\u001b[1;32m    128\u001b[0m \u001b[0;34m\u001b[0m\u001b[0m\n\u001b[1;32m    129\u001b[0m \u001b[0;34m\u001b[0m\u001b[0m\n",
      "\u001b[0;32m~/Desktop/Yay/broyden.py\u001b[0m in \u001b[0;36mF_x_num\u001b[0;34m(sys_eqn, ind_vars, vector)\u001b[0m\n\u001b[1;32m     34\u001b[0m             \u001b[0mnum_array\u001b[0m\u001b[0;34m[\u001b[0m\u001b[0mi\u001b[0m\u001b[0;34m]\u001b[0m \u001b[0;34m=\u001b[0m \u001b[0mnum_array\u001b[0m\u001b[0;34m[\u001b[0m\u001b[0mi\u001b[0m\u001b[0;34m]\u001b[0m\u001b[0;34m.\u001b[0m\u001b[0msubs\u001b[0m\u001b[0;34m(\u001b[0m\u001b[0mind_vars\u001b[0m\u001b[0;34m[\u001b[0m\u001b[0mj\u001b[0m\u001b[0;34m]\u001b[0m\u001b[0;34m,\u001b[0m \u001b[0mvector\u001b[0m\u001b[0;34m[\u001b[0m\u001b[0mj\u001b[0m\u001b[0;34m]\u001b[0m\u001b[0;34m)\u001b[0m\u001b[0;34m\u001b[0m\u001b[0;34m\u001b[0m\u001b[0m\n\u001b[1;32m     35\u001b[0m         \u001b[0mnum_array_final\u001b[0m\u001b[0;34m[\u001b[0m\u001b[0mi\u001b[0m\u001b[0;34m]\u001b[0m \u001b[0;34m=\u001b[0m \u001b[0msym\u001b[0m\u001b[0;34m.\u001b[0m\u001b[0mN\u001b[0m\u001b[0;34m(\u001b[0m\u001b[0mnum_array\u001b[0m\u001b[0;34m[\u001b[0m\u001b[0mi\u001b[0m\u001b[0;34m]\u001b[0m\u001b[0;34m)\u001b[0m\u001b[0;34m\u001b[0m\u001b[0;34m\u001b[0m\u001b[0m\n\u001b[0;32m---> 36\u001b[0;31m     \u001b[0;32mreturn\u001b[0m \u001b[0mnum_array_final\u001b[0m\u001b[0;34m\u001b[0m\u001b[0;34m\u001b[0m\u001b[0m\n\u001b[0m\u001b[1;32m     37\u001b[0m \u001b[0;34m\u001b[0m\u001b[0m\n\u001b[1;32m     38\u001b[0m \u001b[0;34m\u001b[0m\u001b[0m\n",
      "\u001b[0;32m~/opt/anaconda3/lib/python3.8/site-packages/sympy/core/expr.py\u001b[0m in \u001b[0;36m__float__\u001b[0;34m(self)\u001b[0m\n\u001b[1;32m    356\u001b[0m         \u001b[0;32mif\u001b[0m \u001b[0mresult\u001b[0m\u001b[0;34m.\u001b[0m\u001b[0mis_number\u001b[0m \u001b[0;32mand\u001b[0m \u001b[0mresult\u001b[0m\u001b[0;34m.\u001b[0m\u001b[0mas_real_imag\u001b[0m\u001b[0;34m(\u001b[0m\u001b[0;34m)\u001b[0m\u001b[0;34m[\u001b[0m\u001b[0;36m1\u001b[0m\u001b[0;34m]\u001b[0m\u001b[0;34m:\u001b[0m\u001b[0;34m\u001b[0m\u001b[0;34m\u001b[0m\u001b[0m\n\u001b[1;32m    357\u001b[0m             \u001b[0;32mraise\u001b[0m \u001b[0mTypeError\u001b[0m\u001b[0;34m(\u001b[0m\u001b[0;34m\"can't convert complex to float\"\u001b[0m\u001b[0;34m)\u001b[0m\u001b[0;34m\u001b[0m\u001b[0;34m\u001b[0m\u001b[0m\n\u001b[0;32m--> 358\u001b[0;31m         \u001b[0;32mraise\u001b[0m \u001b[0mTypeError\u001b[0m\u001b[0;34m(\u001b[0m\u001b[0;34m\"can't convert expression to float\"\u001b[0m\u001b[0;34m)\u001b[0m\u001b[0;34m\u001b[0m\u001b[0;34m\u001b[0m\u001b[0m\n\u001b[0m\u001b[1;32m    359\u001b[0m \u001b[0;34m\u001b[0m\u001b[0m\n\u001b[1;32m    360\u001b[0m     \u001b[0;32mdef\u001b[0m \u001b[0m__complex__\u001b[0m\u001b[0;34m(\u001b[0m\u001b[0mself\u001b[0m\u001b[0;34m)\u001b[0m\u001b[0;34m:\u001b[0m\u001b[0;34m\u001b[0m\u001b[0;34m\u001b[0m\u001b[0m\n",
      "\u001b[0;31mTypeError\u001b[0m: can't convert expression to float"
     ]
    }
   ],
   "source": [
    "sig_guess = 15.0 \n",
    "e_frac_guess = 0.005\n",
    "\n",
    "for i in range(len(nB_mev)):\n",
    "    eqn_1 = eqn1.subs(nb.var, nB_mev[i])\n",
    "    eqn_2 = eqn2.subs(nb.var, nB_mev[i])\n",
    "    \n",
    "    sys_eqn = np.array([eqn_1, eqn_2])\n",
    "    \n",
    "    A = broyden(sys_eqn, ind_vars, np.array([sig_guess, e_frac_guess]))\n",
    "    \n",
    "    sigma_array[i] = A[0]\n",
    "    electron_frac[i] = A[1]\n",
    " \n",
    "    sig_guess = A[0]\n",
    "    e_frac_guess = A[1]"
   ]
  },
  {
   "cell_type": "code",
   "execution_count": 417,
   "id": "b5348adb",
   "metadata": {},
   "outputs": [],
   "source": [
    "def scalar_density(baryon):\n",
    "    # returns scalar density n_s\n",
    "    \n",
    "    coeff_1 = (2*baryon.spin + 1)/(2*Pi**2)\n",
    "    coeff_2 = baryon.g_sigma*baryon.mass_eff\n",
    "    term_2 = baryon.ef*baryon.kf \n",
    "    term_2_2 = sym.sqrt(((baryon.ef + baryon.kf)/baryon.mass_eff)**2)\n",
    "    term_3 = sym.log(term_2_2)\n",
    "    \n",
    "    return coeff_1*coeff_2*(term_2 - baryon.mass_eff**2*term_3)"
   ]
  },
  {
   "cell_type": "code",
   "execution_count": 415,
   "id": "8c0c8247",
   "metadata": {},
   "outputs": [],
   "source": [
    "def sigma_eom(baryon_list):\n",
    "    # returns symbolic sigma equation of motion\n",
    "    \n",
    "    m_sigma, sigma, b, c, m_n, g_sigma = sym.symbols('m_sigma sigma b c m_n g_sigma')    \n",
    "    term_1 = m_sigma**2*sigma + b*m_n*g_sigma**3*sigma**2 + c*g_sigma**4*sigma**3\n",
    "    \n",
    "    tot = 0\n",
    "    \n",
    "    for baryon in baryon_list:\n",
    "        tot += g_sigma*scalar_density(baryon)\n",
    "\n",
    "    return term_1 - tot"
   ]
  },
  {
   "cell_type": "code",
   "execution_count": 416,
   "id": "5c1bd393",
   "metadata": {},
   "outputs": [],
   "source": [
    "def sigma_eom_expanded(baryon_list):\n",
    "    result = sigma_eom(baryon_list) \n",
    "    for baryon in baryon_list:\n",
    "        result = result.subs(baryon.ef, sym.sqrt(baryon.kf**2 + baryon.mass_eff**2))\n",
    "        result = result.subs([(baryon.mass_eff, baryon.mass - baryon.g_sigma*sym.symbols('sigma'))])\n",
    "        result = result.subs(baryon.kf, (3*Pi**2*sym.symbols('n_B')*baryon.frac)**(1/3))\n",
    "    return result "
   ]
  },
  {
   "cell_type": "code",
   "execution_count": 418,
   "id": "d306c9b0",
   "metadata": {},
   "outputs": [],
   "source": [
    "def baryon_chem_pot_simplified(baryon):\n",
    "    # returns symbolic chemical potential for all mesons\n",
    "    # we can restrict the number of mesons in our system by setting the coupling constants equal to zero! \n",
    "    \n",
    "    sigma, omega, rho, phi = sym.symbols('sigma omega rho phi')\n",
    "    return sym.sqrt(baryon.kf**2 + baryon.mass_eff**2) + baryon.g_omega*omega + baryon.g_rho*baryon.isospin*rho + baryon.g_phi*phi"
   ]
  },
  {
   "cell_type": "code",
   "execution_count": 419,
   "id": "011a02b2",
   "metadata": {},
   "outputs": [],
   "source": [
    "def baryon_fermi(baryon):\n",
    "    nB = sym.symbols('n_B')\n",
    "    return (3*Pi**2*nB*baryon.frac)**(sym.S(1)/3)"
   ]
  },
  {
   "cell_type": "code",
   "execution_count": 420,
   "id": "df9f11e1",
   "metadata": {},
   "outputs": [],
   "source": [
    "def baryon_chem_pot_expanded(baryon):\n",
    "    tot = baryon_chem_pot_simplified(baryon)\n",
    "    return tot.subs([(baryon.mass_eff, baryon.mass - baryon.g_sigma*sigma), (baryon.kf, baryon_fermi(baryon))])"
   ]
  },
  {
   "cell_type": "code",
   "execution_count": 421,
   "id": "9dd15669",
   "metadata": {},
   "outputs": [],
   "source": [
    "def lepton_chem_pot_expanded(lepton):\n",
    "    return sym.sqrt(((3*Pi**2*sym.symbols('n_B')*lepton.frac)**(1/3))**2 + lepton.mass**2)"
   ]
  },
  {
   "cell_type": "code",
   "execution_count": 422,
   "id": "18d004e1",
   "metadata": {},
   "outputs": [],
   "source": [
    "def omega_eom(baryon_list):\n",
    "    result = 0 \n",
    "    for baryon in baryon_list:\n",
    "        result += baryon.g_omega*baryon.num_density\n",
    "    return sym.symbols('m_omega')**2*sym.symbols('omega') - result"
   ]
  },
  {
   "cell_type": "code",
   "execution_count": 423,
   "id": "f7fd933b",
   "metadata": {},
   "outputs": [],
   "source": [
    "def omega_eom_expanded(baryon_list):\n",
    "    result = omega_eom(baryon_list) \n",
    "    for baryon in baryon_list:\n",
    "        result = result.subs(baryon.num_density, sym.symbols('n_B')*baryon.frac)\n",
    "    return result"
   ]
  },
  {
   "cell_type": "code",
   "execution_count": 424,
   "id": "7556481d",
   "metadata": {},
   "outputs": [],
   "source": [
    "def rho_eom(baryon_list):\n",
    "    result = 0\n",
    "    for baryon in baryon_list:\n",
    "        result += baryon.g_rho * baryon.num_density * baryon.isospin \n",
    "    return sym.symbols('m_rho')**2 * sym.symbols('rho') - result "
   ]
  },
  {
   "cell_type": "code",
   "execution_count": 425,
   "id": "2b0dda12",
   "metadata": {},
   "outputs": [],
   "source": [
    "def rho_eom_expanded(baryon_list):\n",
    "    result = rho_eom(baryon_list) \n",
    "    for baryon in baryon_list:\n",
    "        result = result.subs(baryon.num_density, sym.symbols('n_B')*baryon.frac)\n",
    "    return result "
   ]
  },
  {
   "cell_type": "code",
   "execution_count": 426,
   "id": "ed1b2442",
   "metadata": {},
   "outputs": [],
   "source": [
    "def phi_eom(baryon_list):\n",
    "    result = 0 \n",
    "    for baryon in baryon_list:\n",
    "        result += baryon.g_phi*baryon.num_density\n",
    "    return sym.symbols('m_phi')**2*sym.symbols('phi') - result"
   ]
  },
  {
   "cell_type": "code",
   "execution_count": 427,
   "id": "75ec31bb",
   "metadata": {},
   "outputs": [],
   "source": [
    "def phi_eom_expanded(baryon_list):\n",
    "    result = phi_eom(baryon_list)\n",
    "    for baryon in baryon_list:\n",
    "        result = result.subs(baryon.num_density, sym.symbols('n_B')*baryon.frac)\n",
    "    return result "
   ]
  },
  {
   "cell_type": "code",
   "execution_count": 428,
   "id": "24048024",
   "metadata": {},
   "outputs": [],
   "source": [
    "def beta_equilibrium(baryon):\n",
    "    return baryon.chem_pot - neutron_sym.chem_pot + baryon.charge * electron_sym.chem_pot"
   ]
  },
  {
   "cell_type": "code",
   "execution_count": 429,
   "id": "9b9cbe8f",
   "metadata": {},
   "outputs": [
    {
     "data": {
      "text/latex": [
       "$\\displaystyle \\mu_{e} - \\mu_{n} + \\mu_{p}$"
      ],
      "text/plain": [
       "\\mu_e - mu_n + mu_p"
      ]
     },
     "execution_count": 429,
     "metadata": {},
     "output_type": "execute_result"
    }
   ],
   "source": [
    "beta_equilibrium(proton_sym)"
   ]
  },
  {
   "cell_type": "code",
   "execution_count": 430,
   "id": "cb5d1732",
   "metadata": {},
   "outputs": [],
   "source": [
    "def beta_equilibrium_expanded(baryon):\n",
    "    result = beta_equilibrium(baryon)\n",
    "    result = result.subs([(baryon.chem_pot, baryon_chem_pot_expanded(baryon)),\\\n",
    "                          (neutron_sym.chem_pot, baryon_chem_pot_expanded(neutron_sym)),\\\n",
    "                          (electron_sym.chem_pot, lepton_chem_pot_expanded(electron_sym) )])\n",
    "    return result "
   ]
  },
  {
   "cell_type": "code",
   "execution_count": 431,
   "id": "1c1bd937",
   "metadata": {},
   "outputs": [
    {
     "data": {
      "text/latex": [
       "$\\displaystyle 1.0 g_{\\rho} \\rho + 1.44224957030741 \\sqrt{0.480749856769136 m_{e}^{2} + \\left(n_{B} \\pi^{2} x_{e}\\right)^{0.666666666666667}} - \\sqrt{3^{\\frac{2}{3}} \\left(n_{B} \\pi^{2} x_{n}\\right)^{\\frac{2}{3}} + \\left(- g_{\\sigma} \\sigma + m_{n}\\right)^{2}} + \\sqrt{3^{\\frac{2}{3}} \\left(n_{B} \\pi^{2} x_{p}\\right)^{\\frac{2}{3}} + \\left(- g_{\\sigma} \\sigma + m_{p}\\right)^{2}}$"
      ],
      "text/plain": [
       "1.0*g_rho*rho + 1.44224957030741*sqrt(0.480749856769136*m_e**2 + (n_B*pi**2*x_e)**0.666666666666667) - sqrt(3**(2/3)*(n_B*pi**2*x_n)**(2/3) + (-g_sigma*sigma + m_n)**2) + sqrt(3**(2/3)*(n_B*pi**2*x_p)**(2/3) + (-g_sigma*sigma + m_p)**2)"
      ]
     },
     "execution_count": 431,
     "metadata": {},
     "output_type": "execute_result"
    }
   ],
   "source": [
    "beta_equilibrium_expanded(proton_sym)"
   ]
  },
  {
   "cell_type": "code",
   "execution_count": 432,
   "id": "a05906d1",
   "metadata": {},
   "outputs": [
    {
     "data": {
      "text/latex": [
       "$\\displaystyle 0.5 g_{\\rho} n_{n} - 0.5 g_{\\rho} n_{p} + m_{\\rho}^{2} \\rho$"
      ],
      "text/plain": [
       "0.5*g_rho*n_n - 0.5*g_rho*n_p + m_rho**2*rho"
      ]
     },
     "execution_count": 432,
     "metadata": {},
     "output_type": "execute_result"
    }
   ],
   "source": [
    "rho_eom(baryon_list)"
   ]
  },
  {
   "cell_type": "code",
   "execution_count": 433,
   "id": "16d862cf",
   "metadata": {},
   "outputs": [
    {
     "data": {
      "text/latex": [
       "$\\displaystyle - g_{\\omega} n_{n} - g_{\\omega} n_{p} + m_{\\omega}^{2} \\omega$"
      ],
      "text/plain": [
       "-g_omega*n_n - g_omega*n_p + m_omega**2*omega"
      ]
     },
     "execution_count": 433,
     "metadata": {},
     "output_type": "execute_result"
    }
   ],
   "source": [
    "omega_eom(baryon_list)"
   ]
  },
  {
   "cell_type": "code",
   "execution_count": 434,
   "id": "2f092df6",
   "metadata": {},
   "outputs": [
    {
     "data": {
      "text/latex": [
       "$\\displaystyle b g_{\\sigma}^{3} m_{n} \\sigma^{2} + c g_{\\sigma}^{4} \\sigma^{3} - \\frac{1.0 g_{\\sigma}^{2} m^{*}_{n} \\left(E^{*}_{F n} k_{F n} - \\left(m^{*}_{n}\\right)^{2} \\log{\\left(\\sqrt{\\frac{\\left(E^{*}_{F n} + k_{F n}\\right)^{2}}{\\left(m^{*}_{n}\\right)^{2}}} \\right)}\\right)}{\\pi^{2}} - \\frac{1.0 g_{\\sigma}^{2} m^{*}_{p} \\left(E^{*}_{F p} k_{F p} - \\left(m^{*}_{p}\\right)^{2} \\log{\\left(\\sqrt{\\frac{\\left(E^{*}_{F p} + k_{F p}\\right)^{2}}{\\left(m^{*}_{p}\\right)^{2}}} \\right)}\\right)}{\\pi^{2}} + m_{\\sigma}^{2} \\sigma$"
      ],
      "text/plain": [
       "b*g_sigma**3*m_n*sigma**2 + c*g_sigma**4*sigma**3 - 1.0*g_sigma**2*m_n^**(E^*_F_n*k_F_n - m_n^***2*log(sqrt((E^*_F_n + k_F_n)**2/m_n^***2)))/pi**2 - 1.0*g_sigma**2*m_p^**(E^*_F_p*k_F_p - m_p^***2*log(sqrt((E^*_F_p + k_F_p)**2/m_p^***2)))/pi**2 + m_sigma**2*sigma"
      ]
     },
     "execution_count": 434,
     "metadata": {},
     "output_type": "execute_result"
    }
   ],
   "source": [
    "sigma_eom(baryon_list)"
   ]
  },
  {
   "cell_type": "code",
   "execution_count": 435,
   "id": "cd3fd208",
   "metadata": {},
   "outputs": [],
   "source": [
    "eqn1 = sigma_eom_expanded(baryon_list)\n",
    "eqn2 = omega_eom_expanded(baryon_list)\n",
    "eqn3 = rho_eom_expanded(baryon_list)\n",
    "eqn4 = beta_equilibrium_expanded(proton_sym)"
   ]
  },
  {
   "cell_type": "code",
   "execution_count": 436,
   "id": "f9f6520f",
   "metadata": {},
   "outputs": [],
   "source": [
    "def substitution(equation, baryon_sym_list, baryon_num_list, meson_sym_list, meson_num_list, lepton_sym_list, lepton_num_list, rmf_num):\n",
    "    for i in range(len(baryon_list)):\n",
    "        equation = equation.subs([(baryon_sym_list[i].mass, baryon_num_list[i].mass), (baryon_sym_list[i].kf, baryon_num_list[i].kf),\\\n",
    "                                 (sym.symbols('b'), rmf_num.b), (sym.symbols('c'), rmf_num.c),\\\n",
    "                                 (baryon_sym_list[i].g_sigma, baryon_num_list[i].g_sigma),\\\n",
    "                                 (baryon_sym_list[i].g_omega, baryon_num_list[i].g_omega),\\\n",
    "                                 (baryon_sym_list[i].g_rho, baryon_num_list[i].g_rho)])\n",
    "    \n",
    "    for i in range(len(meson_sym_list)):\n",
    "        equation = equation.subs(meson_sym_list[i].mass, meson_num_list[i].mass)\n",
    "    \n",
    "    for i in range(len(lepton_sym_list)):\n",
    "        equation = equation.subs(lepton_sym_list[i].mass, lepton_num_list[i].mass)\n",
    "        \n",
    "    equation = equation.subs(Pi, np.pi)\n",
    "    return equation "
   ]
  },
  {
   "cell_type": "code",
   "execution_count": 437,
   "id": "9350dcc3",
   "metadata": {},
   "outputs": [],
   "source": [
    "def substitution_2(equation, baryon_sym_list, baryon_num_list, meson_sym_list, meson_num_list, lepton_sym_list, lepton_num_list, rmf_num):\n",
    "    for i in range(len(baryon_list)):\n",
    "        equation = equation.subs([(baryon_sym_list[i].mass, baryon_num_list[i].mass),\\\n",
    "                                 (sym.symbols('b'), rmf_num.b), (sym.symbols('c'), rmf_num.c),\\\n",
    "                                 (baryon_sym_list[i].g_sigma, baryon_num_list[i].g_sigma),\\\n",
    "                                 (baryon_sym_list[i].g_omega, baryon_num_list[i].g_omega),\\\n",
    "                                 (baryon_sym_list[i].g_rho, baryon_num_list[i].g_rho)])\n",
    "    \n",
    "    for i in range(len(meson_sym_list)):\n",
    "        equation = equation.subs(meson_sym_list[i].mass, meson_num_list[i].mass)\n",
    "    \n",
    "    for i in range(len(lepton_sym_list)):\n",
    "        equation = equation.subs(lepton_sym_list[i].mass, lepton_num_list[i].mass)\n",
    "        \n",
    "    equation = equation.subs(Pi, np.pi)\n",
    "    return equation "
   ]
  },
  {
   "cell_type": "code",
   "execution_count": 438,
   "id": "e0628b03",
   "metadata": {},
   "outputs": [],
   "source": [
    "listt = [baryon_list, baryon_num_list, meson_list, meson_num_list, lepton_list, lepton_num_list, rmf_num]\n",
    "\n",
    "eqn_1 = substitution(eqn1, *listt)\n",
    "eqn_2 = substitution(eqn2, *listt)\n",
    "eqn_3 = substitution(eqn3, *listt)\n",
    "eqn_4 = substitution(eqn4, *listt)"
   ]
  },
  {
   "cell_type": "markdown",
   "id": "bcc7a4b7",
   "metadata": {},
   "source": [
    "### Unknowns\n",
    "- We see that we have $n_B, x_n, x_p, x_e, \\sigma, \\rho, \\omega$ as unknowns (7 unknowns). We have two more conditions: baryon number conservation and charge neutrality. This brings us to 6 equations and 7 unknowns. Hence, taking $n_B$ to be fixed, we can solve for all the other variables."
   ]
  },
  {
   "cell_type": "code",
   "execution_count": 439,
   "id": "700da5e7",
   "metadata": {},
   "outputs": [],
   "source": [
    "def baryon_num_conservation(baryon_list):\n",
    "    result = 0\n",
    "    for baryon in baryon_list:\n",
    "        result += baryon.frac\n",
    "    return 1 - result"
   ]
  },
  {
   "cell_type": "code",
   "execution_count": 440,
   "id": "3db2a536",
   "metadata": {},
   "outputs": [],
   "source": [
    "def charge_neutrality(baryon_list, lepton_list):\n",
    "    result = 0\n",
    "    for baryon in baryon_list:\n",
    "        if (baryon.charge > 0):\n",
    "            result += baryon.frac\n",
    "        elif (baryon.charge < 0):\n",
    "            result -= baryon.frac\n",
    "    \n",
    "    for lepton in lepton_list:\n",
    "        if (lepton.charge > 0):\n",
    "            result += lepton.frac\n",
    "        elif (lepton.charge < 0):\n",
    "            result -= lepton.frac \n",
    "            \n",
    "    return result "
   ]
  },
  {
   "cell_type": "code",
   "execution_count": 441,
   "id": "1da9937c",
   "metadata": {
    "scrolled": true
   },
   "outputs": [],
   "source": [
    "eqn_5 = charge_neutrality(baryon_list, lepton_list)"
   ]
  },
  {
   "cell_type": "code",
   "execution_count": 442,
   "id": "5c05dd59",
   "metadata": {},
   "outputs": [],
   "source": [
    "eqn_6 = baryon_num_conservation(baryon_list)"
   ]
  },
  {
   "cell_type": "code",
   "execution_count": 443,
   "id": "44384f6a",
   "metadata": {},
   "outputs": [],
   "source": [
    "xn, xp,xe, sig, rho, omega = sym.symbols('x_n x_p x_e sigma rho omega')\n",
    "sys_eqn = [eqn_1, eqn_2, eqn_3, eqn_4, eqn_5, eqn_6]\n",
    "ind_var = [xn, xp, xe, sig, rho, omega]\n",
    "x_guess = [0.99, 0.01, 0.01, 20.0, 1.0, 4.5]"
   ]
  },
  {
   "cell_type": "code",
   "execution_count": 444,
   "id": "bc1eecc7",
   "metadata": {},
   "outputs": [],
   "source": [
    "nb_array = np.arange(0.27, 0.5, 0.01)\n",
    "nB_array_mev = nb_array*n0*hc**3\n",
    "\n",
    "xn_array = np.copy(nb_array)\n",
    "xp_array = np.copy(nb_array)\n",
    "xe_array = np.copy(nb_array)\n",
    "sig_array = np.copy(nb_array)\n",
    "rho_array = np.copy(nb_array)\n",
    "omega_array = np.copy(nb_array)"
   ]
  },
  {
   "cell_type": "code",
   "execution_count": 445,
   "id": "7a3ec399",
   "metadata": {
    "scrolled": true
   },
   "outputs": [
    {
     "ename": "TypeError",
     "evalue": "can't convert expression to float",
     "output_type": "error",
     "traceback": [
      "\u001b[0;31m---------------------------------------------------------------------------\u001b[0m",
      "\u001b[0;31mTypeError\u001b[0m                                 Traceback (most recent call last)",
      "\u001b[0;32m<ipython-input-445-fcd34f1f1154>\u001b[0m in \u001b[0;36m<module>\u001b[0;34m\u001b[0m\n\u001b[1;32m      9\u001b[0m     \u001b[0msys_eqn\u001b[0m \u001b[0;34m=\u001b[0m \u001b[0mnp\u001b[0m\u001b[0;34m.\u001b[0m\u001b[0marray\u001b[0m\u001b[0;34m(\u001b[0m\u001b[0;34m[\u001b[0m\u001b[0meqn_1\u001b[0m\u001b[0;34m,\u001b[0m \u001b[0meqn_2\u001b[0m\u001b[0;34m,\u001b[0m \u001b[0meqn__3\u001b[0m\u001b[0;34m,\u001b[0m \u001b[0meqn__4\u001b[0m\u001b[0;34m,\u001b[0m \u001b[0meqn__5\u001b[0m\u001b[0;34m,\u001b[0m \u001b[0meqn__6\u001b[0m\u001b[0;34m]\u001b[0m\u001b[0;34m)\u001b[0m\u001b[0;34m\u001b[0m\u001b[0;34m\u001b[0m\u001b[0m\n\u001b[1;32m     10\u001b[0m \u001b[0;34m\u001b[0m\u001b[0m\n\u001b[0;32m---> 11\u001b[0;31m     \u001b[0mA\u001b[0m \u001b[0;34m=\u001b[0m \u001b[0mbroyden\u001b[0m\u001b[0;34m(\u001b[0m\u001b[0msys_eqn\u001b[0m\u001b[0;34m,\u001b[0m \u001b[0mind_var\u001b[0m\u001b[0;34m,\u001b[0m \u001b[0mx_guess\u001b[0m\u001b[0;34m)\u001b[0m\u001b[0;34m\u001b[0m\u001b[0;34m\u001b[0m\u001b[0m\n\u001b[0m\u001b[1;32m     12\u001b[0m \u001b[0;34m\u001b[0m\u001b[0m\n\u001b[1;32m     13\u001b[0m     \u001b[0mxn_array\u001b[0m\u001b[0;34m[\u001b[0m\u001b[0mi\u001b[0m\u001b[0;34m]\u001b[0m \u001b[0;34m=\u001b[0m \u001b[0mA\u001b[0m\u001b[0;34m[\u001b[0m\u001b[0;36m0\u001b[0m\u001b[0;34m]\u001b[0m\u001b[0;34m\u001b[0m\u001b[0;34m\u001b[0m\u001b[0m\n",
      "\u001b[0;32m~/Desktop/Yay/broyden.py\u001b[0m in \u001b[0;36mbroyden\u001b[0;34m(sys_eqn, ind_vars, initial_guess, accept_error)\u001b[0m\n\u001b[1;32m    125\u001b[0m \u001b[0;34m\u001b[0m\u001b[0m\n\u001b[1;32m    126\u001b[0m     \u001b[0manswer\u001b[0m\u001b[0;34m.\u001b[0m\u001b[0mF_x_current\u001b[0m \u001b[0;34m=\u001b[0m \u001b[0mF_x_num\u001b[0m\u001b[0;34m(\u001b[0m\u001b[0msys_eqn\u001b[0m\u001b[0;34m,\u001b[0m \u001b[0mind_vars\u001b[0m\u001b[0;34m,\u001b[0m \u001b[0manswer\u001b[0m\u001b[0;34m.\u001b[0m\u001b[0msolution\u001b[0m\u001b[0;34m)\u001b[0m\u001b[0;34m\u001b[0m\u001b[0;34m\u001b[0m\u001b[0m\n\u001b[0;32m--> 127\u001b[0;31m     \u001b[0manswer\u001b[0m\u001b[0;34m.\u001b[0m\u001b[0mA_current_inv\u001b[0m \u001b[0;34m=\u001b[0m \u001b[0mnp\u001b[0m\u001b[0;34m.\u001b[0m\u001b[0mlinalg\u001b[0m\u001b[0;34m.\u001b[0m\u001b[0mpinv\u001b[0m\u001b[0;34m(\u001b[0m\u001b[0mJ_x_num\u001b[0m\u001b[0;34m(\u001b[0m\u001b[0msys_eqn\u001b[0m\u001b[0;34m,\u001b[0m \u001b[0mind_vars\u001b[0m\u001b[0;34m,\u001b[0m \u001b[0manswer\u001b[0m\u001b[0;34m.\u001b[0m\u001b[0msolution\u001b[0m\u001b[0;34m)\u001b[0m\u001b[0;34m)\u001b[0m\u001b[0;34m\u001b[0m\u001b[0;34m\u001b[0m\u001b[0m\n\u001b[0m\u001b[1;32m    128\u001b[0m \u001b[0;34m\u001b[0m\u001b[0m\n\u001b[1;32m    129\u001b[0m \u001b[0;34m\u001b[0m\u001b[0m\n",
      "\u001b[0;32m~/Desktop/Yay/broyden.py\u001b[0m in \u001b[0;36mF_x_num\u001b[0;34m(sys_eqn, ind_vars, vector)\u001b[0m\n\u001b[1;32m     34\u001b[0m             \u001b[0mnum_array\u001b[0m\u001b[0;34m[\u001b[0m\u001b[0mi\u001b[0m\u001b[0;34m]\u001b[0m \u001b[0;34m=\u001b[0m \u001b[0mnum_array\u001b[0m\u001b[0;34m[\u001b[0m\u001b[0mi\u001b[0m\u001b[0;34m]\u001b[0m\u001b[0;34m.\u001b[0m\u001b[0msubs\u001b[0m\u001b[0;34m(\u001b[0m\u001b[0mind_vars\u001b[0m\u001b[0;34m[\u001b[0m\u001b[0mj\u001b[0m\u001b[0;34m]\u001b[0m\u001b[0;34m,\u001b[0m \u001b[0mvector\u001b[0m\u001b[0;34m[\u001b[0m\u001b[0mj\u001b[0m\u001b[0;34m]\u001b[0m\u001b[0;34m)\u001b[0m\u001b[0;34m\u001b[0m\u001b[0;34m\u001b[0m\u001b[0m\n\u001b[1;32m     35\u001b[0m         \u001b[0mnum_array_final\u001b[0m\u001b[0;34m[\u001b[0m\u001b[0mi\u001b[0m\u001b[0;34m]\u001b[0m \u001b[0;34m=\u001b[0m \u001b[0msym\u001b[0m\u001b[0;34m.\u001b[0m\u001b[0mN\u001b[0m\u001b[0;34m(\u001b[0m\u001b[0mnum_array\u001b[0m\u001b[0;34m[\u001b[0m\u001b[0mi\u001b[0m\u001b[0;34m]\u001b[0m\u001b[0;34m)\u001b[0m\u001b[0;34m\u001b[0m\u001b[0;34m\u001b[0m\u001b[0m\n\u001b[0;32m---> 36\u001b[0;31m     \u001b[0;32mreturn\u001b[0m \u001b[0mnum_array_final\u001b[0m\u001b[0;34m\u001b[0m\u001b[0;34m\u001b[0m\u001b[0m\n\u001b[0m\u001b[1;32m     37\u001b[0m \u001b[0;34m\u001b[0m\u001b[0m\n\u001b[1;32m     38\u001b[0m \u001b[0;34m\u001b[0m\u001b[0m\n",
      "\u001b[0;32m~/opt/anaconda3/lib/python3.8/site-packages/sympy/core/expr.py\u001b[0m in \u001b[0;36m__float__\u001b[0;34m(self)\u001b[0m\n\u001b[1;32m    356\u001b[0m         \u001b[0;32mif\u001b[0m \u001b[0mresult\u001b[0m\u001b[0;34m.\u001b[0m\u001b[0mis_number\u001b[0m \u001b[0;32mand\u001b[0m \u001b[0mresult\u001b[0m\u001b[0;34m.\u001b[0m\u001b[0mas_real_imag\u001b[0m\u001b[0;34m(\u001b[0m\u001b[0;34m)\u001b[0m\u001b[0;34m[\u001b[0m\u001b[0;36m1\u001b[0m\u001b[0;34m]\u001b[0m\u001b[0;34m:\u001b[0m\u001b[0;34m\u001b[0m\u001b[0;34m\u001b[0m\u001b[0m\n\u001b[1;32m    357\u001b[0m             \u001b[0;32mraise\u001b[0m \u001b[0mTypeError\u001b[0m\u001b[0;34m(\u001b[0m\u001b[0;34m\"can't convert complex to float\"\u001b[0m\u001b[0;34m)\u001b[0m\u001b[0;34m\u001b[0m\u001b[0;34m\u001b[0m\u001b[0m\n\u001b[0;32m--> 358\u001b[0;31m         \u001b[0;32mraise\u001b[0m \u001b[0mTypeError\u001b[0m\u001b[0;34m(\u001b[0m\u001b[0;34m\"can't convert expression to float\"\u001b[0m\u001b[0;34m)\u001b[0m\u001b[0;34m\u001b[0m\u001b[0;34m\u001b[0m\u001b[0m\n\u001b[0m\u001b[1;32m    359\u001b[0m \u001b[0;34m\u001b[0m\u001b[0m\n\u001b[1;32m    360\u001b[0m     \u001b[0;32mdef\u001b[0m \u001b[0m__complex__\u001b[0m\u001b[0;34m(\u001b[0m\u001b[0mself\u001b[0m\u001b[0;34m)\u001b[0m\u001b[0;34m:\u001b[0m\u001b[0;34m\u001b[0m\u001b[0;34m\u001b[0m\u001b[0m\n",
      "\u001b[0;31mTypeError\u001b[0m: can't convert expression to float"
     ]
    }
   ],
   "source": [
    "for i in range(len(nB_mev)):\n",
    "    eqn__1 = eqn_1.subs(nb.var, nB_array_mev[i])\n",
    "    eqn__2 = eqn_2.subs(nb.var, nB_array_mev[i])\n",
    "    eqn__3 = eqn_2.subs(nb.var, nB_array_mev[i])\n",
    "    eqn__4 = eqn_2.subs(nb.var, nB_array_mev[i])\n",
    "    eqn__5 = eqn_2.subs(nb.var, nB_array_mev[i])\n",
    "    eqn__6 = eqn_2.subs(nb.var, nB_array_mev[i])\n",
    "    \n",
    "    sys_eqn = np.array([eqn_1, eqn_2, eqn__3, eqn__4, eqn__5, eqn__6])\n",
    "    \n",
    "    A = broyden(sys_eqn, ind_var, x_guess)\n",
    "    \n",
    "    xn_array[i] = A[0]\n",
    "    xp_array[i] = A[1]\n",
    "    xe_array[i] = A[2]\n",
    "    sig_array[i] = A[3]\n",
    "    rho_array[i] = A[4]\n",
    "    omega_array[i] = A[5]\n",
    "    \n",
    "    x_guess = A"
   ]
  },
  {
   "cell_type": "markdown",
   "id": "f60b810a",
   "metadata": {},
   "source": [
    "# $\\sigma-\\omega$ Model for NPE\n",
    "$$\n",
    "    m_\\sigma^2 \\sigma + \\frac{dU}{d\\sigma} = g_\\sigma (n_n^s +n_p^s) \\qquad n_N^s = \\frac{m_*}{\\pi^2}\\left[k_N \\sqrt{k_N^2 + m_*^2} - m_*^2\\ln\\frac{k_N + \\sqrt{k_N^2 + m_*^2}}{m_*}\\right]\\\\\n",
    "    m_\\omega^2 \\omega = g_\\omega n_B\\\\\n",
    "    n_B = \\frac{k_n^3}{3\\pi^2} + \\frac{k_p^3}{3\\pi^2}\\\\\n",
    "    k_p = k_e\\\\\n",
    "    \\mu_p + \\mu_e = \\mu_n\n",
    "$$\n",
    "This latter condition is given by\n",
    "$$\n",
    "    \\sqrt{k_p^2 + (m_N - g_\\sigma \\sigma)^2} + \\sqrt{k_e^2 + m_e^2} = \\sqrt{k_n^2 + (m_N - g_\\sigma \\sigma)^2}\n",
    "$$\n",
    "Unknowns are: $n_B, \\sigma, \\omega, k_n, k_p, k_e$. Have 5 equations, 6 unknowns. Take $n_B$ and fix it and find all other values."
   ]
  },
  {
   "cell_type": "code",
   "execution_count": 446,
   "id": "b839c9c7",
   "metadata": {},
   "outputs": [],
   "source": [
    "def sigma_eom_expanded_2(baryon_list):\n",
    "    result = sigma_eom(baryon_list) \n",
    "    for baryon in baryon_list:\n",
    "        result = result.subs(baryon.ef, sym.sqrt(baryon.kf**2 + baryon.mass_eff**2))\n",
    "        result = result.subs([(baryon.mass_eff, baryon.mass - baryon.g_sigma*sym.symbols('sigma'))])\n",
    "    return result "
   ]
  },
  {
   "cell_type": "code",
   "execution_count": 447,
   "id": "470afccc",
   "metadata": {},
   "outputs": [
    {
     "data": {
      "text/latex": [
       "$\\displaystyle b g_{\\sigma}^{3} m_{n} \\sigma^{2} + c g_{\\sigma}^{4} \\sigma^{3} - \\frac{1.0 g_{\\sigma}^{2} \\left(- g_{\\sigma} \\sigma + m_{n}\\right) \\left(k_{F n} \\sqrt{k_{F n}^{2} + \\left(- g_{\\sigma} \\sigma + m_{n}\\right)^{2}} - \\left(- g_{\\sigma} \\sigma + m_{n}\\right)^{2} \\log{\\left(\\sqrt{\\frac{\\left(k_{F n} + \\sqrt{k_{F n}^{2} + \\left(- g_{\\sigma} \\sigma + m_{n}\\right)^{2}}\\right)^{2}}{\\left(- g_{\\sigma} \\sigma + m_{n}\\right)^{2}}} \\right)}\\right)}{\\pi^{2}} - \\frac{1.0 g_{\\sigma}^{2} \\left(- g_{\\sigma} \\sigma + m_{p}\\right) \\left(k_{F p} \\sqrt{k_{F p}^{2} + \\left(- g_{\\sigma} \\sigma + m_{p}\\right)^{2}} - \\left(- g_{\\sigma} \\sigma + m_{p}\\right)^{2} \\log{\\left(\\sqrt{\\frac{\\left(k_{F p} + \\sqrt{k_{F p}^{2} + \\left(- g_{\\sigma} \\sigma + m_{p}\\right)^{2}}\\right)^{2}}{\\left(- g_{\\sigma} \\sigma + m_{p}\\right)^{2}}} \\right)}\\right)}{\\pi^{2}} + m_{\\sigma}^{2} \\sigma$"
      ],
      "text/plain": [
       "b*g_sigma**3*m_n*sigma**2 + c*g_sigma**4*sigma**3 - 1.0*g_sigma**2*(-g_sigma*sigma + m_n)*(k_F_n*sqrt(k_F_n**2 + (-g_sigma*sigma + m_n)**2) - (-g_sigma*sigma + m_n)**2*log(sqrt((k_F_n + sqrt(k_F_n**2 + (-g_sigma*sigma + m_n)**2))**2/(-g_sigma*sigma + m_n)**2)))/pi**2 - 1.0*g_sigma**2*(-g_sigma*sigma + m_p)*(k_F_p*sqrt(k_F_p**2 + (-g_sigma*sigma + m_p)**2) - (-g_sigma*sigma + m_p)**2*log(sqrt((k_F_p + sqrt(k_F_p**2 + (-g_sigma*sigma + m_p)**2))**2/(-g_sigma*sigma + m_p)**2)))/pi**2 + m_sigma**2*sigma"
      ]
     },
     "execution_count": 447,
     "metadata": {},
     "output_type": "execute_result"
    }
   ],
   "source": [
    "sigma_eom_expanded_2(baryon_list)"
   ]
  },
  {
   "cell_type": "code",
   "execution_count": 448,
   "id": "a197172c",
   "metadata": {},
   "outputs": [],
   "source": [
    "def omega_eom_expanded_2():\n",
    "    return sym.symbols('m_omega')**2*sym.symbols('omega') - sym.symbols('g_omega')*sym.symbols('n_B')"
   ]
  },
  {
   "cell_type": "code",
   "execution_count": 449,
   "id": "0d168310",
   "metadata": {},
   "outputs": [],
   "source": [
    "def charge_conservation_2():\n",
    "    return proton_sym.kf - electron_sym.kf"
   ]
  },
  {
   "cell_type": "code",
   "execution_count": 450,
   "id": "b97ce19b",
   "metadata": {},
   "outputs": [],
   "source": [
    "def baryon_conservation_2():\n",
    "    return 3*Pi**2*sym.symbols('n_B') - proton_sym.kf**3 - neutron_sym.kf**3"
   ]
  },
  {
   "cell_type": "code",
   "execution_count": 451,
   "id": "0d354c9f",
   "metadata": {},
   "outputs": [
    {
     "data": {
      "text/latex": [
       "$\\displaystyle - \\sqrt{k_{F e}^{2} + m_{e}^{2}} + \\sqrt{k_{F n}^{2} + \\left(- g_{\\sigma} \\sigma + m_{n}\\right)^{2}} - \\sqrt{k_{F p}^{2} + \\left(- g_{\\sigma} \\sigma + m_{p}\\right)^{2}}$"
      ],
      "text/plain": [
       "-sqrt(k_F_e**2 + m_e**2) + sqrt(k_F_n**2 + (-g_sigma*sigma + m_n)**2) - sqrt(k_F_p**2 + (-g_sigma*sigma + m_p)**2)"
      ]
     },
     "execution_count": 451,
     "metadata": {},
     "output_type": "execute_result"
    }
   ],
   "source": [
    "def beta_equilibrium():\n",
    "    return - sym.sqrt(proton_sym.kf**2 + (proton_sym.mass - proton_sym.g_sigma*sym.symbols('sigma'))**2) - \\\n",
    "        sym.sqrt(electron_sym.kf**2 + electron_sym.mass**2)\\\n",
    "        + sym.sqrt(neutron_sym.kf**2 + (neutron_sym.mass - neutron_sym.g_sigma*sym.symbols('sigma'))**2)\n",
    "beta_equilibrium()"
   ]
  },
  {
   "cell_type": "code",
   "execution_count": 469,
   "id": "0d46e1df",
   "metadata": {},
   "outputs": [
    {
     "data": {
      "text/latex": [
       "$\\displaystyle b g_{\\sigma}^{3} m_{n} \\sigma^{2} + c g_{\\sigma}^{4} \\sigma^{3} - \\frac{1.0 g_{\\sigma}^{2} \\left(- g_{\\sigma} \\sigma + m_{n}\\right) \\left(k_{F n} \\sqrt{k_{F n}^{2} + \\left(- g_{\\sigma} \\sigma + m_{n}\\right)^{2}} - \\left(- g_{\\sigma} \\sigma + m_{n}\\right)^{2} \\log{\\left(\\sqrt{\\frac{\\left(k_{F n} + \\sqrt{k_{F n}^{2} + \\left(- g_{\\sigma} \\sigma + m_{n}\\right)^{2}}\\right)^{2}}{\\left(- g_{\\sigma} \\sigma + m_{n}\\right)^{2}}} \\right)}\\right)}{\\pi^{2}} - \\frac{1.0 g_{\\sigma}^{2} \\left(- g_{\\sigma} \\sigma + m_{p}\\right) \\left(k_{F p} \\sqrt{k_{F p}^{2} + \\left(- g_{\\sigma} \\sigma + m_{p}\\right)^{2}} - \\left(- g_{\\sigma} \\sigma + m_{p}\\right)^{2} \\log{\\left(\\sqrt{\\frac{\\left(k_{F p} + \\sqrt{k_{F p}^{2} + \\left(- g_{\\sigma} \\sigma + m_{p}\\right)^{2}}\\right)^{2}}{\\left(- g_{\\sigma} \\sigma + m_{p}\\right)^{2}}} \\right)}\\right)}{\\pi^{2}} + m_{\\sigma}^{2} \\sigma$"
      ],
      "text/plain": [
       "b*g_sigma**3*m_n*sigma**2 + c*g_sigma**4*sigma**3 - 1.0*g_sigma**2*(-g_sigma*sigma + m_n)*(k_F_n*sqrt(k_F_n**2 + (-g_sigma*sigma + m_n)**2) - (-g_sigma*sigma + m_n)**2*log(sqrt((k_F_n + sqrt(k_F_n**2 + (-g_sigma*sigma + m_n)**2))**2/(-g_sigma*sigma + m_n)**2)))/pi**2 - 1.0*g_sigma**2*(-g_sigma*sigma + m_p)*(k_F_p*sqrt(k_F_p**2 + (-g_sigma*sigma + m_p)**2) - (-g_sigma*sigma + m_p)**2*log(sqrt((k_F_p + sqrt(k_F_p**2 + (-g_sigma*sigma + m_p)**2))**2/(-g_sigma*sigma + m_p)**2)))/pi**2 + m_sigma**2*sigma"
      ]
     },
     "execution_count": 469,
     "metadata": {},
     "output_type": "execute_result"
    }
   ],
   "source": [
    "sigma_eqn_motion = sigma_eom_expanded_2(baryon_list)\n",
    "sigma_eqn_motion"
   ]
  },
  {
   "cell_type": "code",
   "execution_count": 463,
   "id": "90c035e1",
   "metadata": {},
   "outputs": [],
   "source": [
    "sigma_eqn_motion = sigma_eom_expanded_2(baryon_list)\n",
    "sigma_eqn_motion_1 = substitution_2(sigma_eqn_motion, *listt) \n",
    "\n",
    "omega_eqn_motion = omega_eom_expanded_2()\n",
    "omega_eqn_motion_1 = substitution_2(omega_eqn_motion, *listt)\n",
    "\n",
    "beta_equilibrium_eqn = beta_equilibrium()\n",
    "beta_equilibrium_eqn_1 = substitution_2(beta_equilibrium_eqn, *listt)\n",
    "\n",
    "charge_conservation_eqn = charge_conservation_2()\n",
    "charge_conservation_eqn_1 = substitution_2(charge_conservation_eqn, *listt)\n",
    "\n",
    "baryon_conservation_eqn = baryon_conservation_2()\n",
    "baryon_conservation_eqn_1 = substitution_2(baryon_conservation_eqn, *listt)"
   ]
  },
  {
   "cell_type": "code",
   "execution_count": 464,
   "id": "c0ce0c20",
   "metadata": {},
   "outputs": [],
   "source": [
    "sys_eqn = [sigma_eqn_motion_1, omega_eqn_motion_1, beta_equilibrium_eqn_1,\\\n",
    "           charge_conservation_eqn_1, baryon_conservation_eqn_1]"
   ]
  },
  {
   "cell_type": "code",
   "execution_count": 465,
   "id": "8e8e6466",
   "metadata": {},
   "outputs": [
    {
     "data": {
      "text/latex": [
       "$\\displaystyle 42.8425110597058 \\sigma^{3} + 2644.76661894523 \\sigma^{2} + 302500.0 \\sigma - 7.83756584074219 \\left(939.0 - 8.79509376389 \\sigma\\right) \\left(939.0 k_{F n} \\sqrt{1.13414560841808 \\cdot 10^{-6} k_{F n}^{2} + \\left(1 - 0.0093664470328967 \\sigma\\right)^{2}} - 881721.0 \\left(1 - 0.0093664470328967 \\sigma\\right)^{2} \\log{\\left(1.0 \\sqrt{\\frac{\\left(0.00106496272630458 k_{F n} + \\sqrt{1.13414560841808 \\cdot 10^{-6} k_{F n}^{2} + \\left(1 - 0.0093664470328967 \\sigma\\right)^{2}}\\right)^{2}}{\\left(1 - 0.0093664470328967 \\sigma\\right)^{2}}} \\right)}\\right) - 7.83756584074219 \\left(939.0 - 8.79509376389 \\sigma\\right) \\left(939.0 k_{F p} \\sqrt{1.13414560841808 \\cdot 10^{-6} k_{F p}^{2} + \\left(1 - 0.0093664470328967 \\sigma\\right)^{2}} - 881721.0 \\left(1 - 0.0093664470328967 \\sigma\\right)^{2} \\log{\\left(1.0 \\sqrt{\\frac{\\left(0.00106496272630458 k_{F p} + \\sqrt{1.13414560841808 \\cdot 10^{-6} k_{F p}^{2} + \\left(1 - 0.0093664470328967 \\sigma\\right)^{2}}\\right)^{2}}{\\left(1 - 0.0093664470328967 \\sigma\\right)^{2}}} \\right)}\\right)$"
      ],
      "text/plain": [
       "42.8425110597058*sigma**3 + 2644.76661894523*sigma**2 + 302500.0*sigma - 7.83756584074219*(939.0 - 8.79509376389*sigma)*(939.0*k_F_n*sqrt(1.13414560841808e-6*k_F_n**2 + (1 - 0.0093664470328967*sigma)**2) - 881721.0*(1 - 0.0093664470328967*sigma)**2*log(1.0*sqrt((0.00106496272630458*k_F_n + sqrt(1.13414560841808e-6*k_F_n**2 + (1 - 0.0093664470328967*sigma)**2))**2/(1 - 0.0093664470328967*sigma)**2))) - 7.83756584074219*(939.0 - 8.79509376389*sigma)*(939.0*k_F_p*sqrt(1.13414560841808e-6*k_F_p**2 + (1 - 0.0093664470328967*sigma)**2) - 881721.0*(1 - 0.0093664470328967*sigma)**2*log(1.0*sqrt((0.00106496272630458*k_F_p + sqrt(1.13414560841808e-6*k_F_p**2 + (1 - 0.0093664470328967*sigma)**2))**2/(1 - 0.0093664470328967*sigma)**2)))"
      ]
     },
     "execution_count": 465,
     "metadata": {},
     "output_type": "execute_result"
    }
   ],
   "source": [
    "sys_eqn[0]"
   ]
  },
  {
   "cell_type": "code",
   "execution_count": 454,
   "id": "22d18958",
   "metadata": {},
   "outputs": [],
   "source": [
    "x_guess = [20.00, 4.50, -43.0, -43.0, 210.0]"
   ]
  },
  {
   "cell_type": "code",
   "execution_count": 466,
   "id": "70c1e5c5",
   "metadata": {},
   "outputs": [],
   "source": [
    "sigma, omega, kp, ke, kn = sym.symbols('sigma omega k_F_p k_F_e k_F_n')\n",
    "ind_vars = np.array([sigma, omega, kp, ke, kn])\n",
    "nb_orig = 0.27\n",
    "nb_val = nb_orig*0.153*hc**3"
   ]
  },
  {
   "cell_type": "code",
   "execution_count": 467,
   "id": "5d6b1a52",
   "metadata": {},
   "outputs": [],
   "source": [
    "for i in range(len(sys_eqn)):\n",
    "    sys_eqn[i] = sys_eqn[i].subs(sym.symbols('n_B'), nb_val)"
   ]
  },
  {
   "cell_type": "code",
   "execution_count": 457,
   "id": "b4f7d496",
   "metadata": {},
   "outputs": [],
   "source": [
    "A = Newton(sys_eqn, ind_vars, x_guess)"
   ]
  },
  {
   "cell_type": "code",
   "execution_count": 470,
   "id": "380b8ed3",
   "metadata": {},
   "outputs": [
    {
     "data": {
      "text/plain": [
       "array([ 66.6127564362545  ,   4.753413052852253, -54.66706503913398 ,\n",
       "       -54.66706503913398 , 212.24629747281725 ])"
      ]
     },
     "execution_count": 470,
     "metadata": {},
     "output_type": "execute_result"
    }
   ],
   "source": [
    "A.solution"
   ]
  },
  {
   "cell_type": "code",
   "execution_count": 475,
   "id": "f2388916",
   "metadata": {},
   "outputs": [
    {
     "data": {
      "text/latex": [
       "$\\displaystyle - k_{F n}^{3} - k_{F p}^{3} + 9398003.50924671$"
      ],
      "text/plain": [
       "-k_F_n**3 - k_F_p**3 + 9398003.50924671"
      ]
     },
     "execution_count": 475,
     "metadata": {},
     "output_type": "execute_result"
    }
   ],
   "source": [
    "sys_eqn[4]"
   ]
  },
  {
   "cell_type": "markdown",
   "id": "5912f0ef",
   "metadata": {},
   "source": [
    "### Updates\n",
    "- Original problem: solver had issues where complex numbers appeared and would fail due to not being able to represent complex numbers. We shouldn't have complex number to begin with... \n",
    "- Seemed to have found the issue. When the nonlinear solver tries to update through the natural log, sometimes it will pass a value that makes the argument negative so that the result is complex. The fix is to make it so that the log's argument is always positive. So we take\n",
    "$$\n",
    "    \\log(x) \\rightarrow \\log(\\sqrt{x^2})\n",
    "$$\n",
    "which should be okay?\n",
    "- Another issue is sometimes it will yield values that are negative for values that shouldn't be? Like the fermi momenta will sometimes be negative. Which is due solving square roots and stuff. Not sure how to approach this. Not sure if we can include conditionals in this or inequalities?"
   ]
  },
  {
   "cell_type": "markdown",
   "id": "837d839f",
   "metadata": {},
   "source": [
    "## Solving $\\sigma-\\omega$ model for limited range of values\n",
    "- Appears successful"
   ]
  },
  {
   "cell_type": "code",
   "execution_count": 459,
   "id": "18997d58",
   "metadata": {},
   "outputs": [],
   "source": [
    "nb_array = np.arange(0.27, 0.5, 0.01)\n",
    "nB_array_mev = nb_array*n0*hc**3\n",
    "\n",
    "kf_neutron_array = np.copy(nb_array)\n",
    "kf_proton_array = np.copy(nb_array)\n",
    "kf_electron_array = np.copy(nb_array)\n",
    "sig_array = np.copy(nb_array)\n",
    "omega_array = np.copy(nb_array)\n"
   ]
  },
  {
   "cell_type": "code",
   "execution_count": 462,
   "id": "48b88be6",
   "metadata": {},
   "outputs": [
    {
     "data": {
      "text/plain": [
       "[42.8425110597058*sigma**3 + 2644.76661894523*sigma**2 + 302500.0*sigma - 7.83756584074219*(939.0 - 8.79509376389*sigma)*(939.0*k_F_n*sqrt(1.13414560841808e-6*k_F_n**2 + (1 - 0.0093664470328967*sigma)**2) - 881721.0*(1 - 0.0093664470328967*sigma)**2*log(1.0*sqrt((0.00106496272630458*k_F_n + sqrt(1.13414560841808e-6*k_F_n**2 + (1 - 0.0093664470328967*sigma)**2))**2/(1 - 0.0093664470328967*sigma)**2))) - 7.83756584074219*(939.0 - 8.79509376389*sigma)*(939.0*k_F_p*sqrt(1.13414560841808e-6*k_F_p**2 + (1 - 0.0093664470328967*sigma)**2) - 881721.0*(1 - 0.0093664470328967*sigma)**2*log(1.0*sqrt((0.00106496272630458*k_F_p + sqrt(1.13414560841808e-6*k_F_p**2 + (1 - 0.0093664470328967*sigma)**2))**2/(1 - 0.0093664470328967*sigma)**2))),\n",
       " -9.1815177*n_B + 613089.0*omega,\n",
       " -sqrt(k_F_e**2 + 0.2601) + 939.0*sqrt(1.13414560841808e-6*k_F_n**2 + (1 - 0.0093664470328967*sigma)**2) - 939.0*sqrt(1.13414560841808e-6*k_F_p**2 + (1 - 0.0093664470328967*sigma)**2),\n",
       " -k_F_e + k_F_p,\n",
       " -k_F_n**3 - k_F_p**3 + 29.6088132032681*n_B]"
      ]
     },
     "execution_count": 462,
     "metadata": {},
     "output_type": "execute_result"
    }
   ],
   "source": [
    "sys_eqn"
   ]
  },
  {
   "cell_type": "code",
   "execution_count": 460,
   "id": "dfddf108",
   "metadata": {},
   "outputs": [],
   "source": [
    "sys_eqn = [sigma_eqn_motion_1, omega_eqn_motion_1, beta_equilibrium_eqn_1,\\\n",
    "           charge_conservation_eqn_1, baryon_conservation_eqn_1]\n",
    "sys_eqn_2 = ['NaN', 'NaN', 'NaN', 'NaN', 'NaN']\n",
    "x_guess = [8.00, 4.50, 43.0, 43.0, 210.0]"
   ]
  },
  {
   "cell_type": "code",
   "execution_count": 461,
   "id": "eb820b3e",
   "metadata": {},
   "outputs": [],
   "source": [
    "for i in range(len(nB_array_mev)):\n",
    "    for j in range(len(sys_eqn)):\n",
    "        sys_eqn_2[j] = sys_eqn[j].subs(sym.symbols('n_B'), nB_array_mev[i])\n",
    "    \n",
    "   \n",
    "    answer = Newton(sys_eqn_2, ind_vars, x_guess)\n",
    "    \n",
    "    sig_array[i] = answer.solution[0]\n",
    "    omega_array[i] = answer.solution[1]\n",
    "    kf_proton_array[i] = answer.solution[2]\n",
    "    kf_electron_array[i] = answer.solution[3]\n",
    "    kf_neutron_array[i] = answer.solution[4]\n",
    "    \n",
    "    x_guess = answer.solution"
   ]
  },
  {
   "cell_type": "code",
   "execution_count": 388,
   "id": "a5b76482",
   "metadata": {},
   "outputs": [
    {
     "data": {
      "image/png": "[encoded data removed]",
      "text/plain": [
       "<Figure size 432x288 with 1 Axes>"
      ]
     },
     "metadata": {
      "needs_background": "light"
     },
     "output_type": "display_data"
    }
   ],
   "source": [
    "plt.plot(nb_array, 8.7*sig_array)\n",
    "#plt.plot(nb_array, omega_array)\n",
    "plt.show()"
   ]
  },
  {
   "cell_type": "markdown",
   "id": "d9db8343",
   "metadata": {},
   "source": [
    "### Fraction Calculator, among other things..."
   ]
  },
  {
   "cell_type": "code",
   "execution_count": 368,
   "id": "a077d63d",
   "metadata": {},
   "outputs": [],
   "source": [
    "def fraction(fermi, nB):\n",
    "    # takes fermi energy and baryon density and finds corresponding fraction \n",
    "    return fermi**3/3/pi**2/nB"
   ]
  },
  {
   "cell_type": "code",
   "execution_count": 369,
   "id": "982f5a9e",
   "metadata": {},
   "outputs": [],
   "source": [
    "electron_frac = np.copy(nb_array)\n",
    "proton_frac = np.copy(nb_array)\n",
    "neutron_frac = np.copy(nb_array)"
   ]
  },
  {
   "cell_type": "code",
   "execution_count": 370,
   "id": "777c4e5b",
   "metadata": {},
   "outputs": [],
   "source": [
    "for i in range(len(nB_array_mev)):\n",
    "    electron_frac[i] = fraction(kf_electron_array[i], nB_array_mev[i])\n",
    "    proton_frac[i] = fraction(kf_proton_array[i], nB_array_mev[i])\n",
    "    neutron_frac[i] = fraction(kf_neutron_array[i], nB_array_mev[i])"
   ]
  }
 ],
 "metadata": {
  "kernelspec": {
   "display_name": "Python 3",
   "language": "python",
   "name": "python3"
  },
  "language_info": {
   "codemirror_mode": {
    "name": "ipython",
    "version": 3
   },
   "file_extension": ".py",
   "mimetype": "text/x-python",
   "name": "python",
   "nbconvert_exporter": "python",
   "pygments_lexer": "ipython3",
   "version": "3.8.8"
  }
 },
 "nbformat": 4,
 "nbformat_minor": 5
}
