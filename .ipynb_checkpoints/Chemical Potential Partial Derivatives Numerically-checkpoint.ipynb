{
 "cells": [
  {
   "cell_type": "code",
   "execution_count": 2,
   "id": "d492b870",
   "metadata": {},
   "outputs": [],
   "source": [
    "from solver_helper import *\n",
    "from broyden import *"
   ]
  },
  {
   "cell_type": "code",
   "execution_count": 31,
   "id": "c2a64a18",
   "metadata": {},
   "outputs": [],
   "source": [
    "import matplotlib.pyplot as plt\n",
    "from scipy import optimize"
   ]
  },
  {
   "cell_type": "code",
   "execution_count": 3,
   "id": "284f06a4",
   "metadata": {},
   "outputs": [],
   "source": [
    "rmf = eos(g_sigma_N = 8.784820, g_omega_N = 8.720086, g_rho_N = 8.544795, b = 0.008628, c = -0.002433,\\\n",
    "         g_sigma_H = 5.408849, g_omega_H = 5.813391, g_rho_H = 0.0, g_phi_H = -4.110688)\n",
    "\n",
    "baryon_list = [Neutron, Proton]\n",
    "meson_list = [sigma, omega, rho, phi]\n",
    "lepton_list = [electron]\n",
    "\n",
    "init(rmf, baryon_list, meson_list)"
   ]
  },
  {
   "cell_type": "code",
   "execution_count": 4,
   "id": "a6a28555",
   "metadata": {},
   "outputs": [],
   "source": [
    "data = full_solve(rmf, baryon_list, lepton_list, meson_list, [7.94, 4.51, -2.24, 0.0, 210.426, 43.23, 43.23])"
   ]
  },
  {
   "cell_type": "code",
   "execution_count": 5,
   "id": "23af1912",
   "metadata": {
    "scrolled": true
   },
   "outputs": [
    {
     "data": {
      "text/html": [
       "<div>\n",
       "<style scoped>\n",
       "    .dataframe tbody tr th:only-of-type {\n",
       "        vertical-align: middle;\n",
       "    }\n",
       "\n",
       "    .dataframe tbody tr th {\n",
       "        vertical-align: top;\n",
       "    }\n",
       "\n",
       "    .dataframe thead th {\n",
       "        text-align: right;\n",
       "    }\n",
       "</style>\n",
       "<table border=\"1\" class=\"dataframe\">\n",
       "  <thead>\n",
       "    <tr style=\"text-align: right;\">\n",
       "      <th></th>\n",
       "      <th>nB/n0</th>\n",
       "      <th>sigma field (MeV)</th>\n",
       "      <th>rho field (MeV)</th>\n",
       "      <th>omega field (MeV)</th>\n",
       "      <th>phi field (MeV)</th>\n",
       "      <th>Neutron kF (MeV)</th>\n",
       "      <th>Proton kF (MeV)</th>\n",
       "      <th>electron kF (MeV)</th>\n",
       "      <th>Neutron frac</th>\n",
       "      <th>Proton frac</th>\n",
       "      <th>electron frac</th>\n",
       "    </tr>\n",
       "  </thead>\n",
       "  <tbody>\n",
       "    <tr>\n",
       "      <th>0</th>\n",
       "      <td>0.27</td>\n",
       "      <td>7.941193</td>\n",
       "      <td>-2.247962</td>\n",
       "      <td>4.514730</td>\n",
       "      <td>-1.566437e-29</td>\n",
       "      <td>210.426938</td>\n",
       "      <td>43.238314</td>\n",
       "      <td>43.238314</td>\n",
       "      <td>0.991399</td>\n",
       "      <td>0.008601</td>\n",
       "      <td>0.008601</td>\n",
       "    </tr>\n",
       "    <tr>\n",
       "      <th>1</th>\n",
       "      <td>0.28</td>\n",
       "      <td>8.199099</td>\n",
       "      <td>-2.329050</td>\n",
       "      <td>4.681942</td>\n",
       "      <td>-1.194617e-27</td>\n",
       "      <td>212.960614</td>\n",
       "      <td>44.528049</td>\n",
       "      <td>44.528049</td>\n",
       "      <td>0.990942</td>\n",
       "      <td>0.009058</td>\n",
       "      <td>0.009058</td>\n",
       "    </tr>\n",
       "    <tr>\n",
       "      <th>2</th>\n",
       "      <td>0.29</td>\n",
       "      <td>8.455030</td>\n",
       "      <td>-2.409949</td>\n",
       "      <td>4.849154</td>\n",
       "      <td>-9.826955e-28</td>\n",
       "      <td>215.432600</td>\n",
       "      <td>45.809033</td>\n",
       "      <td>45.809033</td>\n",
       "      <td>0.990477</td>\n",
       "      <td>0.009523</td>\n",
       "      <td>0.009523</td>\n",
       "    </tr>\n",
       "    <tr>\n",
       "      <th>3</th>\n",
       "      <td>0.30</td>\n",
       "      <td>8.709030</td>\n",
       "      <td>-2.490655</td>\n",
       "      <td>5.016367</td>\n",
       "      <td>-3.759507e-28</td>\n",
       "      <td>217.846350</td>\n",
       "      <td>47.081534</td>\n",
       "      <td>47.081534</td>\n",
       "      <td>0.990006</td>\n",
       "      <td>0.009994</td>\n",
       "      <td>0.009994</td>\n",
       "    </tr>\n",
       "    <tr>\n",
       "      <th>4</th>\n",
       "      <td>0.31</td>\n",
       "      <td>8.961139</td>\n",
       "      <td>-2.571167</td>\n",
       "      <td>5.183579</td>\n",
       "      <td>8.170729e-28</td>\n",
       "      <td>220.205018</td>\n",
       "      <td>48.345801</td>\n",
       "      <td>48.345801</td>\n",
       "      <td>0.989528</td>\n",
       "      <td>0.010472</td>\n",
       "      <td>0.010472</td>\n",
       "    </tr>\n",
       "    <tr>\n",
       "      <th>...</th>\n",
       "      <td>...</td>\n",
       "      <td>...</td>\n",
       "      <td>...</td>\n",
       "      <td>...</td>\n",
       "      <td>...</td>\n",
       "      <td>...</td>\n",
       "      <td>...</td>\n",
       "      <td>...</td>\n",
       "      <td>...</td>\n",
       "      <td>...</td>\n",
       "      <td>...</td>\n",
       "    </tr>\n",
       "    <tr>\n",
       "      <th>469</th>\n",
       "      <td>4.96</td>\n",
       "      <td>63.506277</td>\n",
       "      <td>-23.748915</td>\n",
       "      <td>82.937263</td>\n",
       "      <td>-4.359529e-30</td>\n",
       "      <td>513.142092</td>\n",
       "      <td>334.820045</td>\n",
       "      <td>334.820045</td>\n",
       "      <td>0.782599</td>\n",
       "      <td>0.217401</td>\n",
       "      <td>0.217401</td>\n",
       "    </tr>\n",
       "    <tr>\n",
       "      <th>470</th>\n",
       "      <td>4.97</td>\n",
       "      <td>63.562030</td>\n",
       "      <td>-23.778082</td>\n",
       "      <td>83.104475</td>\n",
       "      <td>7.012378e-31</td>\n",
       "      <td>513.438106</td>\n",
       "      <td>335.159032</td>\n",
       "      <td>335.159032</td>\n",
       "      <td>0.782377</td>\n",
       "      <td>0.217623</td>\n",
       "      <td>0.217623</td>\n",
       "    </tr>\n",
       "    <tr>\n",
       "      <th>471</th>\n",
       "      <td>4.98</td>\n",
       "      <td>63.617634</td>\n",
       "      <td>-23.807225</td>\n",
       "      <td>83.271687</td>\n",
       "      <td>1.406729e-32</td>\n",
       "      <td>513.733714</td>\n",
       "      <td>335.497483</td>\n",
       "      <td>335.497483</td>\n",
       "      <td>0.782155</td>\n",
       "      <td>0.217845</td>\n",
       "      <td>0.217845</td>\n",
       "    </tr>\n",
       "    <tr>\n",
       "      <th>472</th>\n",
       "      <td>4.99</td>\n",
       "      <td>63.673088</td>\n",
       "      <td>-23.836344</td>\n",
       "      <td>83.438900</td>\n",
       "      <td>8.586112e-31</td>\n",
       "      <td>514.028920</td>\n",
       "      <td>335.835400</td>\n",
       "      <td>335.835400</td>\n",
       "      <td>0.781934</td>\n",
       "      <td>0.218066</td>\n",
       "      <td>0.218066</td>\n",
       "    </tr>\n",
       "    <tr>\n",
       "      <th>473</th>\n",
       "      <td>5.00</td>\n",
       "      <td>63.728394</td>\n",
       "      <td>-23.865438</td>\n",
       "      <td>83.606112</td>\n",
       "      <td>3.502128e-30</td>\n",
       "      <td>514.323725</td>\n",
       "      <td>336.172787</td>\n",
       "      <td>336.172787</td>\n",
       "      <td>0.781714</td>\n",
       "      <td>0.218286</td>\n",
       "      <td>0.218286</td>\n",
       "    </tr>\n",
       "  </tbody>\n",
       "</table>\n",
       "<p>474 rows × 11 columns</p>\n",
       "</div>"
      ],
      "text/plain": [
       "     nB/n0  sigma field (MeV)  rho field (MeV)  omega field (MeV)  \\\n",
       "0     0.27           7.941193        -2.247962           4.514730   \n",
       "1     0.28           8.199099        -2.329050           4.681942   \n",
       "2     0.29           8.455030        -2.409949           4.849154   \n",
       "3     0.30           8.709030        -2.490655           5.016367   \n",
       "4     0.31           8.961139        -2.571167           5.183579   \n",
       "..     ...                ...              ...                ...   \n",
       "469   4.96          63.506277       -23.748915          82.937263   \n",
       "470   4.97          63.562030       -23.778082          83.104475   \n",
       "471   4.98          63.617634       -23.807225          83.271687   \n",
       "472   4.99          63.673088       -23.836344          83.438900   \n",
       "473   5.00          63.728394       -23.865438          83.606112   \n",
       "\n",
       "     phi field (MeV)  Neutron kF (MeV)  Proton kF (MeV)  electron kF (MeV)  \\\n",
       "0      -1.566437e-29        210.426938        43.238314          43.238314   \n",
       "1      -1.194617e-27        212.960614        44.528049          44.528049   \n",
       "2      -9.826955e-28        215.432600        45.809033          45.809033   \n",
       "3      -3.759507e-28        217.846350        47.081534          47.081534   \n",
       "4       8.170729e-28        220.205018        48.345801          48.345801   \n",
       "..               ...               ...              ...                ...   \n",
       "469    -4.359529e-30        513.142092       334.820045         334.820045   \n",
       "470     7.012378e-31        513.438106       335.159032         335.159032   \n",
       "471     1.406729e-32        513.733714       335.497483         335.497483   \n",
       "472     8.586112e-31        514.028920       335.835400         335.835400   \n",
       "473     3.502128e-30        514.323725       336.172787         336.172787   \n",
       "\n",
       "     Neutron frac  Proton frac  electron frac  \n",
       "0        0.991399     0.008601       0.008601  \n",
       "1        0.990942     0.009058       0.009058  \n",
       "2        0.990477     0.009523       0.009523  \n",
       "3        0.990006     0.009994       0.009994  \n",
       "4        0.989528     0.010472       0.010472  \n",
       "..            ...          ...            ...  \n",
       "469      0.782599     0.217401       0.217401  \n",
       "470      0.782377     0.217623       0.217623  \n",
       "471      0.782155     0.217845       0.217845  \n",
       "472      0.781934     0.218066       0.218066  \n",
       "473      0.781714     0.218286       0.218286  \n",
       "\n",
       "[474 rows x 11 columns]"
      ]
     },
     "execution_count": 5,
     "metadata": {},
     "output_type": "execute_result"
    }
   ],
   "source": [
    "data"
   ]
  },
  {
   "cell_type": "code",
   "execution_count": 8,
   "id": "00210a7b",
   "metadata": {},
   "outputs": [],
   "source": [
    "nb_array = data.loc[:,'nB/n0'].values\n",
    "#P_array = data.loc[:,'P'].values\n",
    "#E_array = data.loc[:,'E'].values\n",
    "sigma_array = data.loc[:,'sigma field (MeV)'].values\n",
    "rho_array = data.loc[:,'rho field (MeV)'].values\n",
    "omega_array = data.loc[:,'omega field (MeV)'].values\n",
    "#phi_array = data.loc[:,'phi'].values\n",
    "\n",
    "neutron_frac = data.loc[:, 'Neutron frac'].values\n",
    "proton_frac = data.loc[:, 'Proton frac'].values\n",
    "electron_frac = data.loc[:, 'electron frac'].values\n",
    "#lambda_frac = data.loc[:, 'xL'].values\n",
    "\n",
    "fermi_n = data.loc[:, 'Neutron kF (MeV)'].values\n",
    "fermi_p = data.loc[:, 'Proton kF (MeV)'].values\n",
    "fermi_e = data.loc[:, 'electron kF (MeV)'].values\n",
    "#fermi_L = data.loc[:, 'fermi_L'].values"
   ]
  },
  {
   "cell_type": "markdown",
   "id": "4e77003e",
   "metadata": {},
   "source": [
    "## Baryon Chemical Potential\n",
    "$$\n",
    "    \\mu_i = E_{F_i}^* + g_{\\omega i}\\omega + I_{3i}g_{\\rho i}\\rho + g_{\\phi i}\\phi \n",
    "$$\n",
    "where\n",
    "$$\n",
    "    E_{F_i}^* = \\sqrt{k_{F_i}^2 + (m_i - g_{\\sigma i}\\sigma)^2}\n",
    "$$\n",
    "For NPE Matter this is a function of $\\sigma, n_B, x_i$. But $\\sigma$ in turn is a function of $n_B, x_i$. \n",
    "- Idea: build in a way to check if our method for calculating partial derivatives is correct, ie, if we detect all dependencies. We could "
   ]
  },
  {
   "cell_type": "code",
   "execution_count": 74,
   "id": "b23f3172",
   "metadata": {},
   "outputs": [],
   "source": [
    "def kf(nb, frac):\n",
    "    return (3 * np.pi**2 * nb * frac)**(1/3)\n",
    "\n",
    "def mass_eff(baryon, sigma_field):\n",
    "    return baryon.num_mass - baryon.num_g_sigma * sigma_field \n",
    "\n",
    "def e_eff(nb, frac, sigma_field, baryon):\n",
    "    return np.sqrt(kf(nb, frac)**2 + mass_eff(baryon, sigma_field)**2)\n",
    "\n",
    "def log_factor(nb, frac, sigma_field, baryon):\n",
    "    numerator = kf(nb, frac) + e_eff(nb, frac, sigma_field, baryon)\n",
    "    denominator = mass_eff(baryon, sigma_field)\n",
    "    return np.log(np.sqrt(numerator**2/denominator**2))"
   ]
  },
  {
   "cell_type": "code",
   "execution_count": 50,
   "id": "2e65fbe6",
   "metadata": {},
   "outputs": [],
   "source": [
    "def scalar_density(nb, frac, sigma_field, baryon):\n",
    "    fermi = kf(nb, frac)\n",
    "    EF = e_eff(nb, frac, sigma_field, baryon) \n",
    "    m = mass_eff(baryon, sigma_field)\n",
    "    log_fac = log_factor(nb, frac, sigma_field, baryon)\n",
    "    \n",
    "    term1 = fermi * EF\n",
    "    term2 = m**2 * log_fac\n",
    "    \n",
    "    return (m/2/np.pi**2)*(term1 - term2)\n",
    "\n",
    "def dU(sigma_field):\n",
    "    term1 = sigma.num_b * Neutron.num_mass * Neutron.num_g_sigma**3 * sigma_field**2\n",
    "    term2 = sigma.num_c * Neutron.num_g_sigma**4 * sigma_field**3\n",
    "    return term1 + term2"
   ]
  },
  {
   "cell_type": "code",
   "execution_count": 51,
   "id": "f5059b72",
   "metadata": {},
   "outputs": [],
   "source": [
    "def sigma_EOM(sigma_field, nb, proton_frac, neutron_frac):\n",
    "    term1 = sigma.num_mass**2 * sigma_field \n",
    "    term2 = dU(sigma_field) \n",
    "    \n",
    "    term3 = Proton.num_g_sigma * scalar_density(nb, proton_frac, sigma_field, Proton) \n",
    "    term3 += Neutron.num_g_sigma * scalar_density(nb, neutron_frac, sigma_field, Neutron)\n",
    "    \n",
    "    return term1 + term2 - term3 "
   ]
  },
  {
   "cell_type": "code",
   "execution_count": 15,
   "id": "d8a5a412",
   "metadata": {},
   "outputs": [],
   "source": [
    "neutron_e_eff = np.zeros(len(nb_array))\n",
    "for i in range(len(nb_array)):\n",
    "    neutron_e_eff[i] = e_eff(nb_array[i], neutron_frac[i], sigma_array[i], Neutron)"
   ]
  },
  {
   "cell_type": "markdown",
   "id": "4dfe7f55",
   "metadata": {},
   "source": [
    "### First checking if our method works\n",
    "We will try finding\n",
    "$$\n",
    "        \\frac{d E_{F_i}^*}{dn_B} = \\frac{\\partial E_{F_i}^*}{\\partial n_B}\n",
    "        + \\frac{\\partial E_{F_i}^*}{\\partial x_i }\\frac{d x_i}{d n_B}\n",
    "        + \n",
    "        \\frac{\\partial E_{F_i}^*}{\\partial \\sigma}\n",
    "        \\frac{d\\sigma}{dn_B}\n",
    "$$\n",
    "or just\n",
    "$$\n",
    "    \\frac{d E_{F_i}^*}{dn_B} = \\frac{\\partial E_{F_i}^*}{\\partial n_B}\n",
    "        + \\frac{\\partial E_{F_i}^*}{\\partial x_i }\\frac{d x_i}{d n_B}\n",
    "$$\n",
    "but update $\\sigma$ in the latter. "
   ]
  },
  {
   "cell_type": "markdown",
   "id": "633f4920",
   "metadata": {},
   "source": [
    "#### Left Hand Side"
   ]
  },
  {
   "cell_type": "code",
   "execution_count": 13,
   "id": "81c69ce3",
   "metadata": {},
   "outputs": [],
   "source": [
    "def total_derivative(func_data, ind_var_array):\n",
    "    h = ind_var_array[2] - ind_var_array[1]\n",
    "    \n",
    "    total_deriv_array = np.zeros(len(func_data))\n",
    "    \n",
    "    for i in range(2, len(func_data)-2):\n",
    "        total_deriv_array[i] = 1/(12 * h) * (func_data[i-2] + 8 * func_data[i + 1]\\\n",
    "                                             - 8 * func_data[i - 1] - func_data[i+2])\n",
    "    \n",
    "    total_deriv_array[0] = 1/(2*h)*(-3*func_data[0] +4*func_data[1] - func_data[2])\n",
    "    total_deriv_array[1] = 1/(2*h)*(-3*func_data[1] +4*func_data[2] - func_data[3])\n",
    "    total_deriv_array[len(func_data)-1] = 1/(2*h)*(func_data[len(func_data)-3] - 4*func_data[len(func_data)-2] + 3*func_data[len(func_data)-1])\n",
    "    total_deriv_array[len(func_data)-2] = 1/(2*h)*(func_data[len(func_data)-4] - 4*func_data[len(func_data)-3] + 3*func_data[len(func_data)-2])\n",
    "    \n",
    "    return total_deriv_array"
   ]
  },
  {
   "cell_type": "code",
   "execution_count": 16,
   "id": "f75f1372",
   "metadata": {},
   "outputs": [],
   "source": [
    "d_e_eff_n_array = total_derivative(neutron_e_eff, nb_array)"
   ]
  },
  {
   "cell_type": "markdown",
   "id": "1a88365c",
   "metadata": {},
   "source": [
    "#### Right Hand Side"
   ]
  },
  {
   "cell_type": "code",
   "execution_count": 43,
   "id": "5bbd2fa7",
   "metadata": {},
   "outputs": [],
   "source": [
    "def partial_derivative(function, sigma_array, nb_array, xp_array, xn_array, h, var):\n",
    "    # first solve \n",
    "    part_deriv_array = np.zeros(len(nb_array))\n",
    "    \n",
    "    # calculate 3 point derivative \n",
    "    if (var == 'nb' ):\n",
    "        for i in range(len(part_deriv_array)):\n",
    "            sig1 = optimize.fsolve(function, sigma_array[i], args = (nb_array[i]*0.153*hc**3, xp_array[i], xn_array[i]))[0]\n",
    "            sig2 = optimize.fsolve(function, sigma_array[i], args = (nb_array[i]*0.153*hc**3 + h, xp_array[i], xn_array[i]))[0]\n",
    "            sig3 = optimize.fsolve(function, sigma_array[i], args = (nb_array[i]*0.153*hc**3 + 2*h, xp_array[i], xn_array[i]))[0]\n",
    "        \n",
    "            part_deriv_array[i] = 1/(2*h)*(-3*sig1 + 4*sig2 - sig3)\n",
    "    \n",
    "        return part_deriv_array\n",
    "    \n",
    "    elif (var == 'xp'):\n",
    "        for i in range(len(part_deriv_array)):\n",
    "            sig1 = optimize.fsolve(function, sigma_array[i], args = (nb_array[i]*0.153*hc**3, xp_array[i], xn_array[i]))[0]\n",
    "            sig2 = optimize.fsolve(function, sigma_array[i], args = (nb_array[i]*0.153*hc**3, xp_array[i] + h, xn_array[i]))[0]\n",
    "            sig3 = optimize.fsolve(function, sigma_array[i], args = (nb_array[i]*0.153*hc**3, xp_array[i] + 2 * h, xn_array[i]))[0]\n",
    "        \n",
    "            part_deriv_array[i] = 1/(2*h)*(-3*sig1 + 4*sig2 - sig3)\n",
    "        \n",
    "        return part_deriv_array "
   ]
  },
  {
   "cell_type": "code",
   "execution_count": 53,
   "id": "3a99588e",
   "metadata": {},
   "outputs": [],
   "source": [
    "part_sig_part_nb = partial_derivative(sigma_EOM, sigma_array, nb_array, proton_frac, neutron_frac, 0.01, 'nb')"
   ]
  },
  {
   "cell_type": "code",
   "execution_count": 54,
   "id": "72f821a5",
   "metadata": {},
   "outputs": [
    {
     "data": {
      "text/plain": [
       "array([2.20155398e-05, 2.18450345e-05, 2.16783526e-05, 2.15152668e-05,\n",
       "       2.13556851e-05, 2.11994621e-05, 2.10464858e-05, 2.08966372e-05,\n",
       "       2.07497970e-05, 2.06058156e-05, 2.04646629e-05, 2.03263019e-05,\n",
       "       2.01904926e-05, 2.00572132e-05, 1.99264176e-05, 1.97979666e-05,\n",
       "       1.96718450e-05, 1.95478906e-05, 1.94261466e-05, 1.93064977e-05,\n",
       "       1.91888219e-05, 1.90731247e-05, 1.89593637e-05, 1.88474503e-05,\n",
       "       1.87373216e-05, 1.86289424e-05, 1.85222735e-05, 1.84172563e-05,\n",
       "       1.83138138e-05, 1.82119407e-05, 1.81116125e-05, 1.80127394e-05,\n",
       "       1.79153307e-05, 1.78192678e-05, 1.77246760e-05, 1.76313293e-05,\n",
       "       1.75392863e-05, 1.74485097e-05, 1.73589733e-05, 1.72706351e-05,\n",
       "       1.71834753e-05, 1.70974845e-05, 1.70125867e-05, 1.69287723e-05,\n",
       "       1.68460087e-05, 1.67643163e-05, 1.66836205e-05, 1.66039193e-05,\n",
       "       1.65251818e-05, 1.64474043e-05, 1.63705536e-05, 1.62946348e-05,\n",
       "       1.62195516e-05, 1.61453288e-05, 1.60720040e-05, 1.59994736e-05,\n",
       "       1.59277738e-05, 1.58568628e-05, 1.57867337e-05, 1.57173346e-05,\n",
       "       1.56487458e-05, 1.55808413e-05, 1.55136537e-05, 1.54471824e-05,\n",
       "       1.53813922e-05, 1.53162702e-05, 1.52518171e-05, 1.51880034e-05,\n",
       "       1.51248454e-05, 1.50622755e-05, 1.50003316e-05, 1.49389964e-05,\n",
       "       1.48782686e-05, 1.48180918e-05, 1.47584899e-05, 1.46994266e-05,\n",
       "       1.46409191e-05, 1.45829418e-05, 1.45254798e-05, 1.44685691e-05,\n",
       "       1.44121326e-05, 1.43562069e-05, 1.43007716e-05, 1.42458239e-05,\n",
       "       1.41913469e-05, 1.41373306e-05, 1.40837514e-05, 1.40306399e-05,\n",
       "       1.39779710e-05, 1.39257317e-05, 1.38739134e-05, 1.38225177e-05,\n",
       "       1.37715078e-05, 1.37209485e-05, 1.36707618e-05, 1.36209731e-05,\n",
       "       1.35715633e-05, 1.35225315e-05, 1.34738800e-05, 1.34255991e-05,\n",
       "       1.33776695e-05, 1.33300929e-05, 1.32828834e-05, 1.32360015e-05,\n",
       "       1.31894666e-05, 1.31432650e-05, 1.30973955e-05, 1.30518412e-05,\n",
       "       1.30066084e-05, 1.29616863e-05, 1.29170948e-05, 1.28727828e-05,\n",
       "       1.28287818e-05, 1.27850820e-05, 1.27416605e-05, 1.26985370e-05,\n",
       "       1.26557044e-05, 1.26131246e-05, 1.25708313e-05, 1.25288150e-05,\n",
       "       1.24870683e-05, 1.24455815e-05, 1.24043408e-05, 1.23633804e-05,\n",
       "       1.23226576e-05, 1.22821952e-05, 1.22419705e-05, 1.22019943e-05,\n",
       "       1.21622495e-05, 1.21227377e-05, 1.20834496e-05, 1.20444085e-05,\n",
       "       1.20056079e-05, 1.19670077e-05, 1.19286288e-05, 1.18904815e-05,\n",
       "       1.18525399e-05, 1.18147963e-05, 1.17772903e-05, 1.17399686e-05,\n",
       "       1.17028627e-05, 1.16659457e-05, 1.16292515e-05, 1.15927442e-05,\n",
       "       1.15564234e-05, 1.15202969e-05, 1.14843530e-05, 1.14486078e-05,\n",
       "       1.14130351e-05, 1.13776640e-05, 1.13424665e-05, 1.13074357e-05,\n",
       "       1.12725886e-05, 1.12379183e-05, 1.12034193e-05, 1.11690859e-05,\n",
       "       1.11348985e-05, 1.11009207e-05, 1.10670896e-05, 1.10334188e-05,\n",
       "       1.09999071e-05, 1.09665393e-05, 1.09333513e-05, 1.09003018e-05,\n",
       "       1.08674229e-05, 1.08346864e-05, 1.08020952e-05, 1.07696582e-05,\n",
       "       1.07373609e-05, 1.07052120e-05, 1.06732152e-05, 1.06413516e-05,\n",
       "       1.06096287e-05, 1.05780515e-05, 1.05466022e-05, 1.05152939e-05,\n",
       "       1.04841288e-05, 1.04530809e-05, 1.04221716e-05, 1.03913973e-05,\n",
       "       1.03607501e-05, 1.03302231e-05, 1.02998310e-05, 1.02695662e-05,\n",
       "       1.02394125e-05, 1.02093985e-05, 1.01794981e-05, 1.01497161e-05,\n",
       "       1.01200527e-05, 1.00905108e-05, 1.00610965e-05, 1.00317909e-05,\n",
       "       1.00025915e-05, 9.97351250e-06, 9.94454830e-06, 9.91569422e-06,\n",
       "       9.88695348e-06, 9.85832358e-06, 9.82979209e-06, 9.80138353e-06,\n",
       "       9.77307124e-06, 9.74487229e-06, 9.71676286e-06, 9.68877565e-06,\n",
       "       9.66089218e-06, 9.63309610e-06, 9.60541122e-06, 9.57782085e-06,\n",
       "       9.55033705e-06, 9.52295238e-06, 9.49566470e-06, 9.46847365e-06,\n",
       "       9.44138669e-06, 9.41437932e-06, 9.38748705e-06, 9.36066620e-06,\n",
       "       9.33395903e-06, 9.30733641e-06, 9.28080226e-06, 9.25436439e-06,\n",
       "       9.22802030e-06, 9.20176966e-06, 9.17560463e-06, 9.14952203e-06,\n",
       "       9.12352576e-06, 9.09762257e-06, 9.07181104e-06, 9.04608974e-06,\n",
       "       9.02043915e-06, 8.99488128e-06, 8.96940513e-06, 8.94401353e-06,\n",
       "       8.91870471e-06, 8.89348577e-06, 8.86834073e-06, 8.84328557e-06,\n",
       "       8.81830253e-06, 8.79340512e-06, 8.76858657e-06, 8.74385790e-06,\n",
       "       8.71918999e-06, 8.69461410e-06, 8.67010641e-06, 8.64568364e-06,\n",
       "       8.62133014e-06, 8.59706084e-06, 8.57286899e-06, 8.54875424e-06,\n",
       "       8.52470698e-06, 8.50073612e-06, 8.47684696e-06, 8.45302459e-06,\n",
       "       8.42927648e-06, 8.40560475e-06, 8.38200229e-06, 8.35847551e-06,\n",
       "       8.33501765e-06, 8.31163405e-06, 8.28831972e-06, 8.26507787e-06,\n",
       "       8.24190565e-06, 8.21880342e-06, 8.19577188e-06, 8.17280466e-06,\n",
       "       8.14991168e-06, 8.12708940e-06, 8.10432788e-06, 8.08164096e-06,\n",
       "       8.05902403e-06, 8.03646074e-06, 8.01398521e-06, 7.99155977e-06,\n",
       "       7.96920823e-06, 7.94691815e-06, 7.92469734e-06, 7.90254013e-06,\n",
       "       7.88045504e-06, 7.85841650e-06, 7.83646250e-06, 7.81456784e-06,\n",
       "       7.79273286e-06, 7.77096290e-06, 7.74925830e-06, 7.72762121e-06,\n",
       "       7.70604238e-06, 7.68452644e-06, 7.66306982e-06, 7.64168178e-06,\n",
       "       7.62035022e-06, 7.59908403e-06, 7.57787646e-06, 7.55672929e-06,\n",
       "       7.53564926e-06, 7.51462288e-06, 7.49366507e-06, 7.47276303e-06,\n",
       "       7.45192246e-06, 7.43113731e-06, 7.41041930e-06, 7.38975672e-06,\n",
       "       7.36914849e-06, 7.34860492e-06, 7.32812389e-06, 7.30769543e-06,\n",
       "       7.28733021e-06, 7.26702467e-06, 7.24676745e-06, 7.22657738e-06,\n",
       "       7.20644131e-06, 7.18636493e-06, 7.16634538e-06, 7.14638269e-06,\n",
       "       7.12647754e-06, 7.10662569e-06, 7.08683103e-06, 7.06709820e-06,\n",
       "       7.04741723e-06, 7.02779310e-06, 7.00822795e-06, 6.98871396e-06,\n",
       "       6.96925966e-06, 6.94985864e-06, 6.93051163e-06, 6.91122644e-06,\n",
       "       6.89198529e-06, 6.87280632e-06, 6.85368668e-06, 6.83461643e-06,\n",
       "       6.81559946e-06, 6.79663295e-06, 6.77772860e-06, 6.75887470e-06,\n",
       "       6.74007445e-06, 6.72132501e-06, 6.70263489e-06, 6.68399665e-06,\n",
       "       6.66541062e-06, 6.64687576e-06, 6.62840165e-06, 6.60996875e-06,\n",
       "       6.59159873e-06, 6.57327455e-06, 6.55500649e-06, 6.53679137e-06,\n",
       "       6.51862706e-06, 6.50051746e-06, 6.48245724e-06, 6.46444498e-06,\n",
       "       6.44649099e-06, 6.42858673e-06, 6.41072972e-06, 6.39292921e-06,\n",
       "       6.37517417e-06, 6.35748343e-06, 6.33983284e-06, 6.32223234e-06,\n",
       "       6.30469010e-06, 6.28719050e-06, 6.26974490e-06, 6.25235081e-06,\n",
       "       6.23500327e-06, 6.21770972e-06, 6.20046698e-06, 6.18327043e-06,\n",
       "       6.16612965e-06, 6.14903328e-06, 6.13198914e-06, 6.11499047e-06,\n",
       "       6.09804189e-06, 6.08114625e-06, 6.06429751e-06, 6.04749744e-06,\n",
       "       6.03075172e-06, 6.01404935e-06, 5.99740098e-06, 5.98079524e-06,\n",
       "       5.96424172e-06, 5.94773830e-06, 5.93127787e-06, 5.91486682e-06,\n",
       "       5.89850302e-06, 5.88219358e-06, 5.86592748e-06, 5.84970650e-06,\n",
       "       5.83353987e-06, 5.81742015e-06, 5.80134483e-06, 5.78531640e-06,\n",
       "       5.76933452e-06, 5.75340202e-06, 5.73751713e-06, 5.72167984e-06,\n",
       "       5.70588590e-06, 5.69014453e-06, 5.67444722e-06, 5.65879290e-06,\n",
       "       5.64318938e-06, 5.62763276e-06, 5.61212161e-06, 5.59665452e-06,\n",
       "       5.58123716e-06, 5.56586279e-06, 5.55053354e-06, 5.53525155e-06,\n",
       "       5.52001573e-06, 5.50482717e-06, 5.48968160e-06, 5.47458576e-06,\n",
       "       5.45952688e-06, 5.44452057e-06, 5.42955618e-06, 5.41463905e-06,\n",
       "       5.39976632e-06, 5.38493694e-06, 5.37015694e-06, 5.35541780e-06,\n",
       "       5.34072306e-06, 5.32606634e-06, 5.31146860e-06, 5.29690496e-06,\n",
       "       5.28238502e-06, 5.26791730e-06, 5.25348547e-06, 5.23910302e-06,\n",
       "       5.22476107e-06, 5.21046317e-06, 5.19621324e-06, 5.18200061e-06,\n",
       "       5.16783452e-06, 5.15370999e-06, 5.13962775e-06, 5.12559239e-06,\n",
       "       5.11160074e-06, 5.09764639e-06, 5.08374320e-06, 5.06987483e-06,\n",
       "       5.05605264e-06, 5.04227451e-06, 5.02853297e-06, 5.01484294e-06,\n",
       "       5.00118560e-06, 4.98757728e-06, 4.97400805e-06, 4.96048358e-06,\n",
       "       4.94699819e-06, 4.93355259e-06, 4.92015282e-06, 4.90679177e-06,\n",
       "       4.89347300e-06, 4.88019793e-06, 4.86696017e-06, 4.85376894e-06,\n",
       "       4.84061502e-06, 4.82750231e-06, 4.81443365e-06, 4.80139875e-06,\n",
       "       4.78841322e-06, 4.77546216e-06, 4.76255160e-06, 4.74968580e-06,\n",
       "       4.73685553e-06, 4.72406896e-06, 4.71132253e-06, 4.69861448e-06,\n",
       "       4.68594621e-06, 4.67331880e-06, 4.66073296e-06, 4.64817838e-06,\n",
       "       4.63567389e-06, 4.62320386e-06, 4.61076795e-06, 4.59838354e-06,\n",
       "       4.58603466e-06, 4.57371847e-06])"
      ]
     },
     "execution_count": 54,
     "metadata": {},
     "output_type": "execute_result"
    }
   ],
   "source": [
    "part_sig_part_nb"
   ]
  },
  {
   "cell_type": "code",
   "execution_count": 55,
   "id": "e3406317",
   "metadata": {},
   "outputs": [
    {
     "data": {
      "text/plain": [
       "[<matplotlib.lines.Line2D at 0x7fa60ba800d0>]"
      ]
     },
     "execution_count": 55,
     "metadata": {},
     "output_type": "execute_result"
    },
    {
     "data": {
      "image/png": "[encoded data removed]",
      "text/plain": [
       "<Figure size 432x288 with 1 Axes>"
      ]
     },
     "metadata": {
      "needs_background": "light"
     },
     "output_type": "display_data"
    }
   ],
   "source": [
    "plt.plot(nb_array, part_sig_part_nb)"
   ]
  },
  {
   "cell_type": "code",
   "execution_count": 56,
   "id": "f1d715df",
   "metadata": {},
   "outputs": [],
   "source": [
    "def sigma_val_gen(nb, neutron_frac, proton_frac):\n",
    "    return optimize.fsolve(sigma_EOM, 8.0, args = (nb, proton_frac, neutron_frac))"
   ]
  },
  {
   "cell_type": "code",
   "execution_count": 81,
   "id": "998d75e1",
   "metadata": {},
   "outputs": [],
   "source": [
    "def partial_EF_Neutron(nb, neutron_frac, proton_frac, h, var):\n",
    "    if (var == 'nb'):\n",
    "        sigma1 = sigma_val_gen(nb, neutron_frac, proton_frac) \n",
    "        sigma2 = sigma_val_gen(nb + h, neutron_frac, proton_frac) \n",
    "        sigma3 = sigma_val_gen(nb + 2*h, neutron_frac, proton_frac) \n",
    "    \n",
    "        chem1 = np.sqrt(kf(nb, neutron_frac)**2 + mass_eff(Neutron, sigma1))\n",
    "        chem2 = np.sqrt(kf(nb, neutron_frac)**2 + mass_eff(Neutron, sigma2))\n",
    "        chem3 = np.sqrt(kf(nb, neutron_frac)**2 + mass_eff(Neutron, sigma3))\n",
    "    \n",
    "        return 1/(2*h)*(-3*chem1 + 4*chem2 - chem3)\n",
    "    \n",
    "    elif (var == 'xp'):\n",
    "        sigma1 = sigma_val_gen(nb, neutron_frac, proton_frac) \n",
    "        sigma2 = sigma_val_gen(nb, neutron_frac, proton_frac + h) \n",
    "        sigma3 = sigma_val_gen(nb, neutron_frac, proton_frac + 2*h) \n",
    "    \n",
    "        chem1 = np.sqrt(kf(nb, neutron_frac)**2 + mass_eff(Neutron, sigma1))\n",
    "        chem2 = np.sqrt(kf(nb, neutron_frac)**2 + mass_eff(Neutron, sigma2))\n",
    "        chem3 = np.sqrt(kf(nb, neutron_frac)**2 + mass_eff(Neutron, sigma3))\n",
    "    \n",
    "        return 1/(2*h)*(-3*chem1 + 4*chem2 - chem3)"
   ]
  },
  {
   "cell_type": "code",
   "execution_count": 83,
   "id": "450f6ffe",
   "metadata": {},
   "outputs": [],
   "source": [
    "def partial_EF_Proton(nb, neutron_frac, proton_frac, h, var):\n",
    "    if (var == 'nb'):\n",
    "        sigma1 = sigma_val_gen(nb, neutron_frac, proton_frac) \n",
    "        sigma2 = sigma_val_gen(nb + h, neutron_frac, proton_frac) \n",
    "        sigma3 = sigma_val_gen(nb + 2*h, neutron_frac, proton_frac) \n",
    "    \n",
    "        chem1 = np.sqrt(kf(nb, proton_frac)**2 + mass_eff(Proton, sigma1))\n",
    "        chem2 = np.sqrt(kf(nb, proton_frac)**2 + mass_eff(Proton, sigma2))\n",
    "        chem3 = np.sqrt(kf(nb, proton_frac)**2 + mass_eff(Proton, sigma3))\n",
    "    \n",
    "        return 1/(2*h)*(-3*chem1 + 4*chem2 - chem3)\n",
    "    \n",
    "    elif (var == 'xp'):\n",
    "        sigma1 = sigma_val_gen(nb, neutron_frac, proton_frac) \n",
    "        sigma2 = sigma_val_gen(nb, neutron_frac, proton_frac + h) \n",
    "        sigma3 = sigma_val_gen(nb, neutron_frac, proton_frac + 2*h) \n",
    "    \n",
    "        chem1 = np.sqrt(kf(nb, proton_frac)**2 + mass_eff(Proton, sigma1))\n",
    "        chem2 = np.sqrt(kf(nb, proton_frac)**2 + mass_eff(Proton, sigma2))\n",
    "        chem3 = np.sqrt(kf(nb, proton_frac)**2 + mass_eff(Proton, sigma3))\n",
    "    \n",
    "        return 1/(2*h)*(-3*chem1 + 4*chem2 - chem3)"
   ]
  },
  {
   "cell_type": "code",
   "execution_count": 84,
   "id": "6a53b0da",
   "metadata": {},
   "outputs": [],
   "source": [
    "partial_EF_n_nb_array = np.zeros(len(nb_array))\n",
    "partial_EF_p_nb_array = np.zeros(len(nb_array))\n",
    "\n",
    "partial_EF_n_xp_array = np.zeros(len(nb_array))\n",
    "partial_EF_p_xp_array = np.zeros(len(nb_array))"
   ]
  },
  {
   "cell_type": "code",
   "execution_count": 85,
   "id": "1d58cf10",
   "metadata": {},
   "outputs": [],
   "source": [
    "for i in range(len(nb_array)):\n",
    "    partial_EF_n_nb_array[i] = partial_EF_Neutron(nb_array[i]*0.153*hc**3, neutron_frac[i], proton_frac[i], 0.01, 'nb')\n",
    "    partial_EF_p_nb_array[i] = partial_EF_Proton(nb_array[i]*0.153*hc**3, neutron_frac[i], proton_frac[i], 0.01, 'nb')"
   ]
  },
  {
   "cell_type": "code",
   "execution_count": 86,
   "id": "94f20dec",
   "metadata": {},
   "outputs": [],
   "source": [
    "for i in range(len(nb_array)):\n",
    "    partial_EF_n_xp_array[i] = partial_EF_Neutron(nb_array[i]*0.153*hc**3, neutron_frac[i], proton_frac[i], 0.01, 'xp')\n",
    "    partial_EF_p_xp_array[i] = partial_EF_Proton(nb_array[i]*0.153*hc**3, neutron_frac[i], proton_frac[i], 0.01, 'xp')"
   ]
  },
  {
   "cell_type": "code",
   "execution_count": 88,
   "id": "204473c9",
   "metadata": {},
   "outputs": [],
   "source": [
    "part_mu_tilde_nb = partial_EF_n_nb_array - partial_EF_p_nb_array\n",
    "part_mu_tilde_xp = partial_EF_n_xp_array - partial_EF_p_xp_array"
   ]
  },
  {
   "cell_type": "code",
   "execution_count": 87,
   "id": "671831a4",
   "metadata": {},
   "outputs": [],
   "source": [
    "sound_speed_array = np.zeros(len(nb_array))"
   ]
  },
  {
   "cell_type": "code",
   "execution_count": 98,
   "id": "aab790c5",
   "metadata": {},
   "outputs": [],
   "source": [
    "for i in range(len(sound_speed_array)):\n",
    "    sound_speed_array[i] = (nb_array[i]*0.153*hc**3)**2 / neutron_e_eff[i] * part_mu_tilde_nb[i]**2 / part_mu_tilde_xp[i]"
   ]
  },
  {
   "cell_type": "code",
   "execution_count": 100,
   "id": "762c6ee8",
   "metadata": {},
   "outputs": [
    {
     "data": {
      "text/plain": [
       "[<matplotlib.lines.Line2D at 0x7fa61947f670>]"
      ]
     },
     "execution_count": 100,
     "metadata": {},
     "output_type": "execute_result"
    },
    {
     "data": {
      "image/png": "[encoded data removed]",
      "text/plain": [
       "<Figure size 432x288 with 1 Axes>"
      ]
     },
     "metadata": {
      "needs_background": "light"
     },
     "output_type": "display_data"
    }
   ],
   "source": [
    "plt.plot(nb_array*0.153, sound_speed_array)"
   ]
  },
  {
   "cell_type": "markdown",
   "id": "e44642e5",
   "metadata": {},
   "source": [
    "### Next Issue - Calculating $\\partial \\sigma/\\partial n_B$"
   ]
  },
  {
   "cell_type": "code",
   "execution_count": null,
   "id": "9f036f28",
   "metadata": {},
   "outputs": [],
   "source": []
  }
 ],
 "metadata": {
  "kernelspec": {
   "display_name": "Python 3",
   "language": "python",
   "name": "python3"
  },
  "language_info": {
   "codemirror_mode": {
    "name": "ipython",
    "version": 3
   },
   "file_extension": ".py",
   "mimetype": "text/x-python",
   "name": "python",
   "nbconvert_exporter": "python",
   "pygments_lexer": "ipython3",
   "version": "3.8.8"
  }
 },
 "nbformat": 4,
 "nbformat_minor": 5
}
