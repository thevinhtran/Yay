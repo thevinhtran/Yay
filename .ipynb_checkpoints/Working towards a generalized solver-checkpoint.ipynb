{
 "cells": [
  {
   "cell_type": "markdown",
   "id": "bf18dafc",
   "metadata": {},
   "source": [
    "# Attempt at writing down generalized solver\n",
    "1. Have written up a library of functions. Testing here to write down a single function to call to get us everything we want. "
   ]
  },
  {
   "cell_type": "code",
   "execution_count": 1,
   "id": "6bc2e81e",
   "metadata": {},
   "outputs": [],
   "source": [
    "from broyden import *\n",
    "from solver_helper import *\n",
    "\n",
    "import matplotlib.pyplot as plt \n",
    "import time\n",
    "\n",
    "n0 = 0.153"
   ]
  },
  {
   "cell_type": "markdown",
   "id": "da8e09e6",
   "metadata": {},
   "source": [
    "### Goal: \n",
    "1. Declare our set of baryons, leptons, and mesons. \n",
    "2. In the context of our gm3 model: get all the equations. \n",
    "3. Solve. \n",
    "4. Print out a data table. "
   ]
  },
  {
   "cell_type": "code",
   "execution_count": 2,
   "id": "92ce7beb",
   "metadata": {},
   "outputs": [],
   "source": [
    "# have to initialize eos\n",
    "gm3 = eos(g_sigma_N = 8.784820, g_omega_N = 8.720086, g_rho_N = 8.544795, g_phi_N = 0.0, b = 0.008628, c = -0.002433,\\\n",
    "             g_sigma_H = 5.408849, g_omega_H = 5.813391, g_rho_H = 0.0, g_phi_H = -4.110688)\n",
    "#gm3_sym = eos(g_sigma_N_sym, g_omega_N_sym, g_rho_N_sym, g_phi_N_sym, b_sym, c_sym, g_sigma_H_sym, g_omega_H_sym, g_rho_H_sym, g_phi_H_sym)\n",
    "\n",
    "# can think about writing a symbolic declarerer func since this is a little ugly\n",
    "# - can store values ahead of time... but would be good to be"
   ]
  },
  {
   "cell_type": "code",
   "execution_count": null,
   "id": "84d071c0",
   "metadata": {},
   "outputs": [],
   "source": [
    "#def load_model(eos_array):\n",
    "    # pass a Walecka RMF type model with coupling constants and stores coupling constants in both\n",
    "    # an eos object and distributes values to the baryons \n",
    "        "
   ]
  },
  {
   "cell_type": "code",
   "execution_count": 13,
   "id": "7babe8a9",
   "metadata": {},
   "outputs": [],
   "source": [
    "# have to declare lists\n",
    "# note: baryons are capitalized! for reasons... \n",
    "baryon_list = [Proton, Neutron]\n",
    "meson_list = [sigma, omega, rho]\n",
    "lepton_list = [electron, muon]"
   ]
  },
  {
   "cell_type": "code",
   "execution_count": 4,
   "id": "ede02d15",
   "metadata": {},
   "outputs": [],
   "source": [
    "# have to initialize baryons with coupling constants\n",
    "# and sigma meson with sigma meson coupling \n",
    "init(gm3, baryon_list)"
   ]
  },
  {
   "cell_type": "code",
   "execution_count": 5,
   "id": "594eebf9",
   "metadata": {},
   "outputs": [
    {
     "data": {
      "text/latex": [
       "$\\displaystyle b g_{\\sigma N}^{3} m_{n} \\sigma^{2} + c g_{\\sigma N}^{4} \\sigma^{3} - \\frac{1.0 g_{\\sigma N}^{2} \\left(- g_{\\sigma N} \\sigma + m_{n}\\right) \\left(k_{n} \\sqrt{k_{n}^{2} + \\left(- g_{\\sigma N} \\sigma + m_{n}\\right)^{2}} - \\left(- g_{\\sigma N} \\sigma + m_{n}\\right)^{2} \\log{\\left(\\sqrt{\\frac{\\left(k_{n} + \\sqrt{k_{n}^{2} + \\left(- g_{\\sigma N} \\sigma + m_{n}\\right)^{2}}\\right)^{2}}{\\left(- g_{\\sigma N} \\sigma + m_{n}\\right)^{2}}} \\right)}\\right)}{\\pi^{2}} - \\frac{1.0 g_{\\sigma N}^{2} \\left(- g_{\\sigma N} \\sigma + m_{p}\\right) \\left(k_{p} \\sqrt{k_{p}^{2} + \\left(- g_{\\sigma N} \\sigma + m_{p}\\right)^{2}} - \\left(- g_{\\sigma N} \\sigma + m_{p}\\right)^{2} \\log{\\left(\\sqrt{\\frac{\\left(k_{p} + \\sqrt{k_{p}^{2} + \\left(- g_{\\sigma N} \\sigma + m_{p}\\right)^{2}}\\right)^{2}}{\\left(- g_{\\sigma N} \\sigma + m_{p}\\right)^{2}}} \\right)}\\right)}{\\pi^{2}} + m_{\\sigma}^{2} \\sigma$"
      ],
      "text/plain": [
       "b*g_sigma_N**3*m_n*sigma**2 + c*g_sigma_N**4*sigma**3 - 1.0*g_sigma_N**2*(-g_sigma_N*sigma + m_n)*(k_n*sqrt(k_n**2 + (-g_sigma_N*sigma + m_n)**2) - (-g_sigma_N*sigma + m_n)**2*log(sqrt((k_n + sqrt(k_n**2 + (-g_sigma_N*sigma + m_n)**2))**2/(-g_sigma_N*sigma + m_n)**2)))/pi**2 - 1.0*g_sigma_N**2*(-g_sigma_N*sigma + m_p)*(k_p*sqrt(k_p**2 + (-g_sigma_N*sigma + m_p)**2) - (-g_sigma_N*sigma + m_p)**2*log(sqrt((k_p + sqrt(k_p**2 + (-g_sigma_N*sigma + m_p)**2))**2/(-g_sigma_N*sigma + m_p)**2)))/pi**2 + m_sigma**2*sigma"
      ]
     },
     "execution_count": 5,
     "metadata": {},
     "output_type": "execute_result"
    }
   ],
   "source": [
    "eqn1 = sigma_eom(baryon_list)\n",
    "eqn1\n",
    "# at this point, we see that we have a purely symbolic function. We deal with this by then substituting in numerical values.\n",
    "# alternatively, we can substitute in directly some numerical values from the git go. Which would probably be more efficient \n",
    "# but sacrifice some clarity. "
   ]
  },
  {
   "cell_type": "code",
   "execution_count": 7,
   "id": "9bd44ebc",
   "metadata": {},
   "outputs": [
    {
     "data": {
      "text/latex": [
       "$\\displaystyle - g_{\\omega N} k_{n}^{3} - g_{\\omega N} k_{p}^{3} + 3 m_{\\omega}^{2} \\omega \\pi^{2}$"
      ],
      "text/plain": [
       "-g_omega_N*k_n**3 - g_omega_N*k_p**3 + 3*m_omega**2*omega*pi**2"
      ]
     },
     "execution_count": 7,
     "metadata": {},
     "output_type": "execute_result"
    }
   ],
   "source": [
    "eqn2 = omega_eom(baryon_list)\n",
    "eqn2"
   ]
  },
  {
   "cell_type": "code",
   "execution_count": 8,
   "id": "182bb85d",
   "metadata": {},
   "outputs": [
    {
     "data": {
      "text/latex": [
       "$\\displaystyle 0.5 g_{\\rho N} k_{n}^{3} - 0.5 g_{\\rho N} k_{p}^{3} + 3 m_{\\rho}^{2} \\pi^{2} \\rho$"
      ],
      "text/plain": [
       "0.5*g_rho_N*k_n**3 - 0.5*g_rho_N*k_p**3 + 3*m_rho**2*pi**2*rho"
      ]
     },
     "execution_count": 8,
     "metadata": {},
     "output_type": "execute_result"
    }
   ],
   "source": [
    "eqn3 = rho_eom(baryon_list)\n",
    "eqn3"
   ]
  },
  {
   "cell_type": "code",
   "execution_count": 9,
   "id": "f58984f5",
   "metadata": {},
   "outputs": [
    {
     "data": {
      "text/latex": [
       "$\\displaystyle - g_{\\phi N} k_{n}^{3} - g_{\\phi N} k_{p}^{3} + 3 m_{\\phi}^{2} \\phi \\pi^{2}$"
      ],
      "text/plain": [
       "-g_phi_N*k_n**3 - g_phi_N*k_p**3 + 3*m_phi**2*phi*pi**2"
      ]
     },
     "execution_count": 9,
     "metadata": {},
     "output_type": "execute_result"
    }
   ],
   "source": [
    "eqn4 = phi_eom(baryon_list)\n",
    "eqn4"
   ]
  },
  {
   "cell_type": "code",
   "execution_count": 10,
   "id": "89acf3c2",
   "metadata": {},
   "outputs": [
    {
     "data": {
      "text/latex": [
       "$\\displaystyle 1.0 g_{\\rho N} \\rho + \\sqrt{k_{e}^{2} + m_{e}^{2}} - \\sqrt{k_{n}^{2} + \\left(- g_{\\sigma N} \\sigma + m_{n}\\right)^{2}} + \\sqrt{k_{p}^{2} + \\left(- g_{\\sigma N} \\sigma + m_{p}\\right)^{2}}$"
      ],
      "text/plain": [
       "1.0*g_rho_N*rho + sqrt(k_e**2 + m_e**2) - sqrt(k_n**2 + (-g_sigma_N*sigma + m_n)**2) + sqrt(k_p**2 + (-g_sigma_N*sigma + m_p)**2)"
      ]
     },
     "execution_count": 10,
     "metadata": {},
     "output_type": "execute_result"
    }
   ],
   "source": [
    "eqn5 = beta_equilibrium(baryon_list)\n",
    "eqn5[0]"
   ]
  },
  {
   "cell_type": "code",
   "execution_count": 14,
   "id": "4300aadc",
   "metadata": {},
   "outputs": [
    {
     "data": {
      "text/latex": [
       "$\\displaystyle - k_{e} - k_{\\mu} + k_{p}$"
      ],
      "text/plain": [
       "-k_e - k_mu + k_p"
      ]
     },
     "execution_count": 14,
     "metadata": {},
     "output_type": "execute_result"
    }
   ],
   "source": [
    "eqn6 = charge_conservation(baryon_list, lepton_list)\n",
    "eqn6"
   ]
  },
  {
   "cell_type": "code",
   "execution_count": 11,
   "id": "847f79b6",
   "metadata": {},
   "outputs": [],
   "source": [
    "func_gen = [sigma_eom, omega_eom, rho_eom, phi_eom, beta_equilibrium, charge_conservation, baryon_num_conservation] \n",
    "\n",
    "# need to figure out how to generate all these equations and like unpack the beta equilibrium ones.. \n",
    "def sys_eqn_gen(baryon_sym_list, lepton_sym_list):\n",
    "    # function to generate all our equations and to store in an array\n",
    "    # called sys_eqn_gen \n",
    "    \n",
    "    sys_eqn = []\n",
    "    \n",
    "    for function in func_gen:\n",
    "        if (function == charge_conservation):\n",
    "            # since charge conservation depends on both baryons and leptons\n",
    "            sys_eqn.append(function(baryon_sym_list, lepton_sym_list))\n",
    "        elif (function == beta_equilibrium):\n",
    "             # beta condition function returns an array with multiple equations\n",
    "            # we unpack that here\n",
    "            beta_conditions = function(baryon_sym_list)\n",
    "            for equation in beta_conditions:\n",
    "                sys_eqn.append(equation)\n",
    "        else:\n",
    "            sys_eqn.append(function(baryon_sym_list))\n",
    "            \n",
    "    return sys_eqn"
   ]
  },
  {
   "cell_type": "code",
   "execution_count": 17,
   "id": "b483310a",
   "metadata": {},
   "outputs": [
    {
     "data": {
      "text/plain": [
       "[b*g_sigma_N**3*m_n*sigma**2 + c*g_sigma_N**4*sigma**3 - 1.0*g_sigma_N**2*(-g_sigma_N*sigma + m_n)*(k_n*sqrt(k_n**2 + (-g_sigma_N*sigma + m_n)**2) - (-g_sigma_N*sigma + m_n)**2*log(sqrt((k_n + sqrt(k_n**2 + (-g_sigma_N*sigma + m_n)**2))**2/(-g_sigma_N*sigma + m_n)**2)))/pi**2 - 1.0*g_sigma_N**2*(-g_sigma_N*sigma + m_p)*(k_p*sqrt(k_p**2 + (-g_sigma_N*sigma + m_p)**2) - (-g_sigma_N*sigma + m_p)**2*log(sqrt((k_p + sqrt(k_p**2 + (-g_sigma_N*sigma + m_p)**2))**2/(-g_sigma_N*sigma + m_p)**2)))/pi**2 + m_sigma**2*sigma,\n",
       " -g_omega_N*k_n**3 - g_omega_N*k_p**3 + 3*m_omega**2*omega*pi**2,\n",
       " 0.5*g_rho_N*k_n**3 - 0.5*g_rho_N*k_p**3 + 3*m_rho**2*pi**2*rho,\n",
       " -g_phi_N*k_n**3 - g_phi_N*k_p**3 + 3*m_phi**2*phi*pi**2,\n",
       " 1.0*g_rho_N*rho + sqrt(k_e**2 + m_e**2) - sqrt(k_n**2 + (-g_sigma_N*sigma + m_n)**2) + sqrt(k_p**2 + (-g_sigma_N*sigma + m_p)**2),\n",
       " -k_e - k_mu + k_p,\n",
       " 3*n_B*pi**2]"
      ]
     },
     "execution_count": 17,
     "metadata": {},
     "output_type": "execute_result"
    }
   ],
   "source": [
    "A = sys_eqn_gen(baryon_list, lepton_list)\n",
    "A"
   ]
  },
  {
   "cell_type": "code",
   "execution_count": 21,
   "id": "14a82b52",
   "metadata": {},
   "outputs": [],
   "source": [
    "def subs(sys_eqn):\n",
    "    for i in range(len(sys_eqn)):\n",
    "        sys_eqn[i] = substitution(sys_eqn[i], baryon_list, meson_list, lepton_list)\n",
    "    return sys_eqn"
   ]
  },
  {
   "cell_type": "code",
   "execution_count": 22,
   "id": "85a46a7c",
   "metadata": {},
   "outputs": [
    {
     "data": {
      "text/plain": [
       "[-14.4901732481197*sigma**3 + 5492.55393864515*sigma**2 + 302500.0*sigma - 7.8192660309548*(939.0 - 8.78482*sigma)*(939.0*k_n*sqrt(1.13414560841808e-6*k_n**2 + (1 - 0.00935550585729499*sigma)**2) - 881721.0*(1 - 0.00935550585729499*sigma)**2*log(1.0*sqrt((0.00106496272630458*k_n + sqrt(1.13414560841808e-6*k_n**2 + (1 - 0.00935550585729499*sigma)**2))**2/(1 - 0.00935550585729499*sigma)**2))) - 7.8192660309548*(939.0 - 8.78482*sigma)*(939.0*k_p*sqrt(1.13414560841808e-6*k_p**2 + (1 - 0.009355505857295*sigma)**2) - 881721.0*(1 - 0.009355505857295*sigma)**2*log(1.0*sqrt((0.00106496272630458*k_p + sqrt(1.13414560841808e-6*k_p**2 + (1 - 0.009355505857295*sigma)**2))**2/(1 - 0.009355505857295*sigma)**2))),\n",
       " -8.720086*k_n**3 - 8.720086*k_p**3 + 18152837.6779784*omega,\n",
       " 4.2723975*k_n**3 - 4.2723975*k_p**3 + 17555065.3482176*rho,\n",
       " 29.6088132032681*m_phi**2*phi,\n",
       " 8.544795*rho + sqrt(k_e**2 + 0.2601) - 939.0*sqrt(1.13414560841808e-6*k_n**2 + (1 - 0.00935550585729499*sigma)**2) + 939.0*sqrt(1.13414560841808e-6*k_p**2 + (1 - 0.009355505857295*sigma)**2),\n",
       " -k_e - k_mu + k_p,\n",
       " 29.6088132032681*n_B]"
      ]
     },
     "execution_count": 22,
     "metadata": {},
     "output_type": "execute_result"
    }
   ],
   "source": [
    "subs(A)"
   ]
  },
  {
   "cell_type": "code",
   "execution_count": 23,
   "id": "232fc4ad",
   "metadata": {},
   "outputs": [
    {
     "data": {
      "text/latex": [
       "$\\displaystyle - 14.4901732481197 \\sigma^{3} + 5492.55393864515 \\sigma^{2} + 302500.0 \\sigma - 7.8192660309548 \\left(939.0 - 8.78482 \\sigma\\right) \\left(939.0 k_{n} \\sqrt{1.13414560841808 \\cdot 10^{-6} k_{n}^{2} + \\left(1 - 0.00935550585729499 \\sigma\\right)^{2}} - 881721.0 \\left(1 - 0.00935550585729499 \\sigma\\right)^{2} \\log{\\left(1.0 \\sqrt{\\frac{\\left(0.00106496272630458 k_{n} + \\sqrt{1.13414560841808 \\cdot 10^{-6} k_{n}^{2} + \\left(1 - 0.00935550585729499 \\sigma\\right)^{2}}\\right)^{2}}{\\left(1 - 0.00935550585729499 \\sigma\\right)^{2}}} \\right)}\\right) - 7.8192660309548 \\left(939.0 - 8.78482 \\sigma\\right) \\left(939.0 k_{p} \\sqrt{1.13414560841808 \\cdot 10^{-6} k_{p}^{2} + \\left(1 - 0.009355505857295 \\sigma\\right)^{2}} - 881721.0 \\left(1 - 0.009355505857295 \\sigma\\right)^{2} \\log{\\left(1.0 \\sqrt{\\frac{\\left(0.00106496272630458 k_{p} + \\sqrt{1.13414560841808 \\cdot 10^{-6} k_{p}^{2} + \\left(1 - 0.009355505857295 \\sigma\\right)^{2}}\\right)^{2}}{\\left(1 - 0.009355505857295 \\sigma\\right)^{2}}} \\right)}\\right)$"
      ],
      "text/plain": [
       "-14.4901732481197*sigma**3 + 5492.55393864515*sigma**2 + 302500.0*sigma - 7.8192660309548*(939.0 - 8.78482*sigma)*(939.0*k_n*sqrt(1.13414560841808e-6*k_n**2 + (1 - 0.00935550585729499*sigma)**2) - 881721.0*(1 - 0.00935550585729499*sigma)**2*log(1.0*sqrt((0.00106496272630458*k_n + sqrt(1.13414560841808e-6*k_n**2 + (1 - 0.00935550585729499*sigma)**2))**2/(1 - 0.00935550585729499*sigma)**2))) - 7.8192660309548*(939.0 - 8.78482*sigma)*(939.0*k_p*sqrt(1.13414560841808e-6*k_p**2 + (1 - 0.009355505857295*sigma)**2) - 881721.0*(1 - 0.009355505857295*sigma)**2*log(1.0*sqrt((0.00106496272630458*k_p + sqrt(1.13414560841808e-6*k_p**2 + (1 - 0.009355505857295*sigma)**2))**2/(1 - 0.009355505857295*sigma)**2)))"
      ]
     },
     "execution_count": 23,
     "metadata": {},
     "output_type": "execute_result"
    }
   ],
   "source": [
    "A[0]"
   ]
  },
  {
   "cell_type": "code",
   "execution_count": 25,
   "id": "b0cf8c1c",
   "metadata": {},
   "outputs": [
    {
     "data": {
      "text/latex": [
       "$\\displaystyle - 8.720086 k_{n}^{3} - 8.720086 k_{p}^{3} + 18152837.6779784 \\omega$"
      ],
      "text/plain": [
       "-8.720086*k_n**3 - 8.720086*k_p**3 + 18152837.6779784*omega"
      ]
     },
     "execution_count": 25,
     "metadata": {},
     "output_type": "execute_result"
    }
   ],
   "source": [
    "A[1]"
   ]
  },
  {
   "cell_type": "code",
   "execution_count": 26,
   "id": "b1046ee8",
   "metadata": {},
   "outputs": [
    {
     "data": {
      "text/plain": [
       "[302500.0*sigma - 7.8192660309548*(939.0 - 8.78482*sigma)*(939.0*k_n*sqrt(1.13414560841808e-6*k_n**2 + (1 - 0.00935550585729499*sigma)**2) - 881721.0*(1 - 0.00935550585729499*sigma)**2*log(1.0*sqrt((0.00106496272630458*k_n + sqrt(1.13414560841808e-6*k_n**2 + (1 - 0.00935550585729499*sigma)**2))**2/(1 - 0.00935550585729499*sigma)**2))) - 7.8192660309548*(939.0 - 8.78482*sigma)*(939.0*k_p*sqrt(1.13414560841808e-6*k_p**2 + (1 - 0.009355505857295*sigma)**2) - 881721.0*(1 - 0.009355505857295*sigma)**2*log(1.0*sqrt((0.00106496272630458*k_p + sqrt(1.13414560841808e-6*k_p**2 + (1 - 0.009355505857295*sigma)**2))**2/(1 - 0.009355505857295*sigma)**2))),\n",
       " -8.720086*k_n**3 - 8.720086*k_p**3 + 18152837.6779784*omega,\n",
       " 4.2723975*k_n**3 - 4.2723975*k_p**3 + 17555065.3482176*rho,\n",
       " 29.6088132032681*m_phi**2*phi,\n",
       " 8.544795*rho + sqrt(k_F_e**2 + 0.2601) - 939.0*sqrt(1.13414560841808e-6*k_n**2 + (1 - 0.00935550585729499*sigma)**2) + 939.0*sqrt(1.13414560841808e-6*k_p**2 + (1 - 0.009355505857295*sigma)**2),\n",
       " -k_F_e - k_F_mu + k_p,\n",
       " 29.6088132032681*n_B]"
      ]
     },
     "execution_count": 26,
     "metadata": {},
     "output_type": "execute_result"
    }
   ],
   "source": [
    "B"
   ]
  },
  {
   "cell_type": "code",
   "execution_count": 31,
   "id": "62acd8c4",
   "metadata": {},
   "outputs": [
    {
     "data": {
      "text/latex": [
       "$\\displaystyle - k_{F e} - k_{F \\mu} + k_{p}$"
      ],
      "text/plain": [
       "-k_F_e - k_F_mu + k_p"
      ]
     },
     "execution_count": 31,
     "metadata": {},
     "output_type": "execute_result"
    }
   ],
   "source": [
    "B[5]"
   ]
  },
  {
   "cell_type": "code",
   "execution_count": null,
   "id": "2c2fa1ac",
   "metadata": {},
   "outputs": [],
   "source": [
    "def solver():\n",
    "    # generate nB array\n",
    "    nb_array = np.arange(0.27, 0.5, 0.01)\n",
    "    nb_array_mev = nb_array*n0*hc**3\n",
    "    \n",
    "    # generate data storage arrays\n",
    "    \n",
    "    \n",
    "    # load system of equations, ie, call sys_eqn_gen and subs \n",
    "    \n",
    "    \n",
    "    # provide an initial guess\n",
    "    \n",
    "    # for loop to iterate through nB, solve and store and update \n",
    "    \n",
    "    # return tabular data for each array. "
   ]
  },
  {
   "cell_type": "code",
   "execution_count": null,
   "id": "1f42f1d2",
   "metadata": {},
   "outputs": [],
   "source": [
    "def fraction():\n",
    "    # take data from previous section and then find the fraction... "
   ]
  },
  {
   "cell_type": "code",
   "execution_count": null,
   "id": "1d193114",
   "metadata": {},
   "outputs": [],
   "source": [
    "def new_solver():\n",
    "    # load in entire system of particles to consider\n",
    "    \n",
    "    # need to build in some method of updating the system of equations to solve as chemical potential becomes high\n",
    "    # enough for new particles to begin populating the system... \n",
    "    \n",
    "    # \n",
    "    \n",
    "    # "
   ]
  },
  {
   "cell_type": "markdown",
   "id": "52fd79ef",
   "metadata": {},
   "source": [
    "### Threshold Condition\n",
    "We have a condition on the baryons. They will begin to occupy the system when their chemical potential satisfies the following equation\n",
    "$$\n",
    "    \\mu_n - q\\mu_e \\geq g_{\\omega B}\\omega + I_{3B}g_{\\rho B}\\rho + m_* \\qquad m_* = m_B - g_\\sigma \\sigma\n",
    "$$\n",
    "which is derived from the the chemical potential of the baryon being greater than or equal to its chemical potential in the case where it's momentum is zero. Ie, \n",
    "$$\n",
    "     {\\mu_B}_{\\lim k_F \\rightarrow 0} = \\lim_{k_F \\rightarrow 0}\\left[\\sqrt{k_F^2 + m_*^2} + g_{\\omega B}\\omega + I_{3B}g_{\\rho B}\\rho\\right] \n",
    "$$\n",
    "At each step, we need to check if the chemical potentials have become significant enough to populate. Adds significant complexity to our system tbh."
   ]
  },
  {
   "cell_type": "code",
   "execution_count": 32,
   "id": "08b5963c",
   "metadata": {},
   "outputs": [],
   "source": [
    "def bare_chemical_potential(baryon, omega_field, rho_field, sigma_field):\n",
    "    # calculates bare chemical potential \n",
    "    return baryon.num_g_omega * omega_field + baryon.isospin * barygon.g_rho * rho_field\\\n",
    "            + baryon.mass - baryon.g_sigma * sigma_field"
   ]
  },
  {
   "cell_type": "code",
   "execution_count": null,
   "id": "63edfadf",
   "metadata": {},
   "outputs": [],
   "source": [
    "def threshold(baryon, omega_field, rho_field, sigma_field, neutron_chem_pot, electron_chem_pot):\n",
    "    # checks at end of each step if the chemical potential is high enough to begin populating \n",
    "    # a new baryon species \n",
    "    # would then need to update \n",
    "    if (neutron_chem_pot - baryon.charge * electron_chem_pot >= bare_chemical_potential(baryon, omega_field, rho_field, sigma_field)):\n",
    "        baryon_list.append(baryon)"
   ]
  },
  {
   "cell_type": "code",
   "execution_count": null,
   "id": "de615647",
   "metadata": {},
   "outputs": [],
   "source": [
    "def mean_field_solve(baryon_list, lepton_list, meson_list):\n",
    "    # Takes list of particles and returns the solved values\n",
    "    # stores in array "
   ]
  }
 ],
 "metadata": {
  "kernelspec": {
   "display_name": "Python 3",
   "language": "python",
   "name": "python3"
  },
  "language_info": {
   "codemirror_mode": {
    "name": "ipython",
    "version": 3
   },
   "file_extension": ".py",
   "mimetype": "text/x-python",
   "name": "python",
   "nbconvert_exporter": "python",
   "pygments_lexer": "ipython3",
   "version": "3.8.8"
  }
 },
 "nbformat": 4,
 "nbformat_minor": 5
}
