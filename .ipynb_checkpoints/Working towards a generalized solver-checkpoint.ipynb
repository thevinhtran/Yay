{
 "cells": [
  {
   "cell_type": "markdown",
   "id": "bf18dafc",
   "metadata": {},
   "source": [
    "# Attempt at writing down generalized solver\n",
    "1. Have written up a library of functions. Testing here to write down a single function to call to get us everything we want. "
   ]
  },
  {
   "cell_type": "code",
   "execution_count": 1,
   "id": "6bc2e81e",
   "metadata": {},
   "outputs": [],
   "source": [
    "from broyden import *\n",
    "from solver_helper import *\n",
    "\n",
    "import matplotlib.pyplot as plt \n",
    "import pandas as pd\n",
    "import time\n",
    "\n",
    "n0 = 0.153"
   ]
  },
  {
   "cell_type": "markdown",
   "id": "da8e09e6",
   "metadata": {},
   "source": [
    "### Goal: \n",
    "1. Declare our set of baryons, leptons, and mesons. \n",
    "2. In the context of our gm3 model: get all the equations. \n",
    "3. Solve. \n",
    "4. Print out a data table. "
   ]
  },
  {
   "cell_type": "code",
   "execution_count": 2,
   "id": "92ce7beb",
   "metadata": {},
   "outputs": [],
   "source": [
    "# have to initialize eos\n",
    "#gm3 = eos(g_sigma_N = 8.784820, g_omega_N = 8.720086, g_rho_N = 8.544795, g_phi_N = 0.0, b = 0.008628, c = -0.002433,\\\n",
    "#             g_sigma_H = 5.408849, g_omega_H = 5.813391, g_rho_H = 0.0, g_phi_H = -4.110688)\n",
    "rmf = eos(g_sigma_N = 8.79509376389, g_omega_N = 9.1815177, g_rho_N = 9.7793745, b = 0.00414, c = 0.00716)"
   ]
  },
  {
   "cell_type": "code",
   "execution_count": 3,
   "id": "7babe8a9",
   "metadata": {},
   "outputs": [],
   "source": [
    "# have to declare lists\n",
    "# note: baryons are capitalized! for reasons... \n",
    "baryon_list = [Neutron, Proton]\n",
    "meson_list = [sigma, omega]\n",
    "lepton_list = [electron]"
   ]
  },
  {
   "cell_type": "code",
   "execution_count": 4,
   "id": "ede02d15",
   "metadata": {},
   "outputs": [],
   "source": [
    "# have to initialize baryons with coupling constants\n",
    "# and sigma meson with sigma meson coupling \n",
    "init(rmf, baryon_list, meson_list)"
   ]
  },
  {
   "cell_type": "code",
   "execution_count": 15,
   "id": "2389c9fc",
   "metadata": {
    "scrolled": true
   },
   "outputs": [],
   "source": [
    "A = sys_eqn_gen(baryon_list, meson_list, lepton_list)\n",
    "nB = 0.27*0.153*hc**3\n",
    "subs(A, nB, baryon_list, meson_list, lepton_list);"
   ]
  },
  {
   "cell_type": "code",
   "execution_count": 7,
   "id": "39239647",
   "metadata": {},
   "outputs": [],
   "source": [
    "x_guess = np.array([8.0, 4.50, 210.0, 43.0, 43.0])"
   ]
  },
  {
   "cell_type": "code",
   "execution_count": 8,
   "id": "12e3dcfa",
   "metadata": {},
   "outputs": [
    {
     "data": {
      "text/plain": [
       "[sigma, omega, k_n, k_p, k_e]"
      ]
     },
     "execution_count": 8,
     "metadata": {},
     "output_type": "execute_result"
    }
   ],
   "source": [
    "ind_vars2 = ind_variables(baryon_list, lepton_list, meson_list)\n",
    "ind_vars2"
   ]
  },
  {
   "cell_type": "code",
   "execution_count": null,
   "id": "9ae53f7d",
   "metadata": {},
   "outputs": [],
   "source": [
    "ans2 = Newton(A, ind_vars2, x_guess)"
   ]
  },
  {
   "cell_type": "code",
   "execution_count": 17,
   "id": "7c247360",
   "metadata": {},
   "outputs": [],
   "source": [
    "nB = 0.27*0.153*hc**3\n",
    "\n",
    "baryon_list = [Neutron, Proton]\n",
    "meson_list = [sigma, omega]\n",
    "lepton_list = [electron]\n",
    "\n",
    "x_guess = np.array([8.0, 4.50, 210.0, 43.0, 43.0])\n",
    "\n",
    "def solve(nB, baryon_list, meson_list, lepton_list, x_guess):\n",
    "    \n",
    "    # initialize \n",
    "    init(rmf, baryon_list, meson_list)\n",
    "    \n",
    "    # generate system of equations and substitute in values \n",
    "    A = sys_eqn_gen(baryon_list, meson_list, lepton_list)\n",
    "    subs(A, nB, baryon_list, meson_list, lepton_list)\n",
    "    \n",
    "    # generate list of independent variables\n",
    "    ind_vars2 = ind_variables(baryon_list, lepton_list, meson_list)\n",
    "    \n",
    "    # solve the system \n",
    "    return Newton(A, ind_vars2, x_guess)"
   ]
  },
  {
   "cell_type": "markdown",
   "id": "52fd79ef",
   "metadata": {},
   "source": [
    "### Threshold Condition\n",
    "We have a condition on the baryons. They will begin to occupy the system when their chemical potential satisfies the following equation\n",
    "$$\n",
    "    \\mu_n - q\\mu_e \\geq g_{\\omega B}\\omega + I_{3B}g_{\\rho B}\\rho + m_* \\qquad m_* = m_B - g_\\sigma \\sigma\n",
    "$$\n",
    "which is derived from the the chemical potential of the baryon being greater than or equal to its chemical potential in the case where it's momentum is zero. Ie, \n",
    "$$\n",
    "     {\\mu_B}_{\\lim k_F \\rightarrow 0} = \\lim_{k_F \\rightarrow 0}\\left[\\sqrt{k_F^2 + m_*^2} + g_{\\omega B}\\omega + I_{3B}g_{\\rho B}\\rho\\right] \n",
    "$$\n",
    "At each step, we need to check if the chemical potentials have become significant enough to populate. Adds significant complexity to our system tbh."
   ]
  },
  {
   "cell_type": "markdown",
   "id": "b52265ed",
   "metadata": {},
   "source": [
    "## Fresh Attempt:\n",
    "1. Want to write down a function that will solve everything for us. Ie, we call it, specify the baryon, lepton, and meson lists. And we get back a matrix/Dataframe of the data. Also writes it out to a data file. "
   ]
  },
  {
   "cell_type": "code",
   "execution_count": 19,
   "id": "1682ee7c",
   "metadata": {},
   "outputs": [],
   "source": [
    "def potential_baryon_gen(baryon_list):\n",
    "    pot_list = []\n",
    "    for baryon in baryon_list:\n",
    "        if (baryon != Proton and baryon != Neutron):\n",
    "            pot_list.append(baryon)\n",
    "    return pot_list.sort(key = mass) \n",
    "\n",
    "def potential_lepton_gen(lepton_list):\n",
    "    pot_list = [] \n",
    "    for lepton in lepton_list:\n",
    "        if (lepton != electron):\n",
    "            pot_list.append(lepton)\n",
    "    return pot_list "
   ]
  },
  {
   "cell_type": "markdown",
   "id": "85635908",
   "metadata": {},
   "source": [
    "## Threshold Functions"
   ]
  },
  {
   "cell_type": "code",
   "execution_count": 46,
   "id": "32fdf6f5",
   "metadata": {},
   "outputs": [],
   "source": [
    "def neutron_chem_pot_num(fermi, meson_list):\n",
    "    # gets numerical values for neutron chemical potential \n",
    "    bare_chem = np.sqrt(fermi**2 + (Neutron.num_mass - Neutron.num_g_sigma*sigma_field)**2)\n",
    "    result = 0\n",
    "    for meson in meson_list:\n",
    "        if (meson == rho):\n",
    "            result += Neutron.isospin*Neutron.num_g_rho*rho.num_field\n",
    "        else:\n",
    "            result += meson.g_N*meson.num_field\n",
    "    return bare_chem + result "
   ]
  },
  {
   "cell_type": "code",
   "execution_count": 47,
   "id": "a76d1087",
   "metadata": {},
   "outputs": [],
   "source": [
    "def electron_chem_pot_num(fermi):\n",
    "    # return numerical chemical potential for electron\n",
    "    return np.sqrt(fermi**2 + electron.num_mass**2)"
   ]
  },
  {
   "cell_type": "code",
   "execution_count": 42,
   "id": "0e819d11",
   "metadata": {},
   "outputs": [],
   "source": [
    "def bare_chemical_potential(baryon, meson_list):\n",
    "    # finds bare chemical potential for a baryon given a list of mesons\n",
    "    # assumes meson objects are filled with field values\n",
    "    # this code is ugly and is not easily generalizable... \n",
    "    bare_chem = 0.0 \n",
    "    for meson in meson_list:\n",
    "        if (meson == sigma):\n",
    "            bare_chem += baryon.num_mass - baryon.num_g_sigma * sigma.num_field \n",
    "        elif (meson == omega):\n",
    "            bare_chem += baryon.num_g_omega * omega.num_field\n",
    "        elif (meson == rho):\n",
    "            bare_chem += baryon.num_g_rho * baryon.isospin * rho.num_field \n",
    "        elif (meson == phi):\n",
    "            bare_chem += baroyn.num_g_phi * rho.num_field \n",
    "    return bare_chem "
   ]
  },
  {
   "cell_type": "code",
   "execution_count": 48,
   "id": "65a01019",
   "metadata": {},
   "outputs": [],
   "source": [
    "def baryon_threshold(baryon, meson_list):\n",
    "    # checks to see if combination of neutron and electron chemical potential \n",
    "    \n",
    "    neutron_chem_pot = neutron_chem_pot_num(Neutron.num_kf, meson_list) \n",
    "    electron_chem_pot = electron_chem_pot_num(electron.num_kf)\n",
    "    \n",
    "    if (neutron_chem_pot - baryon.charge * electron_chem_pot >= bare_chemical_potential(baryon, meson_list)):\n",
    "        return True\n",
    "    else:\n",
    "        return False \n",
    "    \n",
    "def lepton_threshold(lepton):\n",
    "    # checks to see if electron chemical potential is large enough\n",
    "    # to support entrance of other leptons, namely, muon \n",
    "    if (electron.num_kf >= lepton.mass):\n",
    "        return True\n",
    "    else:\n",
    "        return False "
   ]
  },
  {
   "cell_type": "code",
   "execution_count": 53,
   "id": "651516d9",
   "metadata": {},
   "outputs": [],
   "source": [
    "def frac(fermi, nb):\n",
    "    return fermi**3 /3/np.pi**2/nb"
   ]
  },
  {
   "cell_type": "code",
   "execution_count": 59,
   "id": "349c29d0",
   "metadata": {},
   "outputs": [],
   "source": [
    "def full_solve(eos, baryon_list, lepton_list, meson_list):\n",
    "    # full solver \n",
    "    \n",
    "    # initialize all things... \n",
    "    init(eos, baryon_list, meson_list)\n",
    "    \n",
    "    # create nB array \n",
    "    nB = np.linspace(0.27, 0.50, 0.01) #nB/n0\n",
    "    nB_mev = nB*n0*hc**3 #nB_mev in mev+3 \n",
    "    \n",
    "    # create data array (pre-allocate)\n",
    "    row_size = len(nB)\n",
    "    column_size = len(meson_list) + 2*len(baryon_list + lepton_list) + 1 \n",
    "    data = np.zeros((row_size, column_size), dtype = 'float') \n",
    "    data[:,0] = nB \n",
    "    \n",
    "    # create first system: NPE\n",
    "    current_baryons = [Neutron, Proton]\n",
    "    current_leptons = [electron] \n",
    "    \n",
    "    # create lists for potential particles \n",
    "    potential_baryons = potential_baryon_gen(baryon_list)\n",
    "    potential_leptons = potential_lepton_gen(lepton_list) \n",
    "    \n",
    "\n",
    "    # independent variables\n",
    "    ind_vars = ind_variables(current_baryons, current_leptons, meson_list)\n",
    "    \n",
    "    # initial guess for NPE matter \n",
    "    x_guess = [8.00, 4.50, -2.25, 210.0, 45.0, 45.0] \n",
    "    \n",
    "    \n",
    "    # iterate through baryon density nB \n",
    "    for i in range(len(nB_mev)): \n",
    "        \n",
    "        # update our system: \n",
    "        \n",
    "        Bool = baryon_threshold(baryon, meson_list) \n",
    "        if (Bool):\n",
    "            current_baryons.append(potential_baryons[0])\n",
    "            potential_baryons.remove(potential_baryons[0])\n",
    "            x_guess.append('0')\n",
    "        \n",
    "        Bool = lepton_threshold(lepton)\n",
    "        if (Bool):\n",
    "            current_leptons.append(potential_leptons[0])\n",
    "            potential_leptons.remove(potential_leptons[0])\n",
    "            x_guess.append('0')\n",
    "        \n",
    "        # \n",
    "        init(rmf, baryon_list, meson_list)\n",
    "            \n",
    "        # generate system of equations \n",
    "        sys_eqn = sys_eqn_gen(current_baryons, meson_list, current_leptons)\n",
    "        subs(sys_eqn)\n",
    "        \n",
    "        # generate independent variables \n",
    "        ind_vars = ind_variables(current_baryons, current_leptons, meson_list)\n",
    "        \n",
    "        # call solver, broyden returns a vector with solutions to independent variables\n",
    "        # very importantly, the independent variables are ordered: sigma, omega, rho, phi\n",
    "        answer = broyden(sys_eqn, ind_vars, x_guess)\n",
    "        \n",
    "        # append values to data file \n",
    "        for j in range(len(column_size)-1):\n",
    "            data[i][j+1] = answer[j]\n",
    "        \n",
    "        \n",
    "        # update important values\n",
    "        pseudo_dict = [ind_vars, answer]\n",
    "        for k in range(len(ind_vars)):\n",
    "            if (k == sigma.sym_field):\n",
    "                sigma.num_field = answer[k]\n",
    "            elif (k == omega.sym_field):\n",
    "                omega.num_field = answer[k]\n",
    "            elif (k == rho.sym_field):\n",
    "                rho.num_field = answer[k]\n",
    "            elif (k == phi.sym_field):\n",
    "                phi.num_field = answer[k]\n",
    "            elif (k == Neutron.sym_kf):\n",
    "                Neutron.num_kf = answer[k]\n",
    "            elif (k == electron.sym_kf):\n",
    "                electron.num_kf = answer[k]\n",
    "        \n",
    "        # update x_guess\n",
    "        x_guess = answer \n",
    "        \n",
    "    # fill in fractions \n",
    "    for rem in range(len(nB)):\n",
    "        for emilia in range(len(ind_vars)):\n",
    "            data[rem][emilia + len(meson_list + baryon_list + lepton_list) + 1]\\\n",
    "                = frac(data[rem][0], data[rem][emilia + meson_list + 1])\n",
    "         \n",
    "    # convert data array to dataframe \n",
    "    data_frame = pd.DataFrame(data, columns = column_name(baryon_list, meson_list, lepton_list))\n",
    "    \n",
    "    \n",
    "    # write out dataframe to csv file \n",
    "    data_frame.to_csv('data.csv', float_format = '')\n",
    "    \n",
    "    return data_frame "
   ]
  },
  {
   "cell_type": "code",
   "execution_count": null,
   "id": "c6138b0e",
   "metadata": {},
   "outputs": [],
   "source": []
  }
 ],
 "metadata": {
  "kernelspec": {
   "display_name": "Python 3",
   "language": "python",
   "name": "python3"
  },
  "language_info": {
   "codemirror_mode": {
    "name": "ipython",
    "version": 3
   },
   "file_extension": ".py",
   "mimetype": "text/x-python",
   "name": "python",
   "nbconvert_exporter": "python",
   "pygments_lexer": "ipython3",
   "version": "3.8.8"
  }
 },
 "nbformat": 4,
 "nbformat_minor": 5
}
