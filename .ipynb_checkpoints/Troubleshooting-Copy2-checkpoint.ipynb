{
 "cells": [
  {
   "cell_type": "code",
   "execution_count": 4,
   "id": "7bae03b5",
   "metadata": {},
   "outputs": [],
   "source": [
    "import numpy as np\n",
    "import pandas as pd \n",
    "import matplotlib.pyplot as plt \n",
    "\n",
    "from minimal import * "
   ]
  },
  {
   "cell_type": "code",
   "execution_count": 5,
   "id": "c881c046",
   "metadata": {},
   "outputs": [],
   "source": [
    "gm3 = eos(g_sigma_N = 8.784820, g_omega_N = 8.720086, g_rho_N = 8.544795, g_phi_N = 0.0, b = 0.008628, c = -0.002433,\\\n",
    "             g_sigma_H = 5.408849, g_omega_H = 5.813391, g_rho_H = 0.0, g_phi_H = -4.110688)\n",
    "\n",
    "baryon_list = [Neutron, Proton, Lambda] \n",
    "meson_list = [sigma, omega, rho, phi] \n",
    "lepton_list = [electron]\n",
    "\n",
    "init_system(gm3, meson_list, baryon_list)"
   ]
  },
  {
   "cell_type": "code",
   "execution_count": 6,
   "id": "3183f0bb",
   "metadata": {
    "scrolled": true
   },
   "outputs": [
    {
     "data": {
      "text/html": [
       "<div>\n",
       "<style scoped>\n",
       "    .dataframe tbody tr th:only-of-type {\n",
       "        vertical-align: middle;\n",
       "    }\n",
       "\n",
       "    .dataframe tbody tr th {\n",
       "        vertical-align: top;\n",
       "    }\n",
       "\n",
       "    .dataframe thead th {\n",
       "        text-align: right;\n",
       "    }\n",
       "</style>\n",
       "<table border=\"1\" class=\"dataframe\">\n",
       "  <thead>\n",
       "    <tr style=\"text-align: right;\">\n",
       "      <th></th>\n",
       "      <th>nb/n0</th>\n",
       "      <th>P</th>\n",
       "      <th>E</th>\n",
       "      <th>Sigma</th>\n",
       "      <th>Rho</th>\n",
       "      <th>Omega</th>\n",
       "      <th>Phi</th>\n",
       "      <th>xn</th>\n",
       "      <th>xp</th>\n",
       "      <th>xe</th>\n",
       "      <th>xL</th>\n",
       "      <th>fermi_n</th>\n",
       "      <th>fermi_p</th>\n",
       "      <th>fermi_e</th>\n",
       "      <th>fermi_L</th>\n",
       "      <th>nan</th>\n",
       "    </tr>\n",
       "  </thead>\n",
       "  <tbody>\n",
       "    <tr>\n",
       "      <th>0</th>\n",
       "      <td>0.28</td>\n",
       "      <td>0.070686</td>\n",
       "      <td>40.349774</td>\n",
       "      <td>8.198005</td>\n",
       "      <td>-2.328705</td>\n",
       "      <td>4.681230</td>\n",
       "      <td>-0.000000</td>\n",
       "      <td>0.990944</td>\n",
       "      <td>0.009056</td>\n",
       "      <td>0.009056</td>\n",
       "      <td>0.000000</td>\n",
       "      <td>212.949950</td>\n",
       "      <td>44.522679</td>\n",
       "      <td>44.522679</td>\n",
       "      <td>0.000000</td>\n",
       "      <td>NaN</td>\n",
       "    </tr>\n",
       "    <tr>\n",
       "      <th>1</th>\n",
       "      <td>0.29</td>\n",
       "      <td>0.080052</td>\n",
       "      <td>41.793525</td>\n",
       "      <td>8.453906</td>\n",
       "      <td>-2.409592</td>\n",
       "      <td>4.848417</td>\n",
       "      <td>-0.000000</td>\n",
       "      <td>0.990479</td>\n",
       "      <td>0.009521</td>\n",
       "      <td>0.009521</td>\n",
       "      <td>0.000000</td>\n",
       "      <td>215.421820</td>\n",
       "      <td>45.803502</td>\n",
       "      <td>45.803502</td>\n",
       "      <td>0.000000</td>\n",
       "      <td>NaN</td>\n",
       "    </tr>\n",
       "    <tr>\n",
       "      <th>2</th>\n",
       "      <td>0.30</td>\n",
       "      <td>0.090248</td>\n",
       "      <td>43.237612</td>\n",
       "      <td>8.707875</td>\n",
       "      <td>-2.490287</td>\n",
       "      <td>5.015604</td>\n",
       "      <td>-0.000000</td>\n",
       "      <td>0.990008</td>\n",
       "      <td>0.009992</td>\n",
       "      <td>0.009992</td>\n",
       "      <td>0.000000</td>\n",
       "      <td>217.835457</td>\n",
       "      <td>47.075844</td>\n",
       "      <td>47.075844</td>\n",
       "      <td>0.000000</td>\n",
       "      <td>NaN</td>\n",
       "    </tr>\n",
       "    <tr>\n",
       "      <th>3</th>\n",
       "      <td>0.31</td>\n",
       "      <td>0.101300</td>\n",
       "      <td>44.682054</td>\n",
       "      <td>8.959955</td>\n",
       "      <td>-2.570788</td>\n",
       "      <td>5.182791</td>\n",
       "      <td>-0.000000</td>\n",
       "      <td>0.989530</td>\n",
       "      <td>0.010470</td>\n",
       "      <td>0.010470</td>\n",
       "      <td>0.000000</td>\n",
       "      <td>220.194014</td>\n",
       "      <td>48.339953</td>\n",
       "      <td>48.339953</td>\n",
       "      <td>0.000000</td>\n",
       "      <td>NaN</td>\n",
       "    </tr>\n",
       "    <tr>\n",
       "      <th>4</th>\n",
       "      <td>0.32</td>\n",
       "      <td>0.113235</td>\n",
       "      <td>46.126866</td>\n",
       "      <td>9.210186</td>\n",
       "      <td>-2.651092</td>\n",
       "      <td>5.349977</td>\n",
       "      <td>-0.000000</td>\n",
       "      <td>0.989046</td>\n",
       "      <td>0.010954</td>\n",
       "      <td>0.010954</td>\n",
       "      <td>0.000000</td>\n",
       "      <td>222.500376</td>\n",
       "      <td>49.596057</td>\n",
       "      <td>49.596057</td>\n",
       "      <td>0.000000</td>\n",
       "      <td>NaN</td>\n",
       "    </tr>\n",
       "    <tr>\n",
       "      <th>...</th>\n",
       "      <td>...</td>\n",
       "      <td>...</td>\n",
       "      <td>...</td>\n",
       "      <td>...</td>\n",
       "      <td>...</td>\n",
       "      <td>...</td>\n",
       "      <td>...</td>\n",
       "      <td>...</td>\n",
       "      <td>...</td>\n",
       "      <td>...</td>\n",
       "      <td>...</td>\n",
       "      <td>...</td>\n",
       "      <td>...</td>\n",
       "      <td>...</td>\n",
       "      <td>...</td>\n",
       "      <td>...</td>\n",
       "    </tr>\n",
       "    <tr>\n",
       "      <th>768</th>\n",
       "      <td>7.96</td>\n",
       "      <td>424.462572</td>\n",
       "      <td>1518.141189</td>\n",
       "      <td>76.157712</td>\n",
       "      <td>-19.387450</td>\n",
       "      <td>110.614440</td>\n",
       "      <td>-18.722709</td>\n",
       "      <td>0.390550</td>\n",
       "      <td>0.103000</td>\n",
       "      <td>0.103000</td>\n",
       "      <td>0.506450</td>\n",
       "      <td>476.509635</td>\n",
       "      <td>305.580406</td>\n",
       "      <td>305.580406</td>\n",
       "      <td>519.627154</td>\n",
       "      <td>NaN</td>\n",
       "    </tr>\n",
       "    <tr>\n",
       "      <th>769</th>\n",
       "      <td>7.97</td>\n",
       "      <td>425.578051</td>\n",
       "      <td>1520.582346</td>\n",
       "      <td>76.195184</td>\n",
       "      <td>-19.389709</td>\n",
       "      <td>110.732982</td>\n",
       "      <td>-18.763248</td>\n",
       "      <td>0.390156</td>\n",
       "      <td>0.102934</td>\n",
       "      <td>0.102934</td>\n",
       "      <td>0.506910</td>\n",
       "      <td>476.548918</td>\n",
       "      <td>305.642795</td>\n",
       "      <td>305.642795</td>\n",
       "      <td>520.001921</td>\n",
       "      <td>NaN</td>\n",
       "    </tr>\n",
       "    <tr>\n",
       "      <th>770</th>\n",
       "      <td>7.98</td>\n",
       "      <td>426.695085</td>\n",
       "      <td>1523.024904</td>\n",
       "      <td>76.232608</td>\n",
       "      <td>-19.391960</td>\n",
       "      <td>110.851508</td>\n",
       "      <td>-18.803800</td>\n",
       "      <td>0.389763</td>\n",
       "      <td>0.102868</td>\n",
       "      <td>0.102868</td>\n",
       "      <td>0.507369</td>\n",
       "      <td>476.588102</td>\n",
       "      <td>305.705038</td>\n",
       "      <td>305.705038</td>\n",
       "      <td>520.376269</td>\n",
       "      <td>NaN</td>\n",
       "    </tr>\n",
       "    <tr>\n",
       "      <th>771</th>\n",
       "      <td>7.99</td>\n",
       "      <td>427.813675</td>\n",
       "      <td>1525.468863</td>\n",
       "      <td>76.269983</td>\n",
       "      <td>-19.394204</td>\n",
       "      <td>110.970019</td>\n",
       "      <td>-18.844365</td>\n",
       "      <td>0.389371</td>\n",
       "      <td>0.102802</td>\n",
       "      <td>0.102802</td>\n",
       "      <td>0.507827</td>\n",
       "      <td>476.627187</td>\n",
       "      <td>305.767137</td>\n",
       "      <td>305.767137</td>\n",
       "      <td>520.750198</td>\n",
       "      <td>NaN</td>\n",
       "    </tr>\n",
       "    <tr>\n",
       "      <th>772</th>\n",
       "      <td>8.00</td>\n",
       "      <td>428.933819</td>\n",
       "      <td>1527.914222</td>\n",
       "      <td>76.307311</td>\n",
       "      <td>-19.396441</td>\n",
       "      <td>111.088515</td>\n",
       "      <td>-18.884943</td>\n",
       "      <td>0.388980</td>\n",
       "      <td>0.102736</td>\n",
       "      <td>0.102736</td>\n",
       "      <td>0.508284</td>\n",
       "      <td>476.666172</td>\n",
       "      <td>305.829092</td>\n",
       "      <td>305.829092</td>\n",
       "      <td>521.123709</td>\n",
       "      <td>NaN</td>\n",
       "    </tr>\n",
       "  </tbody>\n",
       "</table>\n",
       "<p>773 rows × 16 columns</p>\n",
       "</div>"
      ],
      "text/plain": [
       "     nb/n0           P            E      Sigma        Rho       Omega  \\\n",
       "0     0.28    0.070686    40.349774   8.198005  -2.328705    4.681230   \n",
       "1     0.29    0.080052    41.793525   8.453906  -2.409592    4.848417   \n",
       "2     0.30    0.090248    43.237612   8.707875  -2.490287    5.015604   \n",
       "3     0.31    0.101300    44.682054   8.959955  -2.570788    5.182791   \n",
       "4     0.32    0.113235    46.126866   9.210186  -2.651092    5.349977   \n",
       "..     ...         ...          ...        ...        ...         ...   \n",
       "768   7.96  424.462572  1518.141189  76.157712 -19.387450  110.614440   \n",
       "769   7.97  425.578051  1520.582346  76.195184 -19.389709  110.732982   \n",
       "770   7.98  426.695085  1523.024904  76.232608 -19.391960  110.851508   \n",
       "771   7.99  427.813675  1525.468863  76.269983 -19.394204  110.970019   \n",
       "772   8.00  428.933819  1527.914222  76.307311 -19.396441  111.088515   \n",
       "\n",
       "           Phi        xn        xp        xe        xL     fermi_n  \\\n",
       "0    -0.000000  0.990944  0.009056  0.009056  0.000000  212.949950   \n",
       "1    -0.000000  0.990479  0.009521  0.009521  0.000000  215.421820   \n",
       "2    -0.000000  0.990008  0.009992  0.009992  0.000000  217.835457   \n",
       "3    -0.000000  0.989530  0.010470  0.010470  0.000000  220.194014   \n",
       "4    -0.000000  0.989046  0.010954  0.010954  0.000000  222.500376   \n",
       "..         ...       ...       ...       ...       ...         ...   \n",
       "768 -18.722709  0.390550  0.103000  0.103000  0.506450  476.509635   \n",
       "769 -18.763248  0.390156  0.102934  0.102934  0.506910  476.548918   \n",
       "770 -18.803800  0.389763  0.102868  0.102868  0.507369  476.588102   \n",
       "771 -18.844365  0.389371  0.102802  0.102802  0.507827  476.627187   \n",
       "772 -18.884943  0.388980  0.102736  0.102736  0.508284  476.666172   \n",
       "\n",
       "        fermi_p     fermi_e     fermi_L  nan  \n",
       "0     44.522679   44.522679    0.000000  NaN  \n",
       "1     45.803502   45.803502    0.000000  NaN  \n",
       "2     47.075844   47.075844    0.000000  NaN  \n",
       "3     48.339953   48.339953    0.000000  NaN  \n",
       "4     49.596057   49.596057    0.000000  NaN  \n",
       "..          ...         ...         ...  ...  \n",
       "768  305.580406  305.580406  519.627154  NaN  \n",
       "769  305.642795  305.642795  520.001921  NaN  \n",
       "770  305.705038  305.705038  520.376269  NaN  \n",
       "771  305.767137  305.767137  520.750198  NaN  \n",
       "772  305.829092  305.829092  521.123709  NaN  \n",
       "\n",
       "[773 rows x 16 columns]"
      ]
     },
     "execution_count": 6,
     "metadata": {},
     "output_type": "execute_result"
    }
   ],
   "source": [
    "data = pd.read_csv(r'/Users/vinhtran/Downloads/datafile_gm3.txt', sep=\" \", header=0,\\\n",
    "                       names = ['nb/n0', 'P', 'E', 'Sigma', 'Rho','Omega', 'Phi', 'xn', 'xp',\\\n",
    "                            'xe', 'xL', 'fermi_n', 'fermi_p', 'fermi_e', 'fermi_L', 'nan'])\n",
    "data"
   ]
  },
  {
   "cell_type": "code",
   "execution_count": 7,
   "id": "89abd701",
   "metadata": {},
   "outputs": [],
   "source": [
    "nb_array = data.loc[:,'nb/n0'].values\n",
    "P_array = data.loc[:,'P'].values\n",
    "E_array = data.loc[:,'E'].values\n",
    "sigma_array = data.loc[:,'Sigma'].values\n",
    "rho_array = data.loc[:,'Rho'].values\n",
    "omega_array = data.loc[:,'Omega'].values\n",
    "phi_array = data.loc[:,'Phi'].values\n",
    "\n",
    "neutron_frac = data.loc[:, 'xn'].values\n",
    "proton_frac = data.loc[:, 'xp'].values\n",
    "electron_frac = data.loc[:, 'xe'].values\n",
    "lambda_frac = data.loc[:, 'xL'].values\n",
    "\n",
    "fermi_n = data.loc[:, 'fermi_n'].values\n",
    "fermi_p = data.loc[:, 'fermi_p'].values\n",
    "fermi_e = data.loc[:, 'fermi_e'].values\n",
    "fermi_L = data.loc[:, 'fermi_L'].values"
   ]
  },
  {
   "cell_type": "markdown",
   "id": "a952c44c",
   "metadata": {},
   "source": [
    "## Sigma Partial Derivative\n",
    "$$\n",
    "    \\frac{\\partial \\sigma}{\\partial n_B} = \n",
    "    \\frac{\\sum_i g_{\\sigma i}\\beta_i}{m_\\sigma^2 + \\frac{\\partial^2 U}{\\partial \\sigma^2} - \\sum_i g_{\\sigma_i} \\alpha_i}\n",
    "$$\n",
    "with\n",
    "$$\n",
    "    \\alpha_i = \n",
    "       - \\frac{g_{\\sigma i}}{2\\pi^2} \\left(k_{F_i} E_{F_i} - {m_i^*}^2 \\ln \\frac{k_{F_i} + E_{F_i}}{m_i^*}\\right)\n",
    "    + \\frac{m_i^*}{2\\pi^2} \\left[k_{F_i}\n",
    "    \\left(-\\frac{g_{\\sigma i} m_i^*}{E_{F_i}}\\right)\n",
    "    +\n",
    "    2m_i^* g_{\\sigma i}\\ln \\frac{k_{F_i} + E_{F_i}}{m_i^*}\n",
    "    - {m_i^*}^2 \\frac{g_{\\sigma i}}{m_i^*}\n",
    "    \\right]\n",
    "$$\n",
    "and\n",
    "$$\n",
    "    \\beta_i = \n",
    "    \\frac{m_i^*}{2\\pi^2} \n",
    "    \\left[\n",
    "    \\frac{\\pi^2 x_i}{k_{F_i}}E_{F_i} \n",
    "    + k_{F_i}\\frac{\\pi^2 x_i}{k_{F_i}E_{F_i}}\n",
    "    - {m_i^*}^2 \\frac{\\pi^2 x_i}{k_{F_i}^2 E_{F_i}}\n",
    "    \\right] \n",
    "$$"
   ]
  },
  {
   "cell_type": "code",
   "execution_count": 8,
   "id": "f88f296f",
   "metadata": {},
   "outputs": [],
   "source": [
    "def second_deriv_U(sigma_field):\n",
    "    term1 = 2 * sigma.num_b * Neutron.num_mass * Neutron.num_g_sigma**3 * sigma_field \n",
    "    term2 = 3 * sigma.num_c * Neutron.num_g_sigma **4 * sigma_field**2 \n",
    "    return term1 + term2 "
   ]
  },
  {
   "cell_type": "code",
   "execution_count": 9,
   "id": "4d917636",
   "metadata": {},
   "outputs": [],
   "source": [
    "def beta(baryon, kf, sigma_field, baryon_frac):\n",
    "    m = mass_eff(baryon, sigma_field)\n",
    "    EF = baryon_energy_density(baryon, kf, sigma_field)\n",
    "    xi = baryon_frac \n",
    "    pi = np.pi \n",
    "    \n",
    "    term1 = EF/kf\n",
    "    term2 = 1/EF\n",
    "    term3 = -m**2 / kf**2 /EF\n",
    "    \n",
    "    return m * xi/2 *(term1 + term2 + term3)"
   ]
  },
  {
   "cell_type": "code",
   "execution_count": 10,
   "id": "11319a88",
   "metadata": {},
   "outputs": [],
   "source": [
    "def alpha(baryon, kf, sigma_field, baryon_frac):\n",
    "    m = mass_eff(baryon, sigma_field)\n",
    "    EF = baryon_energy_density(baryon, kf, sigma_field)\n",
    "    xi = baryon_frac \n",
    "    pi = np.pi\n",
    "    g_sigma = baryon.num_g_sigma \n",
    "    log_factor = log_fac(baryon, kf, sigma_field) \n",
    "    \n",
    "    term1_a = kf*EF \n",
    "    term1_b = -m**2 * log_factor \n",
    "    term1 = term1_a + term1_b \n",
    "    \n",
    "    term2_a = - g_sigma * m *kf /EF \n",
    "    term2_b = 2*m*g_sigma * log_factor \n",
    "    term2_c = - m**2 * (g_sigma/m)\n",
    "    term2_d = - m**2 * (- g_sigma * m / EF / (kf + EF))\n",
    "    term2 = term2_a + term2_b + term2_c + term2_d \n",
    "    \n",
    "    return -g_sigma/(2*pi**2) * term1 + m/(2*pi**2) * term2 "
   ]
  },
  {
   "cell_type": "code",
   "execution_count": 11,
   "id": "c900afb6",
   "metadata": {},
   "outputs": [],
   "source": [
    "def partial_sigma(Proton, Neutron, Lambda,\\\n",
    "                  Proton_kf, Neutron_kf, Lambda_kf,\\\n",
    "                  Proton_frac, Neutron_frac, Lambda_frac,\\\n",
    "                  sigma_field):\n",
    "    \n",
    "    if (Lambda_kf == 0.0):\n",
    "        numerator = Proton.num_g_sigma * beta(Proton, Proton_kf, sigma_field, Proton_frac)\\\n",
    "                + Neutron.num_g_sigma * beta(Neutron, Neutron_kf, sigma_field, Neutron_frac)\\\n",
    "                \n",
    "    elif (Lambda_kf != 0.0):\n",
    "        numerator = Proton.num_g_sigma * beta(Proton, Proton_kf, sigma_field, Proton_frac)\\\n",
    "                + Neutron.num_g_sigma * beta(Neutron, Neutron_kf, sigma_field, Neutron_frac)\\\n",
    "                + Lambda.num_g_sigma * beta(Lambda, Lambda_kf, sigma_field, Lambda_frac)\n",
    "    \n",
    "    denominator = second_deriv_U(sigma_field) + sigma.num_mass**2\n",
    "    \n",
    "    if (Lambda_kf == 0.0):\n",
    "        denominator = denominator +\\\n",
    "            Proton.num_g_sigma * alpha(Proton, Proton_kf, sigma_field, Proton_frac)\\\n",
    "                + Neutron.num_g_sigma * alpha(Neutron, Neutron_kf, sigma_field, Neutron_frac)\n",
    "    \n",
    "    elif (Lambda_kf != 0.0):\n",
    "        denominator = denominator +\\\n",
    "                Proton.num_g_sigma * alpha(Proton, Proton_kf, sigma_field, Proton_frac)\\\n",
    "                + Neutron.num_g_sigma * alpha(Neutron, Neutron_kf, sigma_field, Neutron_frac)\\\n",
    "                + Lambda.num_g_sigma * alpha(Lambda, Lambda_kf, sigma_field, Lambda_frac)\n",
    "    \n",
    "    return numerator/denominator "
   ]
  },
  {
   "cell_type": "markdown",
   "id": "ee9751fc",
   "metadata": {},
   "source": [
    "### Lepton Contribution\n",
    "$$\n",
    "    \\frac{\\partial P_\\ell}{\\partial n_B} \n",
    "     = \n",
    "      \\frac{1}{12} \\sum_\\ell x_\\ell \n",
    "    \\left[\\frac{3E_{F_\\ell}^2 + k_{F_\\ell}^2}{E_{F_\\ell}} \n",
    "    +\n",
    "    \\frac{3 m_\\ell^2}{2 k_{F_\\ell}E_{F_\\ell}} \n",
    "    \\left(\\frac{m_\\ell^2}{k_{F_\\ell}} - 1\\right) \n",
    "    \\right]\n",
    "$$"
   ]
  },
  {
   "cell_type": "code",
   "execution_count": 19,
   "id": "535a7c89",
   "metadata": {},
   "outputs": [],
   "source": [
    "def lepton_energy_density(lepton, kf):\n",
    "    return np.sqrt(lepton.num_mass**2 + kf**2)"
   ]
  },
  {
   "cell_type": "code",
   "execution_count": 20,
   "id": "45f674c0",
   "metadata": {},
   "outputs": [],
   "source": [
    "def partial_P_lepton(lepton, kf, lepton_frac):\n",
    "    # partial derivative of lepton pressure with respect to nb \n",
    "    \n",
    "    EF = lepton_energy_density(lepton, kf)\n",
    "    m = lepton.num_mass\n",
    "    term1 = (3*EF**2 + kf**2)/EF\n",
    "    term2 = 3*m**2/(2*kf*EF)*(m**2/kf - 1)\n",
    "    \n",
    "    return 1/12*lepton_frac *(term1 + term2)"
   ]
  },
  {
   "cell_type": "markdown",
   "id": "6445c260",
   "metadata": {},
   "source": [
    "### Baryon Contribution"
   ]
  },
  {
   "cell_type": "code",
   "execution_count": 13,
   "id": "d6391a02",
   "metadata": {},
   "outputs": [],
   "source": [
    "def mass_eff(baryon, sigma_field):\n",
    "    return baryon.num_mass - baryon.num_g_sigma * sigma_field "
   ]
  },
  {
   "cell_type": "code",
   "execution_count": 14,
   "id": "6a54e94b",
   "metadata": {},
   "outputs": [],
   "source": [
    "def baryon_energy_density(baryon, kf, sigma_field):\n",
    "    m = mass_eff(baryon, sigma_field)\n",
    "    return np.sqrt(kf**2 + m**2)"
   ]
  },
  {
   "cell_type": "code",
   "execution_count": 15,
   "id": "27c57992",
   "metadata": {},
   "outputs": [],
   "source": [
    "def log_fac(baryon, kf, sigma_field):\n",
    "    numerator = kf + baryon_energy_density(baryon, kf, sigma_field) \n",
    "    denominator = mass_eff(baryon, sigma_field)\n",
    "    return np.log(numerator/denominator)"
   ]
  },
  {
   "cell_type": "code",
   "execution_count": 54,
   "id": "eda0f8c8",
   "metadata": {},
   "outputs": [],
   "source": [
    "def partial_P_baryon(baryon, kf, sigma_field, dsig, baryon_frac):\n",
    "    \n",
    "    # loading everything here at once \n",
    "    # dsig = partial_sigma(nb)\n",
    "    g_sigma = baryon.num_g_sigma\n",
    "    pi = np.pi \n",
    "    xB = baryon_frac \n",
    "    EF = baryon_energy_density(baryon, kf, sigma_field) \n",
    "    m = mass_eff(baryon, sigma_field)\n",
    "    log_factor = log_fac(baryon, kf, sigma_field)\n",
    "    \n",
    "    term1 = 3*pi**2 * xB * EF\n",
    "    \n",
    "    term2_a = pi**2 * xB/kf/EF\n",
    "    term2_b = - g_sigma * m/EF* dsig\n",
    "    term2 = kf**3*(term2_a + term2_b) \n",
    "    \n",
    "    term3_a = -2*m*g_sigma*dsig*EF \n",
    "    term3_b = m**2*pi**2*xB/kf/EF\n",
    "    term3_c = -m**2*g_sigma*m/EF*dsig \n",
    "    term3 = -3/2*(term3_a + term3_b + term3_c)\n",
    "    \n",
    "    term4_a = -4 * g_sigma * m**3 * dsig * log_factor\n",
    "    term4_b = m**4 * pi**2 * xB/kf**2 / EF \n",
    "    term4_c = m**4 * g_sigma * dsig / m \n",
    "    term4 = 3/2*(term4_a + term4_b + term4_c)\n",
    "    \n",
    "    return 1/(12*pi**2)*(term1 + term2 + term3 + term4) "
   ]
  },
  {
   "cell_type": "markdown",
   "id": "90e2bc94",
   "metadata": {},
   "source": [
    "### Important Derivatives"
   ]
  },
  {
   "cell_type": "code",
   "execution_count": 35,
   "id": "d0f1c44b",
   "metadata": {},
   "outputs": [],
   "source": [
    "def partial_kf(baryon_frac, kf):\n",
    "    return np.pi**2 * baryon_frac / kf**2\n",
    "\n",
    "def partial_eff_mass(baryon, partial_sigma):\n",
    "    return - baryon.num_g_sigma * partial_sigma \n",
    "\n",
    "def partial_E_eff(baryon, baryon_frac, kf, sigma_field, partial_sigma):\n",
    "    xB = baryon_frac\n",
    "    EF = baryon_energy_density(baryon, kf, sigma_field)\n",
    "    g_sigma = baryon.num_g_sigma \n",
    "    m = mass_eff(baryon, sigma_field)\n",
    "    \n",
    "    term1 = np.pi**2 * xB / kf / EF \n",
    "    term2 = - g_sigma * m / EF * partial_sigma \n",
    "    \n",
    "    return term1 + term2 \n",
    "\n",
    "def partial_log_factor(baryon, baryon_frac, kf, sigma_field, partial_sigma):\n",
    "    xB = baryon_frac\n",
    "    EF = baryon_energy_density(baryon, kf, sigma_field) \n",
    "    g_sigma = baryon.num_g_sigma \n",
    "    m = mass_eff(baryon, sigma_field) \n",
    "    pi = np.pi\n",
    "    \n",
    "    term1 = pi**2 * xB * (kf + EF) \n",
    "    term2 = - g_sigma * m * kf**2 * partial_sigma \n",
    "    term3 = g_sigma/m * partial_sigma \n",
    "    \n",
    "    return 1/(kf**2 * EF * (kf + EF)) * (term1 + term2) + term3 "
   ]
  },
  {
   "cell_type": "code",
   "execution_count": 33,
   "id": "47238012",
   "metadata": {},
   "outputs": [],
   "source": [
    "def partial_kf3_EF(baryon, baryon_frac, kf, sigma_field, partial_sigma):\n",
    "    xB = baryon_frac\n",
    "    EF = baryon_energy_density(baryon, kf, sigma_field)\n",
    "    g_sigma = baryon.num_g_sigma \n",
    "    m = mass_eff(baryon, sigma_field)\n",
    "    \n",
    "    term1 = 3 * kf**2 * partial_kf(baryon_frac, kf) * EF \n",
    "    term2 = kf**3 * partial_E_eff(baryon, baryon_frac, kf, sigma_field, partial_sigma)\n",
    "    return term1 + term2 "
   ]
  },
  {
   "cell_type": "code",
   "execution_count": 34,
   "id": "8d436b11",
   "metadata": {},
   "outputs": [],
   "source": [
    "def partial_m2_kf_EF(baryon, baryon_frac, kf, sigma_field, partial_sigma):\n",
    "    xB = baryon_frac\n",
    "    EF = baryon_energy_density(baryon, kf, sigma_field)\n",
    "    g_sigma = baryon.num_g_sigma \n",
    "    m = mass_eff(baryon, sigma_field)\n",
    "    \n",
    "    term1 = 2*m*partial_eff_mass(baryon, partial_sigma)*kf*EF\n",
    "    term2 = m**2 * partial_kf(baryon_frac, kf) * EF\n",
    "    term3 = m**2 * kf * partial_E_eff(baryon, baryon_frac, kf, sigma_field, partial_sigma)\n",
    "    \n",
    "    return term1 + term2 + term3"
   ]
  },
  {
   "cell_type": "code",
   "execution_count": 32,
   "id": "47866c8b",
   "metadata": {},
   "outputs": [],
   "source": [
    "def partial_m4_log_factor(baryon, baryon_frac, kf, sigma_field, partial_sigma):\n",
    "    xB = baryon_frac\n",
    "    EF = baryon_energy_density(baryon, kf, sigma_field)\n",
    "    g_sigma = baryon.num_g_sigma \n",
    "    m = mass_eff(baryon, sigma_field)\n",
    "    log_factor = log_fac(baryon, kf, sigma_field) \n",
    "    \n",
    "    term1 = 4 * m**3 * partial_eff_mass(baryon, partial_sigma) * log_factor\n",
    "    term2 = m**4 * partial_log_factor(baryon, baryon_frac, kf, sigma_field, partial_sigma)\n",
    "    \n",
    "    return term1 + term2 "
   ]
  },
  {
   "cell_type": "code",
   "execution_count": 31,
   "id": "166d110f",
   "metadata": {},
   "outputs": [],
   "source": [
    "def baryon_pressure_contribution(baryon, baryon_frac, kf, sigma_field, partial_sigma):\n",
    "    result = partial_kf3_EF(baryon, baryon_frac, kf, sigma_field, partial_sigma)\\\n",
    "            + partial_m2_kf_EF(baryon, baryon_frac, kf, sigma_field, partial_sigma)\\\n",
    "            + partial_m4_log_factor(baryon, baryon_frac, kf, sigma_field, partial_sigma)\n",
    "    return result/12/np.pi**2"
   ]
  },
  {
   "cell_type": "markdown",
   "id": "26ec2aa4",
   "metadata": {},
   "source": [
    "### Other Contributions"
   ]
  },
  {
   "cell_type": "code",
   "execution_count": 23,
   "id": "be3d3634",
   "metadata": {},
   "outputs": [],
   "source": [
    "def partial_U(sigma_field, partial_sigma):\n",
    "    term1 = sigma.num_b * Neutron.num_mass * Neutron.num_g_sigma**3 * sigma_field**2 \n",
    "    term2 = sigma.num_c * Neutron.num_g_sigma**4 * sigma_field**3\n",
    "    return (term1 + term2)*partial_sigma"
   ]
  },
  {
   "cell_type": "code",
   "execution_count": 24,
   "id": "e0531a40",
   "metadata": {},
   "outputs": [],
   "source": [
    "def partial_P_sigma(sigma_field, partial_sigma):\n",
    "    # returns the contribution to the pressure due to the presence of the \n",
    "    # sigma meson \n",
    "    return - sigma.num_mass**2 * sigma_field * partial_sigma"
   ]
  },
  {
   "cell_type": "code",
   "execution_count": 45,
   "id": "32cf053a",
   "metadata": {},
   "outputs": [],
   "source": [
    "def partial_P_omega(omega_field, proton_frac, neutron_frac, lambda_frac):\n",
    "    proton_term = Proton.num_g_omega * proton_frac \n",
    "    neutron_term = Neutron.num_g_omega * neutron_frac \n",
    "    lambda_term = Lambda.num_g_omega * lambda_frac \n",
    "    return omega_field * (proton_term + neutron_term + lambda_term)"
   ]
  },
  {
   "cell_type": "code",
   "execution_count": 46,
   "id": "2763643b",
   "metadata": {},
   "outputs": [],
   "source": [
    "def partial_P_rho(rho_field, proton_frac, neutron_frac):\n",
    "    proton_term = Proton.num_g_rho * Proton.isospin * proton_frac \n",
    "    neutron_term = Neutron.num_g_rho * Neutron.isospin * neutron_frac \n",
    "    return rho_field * (proton_term + neutron_term)"
   ]
  },
  {
   "cell_type": "code",
   "execution_count": 47,
   "id": "f077d250",
   "metadata": {},
   "outputs": [],
   "source": [
    "def partial_P_phi(phi_field, proton_frac, neutron_frac, lambda_frac):\n",
    "    proton_term = Proton.num_g_phi * proton_frac\n",
    "    neutron_term = Neutron.num_g_phi * neutron_frac \n",
    "    lambda_term = Lambda.num_g_omega * lambda_frac\n",
    "    return phi_field * (proton_term + neutron_term + lambda_term)"
   ]
  },
  {
   "cell_type": "markdown",
   "id": "730d5ee5",
   "metadata": {},
   "source": [
    "## Calculating the Adiabatic Sound Speed\n",
    "1. Find $\\partial \\sigma/\\partial n_B$ and store values for each $n_B$ in an array. Pass to the other things. \n",
    "2. Calculate Neutron chemical potential. Store values in an array. Pass to other things. \n",
    "3. Calculate partial derivative of the pressure. "
   ]
  },
  {
   "cell_type": "code",
   "execution_count": 28,
   "id": "fa43556f",
   "metadata": {},
   "outputs": [],
   "source": [
    "partial_sigma_array = np.zeros(len(nb_array))\n",
    "\n",
    "for i in range(len(partial_sigma_array)):\n",
    "    partial_sigma_array[i] = partial_sigma(Proton, Neutron, Lambda,\\\n",
    "                  fermi_p[i], fermi_n[i], fermi_L[i],\\\n",
    "                  proton_frac[i], neutron_frac[i], lambda_frac[i],\\\n",
    "                  sigma_array[i])"
   ]
  },
  {
   "cell_type": "code",
   "execution_count": 44,
   "id": "183b69fa",
   "metadata": {},
   "outputs": [
    {
     "data": {
      "text/plain": [
       "[<matplotlib.lines.Line2D at 0x7f82c04febe0>]"
      ]
     },
     "execution_count": 44,
     "metadata": {},
     "output_type": "execute_result"
    },
    {
     "data": {
      "image/png": "[encoded data removed]",
      "text/plain": [
       "<Figure size 432x288 with 1 Axes>"
      ]
     },
     "metadata": {
      "needs_background": "light"
     },
     "output_type": "display_data"
    }
   ],
   "source": [
    "plt.plot(nb_array, partial_sigma_array)"
   ]
  },
  {
   "cell_type": "code",
   "execution_count": 48,
   "id": "b7ddee0d",
   "metadata": {},
   "outputs": [],
   "source": [
    "def partial_P_nB(sigma_field, omega_field, rho_field, phi_field, partial_sigma,\\\n",
    "                proton_frac, neutron_frac, lambda_frac, electron_frac,\\\n",
    "                proton_kf, neutron_kf, lambda_kf, electron_kf\\\n",
    "                ):\n",
    "    \n",
    "    # sigma self interaction \n",
    "    result = -partial_U(sigma_field, partial_sigma) \n",
    "    \n",
    "    # add meson contribution\n",
    "    result += partial_P_sigma(sigma_field, partial_sigma)\n",
    "    result += partial_P_omega(omega_field, proton_frac, neutron_frac, lambda_frac)\n",
    "    result += partial_P_rho(rho_field, proton_frac, neutron_frac)\n",
    "    result += partial_P_phi(phi_field, proton_frac, neutron_frac, lambda_frac)\n",
    "    \n",
    "    # add baryon contribution\n",
    "    result += baryon_pressure_contribution(Proton, proton_frac, proton_kf, sigma_field, partial_sigma)\n",
    "    result += baryon_pressure_contribution(Neutron, neutron_frac, neutron_kf, sigma_field, partial_sigma)\n",
    "    if (lambda_kf != 0.0):\n",
    "        result += baryon_pressure_contribution(Lambda, lambda_frac, lambda_kf, sigma_field, partial_sigma)\n",
    "    \n",
    "    # add lepton contribution\n",
    "    result += partial_P_lepton(electron, electron_kf, electron_frac)\n",
    "    \n",
    "    return result "
   ]
  },
  {
   "cell_type": "code",
   "execution_count": 42,
   "id": "4a1e595e",
   "metadata": {
    "scrolled": true
   },
   "outputs": [
    {
     "data": {
      "text/plain": [
       "153850.42362011323"
      ]
     },
     "execution_count": 42,
     "metadata": {},
     "output_type": "execute_result"
    }
   ],
   "source": [
    "partial_U(sigma_array[i], partial_sigma_array[i])"
   ]
  },
  {
   "cell_type": "code",
   "execution_count": 50,
   "id": "75a61b77",
   "metadata": {},
   "outputs": [],
   "source": [
    "partial_pressure_array = np.zeros(len(nb_array))\n",
    "\n",
    "for i in range(len(partial_pressure_array)):\n",
    "    partial_pressure_array[i] = partial_P_nB(sigma_array[i], omega_array[i], rho_array[i], phi_array[i], partial_sigma_array[i],\\\n",
    "                                             proton_frac[i], neutron_frac[i], lambda_frac[i], electron_frac[i],\\\n",
    "                                            fermi_p[i], fermi_n[i], fermi_L[i], fermi_e[i])"
   ]
  },
  {
   "cell_type": "code",
   "execution_count": 51,
   "id": "a9f8037c",
   "metadata": {
    "scrolled": true
   },
   "outputs": [
    {
     "data": {
      "text/plain": [
       "[<matplotlib.lines.Line2D at 0x7f8298158ee0>]"
      ]
     },
     "execution_count": 51,
     "metadata": {},
     "output_type": "execute_result"
    },
    {
     "data": {
      "image/png": "[encoded data removed]",
      "text/plain": [
       "<Figure size 432x288 with 1 Axes>"
      ]
     },
     "metadata": {
      "needs_background": "light"
     },
     "output_type": "display_data"
    }
   ],
   "source": [
    "plt.plot(nb_array, partial_pressure_array)"
   ]
  },
  {
   "cell_type": "code",
   "execution_count": null,
   "id": "095f347d",
   "metadata": {},
   "outputs": [],
   "source": []
  }
 ],
 "metadata": {
  "kernelspec": {
   "display_name": "Python 3",
   "language": "python",
   "name": "python3"
  },
  "language_info": {
   "codemirror_mode": {
    "name": "ipython",
    "version": 3
   },
   "file_extension": ".py",
   "mimetype": "text/x-python",
   "name": "python",
   "nbconvert_exporter": "python",
   "pygments_lexer": "ipython3",
   "version": "3.8.8"
  }
 },
 "nbformat": 4,
 "nbformat_minor": 5
}
