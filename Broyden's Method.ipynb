{
 "cells": [
  {
   "cell_type": "code",
   "execution_count": 2,
   "id": "6622e9a2",
   "metadata": {},
   "outputs": [],
   "source": [
    "import numpy as np \n",
    "import pandas as pd\n",
    "import matplotlib.pyplot as plt\n",
    "import sympy as sym\n",
    "import time "
   ]
  },
  {
   "cell_type": "markdown",
   "id": "72074670",
   "metadata": {},
   "source": [
    "## Newton's Method\n",
    "Solve system of nonlinear equations. \n",
    "$$\n",
    "    3x_1 - \\cos (x_2 x_3) - \\frac{1}{2} = 0\\\\\n",
    "    x_1^2 - 81(x_2 + 0.1)^2 + \\sin(x_3) + 1.06 = 0\\\\\n",
    "    e^{-x_1 x_2} + 20x_3 + \\frac{10\\pi - 3}{3} = 0\n",
    "$$"
   ]
  },
  {
   "cell_type": "code",
   "execution_count": 3,
   "id": "ec8a96b2",
   "metadata": {},
   "outputs": [],
   "source": [
    "x1, x2, x3 = sym.symbols('x_1, x_2, x_3')\n",
    "ind_vars = np.array([x1, x2, x3])"
   ]
  },
  {
   "cell_type": "code",
   "execution_count": 4,
   "id": "0e396104",
   "metadata": {},
   "outputs": [],
   "source": [
    "eq1 = 3*x1 - sym.cos(x2*x3) - 1/2\n",
    "eq2 = x1**2 - 81*(x2 + 0.1)**2 + sym.sin(x3) + 1.06 \n",
    "eq3 = sym.exp(-x1*x2) +20*x3 + 1/3*(10*np.pi - 3)\n",
    "\n",
    "sys_eqn = np.array([eq1, eq2, eq3])"
   ]
  },
  {
   "cell_type": "code",
   "execution_count": 5,
   "id": "ae410cee",
   "metadata": {},
   "outputs": [
    {
     "data": {
      "text/plain": [
       "sympy.core.add.Add"
      ]
     },
     "execution_count": 5,
     "metadata": {},
     "output_type": "execute_result"
    }
   ],
   "source": [
    "type(eq1)"
   ]
  },
  {
   "cell_type": "markdown",
   "id": "d7d179cf",
   "metadata": {},
   "source": [
    "### Step 1: Propose an initial guess"
   ]
  },
  {
   "cell_type": "code",
   "execution_count": 6,
   "id": "d74cd56f",
   "metadata": {},
   "outputs": [],
   "source": [
    "class solution:\n",
    "    def __init__(self, solution):\n",
    "        self.solution = solution\n",
    "        \n",
    "        self.counter = 0\n",
    "        self.error = 1.0E6\n",
    "        self.run_time = 0.0 "
   ]
  },
  {
   "cell_type": "code",
   "execution_count": 7,
   "id": "d689754c",
   "metadata": {},
   "outputs": [],
   "source": [
    "x_guess = np.array([0.1, 0.1, -0.1])"
   ]
  },
  {
   "cell_type": "markdown",
   "id": "b38bee73",
   "metadata": {},
   "source": [
    "### Step 2: Define F(x) and J(x)"
   ]
  },
  {
   "cell_type": "code",
   "execution_count": 8,
   "id": "f1c270f8",
   "metadata": {},
   "outputs": [],
   "source": [
    "def F_x_num(sys_eqn, ind_vars, vector):\n",
    "    num_array = np.copy(sys_eqn)\n",
    "    num_array_final = np.zeros(len(sys_eqn), dtype = 'float')\n",
    "    \n",
    "    for i in range(len(sys_eqn)):\n",
    "        for j in range(len(ind_vars)):\n",
    "            num_array[i] = num_array[i].subs(ind_vars[j], vector[j])\n",
    "        num_array_final[i] = sym.N(num_array[i])\n",
    "    return num_array_final"
   ]
  },
  {
   "cell_type": "code",
   "execution_count": 9,
   "id": "99237384",
   "metadata": {},
   "outputs": [],
   "source": [
    "def J_x(sys_eqn, ind_vars):\n",
    "    Jacobian = np.zeros((len(sys_eqn), len(ind_vars)), dtype='object')\n",
    "    \n",
    "    for i in range(len(sys_eqn)):\n",
    "        for j in range(len(ind_vars)):\n",
    "            Jacobian[i,j] = sym.diff(sys_eqn[i], ind_vars[j])\n",
    "    \n",
    "    return Jacobian"
   ]
  },
  {
   "cell_type": "code",
   "execution_count": 10,
   "id": "4dd54dd8",
   "metadata": {},
   "outputs": [],
   "source": [
    "def J_x_num(sys_eqn, ind_vars, vector):\n",
    "    # substitute in numerical values\n",
    "    \n",
    "    A = J_x(sys_eqn, ind_vars)\n",
    "    \n",
    "    for i in range(len(A[0][:])):\n",
    "        for j in range(len(A[:][0])):\n",
    "            for k in range(len(ind_vars)):\n",
    "                A[i][j] = A[i][j].subs(ind_vars[k], vector[k])\n",
    "                \n",
    "    return np.array(A, dtype = 'float')"
   ]
  },
  {
   "cell_type": "markdown",
   "id": "93355504",
   "metadata": {},
   "source": [
    "### Step 3: Solve System via Gaussian Elimination"
   ]
  },
  {
   "cell_type": "code",
   "execution_count": 11,
   "id": "f40d67db",
   "metadata": {},
   "outputs": [
    {
     "data": {
      "text/plain": [
       "array([ 0.39986967, -0.08053315, -0.42152047])"
      ]
     },
     "execution_count": 11,
     "metadata": {},
     "output_type": "execute_result"
    }
   ],
   "source": [
    "Jx = J_x_num(sys_eqn, ind_vars, x_guess)\n",
    "Fx_min = -F_x_num(sys_eqn, ind_vars, x_guess)\n",
    "np.linalg.solve(Jx, Fx_min)"
   ]
  },
  {
   "cell_type": "markdown",
   "id": "ef0d80ba",
   "metadata": {},
   "source": [
    "### Step 4: Compute/Update Guess"
   ]
  },
  {
   "cell_type": "code",
   "execution_count": 12,
   "id": "ab5d8dea",
   "metadata": {},
   "outputs": [],
   "source": [
    "x_guess = x_guess + np.linalg.solve(Jx, Fx_min)"
   ]
  },
  {
   "cell_type": "code",
   "execution_count": 13,
   "id": "b4ae9ee8",
   "metadata": {},
   "outputs": [],
   "source": [
    "x_initial = x_guess"
   ]
  },
  {
   "cell_type": "code",
   "execution_count": 14,
   "id": "02726c79",
   "metadata": {},
   "outputs": [
    {
     "data": {
      "text/plain": [
       "array([ 0.49986967,  0.01946685, -0.52152047])"
      ]
     },
     "execution_count": 14,
     "metadata": {},
     "output_type": "execute_result"
    }
   ],
   "source": [
    "x_guess"
   ]
  },
  {
   "cell_type": "markdown",
   "id": "f1a0f75a",
   "metadata": {},
   "source": [
    "### Step 5: Continue\n",
    "1. Build in a condition that if the change becomes too small, then we're done. This is given by the condition $||x^{(k)} - x^{(k-1)}|| < \\epsilon$ for some acceptable error $\\epsilon$. Since $x$ is a one dimensional vector, we can take this to be the dot product norm."
   ]
  },
  {
   "cell_type": "code",
   "execution_count": 15,
   "id": "ccdbe30a",
   "metadata": {},
   "outputs": [],
   "source": [
    "def err(x_1, x_2):\n",
    "    diff = x_1 - x_2\n",
    "    return np.sqrt(np.dot(diff,diff))"
   ]
  },
  {
   "cell_type": "code",
   "execution_count": 16,
   "id": "367b1209",
   "metadata": {},
   "outputs": [
    {
     "data": {
      "text/plain": [
       "0.0"
      ]
     },
     "execution_count": 16,
     "metadata": {},
     "output_type": "execute_result"
    }
   ],
   "source": [
    "err(x_guess, x_initial)"
   ]
  },
  {
   "cell_type": "code",
   "execution_count": 17,
   "id": "cd9f8e3b",
   "metadata": {},
   "outputs": [],
   "source": [
    "def Newton(sys_eqn, ind_vars, initial_guess, accept_error = 1.0E-6):\n",
    "    \n",
    "    # timer variables \n",
    "    start = time.time()\n",
    "    end = 0.0 \n",
    "    run_time = 60.0 # seconds \n",
    "    \n",
    "    # declare solution object \n",
    "    answer = solution(initial_guess)\n",
    "    \n",
    "    while(answer.error > accept_error):\n",
    "        Jacobian = J_x_num(sys_eqn, ind_vars, answer.solution)\n",
    "        Fx_min = -F_x_num(sys_eqn, ind_vars, answer.solution)\n",
    "        y = np.linalg.solve(Jx, Fx_min)\n",
    "        \n",
    "        prior_solution = answer.solution\n",
    "        answer.solution = answer.solution + y\n",
    "        answer.counter += 1 \n",
    "        answer.error = err(answer.solution, prior_solution) \n",
    "        \n",
    "        print(answer.error)\n",
    "        \n",
    "        end = time.time()\n",
    "        answer.run_time = end - start \n",
    "        \n",
    "        if (end - start > run_time):\n",
    "            print(\"Not converged\")\n",
    "            break \n",
    "            \n",
    "        \n",
    "    \n",
    "    return answer"
   ]
  },
  {
   "cell_type": "code",
   "execution_count": 18,
   "id": "fd397892",
   "metadata": {},
   "outputs": [
    {
     "name": "stdout",
     "output_type": "stream",
     "text": [
      "0.010805894452734425\n",
      "0.004589031712055804\n",
      "0.0021469533972104256\n",
      "0.0010408017920779853\n",
      "0.0005128900988624824\n",
      "0.0002547434651124233\n",
      "0.0001270171858396936\n",
      "6.345345521283225e-05\n",
      "3.172950027048003e-05\n",
      "1.5873712312334434e-05\n",
      "7.943235223639728e-06\n",
      "3.9752842549083765e-06\n",
      "1.9895959873673657e-06\n",
      "9.958056526433444e-07\n"
     ]
    }
   ],
   "source": [
    "test = Newton(sys_eqn, ind_vars, x_guess)"
   ]
  },
  {
   "cell_type": "code",
   "execution_count": 19,
   "id": "1e0c1e1d",
   "metadata": {},
   "outputs": [
    {
     "data": {
      "text/plain": [
       "array([ 5.00000000e-01,  9.96855777e-07, -5.23598731e-01])"
      ]
     },
     "execution_count": 19,
     "metadata": {},
     "output_type": "execute_result"
    }
   ],
   "source": [
    "test.solution"
   ]
  },
  {
   "cell_type": "markdown",
   "id": "efdda6da",
   "metadata": {},
   "source": [
    "## Broyden's Method\n",
    "$$\n",
    "    x^{(i+1)} = x^{(i)} - A_i^{-1} F(x^{(i)})\n",
    "$$\n",
    "with\n",
    "$$\n",
    "    A_i^{-1} = \\left(A_{i-1} + \\frac{y_i - A_{i-1}s_i}{||s_i||^2_2}s_i^t\\right)\\\\\n",
    "    = A_{i-1}^{-1} + \\frac{(s_i - A_{i-1}^{-1}y_i)s_i^t A_{i-1}^{-1}}{s_i^t A_{i-1}^{-1}y_i}\n",
    "$$"
   ]
  },
  {
   "cell_type": "markdown",
   "id": "60ab3248",
   "metadata": {},
   "source": [
    "#### Step 1: Initial Guess: $x^{(0)}$"
   ]
  },
  {
   "cell_type": "code",
   "execution_count": 20,
   "id": "6c9182fb",
   "metadata": {},
   "outputs": [],
   "source": [
    "x_guess = np.array([0.1, 0.1, -0.1])"
   ]
  },
  {
   "cell_type": "markdown",
   "id": "60977ef6",
   "metadata": {},
   "source": [
    "#### Step 2: Calculate $F(x^{(0)})$"
   ]
  },
  {
   "cell_type": "code",
   "execution_count": 31,
   "id": "16d2fc43",
   "metadata": {},
   "outputs": [],
   "source": [
    "sys_eqn = np.array([eq1, eq2, eq3])\n",
    "F_x_0 = F_x_num(sys_eqn, ind_vars, x_guess)"
   ]
  },
  {
   "cell_type": "markdown",
   "id": "d6755e22",
   "metadata": {},
   "source": [
    "#### Step 3: Calculate $A_0^{-1}$\n",
    "1. At the first step, we take $A_0 = J(x^0)$"
   ]
  },
  {
   "cell_type": "code",
   "execution_count": 30,
   "id": "25854363",
   "metadata": {},
   "outputs": [],
   "source": [
    "A_0 = J_x_num(sys_eqn, ind_vars, x_guess)\n",
    "A_0_inv = np.linalg.pinv(A_0)"
   ]
  },
  {
   "cell_type": "markdown",
   "id": "e43c3f3c",
   "metadata": {},
   "source": [
    "#### Step 4: Calculate: $x^1 = x^0 - A_0^{-1}F(x^0)$"
   ]
  },
  {
   "cell_type": "code",
   "execution_count": 36,
   "id": "faa07703",
   "metadata": {},
   "outputs": [
    {
     "data": {
      "text/plain": [
       "array([ 0.49986967,  0.01946685, -0.52152047])"
      ]
     },
     "execution_count": 36,
     "metadata": {},
     "output_type": "execute_result"
    }
   ],
   "source": [
    "x_new = x_guess - np.matmul(A_0_inv, F_x_0)\n",
    "x_new"
   ]
  },
  {
   "cell_type": "markdown",
   "id": "3eb86186",
   "metadata": {},
   "source": [
    "#### Step 5: Calculate $F(x^1)$"
   ]
  },
  {
   "cell_type": "code",
   "execution_count": 37,
   "id": "b90875e3",
   "metadata": {},
   "outputs": [],
   "source": [
    "F_x_1 = F_x_num(sys_eqn, ind_vars, x_new)"
   ]
  },
  {
   "cell_type": "markdown",
   "id": "3b659c25",
   "metadata": {},
   "source": [
    "#### Step 6: Calculate $y_1 = F(x^1) - F(x^0)$ and $s_1 = x^1 - x^0$"
   ]
  },
  {
   "cell_type": "code",
   "execution_count": 39,
   "id": "ff871d0d",
   "metadata": {},
   "outputs": [
    {
     "data": {
      "text/plain": [
       "array([ 1.19961055,  1.92544549, -8.43014297])"
      ]
     },
     "execution_count": 39,
     "metadata": {},
     "output_type": "execute_result"
    }
   ],
   "source": [
    "y1 = F_x_1 - F_x_0\n",
    "y1"
   ]
  },
  {
   "cell_type": "code",
   "execution_count": 41,
   "id": "3c6b6941",
   "metadata": {},
   "outputs": [
    {
     "data": {
      "text/plain": [
       "array([ 0.39986967, -0.08053315, -0.42152047])"
      ]
     },
     "execution_count": 41,
     "metadata": {},
     "output_type": "execute_result"
    }
   ],
   "source": [
    "s1 = x_new - x_guess\n",
    "s1"
   ]
  },
  {
   "cell_type": "markdown",
   "id": "d0202640",
   "metadata": {},
   "source": [
    "#### Step 7: Calculate $s_1^t A_0^{-1}y_1$"
   ]
  },
  {
   "cell_type": "code",
   "execution_count": 43,
   "id": "e53646d2",
   "metadata": {},
   "outputs": [
    {
     "data": {
      "text/plain": [
       "0.3424603869557373"
      ]
     },
     "execution_count": 43,
     "metadata": {},
     "output_type": "execute_result"
    }
   ],
   "source": [
    "prod = np.matmul(s1,np.matmul(A_0_inv, y1))\n",
    "prod"
   ]
  },
  {
   "cell_type": "markdown",
   "id": "d995ae5e",
   "metadata": {},
   "source": [
    "### Step 8: Find\n",
    "$$\n",
    "    A_1^{-1} = A_0^{-1} + \\left(s_1^t A_0^{-1}y_1\\right)^{-1} \n",
    "    \\left[(s_1 - A_0^{-1} y_1)s_1^t A_0^{-1}\\right]\n",
    "$$"
   ]
  },
  {
   "cell_type": "code",
   "execution_count": 65,
   "id": "c7555528",
   "metadata": {},
   "outputs": [
    {
     "data": {
      "text/plain": [
       "array([[ 3.33378100e-01,  1.11049659e-05,  8.96734389e-06],\n",
       "       [-2.02070982e-03, -3.09484821e-02,  2.19681582e-03],\n",
       "       [ 1.02389942e-03, -1.65038427e-04,  5.01095867e-02]])"
      ]
     },
     "execution_count": 65,
     "metadata": {},
     "output_type": "execute_result"
    }
   ],
   "source": [
    "One = s1 - np.matmul(A_0_inv, y1)\n",
    "Two = np.matmul(s1, A_0_inv)\n",
    "Three = np.outer(One, Two)\n",
    "A_1_inv = A_0_inv + 1/prod*Three\n",
    "A_1_inv"
   ]
  },
  {
   "cell_type": "markdown",
   "id": "9c0965dd",
   "metadata": {},
   "source": [
    "#### Step 9: Find \n",
    "$$\n",
    "    x^2 = x^1 - A_1^{-1}F(x^1)\n",
    "$$"
   ]
  },
  {
   "cell_type": "code",
   "execution_count": 69,
   "id": "272dc8e1",
   "metadata": {},
   "outputs": [
    {
     "data": {
      "text/plain": [
       "array([ 0.50010308, -0.00199117, -0.52482868])"
      ]
     },
     "execution_count": 69,
     "metadata": {},
     "output_type": "execute_result"
    }
   ],
   "source": [
    "x_new = x_new - np.matmul(A_1_inv, F_x_1)\n",
    "x_new"
   ]
  },
  {
   "cell_type": "code",
   "execution_count": null,
   "id": "35a9b307",
   "metadata": {},
   "outputs": [],
   "source": [
    "def broyden(sys_eqn, ind_vars, initial_guess, accept_error = 1.0E-6):\n",
    "    # timer variables \n",
    "    start = time.time()\n",
    "    end = 0.0 \n",
    "    run_time = 60.0 # seconds \n",
    "    \n",
    "    # declare solution object \n",
    "    answer = solution(initial_guess)\n",
    "    \n",
    "    # "
   ]
  }
 ],
 "metadata": {
  "kernelspec": {
   "display_name": "Python 3",
   "language": "python",
   "name": "python3"
  },
  "language_info": {
   "codemirror_mode": {
    "name": "ipython",
    "version": 3
   },
   "file_extension": ".py",
   "mimetype": "text/x-python",
   "name": "python",
   "nbconvert_exporter": "python",
   "pygments_lexer": "ipython3",
   "version": "3.8.8"
  }
 },
 "nbformat": 4,
 "nbformat_minor": 5
}
