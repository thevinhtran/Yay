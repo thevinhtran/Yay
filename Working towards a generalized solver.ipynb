{
 "cells": [
  {
   "cell_type": "markdown",
   "id": "bf18dafc",
   "metadata": {},
   "source": [
    "# Attempt at writing down generalized solver\n",
    "1. Have written up a library of functions. Testing here to write down a single function to call to get us everything we want. "
   ]
  },
  {
   "cell_type": "code",
   "execution_count": 1,
   "id": "6bc2e81e",
   "metadata": {},
   "outputs": [],
   "source": [
    "from broyden import *\n",
    "from solver_helper import *\n",
    "\n",
    "import matplotlib.pyplot as plt \n",
    "import time\n",
    "\n",
    "n0 = 0.153"
   ]
  },
  {
   "cell_type": "code",
   "execution_count": 7,
   "id": "4991c636",
   "metadata": {},
   "outputs": [],
   "source": [
    "import pandas as pd"
   ]
  },
  {
   "cell_type": "markdown",
   "id": "da8e09e6",
   "metadata": {},
   "source": [
    "### Goal: \n",
    "1. Declare our set of baryons, leptons, and mesons. \n",
    "2. In the context of our gm3 model: get all the equations. \n",
    "3. Solve. \n",
    "4. Print out a data table. "
   ]
  },
  {
   "cell_type": "code",
   "execution_count": 2,
   "id": "92ce7beb",
   "metadata": {},
   "outputs": [],
   "source": [
    "# have to initialize eos\n",
    "gm3 = eos(g_sigma_N = 8.784820, g_omega_N = 8.720086, g_rho_N = 8.544795, g_phi_N = 0.0, b = 0.008628, c = -0.002433,\\\n",
    "             g_sigma_H = 5.408849, g_omega_H = 5.813391, g_rho_H = 0.0, g_phi_H = -4.110688)\n",
    "#gm3_sym = eos(g_sigma_N_sym, g_omega_N_sym, g_rho_N_sym, g_phi_N_sym, b_sym, c_sym, g_sigma_H_sym, g_omega_H_sym, g_rho_H_sym, g_phi_H_sym)\n",
    "\n",
    "# can think about writing a symbolic declarerer func since this is a little ugly\n",
    "# - can store values ahead of time... but would be good to be"
   ]
  },
  {
   "cell_type": "code",
   "execution_count": 3,
   "id": "84d071c0",
   "metadata": {},
   "outputs": [],
   "source": [
    "#def load_model(eos_array):\n",
    "    # pass a Walecka RMF type model with coupling constants and stores coupling constants in both\n",
    "    # an eos object and distributes values to the baryons \n",
    "        "
   ]
  },
  {
   "cell_type": "code",
   "execution_count": 2,
   "id": "7babe8a9",
   "metadata": {},
   "outputs": [],
   "source": [
    "# have to declare lists\n",
    "# note: baryons are capitalized! for reasons... \n",
    "baryon_list = [Proton, Neutron]\n",
    "meson_list = [sigma, omega, rho]\n",
    "lepton_list = [electron, muon]"
   ]
  },
  {
   "cell_type": "code",
   "execution_count": 5,
   "id": "ede02d15",
   "metadata": {},
   "outputs": [],
   "source": [
    "# have to initialize baryons with coupling constants\n",
    "# and sigma meson with sigma meson coupling \n",
    "init(gm3, baryon_list)"
   ]
  },
  {
   "cell_type": "code",
   "execution_count": 6,
   "id": "594eebf9",
   "metadata": {},
   "outputs": [
    {
     "data": {
      "text/latex": [
       "$\\displaystyle b g_{\\sigma N}^{3} m_{n} \\sigma^{2} + c g_{\\sigma N}^{4} \\sigma^{3} - \\frac{1.0 g_{\\sigma N}^{2} \\left(- g_{\\sigma N} \\sigma + m_{n}\\right) \\left(k_{n} \\sqrt{k_{n}^{2} + \\left(- g_{\\sigma N} \\sigma + m_{n}\\right)^{2}} - \\left(- g_{\\sigma N} \\sigma + m_{n}\\right)^{2} \\log{\\left(\\sqrt{\\frac{\\left(k_{n} + \\sqrt{k_{n}^{2} + \\left(- g_{\\sigma N} \\sigma + m_{n}\\right)^{2}}\\right)^{2}}{\\left(- g_{\\sigma N} \\sigma + m_{n}\\right)^{2}}} \\right)}\\right)}{\\pi^{2}} - \\frac{1.0 g_{\\sigma N}^{2} \\left(- g_{\\sigma N} \\sigma + m_{p}\\right) \\left(k_{p} \\sqrt{k_{p}^{2} + \\left(- g_{\\sigma N} \\sigma + m_{p}\\right)^{2}} - \\left(- g_{\\sigma N} \\sigma + m_{p}\\right)^{2} \\log{\\left(\\sqrt{\\frac{\\left(k_{p} + \\sqrt{k_{p}^{2} + \\left(- g_{\\sigma N} \\sigma + m_{p}\\right)^{2}}\\right)^{2}}{\\left(- g_{\\sigma N} \\sigma + m_{p}\\right)^{2}}} \\right)}\\right)}{\\pi^{2}} + m_{\\sigma}^{2} \\sigma$"
      ],
      "text/plain": [
       "b*g_sigma_N**3*m_n*sigma**2 + c*g_sigma_N**4*sigma**3 - 1.0*g_sigma_N**2*(-g_sigma_N*sigma + m_n)*(k_n*sqrt(k_n**2 + (-g_sigma_N*sigma + m_n)**2) - (-g_sigma_N*sigma + m_n)**2*log(sqrt((k_n + sqrt(k_n**2 + (-g_sigma_N*sigma + m_n)**2))**2/(-g_sigma_N*sigma + m_n)**2)))/pi**2 - 1.0*g_sigma_N**2*(-g_sigma_N*sigma + m_p)*(k_p*sqrt(k_p**2 + (-g_sigma_N*sigma + m_p)**2) - (-g_sigma_N*sigma + m_p)**2*log(sqrt((k_p + sqrt(k_p**2 + (-g_sigma_N*sigma + m_p)**2))**2/(-g_sigma_N*sigma + m_p)**2)))/pi**2 + m_sigma**2*sigma"
      ]
     },
     "execution_count": 6,
     "metadata": {},
     "output_type": "execute_result"
    }
   ],
   "source": [
    "eqn1 = sigma_eom(baryon_list)\n",
    "eqn1\n",
    "# at this point, we see that we have a purely symbolic function. We deal with this by then substituting in numerical values.\n",
    "# alternatively, we can substitute in directly some numerical values from the git go. Which would probably be more efficient \n",
    "# but sacrifice some clarity. "
   ]
  },
  {
   "cell_type": "code",
   "execution_count": 7,
   "id": "9bd44ebc",
   "metadata": {},
   "outputs": [
    {
     "data": {
      "text/latex": [
       "$\\displaystyle - g_{\\omega N} k_{n}^{3} - g_{\\omega N} k_{p}^{3} + 3 m_{\\omega}^{2} \\omega \\pi^{2}$"
      ],
      "text/plain": [
       "-g_omega_N*k_n**3 - g_omega_N*k_p**3 + 3*m_omega**2*omega*pi**2"
      ]
     },
     "execution_count": 7,
     "metadata": {},
     "output_type": "execute_result"
    }
   ],
   "source": [
    "eqn2 = omega_eom(baryon_list)\n",
    "eqn2"
   ]
  },
  {
   "cell_type": "code",
   "execution_count": 8,
   "id": "182bb85d",
   "metadata": {},
   "outputs": [
    {
     "data": {
      "text/latex": [
       "$\\displaystyle 0.5 g_{\\rho N} k_{n}^{3} - 0.5 g_{\\rho N} k_{p}^{3} + 3 m_{\\rho}^{2} \\pi^{2} \\rho$"
      ],
      "text/plain": [
       "0.5*g_rho_N*k_n**3 - 0.5*g_rho_N*k_p**3 + 3*m_rho**2*pi**2*rho"
      ]
     },
     "execution_count": 8,
     "metadata": {},
     "output_type": "execute_result"
    }
   ],
   "source": [
    "eqn3 = rho_eom(baryon_list)\n",
    "eqn3"
   ]
  },
  {
   "cell_type": "code",
   "execution_count": 9,
   "id": "f58984f5",
   "metadata": {},
   "outputs": [
    {
     "data": {
      "text/latex": [
       "$\\displaystyle - g_{\\phi N} k_{n}^{3} - g_{\\phi N} k_{p}^{3} + 3 m_{\\phi}^{2} \\phi \\pi^{2}$"
      ],
      "text/plain": [
       "-g_phi_N*k_n**3 - g_phi_N*k_p**3 + 3*m_phi**2*phi*pi**2"
      ]
     },
     "execution_count": 9,
     "metadata": {},
     "output_type": "execute_result"
    }
   ],
   "source": [
    "eqn4 = phi_eom(baryon_list)\n",
    "eqn4"
   ]
  },
  {
   "cell_type": "code",
   "execution_count": 10,
   "id": "89acf3c2",
   "metadata": {},
   "outputs": [
    {
     "data": {
      "text/latex": [
       "$\\displaystyle 1.0 g_{\\rho N} \\rho + \\sqrt{k_{e}^{2} + m_{e}^{2}} - \\sqrt{k_{n}^{2} + \\left(- g_{\\sigma N} \\sigma + m_{n}\\right)^{2}} + \\sqrt{k_{p}^{2} + \\left(- g_{\\sigma N} \\sigma + m_{p}\\right)^{2}}$"
      ],
      "text/plain": [
       "1.0*g_rho_N*rho + sqrt(k_e**2 + m_e**2) - sqrt(k_n**2 + (-g_sigma_N*sigma + m_n)**2) + sqrt(k_p**2 + (-g_sigma_N*sigma + m_p)**2)"
      ]
     },
     "execution_count": 10,
     "metadata": {},
     "output_type": "execute_result"
    }
   ],
   "source": [
    "eqn5 = beta_equilibrium(baryon_list)\n",
    "eqn5[0]"
   ]
  },
  {
   "cell_type": "code",
   "execution_count": 11,
   "id": "4300aadc",
   "metadata": {},
   "outputs": [
    {
     "data": {
      "text/latex": [
       "$\\displaystyle - k_{e} - k_{\\mu} + k_{p}$"
      ],
      "text/plain": [
       "-k_e - k_mu + k_p"
      ]
     },
     "execution_count": 11,
     "metadata": {},
     "output_type": "execute_result"
    }
   ],
   "source": [
    "eqn6 = charge_conservation(baryon_list, lepton_list)\n",
    "eqn6"
   ]
  },
  {
   "cell_type": "code",
   "execution_count": 11,
   "id": "847f79b6",
   "metadata": {},
   "outputs": [],
   "source": [
    "func_gen = [sigma_eom, omega_eom, rho_eom, phi_eom, beta_equilibrium, charge_conservation, baryon_num_conservation] \n",
    "\n",
    "# need to figure out how to generate all these equations and like unpack the beta equilibrium ones.. \n",
    "def sys_eqn_gen(baryon_sym_list, lepton_sym_list):\n",
    "    # function to generate all our equations and to store in an array\n",
    "    # called sys_eqn_gen \n",
    "    \n",
    "    sys_eqn = []\n",
    "    \n",
    "    for function in func_gen:\n",
    "        if (function == charge_conservation):\n",
    "            # since charge conservation depends on both baryons and leptons\n",
    "            sys_eqn.append(function(baryon_sym_list, lepton_sym_list))\n",
    "        elif (function == beta_equilibrium):\n",
    "             # beta condition function returns an array with multiple equations\n",
    "            # we unpack that here\n",
    "            beta_conditions = function(baryon_sym_list)\n",
    "            for equation in beta_conditions:\n",
    "                sys_eqn.append(equation)\n",
    "        else:\n",
    "            sys_eqn.append(function(baryon_sym_list))\n",
    "            \n",
    "    return sys_eqn"
   ]
  },
  {
   "cell_type": "code",
   "execution_count": 12,
   "id": "2389c9fc",
   "metadata": {},
   "outputs": [],
   "source": [
    "A = sys_eqn_gen(baryon_list, lepton_list)"
   ]
  },
  {
   "cell_type": "code",
   "execution_count": 15,
   "id": "14a82b52",
   "metadata": {},
   "outputs": [],
   "source": [
    "def subs(sys_eqn, baryon_list, meson_list, lepton_list):\n",
    "    for i in range(len(sys_eqn)):\n",
    "        sys_eqn[i] = substitution(sys_eqn[i], baryon_list, meson_list, lepton_list)\n",
    "    return sys_eqn"
   ]
  },
  {
   "cell_type": "code",
   "execution_count": 16,
   "id": "85a46a7c",
   "metadata": {},
   "outputs": [
    {
     "data": {
      "text/plain": [
       "[-14.4901732481197*sigma**3 + 5492.55393864515*sigma**2 + 302500.0*sigma - 7.8192660309548*(939.0 - 8.78482*sigma)*(939.0*k_n*sqrt(1.13414560841808e-6*k_n**2 + (1 - 0.00935550585729499*sigma)**2) - 881721.0*(1 - 0.00935550585729499*sigma)**2*log(1.0*sqrt((0.00106496272630458*k_n + sqrt(1.13414560841808e-6*k_n**2 + (1 - 0.00935550585729499*sigma)**2))**2/(1 - 0.00935550585729499*sigma)**2))) - 7.8192660309548*(939.0 - 8.78482*sigma)*(939.0*k_p*sqrt(1.13414560841808e-6*k_p**2 + (1 - 0.009355505857295*sigma)**2) - 881721.0*(1 - 0.009355505857295*sigma)**2*log(1.0*sqrt((0.00106496272630458*k_p + sqrt(1.13414560841808e-6*k_p**2 + (1 - 0.009355505857295*sigma)**2))**2/(1 - 0.009355505857295*sigma)**2))),\n",
       " -8.720086*k_n**3 - 8.720086*k_p**3 + 18152837.6779784*omega,\n",
       " 4.2723975*k_n**3 - 4.2723975*k_p**3 + 17555065.3482176*rho,\n",
       " 29.6088132032681*m_phi**2*phi,\n",
       " 8.544795*rho + sqrt(k_e**2 + 0.2601) - 939.0*sqrt(1.13414560841808e-6*k_n**2 + (1 - 0.00935550585729499*sigma)**2) + 939.0*sqrt(1.13414560841808e-6*k_p**2 + (1 - 0.009355505857295*sigma)**2),\n",
       " -k_e - k_mu + k_p,\n",
       " k_n**3 + k_p**3 + 29.6088132032681*n_B]"
      ]
     },
     "execution_count": 16,
     "metadata": {},
     "output_type": "execute_result"
    }
   ],
   "source": [
    "subs(A)"
   ]
  },
  {
   "cell_type": "code",
   "execution_count": 18,
   "id": "232fc4ad",
   "metadata": {},
   "outputs": [
    {
     "data": {
      "text/latex": [
       "$\\displaystyle k_{n}^{3} + k_{p}^{3} + 29.6088132032681 n_{B}$"
      ],
      "text/plain": [
       "k_n**3 + k_p**3 + 29.6088132032681*n_B"
      ]
     },
     "execution_count": 18,
     "metadata": {},
     "output_type": "execute_result"
    }
   ],
   "source": [
    "A[6]"
   ]
  },
  {
   "cell_type": "code",
   "execution_count": null,
   "id": "2c2fa1ac",
   "metadata": {},
   "outputs": [],
   "source": [
    "def solver(baryon_list, meson_list, lepton_list, nb_array = 0.0):\n",
    "    \n",
    "    # generate nB array\n",
    "    nb_array = np.arange(0.27, 0.5, 0.01)\n",
    "    nb_array_mev = nb_array*n0*hc**3\n",
    "    \n",
    "    # generate data storage arrays\n",
    "    data = pd.DataFrame([], columns = column_name(baryon_list, meson_list, lepton_list) )\n",
    "    data_list = []\n",
    "    \n",
    "    #for loop to iterate through nB, solve and store and update \n",
    "    for i in range(len(nb_array_mev)):\n",
    "        \n",
    "    \n",
    "    # provide an initial guess\n",
    "    \n",
    "    \n",
    "    # return tabular data for each array. "
   ]
  },
  {
   "cell_type": "code",
   "execution_count": 3,
   "id": "ca7b8be8",
   "metadata": {},
   "outputs": [],
   "source": [
    "def column_name(baryon_list, meson_list, lepton_list):\n",
    "    # generate column names\n",
    "    columns = ['nB/n0']\n",
    "    \n",
    "    for meson in meson_list:\n",
    "        columns.append(meson.name + \" \" + 'field (MeV)')\n",
    "        \n",
    "    for baryon in baryon_list:\n",
    "        columns.append(baryon.name + \" \" + 'kF (MeV)')\n",
    "        columns.append(baryon.name + \" \" + 'frac')\n",
    "        columns.append(baryon.name + \" \" + 'chem pot (MeV)')\n",
    "        \n",
    "    for lepton in lepton_list:\n",
    "        columns.append(lepton.name + \" \" + \"kF (MeV)\")\n",
    "        columns.append(lepton.name + \" \" + \"frac\")\n",
    "        columns.append(lepton.name + \" \" + \"chem pot (MeV)\")\n",
    "    \n",
    "    \n",
    "    return columns"
   ]
  },
  {
   "cell_type": "code",
   "execution_count": 5,
   "id": "e8c5306b",
   "metadata": {},
   "outputs": [],
   "source": [
    "A = column_name(baryon_list, meson_list, lepton_list)"
   ]
  },
  {
   "cell_type": "code",
   "execution_count": 9,
   "id": "b1f9014f",
   "metadata": {},
   "outputs": [
    {
     "data": {
      "text/html": [
       "<div>\n",
       "<style scoped>\n",
       "    .dataframe tbody tr th:only-of-type {\n",
       "        vertical-align: middle;\n",
       "    }\n",
       "\n",
       "    .dataframe tbody tr th {\n",
       "        vertical-align: top;\n",
       "    }\n",
       "\n",
       "    .dataframe thead th {\n",
       "        text-align: right;\n",
       "    }\n",
       "</style>\n",
       "<table border=\"1\" class=\"dataframe\">\n",
       "  <thead>\n",
       "    <tr style=\"text-align: right;\">\n",
       "      <th></th>\n",
       "      <th>nB/n0</th>\n",
       "      <th>sigma field (MeV)</th>\n",
       "      <th>omega field (MeV)</th>\n",
       "      <th>rho field (MeV)</th>\n",
       "      <th>Proton kF (MeV)</th>\n",
       "      <th>Proton frac</th>\n",
       "      <th>Proton chem pot (MeV)</th>\n",
       "      <th>Neutron kF (MeV)</th>\n",
       "      <th>Neutron frac</th>\n",
       "      <th>Neutron chem pot (MeV)</th>\n",
       "      <th>electron kF (MeV)</th>\n",
       "      <th>electron frac</th>\n",
       "      <th>electron chem pot (MeV)</th>\n",
       "      <th>muon kF (MeV)</th>\n",
       "      <th>muon frac</th>\n",
       "      <th>muon chem pot (MeV)</th>\n",
       "    </tr>\n",
       "  </thead>\n",
       "  <tbody>\n",
       "  </tbody>\n",
       "</table>\n",
       "</div>"
      ],
      "text/plain": [
       "Empty DataFrame\n",
       "Columns: [nB/n0, sigma field (MeV), omega field (MeV), rho field (MeV), Proton kF (MeV), Proton frac, Proton chem pot (MeV), Neutron kF (MeV), Neutron frac, Neutron chem pot (MeV), electron kF (MeV), electron frac, electron chem pot (MeV), muon kF (MeV), muon frac, muon chem pot (MeV)]\n",
       "Index: []"
      ]
     },
     "execution_count": 9,
     "metadata": {},
     "output_type": "execute_result"
    }
   ],
   "source": [
    "data = pd.DataFrame([], columns = A)\n",
    "data"
   ]
  },
  {
   "cell_type": "code",
   "execution_count": null,
   "id": "c0cf4447",
   "metadata": {},
   "outputs": [],
   "source": [
    "# note: appending to data frame at each iteration will be intensive\n",
    "# will be better to work with lists and then contentacate the list to the dataframe at the end "
   ]
  },
  {
   "cell_type": "code",
   "execution_count": null,
   "id": "39239647",
   "metadata": {},
   "outputs": [],
   "source": [
    "data_list = []"
   ]
  },
  {
   "cell_type": "code",
   "execution_count": 21,
   "id": "0d85ebbe",
   "metadata": {},
   "outputs": [],
   "source": [
    "nb_array = np.arange(0.27, 0.5, 0.01)\n",
    "nb_array_mev = nb_array*n0*hc**3\n",
    "data = pd.DataFrame()"
   ]
  },
  {
   "cell_type": "code",
   "execution_count": null,
   "id": "1f42f1d2",
   "metadata": {},
   "outputs": [],
   "source": [
    "def fraction():\n",
    "    # take data from previous section and then find the fraction... "
   ]
  },
  {
   "cell_type": "code",
   "execution_count": null,
   "id": "1d193114",
   "metadata": {},
   "outputs": [],
   "source": [
    "def new_solver():\n",
    "    # load in entire system of particles to consider\n",
    "    \n",
    "    # need to build in some method of updating the system of equations to solve as chemical potential becomes high\n",
    "    # enough for new particles to begin populating the system... \n",
    "    \n",
    "    # \n",
    "    \n",
    "    # "
   ]
  },
  {
   "cell_type": "markdown",
   "id": "52fd79ef",
   "metadata": {},
   "source": [
    "### Threshold Condition\n",
    "We have a condition on the baryons. They will begin to occupy the system when their chemical potential satisfies the following equation\n",
    "$$\n",
    "    \\mu_n - q\\mu_e \\geq g_{\\omega B}\\omega + I_{3B}g_{\\rho B}\\rho + m_* \\qquad m_* = m_B - g_\\sigma \\sigma\n",
    "$$\n",
    "which is derived from the the chemical potential of the baryon being greater than or equal to its chemical potential in the case where it's momentum is zero. Ie, \n",
    "$$\n",
    "     {\\mu_B}_{\\lim k_F \\rightarrow 0} = \\lim_{k_F \\rightarrow 0}\\left[\\sqrt{k_F^2 + m_*^2} + g_{\\omega B}\\omega + I_{3B}g_{\\rho B}\\rho\\right] \n",
    "$$\n",
    "At each step, we need to check if the chemical potentials have become significant enough to populate. Adds significant complexity to our system tbh."
   ]
  },
  {
   "cell_type": "code",
   "execution_count": 32,
   "id": "08b5963c",
   "metadata": {},
   "outputs": [],
   "source": [
    "def bare_chemical_potential(baryon, omega_field, rho_field, sigma_field):\n",
    "    # calculates bare chemical potential \n",
    "    return baryon.num_g_omega * omega_field + baryon.isospin * barygon.g_rho * rho_field\\\n",
    "            + baryon.mass - baryon.g_sigma * sigma_field"
   ]
  },
  {
   "cell_type": "code",
   "execution_count": null,
   "id": "63edfadf",
   "metadata": {},
   "outputs": [],
   "source": [
    "def threshold(baryon, omega_field, rho_field, sigma_field, neutron_chem_pot, electron_chem_pot):\n",
    "    # checks at end of each step if the chemical potential is high enough to begin populating \n",
    "    # a new baryon species \n",
    "    # would then need to update \n",
    "    if (neutron_chem_pot - baryon.charge * electron_chem_pot >= bare_chemical_potential(baryon, omega_field, rho_field, sigma_field)):\n",
    "        baryon_list.append(baryon)\n",
    "        return True\n",
    "    elif\n",
    "        return False"
   ]
  },
  {
   "cell_type": "code",
   "execution_count": null,
   "id": "de615647",
   "metadata": {},
   "outputs": [],
   "source": [
    "def mean_field_solve(baryon_list, lepton_list, meson_list):\n",
    "    # Takes list of particles and returns the solved values\n",
    "    # stores in array \n",
    "    \n",
    "    # begin with npe matter at the beginning\n",
    "    current_baryons = [Proton, Neutron]\n",
    "    current_leptons = [electron]\n",
    "    \n",
    "    # store other baryons, leptons in these lists\n",
    "    # baryon list is sorted in order of mass and hence order of appearance\n",
    "    potential_baryons = reserve_baryons(baryon_list).sort(key = mass)\n",
    "    potential_leptons = reserve_leptons(lepton_list)\n",
    "    \n",
    "    # check if neutron and electron chemical potentials are large enough \n",
    "    if (threshold(baryon, omega_field, rho_field, sigma_field, neutron_chem_pot, electron_chem_pot)):\n",
    "        # add potential baryon to current baryon list\n",
    "        current_baryons.append(potential_baryons[0])\n",
    "        # remove potential baryon from potential baryon list\n",
    "        # assuming is already ordered in terms of mass\n",
    "        potential_baryons.remove(potential_baryons[0])"
   ]
  },
  {
   "cell_type": "code",
   "execution_count": 17,
   "id": "a88219be",
   "metadata": {},
   "outputs": [],
   "source": [
    "def mass(baryon):\n",
    "    return baryon.num_mass"
   ]
  },
  {
   "cell_type": "code",
   "execution_count": 26,
   "id": "6592a8a7",
   "metadata": {},
   "outputs": [],
   "source": [
    "test_baryons = [Proton, Neutron, Lambda, Sigma_neu]"
   ]
  },
  {
   "cell_type": "code",
   "execution_count": 28,
   "id": "7b6219c5",
   "metadata": {},
   "outputs": [
    {
     "name": "stdout",
     "output_type": "stream",
     "text": [
      "Lambda\n",
      "Sigma_0\n"
     ]
    }
   ],
   "source": [
    "test_baryons.remove(test_baryons[0])\n",
    "for baryon in test_baryons:\n",
    "    print(baryon.name)"
   ]
  },
  {
   "cell_type": "code",
   "execution_count": null,
   "id": "72ee64f0",
   "metadata": {},
   "outputs": [],
   "source": []
  },
  {
   "cell_type": "code",
   "execution_count": 10,
   "id": "8484beb4",
   "metadata": {},
   "outputs": [],
   "source": [
    "def reserve_baryons(baryon_list):\n",
    "    # returns list of baryons that aren't protons or neutrons\n",
    "    reserve_list = []\n",
    "    for baryon in baryon_list:\n",
    "        if (baryon != Proton and baryon != Neutron):\n",
    "            reserve_list.append(baryon)\n",
    "    return reverse_list \n",
    "\n",
    "def reserve_leptons(lepton_list):\n",
    "    # return list of leptons that aren't electrons \n",
    "    reserve_list = []\n",
    "    for lepton in lepton_list:\n",
    "        if (lepton != electron):\n",
    "            reserve_list.append(lepton)\n",
    "    return reserve_list "
   ]
  },
  {
   "cell_type": "code",
   "execution_count": null,
   "id": "dffbc998",
   "metadata": {},
   "outputs": [],
   "source": []
  }
 ],
 "metadata": {
  "kernelspec": {
   "display_name": "Python 3",
   "language": "python",
   "name": "python3"
  },
  "language_info": {
   "codemirror_mode": {
    "name": "ipython",
    "version": 3
   },
   "file_extension": ".py",
   "mimetype": "text/x-python",
   "name": "python",
   "nbconvert_exporter": "python",
   "pygments_lexer": "ipython3",
   "version": "3.8.8"
  }
 },
 "nbformat": 4,
 "nbformat_minor": 5
}
