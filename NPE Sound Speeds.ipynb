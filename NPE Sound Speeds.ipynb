{
 "cells": [
  {
   "cell_type": "code",
   "execution_count": 1,
   "id": "05b540d6",
   "metadata": {},
   "outputs": [],
   "source": [
    "import numpy as np\n",
    "import sympy as sym\n",
    "import matplotlib.pyplot as plt\n",
    "from broyden import *\n",
    "import time\n",
    "\n",
    "from sympy.utilities.lambdify import lambdify, implemented_function\n",
    "\n",
    "Pi = sym.symbols('pi')\n",
    "pi = np.pi\n",
    "n0 = 0.153\n",
    "hc = 197.326980 # MeV fm"
   ]
  },
  {
   "cell_type": "code",
   "execution_count": 2,
   "id": "f3e9c8e2",
   "metadata": {},
   "outputs": [],
   "source": [
    "class eos:\n",
    "    def __init__(self, g_sigma, g_omega, g_rho = 0.0, b = 0.0, c = 0.0):\n",
    "        \n",
    "        self.g_sigma = g_sigma\n",
    "        self.g_omega = g_omega\n",
    "        self.g_rho = g_rho\n",
    "        self.b = b\n",
    "        self.c = c\n",
    "\n",
    "class baryon:\n",
    "    def __init__(self, mass, spin, isospin, charge, kind, var_type, mass_eff = 0.0, num_density = 0.0,\\\n",
    "                 frac = 0.0, kf = 0.0, ef = 0.0, chem_pot = 0.0):\n",
    "    \n",
    "        # variables to be established at baryon declaration\n",
    "        self.mass = mass\n",
    "        self.spin = spin \n",
    "        self.isospin = isospin\n",
    "        self.charge = charge\n",
    "        self.kind = kind\n",
    "        self.var_type = var_type\n",
    "    \n",
    "        # variables to be stored later\n",
    "        self.mass_eff = mass_eff\n",
    "        self.num_density = num_density\n",
    "        self.frac = frac\n",
    "        self.kf = kf\n",
    "        self.ef = ef\n",
    "        self.chem_pot = chem_pot\n",
    "        \n",
    "        # other things\n",
    "        self.g_sigma = 0.0\n",
    "        self.g_omega = 0.0 \n",
    "        self.g_rho = 0.0 \n",
    "        self.g_phi = 0.0 \n",
    "\n",
    "class lepton:\n",
    "    def __init__(self, mass, charge, num_density = 0.0, frac = 0.0, var_type = 0.0, kf = 0.0, chem_pot = 0.0):\n",
    "        self.mass = mass\n",
    "        self.charge = charge\n",
    "        self.num_density = num_density\n",
    "        self.frac = frac\n",
    "        self.var_type = var_type\n",
    "        self.kf = kf\n",
    "        self.chem_pot = chem_pot\n",
    "\n",
    "class meson:\n",
    "    def __init__(self, mass, field = 0.0):\n",
    "        self.mass = mass # in MeV\n",
    "        self.field = field\n",
    "        \n",
    "class independent_var:\n",
    "    def __init__(self, var, func, tilde_chem_pot = 0.0, tilde_chem_pot_val = 0.0, num_val = 0.0, total_deriv = 0.0):\n",
    "        self.var = var # var is the symbol for the variable\n",
    "        self.func = func \n",
    "        \n",
    "        self.tilde_chem_pot = tilde_chem_pot\n",
    "        self.tilde_chem_pot_val = tilde_chem_pot_val\n",
    "        \n",
    "        self.num_val = num_val\n",
    "        \n",
    "        # total derivative of fraction wrt to nB\n",
    "        self.total_deriv = total_deriv"
   ]
  },
  {
   "cell_type": "code",
   "execution_count": 3,
   "id": "600bc3f0",
   "metadata": {},
   "outputs": [],
   "source": [
    "rmf = eos(g_sigma = 8.79509376389, g_omega = 9.1815177, g_rho = 9.7793745, b = 0.00414, c = 0.00716)"
   ]
  },
  {
   "cell_type": "code",
   "execution_count": 4,
   "id": "ccf2cb92",
   "metadata": {},
   "outputs": [],
   "source": [
    "# electron\n",
    "electron_sym = lepton(sym.symbols('m_e'), -1, sym.symbols('n_e'), sym.symbols('x_e'), 'Independent',\\\n",
    "                      sym.symbols('k_F_e'), sym.symbols('\\mu_e'))\n",
    "electron_num = lepton(0.510, -1)\n",
    "\n",
    "# proton \n",
    "proton_sym = baryon(sym.symbols('m_p'), 1/2, 1/2, 1, 'Nucleon', 'Dependent', sym.symbols('m_p^*'),\\\n",
    "                    sym.symbols('n_p'), sym.symbols('x_p'), sym.symbols('k_F_p'),\\\n",
    "                    sym.symbols('E^*_F_p'), sym.symbols('mu_p'))\n",
    "proton_num = baryon(939.0, 1/2, 1/2, 1, 'Nucleon', 'Dependent')\n",
    "\n",
    "# neutron \n",
    "neutron_sym = baryon(sym.symbols('m_n'), 1/2, -1/2, 0, 'Nucleon', 'Dependent', sym.symbols('m_n^*'),\\\n",
    "                    sym.symbols('n_n'), sym.symbols('x_n'), sym.symbols('k_F_n'),\\\n",
    "                    sym.symbols('E^*_F_n'), sym.symbols('mu_n'))\n",
    "neutron_num = baryon(939.0, 1/2, -1/2, 0, 'Nucleon', 'Dependent')"
   ]
  },
  {
   "cell_type": "code",
   "execution_count": 5,
   "id": "90d03634",
   "metadata": {},
   "outputs": [
    {
     "ename": "NameError",
     "evalue": "name 'rmf_sym' is not defined",
     "output_type": "error",
     "traceback": [
      "\u001b[0;31m---------------------------------------------------------------------------\u001b[0m",
      "\u001b[0;31mNameError\u001b[0m                                 Traceback (most recent call last)",
      "\u001b[0;32m<ipython-input-5-ba3086612eb7>\u001b[0m in \u001b[0;36m<module>\u001b[0;34m\u001b[0m\n\u001b[0;32m----> 1\u001b[0;31m \u001b[0mproton_sym\u001b[0m\u001b[0;34m.\u001b[0m\u001b[0mg_sigma\u001b[0m \u001b[0;34m=\u001b[0m \u001b[0mrmf_sym\u001b[0m\u001b[0;34m.\u001b[0m\u001b[0mg_sigma\u001b[0m\u001b[0;34m\u001b[0m\u001b[0;34m\u001b[0m\u001b[0m\n\u001b[0m\u001b[1;32m      2\u001b[0m \u001b[0mproton_num\u001b[0m\u001b[0;34m.\u001b[0m\u001b[0mg_sigma\u001b[0m \u001b[0;34m=\u001b[0m \u001b[0mrmf\u001b[0m\u001b[0;34m.\u001b[0m\u001b[0mg_sigma\u001b[0m\u001b[0;34m\u001b[0m\u001b[0;34m\u001b[0m\u001b[0m\n\u001b[1;32m      3\u001b[0m \u001b[0;34m\u001b[0m\u001b[0m\n\u001b[1;32m      4\u001b[0m \u001b[0mproton_sym\u001b[0m\u001b[0;34m.\u001b[0m\u001b[0mg_omega\u001b[0m \u001b[0;34m=\u001b[0m \u001b[0mrmf_sym\u001b[0m\u001b[0;34m.\u001b[0m\u001b[0mg_omega\u001b[0m\u001b[0;34m\u001b[0m\u001b[0;34m\u001b[0m\u001b[0m\n\u001b[1;32m      5\u001b[0m \u001b[0mproton_num\u001b[0m\u001b[0;34m.\u001b[0m\u001b[0mg_omega\u001b[0m \u001b[0;34m=\u001b[0m \u001b[0mrmf\u001b[0m\u001b[0;34m.\u001b[0m\u001b[0mg_omega\u001b[0m\u001b[0;34m\u001b[0m\u001b[0;34m\u001b[0m\u001b[0m\n",
      "\u001b[0;31mNameError\u001b[0m: name 'rmf_sym' is not defined"
     ]
    }
   ],
   "source": [
    "proton_sym.g_sigma = rmf_sym.g_sigma\n",
    "proton_num.g_sigma = rmf.g_sigma\n",
    "\n",
    "proton_sym.g_omega = rmf_sym.g_omega\n",
    "proton_num.g_omega = rmf.g_omega\n",
    "\n",
    "proton_sym.g_rho = rmf_sym.g_rho\n",
    "proton_num.g_rho = rmf.g_rho\n",
    "\n",
    "\n",
    "\n",
    "\n",
    "neutron_sym.g_sigma = rmf_sym.g_sigma\n",
    "neutron_num.g_sigma = rmf.g_sigma\n",
    "\n",
    "neutron_sym.g_omega = rmf_sym.g_omega\n",
    "neutron_num.g_omega = rmf.g_omega\n",
    "\n",
    "neutron_sym.g_rho = rmf_sym.g_rho\n",
    "neutron_num.g_rho = rmf.g_rho"
   ]
  },
  {
   "cell_type": "code",
   "execution_count": null,
   "id": "7046e9b2",
   "metadata": {},
   "outputs": [],
   "source": []
  }
 ],
 "metadata": {
  "kernelspec": {
   "display_name": "Python 3",
   "language": "python",
   "name": "python3"
  },
  "language_info": {
   "codemirror_mode": {
    "name": "ipython",
    "version": 3
   },
   "file_extension": ".py",
   "mimetype": "text/x-python",
   "name": "python",
   "nbconvert_exporter": "python",
   "pygments_lexer": "ipython3",
   "version": "3.8.8"
  }
 },
 "nbformat": 4,
 "nbformat_minor": 5
}
