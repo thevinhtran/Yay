{
 "cells": [
  {
   "cell_type": "markdown",
   "id": "d9b508c2",
   "metadata": {},
   "source": [
    "# Attempt at writing down generalized solver"
   ]
  },
  {
   "cell_type": "code",
   "execution_count": 1,
   "id": "664f0960",
   "metadata": {},
   "outputs": [],
   "source": [
    "import numpy as np\n",
    "import sympy as sym\n",
    "import matplotlib.pyplot as plt\n",
    "from broyden import *\n",
    "import time\n",
    "\n",
    "Pi = sym.symbols('pi')\n",
    "pi = np.pi\n",
    "n0 = 0.153\n",
    "hc = 197.326980 # MeV fm"
   ]
  },
  {
   "cell_type": "code",
   "execution_count": 2,
   "id": "c3e00ec1",
   "metadata": {},
   "outputs": [],
   "source": [
    "class eos:\n",
    "    def __init__(self, g_sigma, g_omega, g_rho = 0.0, b = 0.0, c = 0.0):\n",
    "        \n",
    "        self.g_sigma = g_sigma\n",
    "        self.g_omega = g_omega\n",
    "        self.g_rho = g_rho\n",
    "        self.b = b\n",
    "        self.c = c\n",
    "\n",
    "class baryon:\n",
    "    def __init__(self, mass, spin, isospin, charge, kind, var_type, mass_eff = 0.0, num_density = 0.0,\\\n",
    "                 frac = 0.0, kf = 0.0, ef = 0.0, chem_pot = 0.0):\n",
    "    \n",
    "        # variables to be established at baryon declaration\n",
    "        self.mass = mass\n",
    "        self.spin = spin \n",
    "        self.isospin = isospin\n",
    "        self.charge = charge\n",
    "        self.kind = kind\n",
    "        self.var_type = var_type\n",
    "    \n",
    "        # variables to be stored later\n",
    "        self.mass_eff = mass_eff\n",
    "        self.num_density = num_density\n",
    "        self.frac = frac\n",
    "        self.kf = kf\n",
    "        self.ef = ef\n",
    "        self.chem_pot = chem_pot\n",
    "        \n",
    "        # other things\n",
    "        self.g_sigma = 0.0\n",
    "        self.g_omega = 0.0 \n",
    "        self.g_rho = 0.0 \n",
    "        self.g_phi = 0.0 \n",
    "\n",
    "class lepton:\n",
    "    def __init__(self, mass, charge, num_density = 0.0, frac = 0.0, var_type = 0.0, kf = 0.0, chem_pot = 0.0):\n",
    "        self.mass = mass\n",
    "        self.charge = charge\n",
    "        self.num_density = num_density\n",
    "        self.frac = frac\n",
    "        self.var_type = var_type\n",
    "        self.kf = kf\n",
    "        self.chem_pot = chem_pot\n",
    "\n",
    "class meson:\n",
    "    def __init__(self, mass, field = 0.0):\n",
    "        self.mass = mass # in MeV\n",
    "        self.field = field\n",
    "        \n",
    "class independent_var:\n",
    "    def __init__(self, var, func, tilde_chem_pot = 0.0, tilde_chem_pot_val = 0.0, num_val = 0.0, total_deriv = 0.0):\n",
    "        self.var = var # var is the symbol for the variable\n",
    "        self.func = func \n",
    "        \n",
    "        self.tilde_chem_pot = tilde_chem_pot\n",
    "        self.tilde_chem_pot_val = tilde_chem_pot_val\n",
    "        \n",
    "        self.num_val = num_val\n",
    "        \n",
    "        # total derivative of fraction wrt to nB\n",
    "        self.total_deriv = total_deriv"
   ]
  },
  {
   "cell_type": "markdown",
   "id": "beb28b8e",
   "metadata": {},
   "source": [
    "### Goal: \n",
    "1. Declare our set of baryons, leptons, and mesons. \n",
    "2. In the context of our gm3 model: get all the equations. \n",
    "3. Solve. \n",
    "4. Print out a data table. "
   ]
  },
  {
   "cell_type": "code",
   "execution_count": null,
   "id": "70298351",
   "metadata": {},
   "outputs": [],
   "source": []
  }
 ],
 "metadata": {
  "kernelspec": {
   "display_name": "Python 3",
   "language": "python",
   "name": "python3"
  },
  "language_info": {
   "codemirror_mode": {
    "name": "ipython",
    "version": 3
   },
   "file_extension": ".py",
   "mimetype": "text/x-python",
   "name": "python",
   "nbconvert_exporter": "python",
   "pygments_lexer": "ipython3",
   "version": "3.8.8"
  }
 },
 "nbformat": 4,
 "nbformat_minor": 5
}
