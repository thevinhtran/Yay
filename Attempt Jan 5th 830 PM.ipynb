{
 "cells": [
  {
   "cell_type": "code",
   "execution_count": 1,
   "id": "6ffcf226",
   "metadata": {},
   "outputs": [],
   "source": [
    "from broyden import *\n",
    "from solver_helper import *\n",
    "\n",
    "import matplotlib.pyplot as plt \n",
    "import pandas as pd\n",
    "import time"
   ]
  },
  {
   "cell_type": "code",
   "execution_count": 2,
   "id": "b3225f5c",
   "metadata": {},
   "outputs": [],
   "source": [
    "#rmf = eos(g_sigma_N = 8.79509376389, g_omega_N = 9.1815177, g_rho_N = 9.7793745, b = 0.00414, c = 0.00716)\n",
    "rmf = eos(g_sigma_N = 8.784820, g_omega_N = 8.720086, g_rho_N = 8.544795, b = 0.008628, c = -0.002433)\n",
    "\n",
    "baryon_list = [Neutron, Proton]\n",
    "meson_list = [sigma, omega, rho]\n",
    "lepton_list = [electron]"
   ]
  },
  {
   "cell_type": "code",
   "execution_count": 3,
   "id": "b12c016d",
   "metadata": {
    "scrolled": true
   },
   "outputs": [
    {
     "data": {
      "text/html": [
       "<div>\n",
       "<style scoped>\n",
       "    .dataframe tbody tr th:only-of-type {\n",
       "        vertical-align: middle;\n",
       "    }\n",
       "\n",
       "    .dataframe tbody tr th {\n",
       "        vertical-align: top;\n",
       "    }\n",
       "\n",
       "    .dataframe thead th {\n",
       "        text-align: right;\n",
       "    }\n",
       "</style>\n",
       "<table border=\"1\" class=\"dataframe\">\n",
       "  <thead>\n",
       "    <tr style=\"text-align: right;\">\n",
       "      <th></th>\n",
       "      <th>nB/n0</th>\n",
       "      <th>sigma field (MeV)</th>\n",
       "      <th>rho field (MeV)</th>\n",
       "      <th>omega field (MeV)</th>\n",
       "      <th>Neutron kF (MeV)</th>\n",
       "      <th>Proton kF (MeV)</th>\n",
       "      <th>electron kF (MeV)</th>\n",
       "      <th>Neutron frac</th>\n",
       "      <th>Proton frac</th>\n",
       "      <th>electron frac</th>\n",
       "    </tr>\n",
       "  </thead>\n",
       "  <tbody>\n",
       "    <tr>\n",
       "      <th>0</th>\n",
       "      <td>0.27</td>\n",
       "      <td>7.941193</td>\n",
       "      <td>-2.247962</td>\n",
       "      <td>4.514730</td>\n",
       "      <td>210.426938</td>\n",
       "      <td>43.238314</td>\n",
       "      <td>43.238314</td>\n",
       "      <td>0.991399</td>\n",
       "      <td>0.008601</td>\n",
       "      <td>0.008601</td>\n",
       "    </tr>\n",
       "    <tr>\n",
       "      <th>1</th>\n",
       "      <td>0.28</td>\n",
       "      <td>8.199099</td>\n",
       "      <td>-2.329050</td>\n",
       "      <td>4.681942</td>\n",
       "      <td>212.960614</td>\n",
       "      <td>44.528049</td>\n",
       "      <td>44.528049</td>\n",
       "      <td>0.990942</td>\n",
       "      <td>0.009058</td>\n",
       "      <td>0.009058</td>\n",
       "    </tr>\n",
       "    <tr>\n",
       "      <th>2</th>\n",
       "      <td>0.29</td>\n",
       "      <td>8.455030</td>\n",
       "      <td>-2.409949</td>\n",
       "      <td>4.849154</td>\n",
       "      <td>215.432600</td>\n",
       "      <td>45.809033</td>\n",
       "      <td>45.809033</td>\n",
       "      <td>0.990477</td>\n",
       "      <td>0.009523</td>\n",
       "      <td>0.009523</td>\n",
       "    </tr>\n",
       "    <tr>\n",
       "      <th>3</th>\n",
       "      <td>0.30</td>\n",
       "      <td>8.709030</td>\n",
       "      <td>-2.490655</td>\n",
       "      <td>5.016367</td>\n",
       "      <td>217.846350</td>\n",
       "      <td>47.081534</td>\n",
       "      <td>47.081534</td>\n",
       "      <td>0.990006</td>\n",
       "      <td>0.009994</td>\n",
       "      <td>0.009994</td>\n",
       "    </tr>\n",
       "    <tr>\n",
       "      <th>4</th>\n",
       "      <td>0.31</td>\n",
       "      <td>8.961139</td>\n",
       "      <td>-2.571167</td>\n",
       "      <td>5.183579</td>\n",
       "      <td>220.205018</td>\n",
       "      <td>48.345801</td>\n",
       "      <td>48.345801</td>\n",
       "      <td>0.989528</td>\n",
       "      <td>0.010472</td>\n",
       "      <td>0.010472</td>\n",
       "    </tr>\n",
       "    <tr>\n",
       "      <th>...</th>\n",
       "      <td>...</td>\n",
       "      <td>...</td>\n",
       "      <td>...</td>\n",
       "      <td>...</td>\n",
       "      <td>...</td>\n",
       "      <td>...</td>\n",
       "      <td>...</td>\n",
       "      <td>...</td>\n",
       "      <td>...</td>\n",
       "      <td>...</td>\n",
       "    </tr>\n",
       "    <tr>\n",
       "      <th>88</th>\n",
       "      <td>1.15</td>\n",
       "      <td>25.791266</td>\n",
       "      <td>-8.542271</td>\n",
       "      <td>19.229406</td>\n",
       "      <td>334.909950</td>\n",
       "      <td>135.090123</td>\n",
       "      <td>135.090123</td>\n",
       "      <td>0.938414</td>\n",
       "      <td>0.061586</td>\n",
       "      <td>0.061586</td>\n",
       "    </tr>\n",
       "    <tr>\n",
       "      <th>89</th>\n",
       "      <td>1.16</td>\n",
       "      <td>25.956326</td>\n",
       "      <td>-8.603948</td>\n",
       "      <td>19.396618</td>\n",
       "      <td>335.801379</td>\n",
       "      <td>135.949166</td>\n",
       "      <td>135.949166</td>\n",
       "      <td>0.937773</td>\n",
       "      <td>0.062227</td>\n",
       "      <td>0.062227</td>\n",
       "    </tr>\n",
       "    <tr>\n",
       "      <th>90</th>\n",
       "      <td>1.17</td>\n",
       "      <td>26.120786</td>\n",
       "      <td>-8.665421</td>\n",
       "      <td>19.563830</td>\n",
       "      <td>336.686864</td>\n",
       "      <td>136.804973</td>\n",
       "      <td>136.804973</td>\n",
       "      <td>0.937132</td>\n",
       "      <td>0.062868</td>\n",
       "      <td>0.062868</td>\n",
       "    </tr>\n",
       "    <tr>\n",
       "      <th>91</th>\n",
       "      <td>1.18</td>\n",
       "      <td>26.284650</td>\n",
       "      <td>-8.726690</td>\n",
       "      <td>19.731042</td>\n",
       "      <td>337.566492</td>\n",
       "      <td>137.657567</td>\n",
       "      <td>137.657567</td>\n",
       "      <td>0.936492</td>\n",
       "      <td>0.063508</td>\n",
       "      <td>0.063508</td>\n",
       "    </tr>\n",
       "    <tr>\n",
       "      <th>92</th>\n",
       "      <td>1.19</td>\n",
       "      <td>26.447924</td>\n",
       "      <td>-8.787756</td>\n",
       "      <td>19.898255</td>\n",
       "      <td>338.440346</td>\n",
       "      <td>138.506970</td>\n",
       "      <td>138.506970</td>\n",
       "      <td>0.935853</td>\n",
       "      <td>0.064147</td>\n",
       "      <td>0.064147</td>\n",
       "    </tr>\n",
       "  </tbody>\n",
       "</table>\n",
       "<p>93 rows × 10 columns</p>\n",
       "</div>"
      ],
      "text/plain": [
       "    nB/n0  sigma field (MeV)  rho field (MeV)  omega field (MeV)  \\\n",
       "0    0.27           7.941193        -2.247962           4.514730   \n",
       "1    0.28           8.199099        -2.329050           4.681942   \n",
       "2    0.29           8.455030        -2.409949           4.849154   \n",
       "3    0.30           8.709030        -2.490655           5.016367   \n",
       "4    0.31           8.961139        -2.571167           5.183579   \n",
       "..    ...                ...              ...                ...   \n",
       "88   1.15          25.791266        -8.542271          19.229406   \n",
       "89   1.16          25.956326        -8.603948          19.396618   \n",
       "90   1.17          26.120786        -8.665421          19.563830   \n",
       "91   1.18          26.284650        -8.726690          19.731042   \n",
       "92   1.19          26.447924        -8.787756          19.898255   \n",
       "\n",
       "    Neutron kF (MeV)  Proton kF (MeV)  electron kF (MeV)  Neutron frac  \\\n",
       "0         210.426938        43.238314          43.238314      0.991399   \n",
       "1         212.960614        44.528049          44.528049      0.990942   \n",
       "2         215.432600        45.809033          45.809033      0.990477   \n",
       "3         217.846350        47.081534          47.081534      0.990006   \n",
       "4         220.205018        48.345801          48.345801      0.989528   \n",
       "..               ...              ...                ...           ...   \n",
       "88        334.909950       135.090123         135.090123      0.938414   \n",
       "89        335.801379       135.949166         135.949166      0.937773   \n",
       "90        336.686864       136.804973         136.804973      0.937132   \n",
       "91        337.566492       137.657567         137.657567      0.936492   \n",
       "92        338.440346       138.506970         138.506970      0.935853   \n",
       "\n",
       "    Proton frac  electron frac  \n",
       "0      0.008601       0.008601  \n",
       "1      0.009058       0.009058  \n",
       "2      0.009523       0.009523  \n",
       "3      0.009994       0.009994  \n",
       "4      0.010472       0.010472  \n",
       "..          ...            ...  \n",
       "88     0.061586       0.061586  \n",
       "89     0.062227       0.062227  \n",
       "90     0.062868       0.062868  \n",
       "91     0.063508       0.063508  \n",
       "92     0.064147       0.064147  \n",
       "\n",
       "[93 rows x 10 columns]"
      ]
     },
     "execution_count": 3,
     "metadata": {},
     "output_type": "execute_result"
    }
   ],
   "source": [
    "B = full_solve(rmf, baryon_list, lepton_list, meson_list, [8.0, 4.50, -2.2, 210.0, 43.0, 43.0])\n",
    "B"
   ]
  },
  {
   "cell_type": "code",
   "execution_count": 12,
   "id": "bfe3c405",
   "metadata": {},
   "outputs": [],
   "source": [
    "nb_array = B.loc[:,'nB/n0'].values\n",
    "\n",
    "sigma_array = B.loc[:,'sigma field (MeV)'].values\n",
    "rho_array = B.loc[:,'rho field (MeV)'].values\n",
    "omega_array = B.loc[:,'omega field (MeV)'].values\n",
    "\n",
    "neutron_frac = B.loc[:, 'Neutron frac'].values\n",
    "proton_frac = B.loc[:, 'Proton frac'].values\n",
    "electron_frac = B.loc[:, 'electron frac'].values\n",
    "\n",
    "fermi_n = B.loc[:, 'Neutron kF (MeV)'].values\n",
    "fermi_p = B.loc[:, 'Proton kF (MeV)'].values\n",
    "fermi_e = B.loc[:, 'electron kF (MeV)'].values"
   ]
  },
  {
   "cell_type": "markdown",
   "id": "0fcafe28",
   "metadata": {},
   "source": [
    "## Chemical Potential"
   ]
  },
  {
   "cell_type": "code",
   "execution_count": 4,
   "id": "8bb4e0ae",
   "metadata": {},
   "outputs": [],
   "source": [
    "def partial_U(sigma_field):\n",
    "    term1 = rmf.b * Neutron.num_mass * rmf.g_sigma_N**3 * sigma_field**2\n",
    "    term2 = rmf.c * rmf.g_sigma_N**4 * sigma_field**3 \n",
    "    return term1 + term2"
   ]
  },
  {
   "cell_type": "code",
   "execution_count": 5,
   "id": "aff423ec",
   "metadata": {},
   "outputs": [],
   "source": [
    "def eff_mass(baryon, sigma_field):\n",
    "    return baryon.num_mass - rmf.g_sigma_N * sigma_field"
   ]
  },
  {
   "cell_type": "code",
   "execution_count": 6,
   "id": "61e74c9a",
   "metadata": {},
   "outputs": [],
   "source": [
    "def ef(baryon, kf, sigma_field):\n",
    "    m = eff_mass(baryon, sigma_field)\n",
    "    return np.sqrt(kf**2 + m**2) "
   ]
  },
  {
   "cell_type": "code",
   "execution_count": 7,
   "id": "39da9479",
   "metadata": {},
   "outputs": [],
   "source": [
    "def log_fac(baryon, kf, sigma_field):\n",
    "    m = eff_mass(baryon, sigma_field) \n",
    "    EF = ef(baryon, kf, sigma_field)\n",
    "    \n",
    "    numerator = kf + EF \n",
    "    return np.log(numerator/m) "
   ]
  },
  {
   "cell_type": "code",
   "execution_count": 42,
   "id": "62d36ad5",
   "metadata": {},
   "outputs": [],
   "source": [
    "def scalar_densityy(baryon, kf, sigma_field):\n",
    "    m = eff_mass(baryon, sigma_field) \n",
    "    EF = ef(baryon, kf, sigma_field) \n",
    "    log_factor = log_fac(baryon, kf, sigma_field)\n",
    "    \n",
    "    term1 = EF * kf \n",
    "    term2 = - m**2 * log_factor\n",
    "    \n",
    "    return m/(2*np.pi**2)*(term1 + term2)"
   ]
  },
  {
   "cell_type": "code",
   "execution_count": 43,
   "id": "c4319f28",
   "metadata": {},
   "outputs": [],
   "source": [
    "def scalar_density(baryon):\n",
    "    # returns scalar density n_s for a given baryon\n",
    "    # note: we modify the argument of the natural log as to be positive definite to avoid complex numbers \n",
    "    # this is a symbolic expression \n",
    "\n",
    "    coeff_1 = (2*baryon.spin + 1)/(2*Pi**2)\n",
    "    coeff_2 = baryon.sym_g_sigma*baryon.sym_mass_eff\n",
    "    term_2 = baryon.sym_ef*baryon.sym_kf \n",
    "    term_2_2 = sym.sqrt(((baryon.sym_ef + baryon.sym_kf)/baryon.sym_mass_eff)**2)\n",
    "    term_3 = sym.log(term_2_2)\n",
    "    \n",
    "    return coeff_1*coeff_2*(term_2 - baryon.sym_mass_eff**2*term_3)"
   ]
  },
  {
   "cell_type": "markdown",
   "id": "8b230f77",
   "metadata": {},
   "source": [
    "## Chemical Potential"
   ]
  },
  {
   "cell_type": "code",
   "execution_count": 4,
   "id": "fe8bc38c",
   "metadata": {},
   "outputs": [],
   "source": [
    "def alpha_i(baryon, kf, sigma_field):\n",
    "    m = eff_mass(baryon, sigma_field) \n",
    "    EF = ef(baryon, kf, sigma_field) \n",
    "    log_factor = log_fac(baryon, kf, sigma_field) \n",
    "    g_sigma = baryon.num_g_sigma \n",
    "    \n",
    "    term1 = - g_sigma/(2* np.pi**2) * (kf * EF - m**2 * log_factor) \n",
    "    \n",
    "    term2_a = - baryon.num_g_sigma * kf * m / EF \n",
    "    term2_b = 2 * m * g_sigma * log_factor \n",
    "    term2_c = - g_sigma * m**3 / EF / (kf + EF) \n",
    "    term2_d = m * g_sigma \n",
    "    \n",
    "    term2 = m/(2*np.pi**2)*(term2_a + term2_b + term2_c + term2_d) \n",
    "    \n",
    "    return term1 + term2"
   ]
  },
  {
   "cell_type": "code",
   "execution_count": 5,
   "id": "5b84eab2",
   "metadata": {},
   "outputs": [],
   "source": [
    "def beta_i(baryon, kf, sigma_field):\n",
    "    m = eff_mass(baryon, sigma_field) \n",
    "    EF = ef(baryon, kf, sigma_field) \n",
    "    g_sigma = baryon.num_g_sigma \n",
    "    \n",
    "    term1 = EF\n",
    "    term2 = kf**2 / EF \n",
    "    term3 = m**2 /EF\n",
    "    \n",
    "    return m/(2*np.pi**2)*(term1 + term2 + term3) "
   ]
  },
  {
   "cell_type": "code",
   "execution_count": 6,
   "id": "51c88e7d",
   "metadata": {},
   "outputs": [],
   "source": [
    "def sec_deriv(sigma_field):\n",
    "    term1 = 2 * sigma.num_b * Neutron.num_mass * Neutron.num_g_sigma **3 * sigma_field \n",
    "    term2 = 3 * sigma.num_c * Neutron.num_g_sigma**4 * sigma_field**2 \n",
    "    return term1 + term2 "
   ]
  },
  {
   "cell_type": "code",
   "execution_count": 7,
   "id": "a3324981",
   "metadata": {},
   "outputs": [],
   "source": [
    "def partial_sigma_partial_kf(Neutron, Proton, n_kf, p_kf, sigma_field):\n",
    "    m = eff_mass(Neutron, sigma_field) \n",
    "    n_EF = ef(Neutron, kf, sigma_field)\n",
    "    p_EF = ef(Proton, kf, sigma_field) \n",
    "    \n",
    "    g_sigma = Neutron.num_g_sigma \n",
    "    \n",
    "    numerator = g_sigma * (beta_i(Neutron, n_kf, sigma_field) + beta_i(Proton, p_kf, sigma_field)) \n",
    "    \n",
    "    denominator = sigma.num_mass**2 + sec_deriv(sigma_field) \n",
    "    \n",
    "    denominator += g_sigma * alpha_i(Proton, p_kf, sigma_field) \n",
    "    denominator += g_sigma * alpha_i(Neutron, n_kf, sigma_field)\n",
    "    \n",
    "    return numerator/denominator "
   ]
  },
  {
   "cell_type": "code",
   "execution_count": null,
   "id": "befbd4c4",
   "metadata": {},
   "outputs": [],
   "source": [
    "partial_sigma_kfp = np.zeros(len(nb_array)) \n",
    "partial_sigma_kfn = np.zeros(len(nb_array)) \n",
    "\n",
    "for i in range(len(partial_sigma_kfn)):\n",
    "    partial_sigma_kfp[i] = partial_sigma_partial_kf(Neutron, Proton, fermi_n[i], fermi_p[i], sigma_array[i])"
   ]
  },
  {
   "cell_type": "code",
   "execution_count": 8,
   "id": "bb21d43a",
   "metadata": {},
   "outputs": [
    {
     "data": {
      "text/plain": [
       "0.008628"
      ]
     },
     "execution_count": 8,
     "metadata": {},
     "output_type": "execute_result"
    }
   ],
   "source": [
    "sigma.num_b"
   ]
  },
  {
   "cell_type": "markdown",
   "id": "5cc04712",
   "metadata": {},
   "source": [
    "## Sigma Field Partial Derivative"
   ]
  },
  {
   "cell_type": "code",
   "execution_count": 10,
   "id": "decc6318",
   "metadata": {},
   "outputs": [],
   "source": [
    "def d_U(sigma_field):\n",
    "    term1 = sigma.num_b * Neutron.num_mass * Neutron.num_g_sigma**3 * sigma_field**2 \n",
    "    term2 = sigma.num_c * Neutron.num_g_sigma**4 * sigma_field**3 \n",
    "    return term1 + term2 "
   ]
  },
  {
   "cell_type": "code",
   "execution_count": 9,
   "id": "c726d4a1",
   "metadata": {},
   "outputs": [],
   "source": [
    "def scalar_dens(fermi, sigma_field, baryon):\n",
    "    m = baryon.num_mass - baryon.num_g_sigma * sigma_field \n",
    "    EF = np.sqrt(fermi**2 + m**2) \n",
    "    log_fac = np.log((EF + fermi)/m)\n",
    "    \n",
    "    term1 = EF * kf \n",
    "    term2 = - m**2 * log_fac\n",
    "    return m/(2*np.pi**2)*(term1 + term2) "
   ]
  },
  {
   "cell_type": "code",
   "execution_count": 11,
   "id": "96692380",
   "metadata": {},
   "outputs": [],
   "source": [
    "def sigma_eom(n_fermi, p_fermi, sigma_field):\n",
    "    return sigma.num_mass**2 * sigma_field + d_U(sigma_field)\\\n",
    "            - Neutron.num_g_sigma * scalar_dens(n_fermi, sigma_field, Neutron)\\\n",
    "            - Proton.num_g_sigma * scalar_dens(p_fermi, sigma_field, Proton)"
   ]
  },
  {
   "cell_type": "code",
   "execution_count": null,
   "id": "364c2188",
   "metadata": {},
   "outputs": [],
   "source": []
  }
 ],
 "metadata": {
  "kernelspec": {
   "display_name": "Python 3",
   "language": "python",
   "name": "python3"
  },
  "language_info": {
   "codemirror_mode": {
    "name": "ipython",
    "version": 3
   },
   "file_extension": ".py",
   "mimetype": "text/x-python",
   "name": "python",
   "nbconvert_exporter": "python",
   "pygments_lexer": "ipython3",
   "version": "3.8.8"
  }
 },
 "nbformat": 4,
 "nbformat_minor": 5
}
