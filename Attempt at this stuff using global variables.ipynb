{
 "cells": [
  {
   "cell_type": "code",
   "execution_count": 75,
   "id": "85fde016",
   "metadata": {},
   "outputs": [],
   "source": [
    "import numpy as np\n",
    "import sympy as sym\n",
    "import matplotlib.pyplot as plt\n",
    "from broyden import *\n",
    "import time\n",
    "\n",
    "from sympy.utilities.lambdify import lambdify, implemented_function\n",
    "from scipy import optimize\n",
    "\n",
    "Pi = sym.symbols('pi')\n",
    "n0 = 0.153\n",
    "hc = 197.326980 # MeV fm\n",
    "\n",
    "def sqrt(n):\n",
    "    return np.sqrt(n)\n",
    "\n",
    "def log(n):\n",
    "    return np.log(n)"
   ]
  },
  {
   "cell_type": "code",
   "execution_count": 37,
   "id": "30dfec50",
   "metadata": {},
   "outputs": [],
   "source": [
    "class eos:\n",
    "    def __init__(self, g_sigma, g_omega, g_rho = 0.0, b = 0.0, c = 0.0):\n",
    "        \n",
    "        self.g_sigma = g_sigma\n",
    "        self.g_omega = g_omega\n",
    "        self.g_rho = g_rho\n",
    "        self.b = b\n",
    "        self.c = c\n",
    "\n",
    "class baryon:\n",
    "    def __init__(self, mass, spin, isospin, charge, kind, var_type, mass_eff = 0.0, num_density = 0.0,\\\n",
    "                 frac = 0.0, kf = 0.0, ef = 0.0, chem_pot = 0.0):\n",
    "    \n",
    "        # variables to be established at baryon declaration\n",
    "        self.mass = mass\n",
    "        self.spin = spin \n",
    "        self.isospin = isospin\n",
    "        self.charge = charge\n",
    "        self.kind = kind\n",
    "        self.var_type = var_type\n",
    "    \n",
    "        # variables to be stored later\n",
    "        self.mass_eff = mass_eff\n",
    "        self.num_density = num_density\n",
    "        self.frac = frac\n",
    "        self.kf = kf\n",
    "        self.ef = ef\n",
    "        self.chem_pot = chem_pot\n",
    "        \n",
    "        # other things\n",
    "        self.g_sigma = 0.0\n",
    "        self.g_omega = 0.0 \n",
    "        self.g_rho = 0.0 \n",
    "        self.g_phi = 0.0 \n",
    "\n",
    "class lepton:\n",
    "    def __init__(self, mass, charge, num_density = 0.0, frac = 0.0, var_type = 0.0, kf = 0.0, chem_pot = 0.0):\n",
    "        self.mass = mass\n",
    "        self.charge = charge\n",
    "        self.num_density = num_density\n",
    "        self.frac = frac\n",
    "        self.var_type = var_type\n",
    "        self.kf = kf\n",
    "        self.chem_pot = chem_pot\n",
    "\n",
    "class meson:\n",
    "    def __init__(self, mass, field = 0.0):\n",
    "        self.mass = mass # in MeV\n",
    "        self.field = field"
   ]
  },
  {
   "cell_type": "code",
   "execution_count": 38,
   "id": "791a4633",
   "metadata": {},
   "outputs": [],
   "source": [
    "# glen denning constants\n",
    "rmf = eos(g_sigma = 8.79509376389, g_omega = 9.1815177, g_rho = 9.7793745, b = 0.00414, c = 0.00716)"
   ]
  },
  {
   "cell_type": "code",
   "execution_count": 39,
   "id": "8f87d9a7",
   "metadata": {},
   "outputs": [],
   "source": [
    "# electron\n",
    "electron = lepton(0.510, -1)\n",
    "\n",
    "# proton \n",
    "proton = baryon(939.0, 1/2, 1/2, 1, 'Nucleon', 'Dependent')\n",
    "\n",
    "# neutron \n",
    "neutron = baryon(939.0, 1/2, -1/2, 0, 'Nucleon', 'Dependent')"
   ]
  },
  {
   "cell_type": "code",
   "execution_count": 40,
   "id": "fcdac488",
   "metadata": {},
   "outputs": [],
   "source": [
    "proton.g_sigma = rmf.g_sigma\n",
    "proton.g_omega = rmf.g_omega\n",
    "proton.g_rho = rmf.g_rho\n",
    "\n",
    "neutron.g_sigma = rmf.g_sigma\n",
    "neutron.g_omega = rmf.g_omega\n",
    "neutron.g_rho = rmf.g_rho"
   ]
  },
  {
   "cell_type": "code",
   "execution_count": 41,
   "id": "23a8b6b0",
   "metadata": {},
   "outputs": [],
   "source": [
    "# declaring the numeric meson objects\n",
    "sigma = meson(550.0)\n",
    "omega = meson(783.0)\n",
    "rho = meson(770.0)"
   ]
  },
  {
   "cell_type": "code",
   "execution_count": 42,
   "id": "5f7ff575",
   "metadata": {},
   "outputs": [],
   "source": [
    "baryon_list = [proton, neutron]\n",
    "meson_list = [sigma, omega, rho]\n",
    "lepton_list = [electron]"
   ]
  },
  {
   "cell_type": "code",
   "execution_count": 86,
   "id": "f80132ed",
   "metadata": {},
   "outputs": [],
   "source": [
    "nb_orig = 0.27\n",
    "nb = nb_orig*0.153*hc**3"
   ]
  },
  {
   "cell_type": "markdown",
   "id": "20cf852b",
   "metadata": {},
   "source": [
    "### Defining Things"
   ]
  },
  {
   "cell_type": "code",
   "execution_count": 44,
   "id": "53ad91de",
   "metadata": {},
   "outputs": [],
   "source": [
    "def dU(sig):\n",
    "    # derivative dU/dsigma as a func of sigma\n",
    "    return rmf.b*rmf.g_sigma**3*neutron.mass*sig**2 + rmf.c*rmf.g_sigma**4*sig**3"
   ]
  },
  {
   "cell_type": "code",
   "execution_count": 45,
   "id": "98da82c5",
   "metadata": {},
   "outputs": [],
   "source": [
    "def proton_mass_eff(sig):\n",
    "    return proton.mass - rmf.g_sigma*sig\n",
    "\n",
    "def neutron_mass_eff(sig):\n",
    "    return neutron.mass - rmf.g_sigma*sig\n",
    "\n",
    "def mass_eff(baryon, sig):\n",
    "    return baryon.mass - rmf.g_sigma*sig"
   ]
  },
  {
   "cell_type": "code",
   "execution_count": 46,
   "id": "a1239260",
   "metadata": {},
   "outputs": [],
   "source": [
    "def kf(frac):\n",
    "    return (3*np.pi**2*nb*frac)**(1/3)"
   ]
  },
  {
   "cell_type": "code",
   "execution_count": 88,
   "id": "f2988778",
   "metadata": {},
   "outputs": [
    {
     "data": {
      "text/plain": [
       "42.20609737857957"
      ]
     },
     "execution_count": 88,
     "metadata": {},
     "output_type": "execute_result"
    }
   ],
   "source": []
  },
  {
   "cell_type": "code",
   "execution_count": 53,
   "id": "1278afb2",
   "metadata": {},
   "outputs": [],
   "source": [
    "def proton_e_eff(frac, sig):\n",
    "    return np.sqrt(kf(frac)**2 + proton_mass_eff(sig)**2)\n",
    "\n",
    "def neutron_e_eff(frac, sig):\n",
    "    return np.sqrt(kf(frac)**2 + neutron_mass_eff(sig)**2)\n",
    "\n",
    "def e_eff(baryon, frac, sig):\n",
    "    return np.sqrt(kf(frac)**2 + neutron_mass_eff(sig)**2)"
   ]
  },
  {
   "cell_type": "code",
   "execution_count": 54,
   "id": "bd1393c2",
   "metadata": {},
   "outputs": [],
   "source": [
    "def proton_scalar_density(frac, sig):\n",
    "    # returns scalar density n_s\n",
    "    effective_mass = proton_mass_eff(sig)\n",
    "    fermi_momentum = kf(frac) \n",
    "    eff_energy = proton_e_eff(frac, sig)\n",
    "    \n",
    "    coeff_1 = 1/(Pi**2)\n",
    "    coeff_2 = rmf.g_sigma*effective_mass\n",
    "    term_2 = eff_energy*fermi_momentum\n",
    "    term_3 = np.log((eff_energy + fermi_momentum)/effective_mass)\n",
    "    \n",
    "    return coeff_1*coeff_2*(term_2 - effective_mass**2*term_3)"
   ]
  },
  {
   "cell_type": "code",
   "execution_count": 61,
   "id": "4fbe6ef5",
   "metadata": {},
   "outputs": [],
   "source": [
    "def scalar_density(baryon, frac, sig):\n",
    "    effective_mass = mass_eff(baryon, sig)\n",
    "    fermi_momentum = kf(frac)\n",
    "    eff_energy = e_eff(baryon, frac, sig)\n",
    "    \n",
    "    coeff_1 = 1/(np.pi**2)\n",
    "    coeff_2 = rmf.g_sigma*effective_mass\n",
    "    term_2 = eff_energy * fermi_momentum \n",
    "    term_3 = np.log((eff_energy + fermi_momentum)/effective_mass)\n",
    "    \n",
    "    return coeff_1* coeff_2 * (term_2 - effective_mass**2*term_3)"
   ]
  },
  {
   "cell_type": "code",
   "execution_count": 62,
   "id": "18a517c9",
   "metadata": {},
   "outputs": [],
   "source": [
    "def sigma_eom(proton_frac, neutron_frac, sig):\n",
    "    tot = 0.0\n",
    "    term_1 = sigma.mass**2*rmf.g_sigma + dU(sig)\n",
    "    \n",
    "    return term_1 - rmf.g_sigma*scalar_density(proton, proton_frac, sig) - rmf.g_sigma*scalar_density(neutron, neutron_frac, sig)"
   ]
  },
  {
   "cell_type": "markdown",
   "id": "2e86cc67",
   "metadata": {},
   "source": [
    "### Other things"
   ]
  },
  {
   "cell_type": "code",
   "execution_count": 65,
   "id": "eba9ad49",
   "metadata": {},
   "outputs": [],
   "source": [
    "def omega_eom(omega_field):\n",
    "    return omega.mass**2 * omega_field - rmf.g_omega*nb\n",
    "\n",
    "def rho_eom(proton_frac, neutron_frac, rho_field):\n",
    "    return rho.mass**2 * rho_field - rmf.g_rho*proton.isospin*nb*proton_frac - rmf.g_rho*neutron.isospin*nb*neutron_frac"
   ]
  },
  {
   "cell_type": "code",
   "execution_count": 68,
   "id": "232a653d",
   "metadata": {},
   "outputs": [],
   "source": [
    "def baryon_chem_pot(baryon, frac, sig, omega_field, rho_field):\n",
    "    return np.sqrt(kf(frac)**2 + mass_eff(baryon, sig)**2)\\\n",
    "        + rmf.g_omega*omega_field + baryon.isospin*rmf.g_rho*rho_field\n",
    "\n",
    "def lepton_chem_pot(lepton, frac):\n",
    "    return np.sqrt(kf(frac)**2 + lepton.mass**2)"
   ]
  },
  {
   "cell_type": "code",
   "execution_count": 73,
   "id": "885e2ee1",
   "metadata": {},
   "outputs": [],
   "source": [
    "def beta_equilibrium(proton_frac, electron_frac, neutron_frac, sig, omega_field, rho_field):\n",
    "    proton_chem_pot = baryon_chem_pot(proton, proton_frac, sig, omega_field, rho_field)\n",
    "    neutron_chem_pot = baryon_chem_pot(neutron, neutron_frac, sig, omega_field, rho_field)\n",
    "    electron_chem_pot = lepton_chem_pot(electron, electron_frac)\n",
    "    \n",
    "    return neutron_chem_pot - proton_chem_pot - electron_chem_pot"
   ]
  },
  {
   "cell_type": "code",
   "execution_count": 70,
   "id": "59daa2a4",
   "metadata": {},
   "outputs": [],
   "source": [
    "def charge_cons(proton_frac, electron_frac):\n",
    "    return proton_frac - electron_frac\n",
    "\n",
    "def baryon_num_cons(proton_frac, neutron_frac):\n",
    "    return 1 - proton_frac - neutron_frac "
   ]
  },
  {
   "cell_type": "markdown",
   "id": "30b97633",
   "metadata": {},
   "source": [
    "## Goal for solving\n",
    "1. We want to use Scipy nonlinear solvers\n",
    "2. To pass this to Scipy:\n",
    "    - Need numeric functions?"
   ]
  },
  {
   "cell_type": "code",
   "execution_count": 71,
   "id": "56664613",
   "metadata": {},
   "outputs": [],
   "source": [
    "def fun(proton_frac, electron_frac, neutron_frac, sig, omega_field, rho_field):\n",
    "    return [sigma_eom(proton_frac, neutron_frac, sig), omega_eom(omega_field),\\\n",
    "                rho_eom(proton_frac, neutron_frac, rho_field), beta_equilibrium(proton_frac, electron_frac, neutron_frac, sig, omega_field, rho_field),\n",
    "                charge_cons(proton_frac, electron_frac), baryon_num_cons(proton_frac, neutron_frac)]"
   ]
  },
  {
   "cell_type": "code",
   "execution_count": 77,
   "id": "7e2a8052",
   "metadata": {},
   "outputs": [],
   "source": [
    "def fun_2(x):\n",
    "    return [sigma_eom(x[0], x[2], x[3]), omega_eom(x[4]), rho_eom(x[1], x[3], x[5]),\\\n",
    "           beta_equilibrium(x[0], x[1], x[2], x[3], x[4], x[5]), charge_cons(x[0], x[1]),\\\n",
    "           baryon_num_cons(x[0], x[2])]"
   ]
  },
  {
   "cell_type": "code",
   "execution_count": 91,
   "id": "ed629fe8",
   "metadata": {
    "scrolled": true
   },
   "outputs": [
    {
     "name": "stderr",
     "output_type": "stream",
     "text": [
      "<ipython-input-46-edcb88e89108>:2: RuntimeWarning: invalid value encountered in double_scalars\n",
      "  return (3*np.pi**2*nb*frac)**(1/3)\n"
     ]
    },
    {
     "ename": "NoConvergence",
     "evalue": "[ 5.    5.    5.99 10.   -2.    4.5 ]",
     "output_type": "error",
     "traceback": [
      "\u001b[0;31m---------------------------------------------------------------------------\u001b[0m",
      "\u001b[0;31mNoConvergence\u001b[0m                             Traceback (most recent call last)",
      "\u001b[0;32m<ipython-input-91-eaf67f55b050>\u001b[0m in \u001b[0;36m<module>\u001b[0;34m\u001b[0m\n\u001b[0;32m----> 1\u001b[0;31m \u001b[0moptimize\u001b[0m\u001b[0;34m.\u001b[0m\u001b[0mbroyden1\u001b[0m\u001b[0;34m(\u001b[0m\u001b[0mfun_2\u001b[0m\u001b[0;34m,\u001b[0m \u001b[0;34m[\u001b[0m\u001b[0;36m5.0\u001b[0m\u001b[0;34m,\u001b[0m \u001b[0;36m5.0\u001b[0m\u001b[0;34m,\u001b[0m \u001b[0;36m5.99\u001b[0m\u001b[0;34m,\u001b[0m \u001b[0;36m10.0\u001b[0m\u001b[0;34m,\u001b[0m \u001b[0;34m-\u001b[0m\u001b[0;36m2.0\u001b[0m\u001b[0;34m,\u001b[0m \u001b[0;36m4.5\u001b[0m\u001b[0;34m]\u001b[0m\u001b[0;34m)\u001b[0m\u001b[0;34m\u001b[0m\u001b[0;34m\u001b[0m\u001b[0m\n\u001b[0m",
      "\u001b[0;32m~/opt/anaconda3/lib/python3.8/site-packages/scipy/optimize/nonlin.py\u001b[0m in \u001b[0;36mbroyden1\u001b[0;34m(F, xin, iter, alpha, reduction_method, max_rank, verbose, maxiter, f_tol, f_rtol, x_tol, x_rtol, tol_norm, line_search, callback, **kw)\u001b[0m\n",
      "\u001b[0;32m~/opt/anaconda3/lib/python3.8/site-packages/scipy/optimize/nonlin.py\u001b[0m in \u001b[0;36mnonlin_solve\u001b[0;34m(F, x0, jacobian, iter, verbose, maxiter, f_tol, f_rtol, x_tol, x_rtol, tol_norm, line_search, callback, full_output, raise_exception)\u001b[0m\n\u001b[1;32m    345\u001b[0m     \u001b[0;32melse\u001b[0m\u001b[0;34m:\u001b[0m\u001b[0;34m\u001b[0m\u001b[0;34m\u001b[0m\u001b[0m\n\u001b[1;32m    346\u001b[0m         \u001b[0;32mif\u001b[0m \u001b[0mraise_exception\u001b[0m\u001b[0;34m:\u001b[0m\u001b[0;34m\u001b[0m\u001b[0;34m\u001b[0m\u001b[0m\n\u001b[0;32m--> 347\u001b[0;31m             \u001b[0;32mraise\u001b[0m \u001b[0mNoConvergence\u001b[0m\u001b[0;34m(\u001b[0m\u001b[0m_array_like\u001b[0m\u001b[0;34m(\u001b[0m\u001b[0mx\u001b[0m\u001b[0;34m,\u001b[0m \u001b[0mx0\u001b[0m\u001b[0;34m)\u001b[0m\u001b[0;34m)\u001b[0m\u001b[0;34m\u001b[0m\u001b[0;34m\u001b[0m\u001b[0m\n\u001b[0m\u001b[1;32m    348\u001b[0m         \u001b[0;32melse\u001b[0m\u001b[0;34m:\u001b[0m\u001b[0;34m\u001b[0m\u001b[0;34m\u001b[0m\u001b[0m\n\u001b[1;32m    349\u001b[0m             \u001b[0mstatus\u001b[0m \u001b[0;34m=\u001b[0m \u001b[0;36m2\u001b[0m\u001b[0;34m\u001b[0m\u001b[0;34m\u001b[0m\u001b[0m\n",
      "\u001b[0;31mNoConvergence\u001b[0m: [ 5.    5.    5.99 10.   -2.    4.5 ]"
     ]
    }
   ],
   "source": [
    "optimize.broyden1(fun_2, [5.0, 5.0, 5.99, 10.0, -2.0, 4.5])"
   ]
  },
  {
   "cell_type": "code",
   "execution_count": null,
   "id": "19330ef3",
   "metadata": {},
   "outputs": [],
   "source": []
  },
  {
   "cell_type": "markdown",
   "id": "1d484a0a",
   "metadata": {},
   "source": [
    "## Re-writing system of equations \n",
    "1. Independent variables: $n_B, \\sigma, \\omega, \\rho, k_p, k_n, k_e$\n",
    "2. Meson equations of motion\n",
    "$$\n",
    "    m_\\sigma^2 \\sigma + bm_N g_\\sigma^3 \\sigma^2 + c g_\\sigma^4 \\sigma^3 = g_\\sigma \\sum_i n^s_i\\\\\n",
    "    m_\\omega^2 \\omega = g_\\omega n_B\\\\\n",
    "    m_\\rho^2 \\rho = \\sum_i I_{3i}g_\\rho n_i\n",
    "$$\n",
    "3. Other conditions\n",
    "$$\n",
    "    n_B =  \\frac{k_n^3}{3\\pi^2} + \\frac{k_p^3}{3\\pi^2}\\\\\n",
    "    k_p = k_e\\\\\n",
    "    \\sqrt{k_n^2 + {m_n^*}^2} = \\sqrt{k_p^2 + {m_p^*}^2} + \\sqrt{k_e^2 + m_e^2}\n",
    "$$"
   ]
  },
  {
   "cell_type": "code",
   "execution_count": null,
   "id": "986a19b1",
   "metadata": {},
   "outputs": [],
   "source": []
  }
 ],
 "metadata": {
  "kernelspec": {
   "display_name": "Python 3",
   "language": "python",
   "name": "python3"
  },
  "language_info": {
   "codemirror_mode": {
    "name": "ipython",
    "version": 3
   },
   "file_extension": ".py",
   "mimetype": "text/x-python",
   "name": "python",
   "nbconvert_exporter": "python",
   "pygments_lexer": "ipython3",
   "version": "3.8.8"
  }
 },
 "nbformat": 4,
 "nbformat_minor": 5
}
