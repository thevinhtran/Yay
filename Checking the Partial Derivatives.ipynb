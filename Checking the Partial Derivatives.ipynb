{
 "cells": [
  {
   "cell_type": "code",
   "execution_count": 1,
   "id": "6ffcf226",
   "metadata": {},
   "outputs": [],
   "source": [
    "from broyden import *\n",
    "from solver_helper import *\n",
    "\n",
    "import matplotlib.pyplot as plt \n",
    "import pandas as pd\n",
    "import time"
   ]
  },
  {
   "cell_type": "code",
   "execution_count": 2,
   "id": "a18d7dd1",
   "metadata": {},
   "outputs": [],
   "source": [
    "from scipy import optimize"
   ]
  },
  {
   "cell_type": "code",
   "execution_count": 3,
   "id": "b3225f5c",
   "metadata": {},
   "outputs": [],
   "source": [
    "#rmf = eos(g_sigma_N = 8.79509376389, g_omega_N = 9.1815177, g_rho_N = 9.7793745, b = 0.00414, c = 0.00716)\n",
    "rmf = eos(g_sigma_N = 8.784820, g_omega_N = 8.720086, g_rho_N = 8.544795, b = 0.008628, c = -0.002433)\n",
    "baryon_list = [Neutron, Proton]\n",
    "meson_list = [sigma, omega, rho]\n",
    "lepton_list = [electron]"
   ]
  },
  {
   "cell_type": "code",
   "execution_count": 4,
   "id": "b12c016d",
   "metadata": {
    "scrolled": true
   },
   "outputs": [
    {
     "data": {
      "text/html": [
       "<div>\n",
       "<style scoped>\n",
       "    .dataframe tbody tr th:only-of-type {\n",
       "        vertical-align: middle;\n",
       "    }\n",
       "\n",
       "    .dataframe tbody tr th {\n",
       "        vertical-align: top;\n",
       "    }\n",
       "\n",
       "    .dataframe thead th {\n",
       "        text-align: right;\n",
       "    }\n",
       "</style>\n",
       "<table border=\"1\" class=\"dataframe\">\n",
       "  <thead>\n",
       "    <tr style=\"text-align: right;\">\n",
       "      <th></th>\n",
       "      <th>nB/n0</th>\n",
       "      <th>sigma field (MeV)</th>\n",
       "      <th>rho field (MeV)</th>\n",
       "      <th>omega field (MeV)</th>\n",
       "      <th>Neutron kF (MeV)</th>\n",
       "      <th>Proton kF (MeV)</th>\n",
       "      <th>electron kF (MeV)</th>\n",
       "      <th>Neutron frac</th>\n",
       "      <th>Proton frac</th>\n",
       "      <th>electron frac</th>\n",
       "    </tr>\n",
       "  </thead>\n",
       "  <tbody>\n",
       "    <tr>\n",
       "      <th>0</th>\n",
       "      <td>0.27</td>\n",
       "      <td>7.941193</td>\n",
       "      <td>-2.247962</td>\n",
       "      <td>4.514730</td>\n",
       "      <td>210.426938</td>\n",
       "      <td>43.238314</td>\n",
       "      <td>43.238314</td>\n",
       "      <td>0.991399</td>\n",
       "      <td>0.008601</td>\n",
       "      <td>0.008601</td>\n",
       "    </tr>\n",
       "    <tr>\n",
       "      <th>1</th>\n",
       "      <td>0.28</td>\n",
       "      <td>8.199099</td>\n",
       "      <td>-2.329050</td>\n",
       "      <td>4.681942</td>\n",
       "      <td>212.960614</td>\n",
       "      <td>44.528049</td>\n",
       "      <td>44.528049</td>\n",
       "      <td>0.990942</td>\n",
       "      <td>0.009058</td>\n",
       "      <td>0.009058</td>\n",
       "    </tr>\n",
       "    <tr>\n",
       "      <th>2</th>\n",
       "      <td>0.29</td>\n",
       "      <td>8.455030</td>\n",
       "      <td>-2.409949</td>\n",
       "      <td>4.849154</td>\n",
       "      <td>215.432600</td>\n",
       "      <td>45.809033</td>\n",
       "      <td>45.809033</td>\n",
       "      <td>0.990477</td>\n",
       "      <td>0.009523</td>\n",
       "      <td>0.009523</td>\n",
       "    </tr>\n",
       "    <tr>\n",
       "      <th>3</th>\n",
       "      <td>0.30</td>\n",
       "      <td>8.709030</td>\n",
       "      <td>-2.490655</td>\n",
       "      <td>5.016367</td>\n",
       "      <td>217.846350</td>\n",
       "      <td>47.081534</td>\n",
       "      <td>47.081534</td>\n",
       "      <td>0.990006</td>\n",
       "      <td>0.009994</td>\n",
       "      <td>0.009994</td>\n",
       "    </tr>\n",
       "    <tr>\n",
       "      <th>4</th>\n",
       "      <td>0.31</td>\n",
       "      <td>8.961139</td>\n",
       "      <td>-2.571167</td>\n",
       "      <td>5.183579</td>\n",
       "      <td>220.205018</td>\n",
       "      <td>48.345801</td>\n",
       "      <td>48.345801</td>\n",
       "      <td>0.989528</td>\n",
       "      <td>0.010472</td>\n",
       "      <td>0.010472</td>\n",
       "    </tr>\n",
       "    <tr>\n",
       "      <th>...</th>\n",
       "      <td>...</td>\n",
       "      <td>...</td>\n",
       "      <td>...</td>\n",
       "      <td>...</td>\n",
       "      <td>...</td>\n",
       "      <td>...</td>\n",
       "      <td>...</td>\n",
       "      <td>...</td>\n",
       "      <td>...</td>\n",
       "      <td>...</td>\n",
       "    </tr>\n",
       "    <tr>\n",
       "      <th>768</th>\n",
       "      <td>7.95</td>\n",
       "      <td>75.202688</td>\n",
       "      <td>-31.660986</td>\n",
       "      <td>132.933718</td>\n",
       "      <td>588.110921</td>\n",
       "      <td>418.542097</td>\n",
       "      <td>418.542097</td>\n",
       "      <td>0.735053</td>\n",
       "      <td>0.264947</td>\n",
       "      <td>0.264947</td>\n",
       "    </tr>\n",
       "    <tr>\n",
       "      <th>769</th>\n",
       "      <td>7.96</td>\n",
       "      <td>75.229647</td>\n",
       "      <td>-31.685294</td>\n",
       "      <td>133.100930</td>\n",
       "      <td>588.326705</td>\n",
       "      <td>418.778116</td>\n",
       "      <td>418.778116</td>\n",
       "      <td>0.734938</td>\n",
       "      <td>0.265062</td>\n",
       "      <td>0.265062</td>\n",
       "    </tr>\n",
       "    <tr>\n",
       "      <th>770</th>\n",
       "      <td>7.97</td>\n",
       "      <td>75.256548</td>\n",
       "      <td>-31.709590</td>\n",
       "      <td>133.268142</td>\n",
       "      <td>588.542307</td>\n",
       "      <td>419.013916</td>\n",
       "      <td>419.013916</td>\n",
       "      <td>0.734823</td>\n",
       "      <td>0.265177</td>\n",
       "      <td>0.265177</td>\n",
       "    </tr>\n",
       "    <tr>\n",
       "      <th>771</th>\n",
       "      <td>7.98</td>\n",
       "      <td>75.283392</td>\n",
       "      <td>-31.733873</td>\n",
       "      <td>133.435355</td>\n",
       "      <td>588.757728</td>\n",
       "      <td>419.249498</td>\n",
       "      <td>419.249498</td>\n",
       "      <td>0.734709</td>\n",
       "      <td>0.265291</td>\n",
       "      <td>0.265291</td>\n",
       "    </tr>\n",
       "    <tr>\n",
       "      <th>772</th>\n",
       "      <td>7.99</td>\n",
       "      <td>75.310179</td>\n",
       "      <td>-31.758145</td>\n",
       "      <td>133.602567</td>\n",
       "      <td>588.972967</td>\n",
       "      <td>419.484862</td>\n",
       "      <td>419.484862</td>\n",
       "      <td>0.734594</td>\n",
       "      <td>0.265406</td>\n",
       "      <td>0.265406</td>\n",
       "    </tr>\n",
       "  </tbody>\n",
       "</table>\n",
       "<p>773 rows × 10 columns</p>\n",
       "</div>"
      ],
      "text/plain": [
       "     nB/n0  sigma field (MeV)  rho field (MeV)  omega field (MeV)  \\\n",
       "0     0.27           7.941193        -2.247962           4.514730   \n",
       "1     0.28           8.199099        -2.329050           4.681942   \n",
       "2     0.29           8.455030        -2.409949           4.849154   \n",
       "3     0.30           8.709030        -2.490655           5.016367   \n",
       "4     0.31           8.961139        -2.571167           5.183579   \n",
       "..     ...                ...              ...                ...   \n",
       "768   7.95          75.202688       -31.660986         132.933718   \n",
       "769   7.96          75.229647       -31.685294         133.100930   \n",
       "770   7.97          75.256548       -31.709590         133.268142   \n",
       "771   7.98          75.283392       -31.733873         133.435355   \n",
       "772   7.99          75.310179       -31.758145         133.602567   \n",
       "\n",
       "     Neutron kF (MeV)  Proton kF (MeV)  electron kF (MeV)  Neutron frac  \\\n",
       "0          210.426938        43.238314          43.238314      0.991399   \n",
       "1          212.960614        44.528049          44.528049      0.990942   \n",
       "2          215.432600        45.809033          45.809033      0.990477   \n",
       "3          217.846350        47.081534          47.081534      0.990006   \n",
       "4          220.205018        48.345801          48.345801      0.989528   \n",
       "..                ...              ...                ...           ...   \n",
       "768        588.110921       418.542097         418.542097      0.735053   \n",
       "769        588.326705       418.778116         418.778116      0.734938   \n",
       "770        588.542307       419.013916         419.013916      0.734823   \n",
       "771        588.757728       419.249498         419.249498      0.734709   \n",
       "772        588.972967       419.484862         419.484862      0.734594   \n",
       "\n",
       "     Proton frac  electron frac  \n",
       "0       0.008601       0.008601  \n",
       "1       0.009058       0.009058  \n",
       "2       0.009523       0.009523  \n",
       "3       0.009994       0.009994  \n",
       "4       0.010472       0.010472  \n",
       "..           ...            ...  \n",
       "768     0.264947       0.264947  \n",
       "769     0.265062       0.265062  \n",
       "770     0.265177       0.265177  \n",
       "771     0.265291       0.265291  \n",
       "772     0.265406       0.265406  \n",
       "\n",
       "[773 rows x 10 columns]"
      ]
     },
     "execution_count": 4,
     "metadata": {},
     "output_type": "execute_result"
    }
   ],
   "source": [
    "B = full_solve(rmf, baryon_list, lepton_list, meson_list, [7.90, 4.50, -2.2, 210.0, 43.0, 43.0])\n",
    "B"
   ]
  },
  {
   "cell_type": "code",
   "execution_count": 5,
   "id": "9e5d189e",
   "metadata": {},
   "outputs": [],
   "source": [
    "nb_array = B.loc[:,'nB/n0'].values\n",
    "\n",
    "sigma_array = B.loc[:,'sigma field (MeV)'].values\n",
    "rho_array = B.loc[:,'rho field (MeV)'].values\n",
    "omega_array = B.loc[:,'omega field (MeV)'].values\n",
    "\n",
    "\n",
    "neutron_frac = B.loc[:, 'Neutron frac'].values\n",
    "proton_frac = B.loc[:, 'Proton frac'].values\n",
    "electron_frac = B.loc[:, 'electron frac'].values\n",
    "\n",
    "fermi_n = B.loc[:, 'Neutron kF (MeV)'].values\n",
    "fermi_p = B.loc[:, 'Proton kF (MeV)'].values\n",
    "fermi_e = B.loc[:, 'electron kF (MeV)'].values"
   ]
  },
  {
   "cell_type": "code",
   "execution_count": 7,
   "id": "22ea8eec",
   "metadata": {},
   "outputs": [],
   "source": [
    "def mass_eff(Baryon, sigma_field):\n",
    "    return Baryon.num_mass - Baryon.num_g_sigma * sigma_field \n",
    "\n",
    "def eff_energy(Baryon, fermi, sigma_field):\n",
    "    m = mass_eff(Baryon, sigma_field)\n",
    "    return np.sqrt(fermi**2 + m**2) \n",
    "\n",
    "def log_factor(Baryon, fermi, sigma_field):\n",
    "    m = mass_eff(Baryon, sigma_field) \n",
    "    EF = eff_energy(Baryon, fermi, sigma_field) \n",
    "    \n",
    "    return np.log((EF + fermi)/m)"
   ]
  },
  {
   "cell_type": "markdown",
   "id": "6255aba7",
   "metadata": {},
   "source": [
    "## Checking Sigma Partial Derivative \n",
    "$$\n",
    "    m_\\sigma^2 \\sigma + \n",
    "    \\frac{\\partial U}{\\partial \\sigma} = \\sum_i g_{\\sigma i }n^s_i \n",
    "$$\n",
    "Idea:\n",
    "1. So we know that $k_{F_n}, k_{F_p}$ appear in ''pairs'' due to other constraints on the system like Baryon number conservation. \n",
    "2. Solve for $\\sigma(k_{F_n}, k_{F_p})$ while fixing $k_{F_p}$ but for a few points around the correspondin $k_{F_n}$ value. Then take the derivative and should give us the value for\n",
    "$$\n",
    "    \\frac{\\partial \\sigma}{\\partial k_{F_n}}\\bigg|_{k_{F_n}}\n",
    "$$"
   ]
  },
  {
   "cell_type": "code",
   "execution_count": 8,
   "id": "214d8971",
   "metadata": {},
   "outputs": [],
   "source": [
    "def d_U(sigma_field):\n",
    "    term1 = sigma.num_b * Neutron.num_mass * Neutron.num_g_sigma**3 * sigma_field**2 \n",
    "    term2 = sigma.num_c * Neutron.num_g_sigma**4 * sigma_field**3 \n",
    "    \n",
    "    return term1 + term2 "
   ]
  },
  {
   "cell_type": "code",
   "execution_count": 9,
   "id": "8712f340",
   "metadata": {},
   "outputs": [],
   "source": [
    "def scalar_dens(fermi, sigma_field, Baryon):\n",
    "    m = Baryon.num_mass - Baryon.num_g_sigma * sigma_field \n",
    "    EF = np.sqrt(fermi**2 + m**2) \n",
    "    log_fac = np.log((EF + fermi)/m)\n",
    "    \n",
    "    term1 = EF * fermi \n",
    "    term2 = -m**2 * log_fac \n",
    "    \n",
    "    return m/(2*np.pi**2)*(term1 + term2)"
   ]
  },
  {
   "cell_type": "code",
   "execution_count": 10,
   "id": "9e8ad5d2",
   "metadata": {},
   "outputs": [],
   "source": [
    "def sigma_eomm(sigma_field, k_n, k_p):\n",
    "    term1 = sigma.num_mass**2 * sigma_field\n",
    "    term2 = d_U(sigma_field) \n",
    "    term3 = - Neutron.num_g_sigma * scalar_dens(k_n, sigma_field, Neutron)\n",
    "    term4 = - Proton.num_g_sigma * scalar_dens(k_p, sigma_field, Proton)\n",
    "    \n",
    "    return term1 + term2 + term3 + term4"
   ]
  },
  {
   "cell_type": "code",
   "execution_count": 14,
   "id": "9fa59854",
   "metadata": {},
   "outputs": [
    {
     "data": {
      "text/plain": [
       "array([8.1217947])"
      ]
     },
     "execution_count": 14,
     "metadata": {},
     "output_type": "execute_result"
    }
   ],
   "source": [
    "optimize.fsolve(sigma_eomm, x0 = 10.0, args = (210, 72), xtol=1.0e-10)"
   ]
  },
  {
   "cell_type": "code",
   "execution_count": 11,
   "id": "0340336a",
   "metadata": {},
   "outputs": [],
   "source": [
    "def five_point_derivative(func, init_guess, k_n, k_p, h, name):\n",
    "    # calculates derivative\n",
    "    \n",
    "    numerator = 0\n",
    "    denominator = 12*h\n",
    "    \n",
    "    if (name == \"Neutron\"):\n",
    "        numerator += func(init_guess, k_n - 2*h, k_p)\n",
    "        numerator -= 8 * func(init_guess, k_n - h, k_p)\n",
    "        numerator += 8 * func(init_guess, k_n + h, k_p) \n",
    "        numerator -= func(init_guess, k_n + 2*h, k_p) \n",
    "        \n",
    "        return numerator/denominator \n",
    "    \n",
    "    elif (name == \"Proton\"):\n",
    "        numerator += func(init_guess, k_n, k_p - 2*h) \n",
    "        numerator -= 8 * func(init_guess, k_n, k_p - h)\n",
    "        numerator += 8 * func(init_guess, k_n, k_p + h) \n",
    "        numerator -= func(init_guess, k_n, k_p + 2*h)\n",
    "    \n",
    "        return numerator/denominator "
   ]
  },
  {
   "cell_type": "code",
   "execution_count": 12,
   "id": "ce3aacaf",
   "metadata": {},
   "outputs": [],
   "source": [
    "def func(init_guess, k_n, k_p):\n",
    "    return optimize.fsolve(sigma_eomm, x0 = init_guess, args = (k_n, k_p))"
   ]
  },
  {
   "cell_type": "code",
   "execution_count": 67,
   "id": "0e302569",
   "metadata": {},
   "outputs": [],
   "source": [
    "def test(x,y,z):\n",
    "    return x**2 + y**2 + z**2 - 8 "
   ]
  },
  {
   "cell_type": "code",
   "execution_count": 68,
   "id": "4c79a966",
   "metadata": {},
   "outputs": [],
   "source": [
    "def func2(init_guess, y, z):\n",
    "    return optimize.fsolve(test, x0 = init_guess, args = (y,z))"
   ]
  },
  {
   "cell_type": "code",
   "execution_count": 72,
   "id": "a529a9e6",
   "metadata": {
    "scrolled": true
   },
   "outputs": [
    {
     "data": {
      "text/plain": [
       "array([-0.21319948])"
      ]
     },
     "execution_count": 72,
     "metadata": {},
     "output_type": "execute_result"
    }
   ],
   "source": [
    "five_point_derivative(func2, 0.5, 0.5, 1.5, 0.1, \"Neutron\")"
   ]
  },
  {
   "cell_type": "code",
   "execution_count": 73,
   "id": "c71aa84f",
   "metadata": {},
   "outputs": [
    {
     "data": {
      "text/plain": [
       "array([-0.63959326])"
      ]
     },
     "execution_count": 73,
     "metadata": {},
     "output_type": "execute_result"
    }
   ],
   "source": [
    "five_point_derivative(func2, 0.5, 0.5, 1.5, 0.1, \"Proton\")"
   ]
  },
  {
   "cell_type": "code",
   "execution_count": 17,
   "id": "83df05a4",
   "metadata": {},
   "outputs": [],
   "source": [
    "partial_sigma_kfn = np.zeros(len(nb_array)) \n",
    "partial_sigma_kfp = np.zeros(len(nb_array))\n",
    "\n",
    "for i in range(len(nb_array)):\n",
    "    partial_sigma_kfn[i] = five_point_derivative(func, sigma_array[i], fermi_n[i], fermi_p[i], 0.01, \"Neutron\")\n",
    "\n",
    "for i in range(len(nb_array)):\n",
    "    partial_sigma_kfp[i] = five_point_derivative(func, sigma_array[i], fermi_n[i], fermi_p[i], 0.01, \"Proton\")"
   ]
  },
  {
   "cell_type": "code",
   "execution_count": 120,
   "id": "103fdc31",
   "metadata": {},
   "outputs": [
    {
     "data": {
      "text/plain": [
       "array([0.09874822, 0.10035537, 0.10191288, 0.10342327, 0.10488883,\n",
       "       0.10631171, 0.1076939 , 0.10903723, 0.11034344, 0.11161412,\n",
       "       0.11285077, 0.11405481, 0.11522755, 0.11637022, 0.11748399,\n",
       "       0.11856996, 0.11962916, 0.12066257, 0.12167111, 0.12265565,\n",
       "       0.12361701, 0.12455599, 0.12547332, 0.1263697 , 0.12724583,\n",
       "       0.12810232, 0.12893979, 0.12975882, 0.13055996, 0.13134374,\n",
       "       0.13211067, 0.13286122, 0.13359586, 0.13431503, 0.13501916,\n",
       "       0.13570864, 0.13638387, 0.13704522, 0.13769305, 0.1383277 ,\n",
       "       0.1389495 , 0.13955877, 0.14015583, 0.14074095, 0.14131443,\n",
       "       0.14187653, 0.14242754, 0.14296768, 0.14349722, 0.14401639,\n",
       "       0.14452542, 0.14502452, 0.14551392, 0.14599381, 0.1464644 ,\n",
       "       0.14692589, 0.14737845, 0.14782227, 0.14825752, 0.14868438,\n",
       "       0.14910301, 0.14951357, 0.14991621, 0.15031108, 0.15069833,\n",
       "       0.1510781 , 0.15145053, 0.15181575, 0.15217389, 0.15252508,\n",
       "       0.15286944, 0.15320708, 0.15353813, 0.1538627 , 0.15418089,\n",
       "       0.15449282, 0.15479858, 0.15509829, 0.15539202, 0.15567989,\n",
       "       0.15596199, 0.15623841, 0.15650923, 0.15677454, 0.15703443,\n",
       "       0.15728898, 0.15753828, 0.15778239, 0.15802139, 0.15825537,\n",
       "       0.15848439, 0.15870853, 0.15892785])"
      ]
     },
     "execution_count": 120,
     "metadata": {},
     "output_type": "execute_result"
    }
   ],
   "source": [
    "partial_sigma_kfn"
   ]
  },
  {
   "cell_type": "code",
   "execution_count": 121,
   "id": "6f5e565d",
   "metadata": {
    "scrolled": true
   },
   "outputs": [
    {
     "data": {
      "text/plain": [
       "[<matplotlib.lines.Line2D at 0x7fcd58e4a6d0>]"
      ]
     },
     "execution_count": 121,
     "metadata": {},
     "output_type": "execute_result"
    },
    {
     "data": {
      "image/png": "[encoded data removed]",
      "text/plain": [
       "<Figure size 432x288 with 1 Axes>"
      ]
     },
     "metadata": {
      "needs_background": "light"
     },
     "output_type": "display_data"
    }
   ],
   "source": [
    "plt.plot(nb_array, partial_sigma_kfn)"
   ]
  },
  {
   "cell_type": "code",
   "execution_count": 122,
   "id": "0ff55a4f",
   "metadata": {},
   "outputs": [
    {
     "data": {
      "text/plain": [
       "array([0.00428444, 0.0045119 , 0.00474216, 0.0049751 , 0.00521061,\n",
       "       0.00544858, 0.0056889 , 0.00593147, 0.0061762 , 0.00642299,\n",
       "       0.00667175, 0.00692241, 0.00717487, 0.00742906, 0.00768489,\n",
       "       0.0079423 , 0.00820122, 0.00846156, 0.00872328, 0.00898629,\n",
       "       0.00925055, 0.00951598, 0.00978253, 0.01005015, 0.01031877,\n",
       "       0.01058834, 0.01085881, 0.01113013, 0.01140225, 0.01167512,\n",
       "       0.0119487 , 0.01222294, 0.01249779, 0.01277321, 0.01304917,\n",
       "       0.01332561, 0.01360251, 0.01387982, 0.0141575 , 0.01443552,\n",
       "       0.01471385, 0.01499244, 0.01527127, 0.0155503 , 0.0158295 ,\n",
       "       0.01610884, 0.01638828, 0.01666781, 0.01694738, 0.01722698,\n",
       "       0.01750657, 0.01778612, 0.01806562, 0.01834503, 0.01862434,\n",
       "       0.01890351, 0.01918252, 0.01946135, 0.01973998, 0.02001839,\n",
       "       0.02029655, 0.02057444, 0.02085204, 0.02112934, 0.0214063 ,\n",
       "       0.02168293, 0.02195918, 0.02223506, 0.02251053, 0.02278559,\n",
       "       0.02306021, 0.02333438, 0.02360809, 0.02388131, 0.02415403,\n",
       "       0.02442624, 0.02469793, 0.02496907, 0.02523965, 0.02550967,\n",
       "       0.0257791 , 0.02604794, 0.02631617, 0.02658378, 0.02685076,\n",
       "       0.02711709, 0.02738277, 0.02764777, 0.02791211, 0.02817575,\n",
       "       0.02843869, 0.02870092, 0.02896244])"
      ]
     },
     "execution_count": 122,
     "metadata": {},
     "output_type": "execute_result"
    }
   ],
   "source": [
    "partial_sigma_kfp"
   ]
  },
  {
   "cell_type": "code",
   "execution_count": 22,
   "id": "21a96c13",
   "metadata": {},
   "outputs": [],
   "source": [
    "partial_sigma_nb = np.zeros(len(nb_array))\n",
    "for i in range(len(nb_array)):\n",
    "    partial_sigma_nb[i] = partial_sigma_kfn[i]*np.pi**2 * neutron_frac[i]/fermi_n[i]**2"
   ]
  },
  {
   "cell_type": "code",
   "execution_count": 23,
   "id": "b15e258e",
   "metadata": {},
   "outputs": [],
   "source": [
    "def partial_E_partial_kf(Baryon, fermi, sigma_field, partial_sigma):\n",
    "    m = mass_eff(Baryon, sigma_field)\n",
    "    EF = eff_energy(Baryon, fermi, sigma_field)\n",
    "    \n",
    "    term1 = fermi/EF \n",
    "    term2 = -m/EF * Baryon.num_g_sigma * partial_sigma\n",
    "    \n",
    "    return term1 + term2 "
   ]
  },
  {
   "cell_type": "code",
   "execution_count": 24,
   "id": "8ff5879c",
   "metadata": {},
   "outputs": [],
   "source": [
    "def partial_fermi(fermi, nb, baryon_frac, ind_var_name):\n",
    "    if (ind_var_name == 'nb'):\n",
    "        return np.pi**2 * baryon_frac / fermi**2\n",
    "    elif (ind_var_name == 'frac'):\n",
    "        return np.pi**2 * nb / fermi**2 "
   ]
  },
  {
   "cell_type": "code",
   "execution_count": 25,
   "id": "b96f5a9f",
   "metadata": {},
   "outputs": [],
   "source": [
    "def partial_chem_pot(Baryon, fermi, sigma_field, partial_sigma, nb, baryon_frac, ind_var_name):\n",
    "    part_E = partial_E_partial_kf(Baryon, fermi, sigma_field, partial_sigma)\n",
    "    part_kf = partial_fermi(fermi, nb, baryon_frac, ind_var_name)\n",
    "    \n",
    "    return part_E * part_kf"
   ]
  },
  {
   "cell_type": "code",
   "execution_count": 26,
   "id": "b7513f91",
   "metadata": {},
   "outputs": [],
   "source": [
    "partial_proton_nb = np.zeros(len(nb_array))\n",
    "partial_neutron_nb = np.zeros(len(nb_array))\n",
    "\n",
    "partial_proton_xe = np.zeros(len(nb_array))\n",
    "partial_neutron_xe = np.zeros(len(nb_array))\n",
    "\n",
    "for i in range(len(nb_array)):\n",
    "    partial_proton_nb[i] = partial_chem_pot(Proton, fermi_p[i], sigma_array[i], partial_sigma_kfp[i], nb_array[i],\\\n",
    "                                        proton_frac[i], 'nb')\n",
    "    partial_proton_xe[i] = partial_chem_pot(Proton, fermi_p[i], sigma_array[i], partial_sigma_kfp[i], nb_array[i],\\\n",
    "                                        proton_frac[i], 'frac')\n",
    "    \n",
    "    partial_neutron_nb[i] = partial_chem_pot(Neutron, fermi_n[i], sigma_array[i], partial_sigma_kfn[i], nb_array[i],\\\n",
    "                                        neutron_frac[i], 'nb')\n",
    "    partial_neutron_xe[i] = partial_chem_pot(Neutron, fermi_n[i], sigma_array[i], partial_sigma_kfn[i], nb_array[i],\\\n",
    "                                        neutron_frac[i], 'frac')"
   ]
  },
  {
   "cell_type": "code",
   "execution_count": 27,
   "id": "39706407",
   "metadata": {},
   "outputs": [],
   "source": [
    "part_mu_tilde_part_nb = partial_neutron_nb - partial_proton_nb \n",
    "part_mu_tilde_part_xe = partial_neutron_xe - partial_proton_xe"
   ]
  },
  {
   "cell_type": "code",
   "execution_count": 28,
   "id": "2532c07e",
   "metadata": {},
   "outputs": [],
   "source": [
    "neutron_chem_pot = np.zeros(len(nb_array))\n",
    "for i in range(len(nb_array)):\n",
    "    neutron_chem_pot[i] = eff_energy(Neutron, fermi_n[i], sigma_array[i])"
   ]
  },
  {
   "cell_type": "code",
   "execution_count": 29,
   "id": "812908ca",
   "metadata": {},
   "outputs": [],
   "source": [
    "sound_speed_diff = np.zeros(len(nb_array))\n",
    "\n",
    "for i in range(len(nb_array)):\n",
    "    sound_speed_diff[i] = -(nb_array[i]*n0*hc**3)**2/neutron_chem_pot[i] * part_mu_tilde_part_nb[i]**2 / part_mu_tilde_part_xe[i]"
   ]
  },
  {
   "cell_type": "code",
   "execution_count": 50,
   "id": "2ffbb12a",
   "metadata": {},
   "outputs": [
    {
     "data": {
      "text/plain": [
       "[<matplotlib.lines.Line2D at 0x7fcd58a35d30>]"
      ]
     },
     "execution_count": 50,
     "metadata": {},
     "output_type": "execute_result"
    },
    {
     "data": {
      "image/png": "[encoded data removed]",
      "text/plain": [
       "<Figure size 432x288 with 1 Axes>"
      ]
     },
     "metadata": {
      "needs_background": "light"
     },
     "output_type": "display_data"
    }
   ],
   "source": [
    "plt.plot(nb_array, sound_speed_diff)"
   ]
  },
  {
   "cell_type": "code",
   "execution_count": 30,
   "id": "0f53fe65",
   "metadata": {},
   "outputs": [],
   "source": [
    "eff_energy_array = np.zeros(len(nb_array))\n",
    "\n",
    "for i in range(len(eff_energy_array)):\n",
    "    eff_energy_array[i] = eff_energy(Proton, fermi_p[i], sigma_array[i])"
   ]
  },
  {
   "cell_type": "code",
   "execution_count": 52,
   "id": "431f7d8f",
   "metadata": {},
   "outputs": [
    {
     "data": {
      "text/plain": [
       "array([870.31278145, 868.11512446, 865.93660458, 863.77682341,\n",
       "       861.63539744, 859.51195729, 857.40614696, 855.31762309,\n",
       "       853.24605438, 851.19112092, 849.15251368, 847.12993394,\n",
       "       845.12309283, 843.13171085, 841.15551745, 839.1942506 ,\n",
       "       837.24765643, 835.31548887, 833.39750929, 831.49348619,\n",
       "       829.60319491, 827.72641733, 825.86294161, 824.01256193,\n",
       "       822.17507825, 820.35029607, 818.53802625, 816.73808476,\n",
       "       814.95029249, 813.17447512, 811.41046285, 809.65809033,\n",
       "       807.91719642, 806.18762409, 804.46922025, 802.76183562,\n",
       "       801.0653246 , 799.37954513, 797.70435859, 796.03962967,\n",
       "       794.38522628, 792.74101939, 791.10688303, 789.48269407,\n",
       "       787.86833223, 786.26367995, 784.66862229, 783.08304687,\n",
       "       781.5068438 , 779.93990558, 778.38212705, 776.8334053 ,\n",
       "       775.29363962, 773.76273142, 772.2405842 , 770.72710346,\n",
       "       769.22219664, 767.72577309, 766.237744  , 764.75802235,\n",
       "       763.28652287, 761.82316199, 760.36785777, 758.92052989,\n",
       "       757.4810996 , 756.04948966, 754.62562431, 753.20942924,\n",
       "       751.80083155, 750.39975971, 749.0061435 , 747.61991404,\n",
       "       746.24100369, 744.86934606, 743.50487596, 742.14752938,\n",
       "       740.79724347, 739.45395647, 738.11760775, 736.78813771,\n",
       "       735.46548782, 734.14960056, 732.8404194 , 731.53788878,\n",
       "       730.24195408, 728.95256162, 727.66965862, 726.39319318,\n",
       "       725.12311426, 723.85937167, 722.60191605, 721.35069884,\n",
       "       720.10567227])"
      ]
     },
     "execution_count": 52,
     "metadata": {},
     "output_type": "execute_result"
    }
   ],
   "source": [
    "eff_energy_array"
   ]
  },
  {
   "cell_type": "markdown",
   "id": "c481f4e2",
   "metadata": {},
   "source": [
    "### Method 2\n",
    "So in our previous method, we treated the fermi momenta of the baryons as independent variables. But in reality, they're not (though admittedly, this is how we were supposed to do this when we calculate the partial derivatives while holding composition fixed). I think if we were to continue with this approach, then we wouldn't be able to use the chain rule (our problem that we had was that the results for different chain rule combinations yielded different results) so we'd have to calculate everything explicitly. \n",
    "\n",
    "Holding off on that thought for now, we can think about incorporating the dependence of the momenta on each other. This then means that we have\n",
    "$$\n",
    "    \\frac{\\partial \\sigma}{\\partial k_{F_p}} = \n",
    "    \\frac{\\partial \\sigma}{\\partial k_{F_n}} \\frac{\\partial k_{F_n}}{\\partial k_{F_p}}\n",
    "    = \\frac{\\partial \\sigma}{\\partial k_{F_n}} \n",
    "    \\left[\\frac{\\partial k_{F_n}}{\\partial n_B}\\frac{\\partial n_B}{\\partial k_{F_p}}\\right] \n",
    "    = \n",
    "    \\frac{\\partial \\sigma}{\\partial k_{F_n}} \n",
    "    \\left[\\frac{\\pi^2 x_n}{k_{F_n}^2} \\frac{k_{F_p}^2}{\\pi^2 x_p}\\right] \n",
    "$$\n",
    "So we'd calculate first the partial derivative of the neutron momentum and then from that calculate the proton momentum (though this brings up another issue of which one is correct or not correct to start off with?) On the other hand, we'd have \n",
    "$$\n",
    "    \\frac{\\partial \\sigma}{\\partial k_{F_n}} = \n",
    "    \\frac{\\partial \\sigma}{\\partial k_{F_p}} \\frac{\\partial k_{F_p}}{\\partial k_{F_n}}\n",
    "    = \\frac{\\partial \\sigma}{\\partial k_{F_p}} \n",
    "    \\left[\\frac{\\partial k_{F_p}}{\\partial n_B}\\frac{\\partial n_B}{\\partial k_{F_n}}\\right] \n",
    "    = \n",
    "    \\frac{\\partial \\sigma}{\\partial k_{F_p}} \n",
    "    \\left[\\frac{\\pi^2 x_p}{k_{F_p}^2} \\frac{k_{F_n}^2}{\\pi^2 x_n}\\right] \n",
    "$$"
   ]
  },
  {
   "cell_type": "code",
   "execution_count": 78,
   "id": "adfaddf1",
   "metadata": {},
   "outputs": [],
   "source": [
    "def partial_fermi_nb(frac, fermi):\n",
    "    return np.pi**2 * frac / fermi**2"
   ]
  },
  {
   "cell_type": "code",
   "execution_count": 88,
   "id": "e54ab88d",
   "metadata": {},
   "outputs": [],
   "source": [
    "def partial_sigma_kfp(part_sig_kfn, neutron_fermi, proton_fermi, neutron_frac, proton_frac):\n",
    "    return part_sig_kfn * neutron_frac * proton_fermi**2 / neutron_fermi**2 / proton_frac"
   ]
  },
  {
   "cell_type": "code",
   "execution_count": 89,
   "id": "b964781a",
   "metadata": {},
   "outputs": [],
   "source": [
    "partial_sigma_kfp_2 = np.zeros(len(nb_array))\n",
    "\n",
    "for i in range(len(nb_array)):\n",
    "    partial_sigma_kfp_2[i] = partial_sigma_kfp(partial_sigma_kfn[i], fermi_n[i], fermi_p[i], neutron_frac[i], proton_frac[i])"
   ]
  },
  {
   "cell_type": "code",
   "execution_count": 90,
   "id": "fe57f985",
   "metadata": {},
   "outputs": [
    {
     "data": {
      "text/plain": [
       "array([0.48057574, 0.4799613 , 0.47928008, 0.47853965, 0.47774669,\n",
       "       0.47690714, 0.47602627, 0.4751088 , 0.47415894, 0.47318043,\n",
       "       0.47217668, 0.47115069, 0.4701052 , 0.46904265, 0.46796527,\n",
       "       0.46687503, 0.46577375, 0.46466306, 0.46354442, 0.46241917,\n",
       "       0.46128852, 0.46015355, 0.45901527, 0.45787457, 0.45673226,\n",
       "       0.45558909, 0.45444573, 0.45330277, 0.45216078, 0.45102025,\n",
       "       0.44988163, 0.44874532, 0.44761171, 0.44648111, 0.44535384,\n",
       "       0.44423016, 0.4431103 , 0.4419945 , 0.44088294, 0.43977579,\n",
       "       0.43867322, 0.43757535, 0.43648231, 0.43539419, 0.4343111 ,\n",
       "       0.43323311, 0.43216029, 0.43109269, 0.43003037, 0.42897335,\n",
       "       0.42792167, 0.42687535, 0.4258344 , 0.42479884, 0.42376867,\n",
       "       0.42274389, 0.42172449, 0.42071045, 0.41970177, 0.41869842,\n",
       "       0.41770038, 0.41670764, 0.41572015, 0.41473788, 0.41376082,\n",
       "       0.41278891, 0.41182212, 0.41086042, 0.40990377, 0.40895211,\n",
       "       0.40800542, 0.40706364, 0.40612674, 0.40519466, 0.40426736,\n",
       "       0.40334479, 0.40242691, 0.40151367, 0.40060502, 0.39970091,\n",
       "       0.39880129, 0.39790612, 0.39701534, 0.3961289 , 0.39524677,\n",
       "       0.39436888, 0.3934952 , 0.39262566, 0.39176023, 0.39089885,\n",
       "       0.39004147, 0.38918806, 0.38833855])"
      ]
     },
     "execution_count": 90,
     "metadata": {},
     "output_type": "execute_result"
    }
   ],
   "source": [
    "partial_sigma_kfp_2"
   ]
  },
  {
   "cell_type": "code",
   "execution_count": 91,
   "id": "6788ed49",
   "metadata": {},
   "outputs": [],
   "source": [
    "partial_sigma_nb_via_kfp = np.zeros(len(nb_array)) \n",
    "partial_sigma_nb_via_kfn = np.zeros(len(nb_array)) \n",
    "\n",
    "for i in range(len(nb_array)):\n",
    "    partial_sigma_nb_via_kfn[i] = partial_sigma_kfn[i] * partial_fermi_nb(neutron_frac[i], fermi_n[i])\n",
    "    partial_sigma_nb_via_kfp[i] = partial_sigma_kfp_2[i] * partial_fermi_nb(proton_frac[i], fermi_p[i])"
   ]
  },
  {
   "cell_type": "code",
   "execution_count": 92,
   "id": "dedb14a8",
   "metadata": {},
   "outputs": [
    {
     "data": {
      "text/plain": [
       "array([2.18210076e-05, 2.16416229e-05, 2.14659678e-05, 2.12939019e-05,\n",
       "       2.11252921e-05, 2.09600123e-05, 2.07979430e-05, 2.06389710e-05,\n",
       "       2.04829886e-05, 2.03298935e-05, 2.01795883e-05, 2.00319805e-05,\n",
       "       1.98869817e-05, 1.97445080e-05, 1.96044790e-05, 1.94668181e-05,\n",
       "       1.93314522e-05, 1.91983113e-05, 1.90673286e-05, 1.89384399e-05,\n",
       "       1.88115842e-05, 1.86867025e-05, 1.85637386e-05, 1.84426386e-05,\n",
       "       1.83233506e-05, 1.82058248e-05, 1.80900135e-05, 1.79758708e-05,\n",
       "       1.78633525e-05, 1.77524162e-05, 1.76430209e-05, 1.75351272e-05,\n",
       "       1.74286974e-05, 1.73236948e-05, 1.72200842e-05, 1.71178317e-05,\n",
       "       1.70169044e-05, 1.69172708e-05, 1.68189003e-05, 1.67217634e-05,\n",
       "       1.66258315e-05, 1.65310772e-05, 1.64374737e-05, 1.63449953e-05,\n",
       "       1.62536170e-05, 1.61633147e-05, 1.60740650e-05, 1.59858453e-05,\n",
       "       1.58986336e-05, 1.58124086e-05, 1.57271497e-05, 1.56428370e-05,\n",
       "       1.55594510e-05, 1.54769728e-05, 1.53953843e-05, 1.53146677e-05,\n",
       "       1.52348057e-05, 1.51557817e-05, 1.50775793e-05, 1.50001827e-05,\n",
       "       1.49235766e-05, 1.48477461e-05, 1.47726765e-05, 1.46983538e-05,\n",
       "       1.46247642e-05, 1.45518943e-05, 1.44797311e-05, 1.44082618e-05,\n",
       "       1.43374741e-05, 1.42673559e-05, 1.41978955e-05, 1.41290815e-05,\n",
       "       1.40609026e-05, 1.39933481e-05, 1.39264073e-05, 1.38600698e-05,\n",
       "       1.37943255e-05, 1.37291647e-05, 1.36645776e-05, 1.36005549e-05,\n",
       "       1.35370875e-05, 1.34741663e-05, 1.34117826e-05, 1.33499280e-05,\n",
       "       1.32885939e-05, 1.32277724e-05, 1.31674554e-05, 1.31076351e-05,\n",
       "       1.30483040e-05, 1.29894545e-05, 1.29310794e-05, 1.28731715e-05,\n",
       "       1.28157240e-05])"
      ]
     },
     "execution_count": 92,
     "metadata": {},
     "output_type": "execute_result"
    }
   ],
   "source": [
    "partial_sigma_nb_via_kfn"
   ]
  },
  {
   "cell_type": "code",
   "execution_count": 93,
   "id": "64819ab5",
   "metadata": {},
   "outputs": [
    {
     "data": {
      "text/plain": [
       "array([2.18210076e-05, 2.16416229e-05, 2.14659678e-05, 2.12939019e-05,\n",
       "       2.11252921e-05, 2.09600123e-05, 2.07979430e-05, 2.06389710e-05,\n",
       "       2.04829886e-05, 2.03298935e-05, 2.01795883e-05, 2.00319805e-05,\n",
       "       1.98869817e-05, 1.97445080e-05, 1.96044790e-05, 1.94668181e-05,\n",
       "       1.93314522e-05, 1.91983113e-05, 1.90673286e-05, 1.89384399e-05,\n",
       "       1.88115842e-05, 1.86867025e-05, 1.85637386e-05, 1.84426386e-05,\n",
       "       1.83233506e-05, 1.82058248e-05, 1.80900135e-05, 1.79758708e-05,\n",
       "       1.78633525e-05, 1.77524162e-05, 1.76430209e-05, 1.75351272e-05,\n",
       "       1.74286974e-05, 1.73236948e-05, 1.72200842e-05, 1.71178317e-05,\n",
       "       1.70169044e-05, 1.69172708e-05, 1.68189003e-05, 1.67217634e-05,\n",
       "       1.66258315e-05, 1.65310772e-05, 1.64374737e-05, 1.63449953e-05,\n",
       "       1.62536170e-05, 1.61633147e-05, 1.60740650e-05, 1.59858453e-05,\n",
       "       1.58986336e-05, 1.58124086e-05, 1.57271497e-05, 1.56428370e-05,\n",
       "       1.55594510e-05, 1.54769728e-05, 1.53953843e-05, 1.53146677e-05,\n",
       "       1.52348057e-05, 1.51557817e-05, 1.50775793e-05, 1.50001827e-05,\n",
       "       1.49235766e-05, 1.48477461e-05, 1.47726765e-05, 1.46983538e-05,\n",
       "       1.46247642e-05, 1.45518943e-05, 1.44797311e-05, 1.44082618e-05,\n",
       "       1.43374741e-05, 1.42673559e-05, 1.41978955e-05, 1.41290815e-05,\n",
       "       1.40609026e-05, 1.39933481e-05, 1.39264073e-05, 1.38600698e-05,\n",
       "       1.37943255e-05, 1.37291647e-05, 1.36645776e-05, 1.36005549e-05,\n",
       "       1.35370875e-05, 1.34741663e-05, 1.34117826e-05, 1.33499280e-05,\n",
       "       1.32885939e-05, 1.32277724e-05, 1.31674554e-05, 1.31076351e-05,\n",
       "       1.30483040e-05, 1.29894545e-05, 1.29310794e-05, 1.28731715e-05,\n",
       "       1.28157240e-05])"
      ]
     },
     "execution_count": 93,
     "metadata": {},
     "output_type": "execute_result"
    }
   ],
   "source": [
    " partial_sigma_nb_via_kfp"
   ]
  },
  {
   "cell_type": "markdown",
   "id": "bde930a4",
   "metadata": {},
   "source": [
    "### They match! What does this mean. \n",
    "1. Our initial assumption: treating the individual momenta as independent wouldn't allow us to properly use the chain rule since via beta equilibrium and stuff they're not independent. \n",
    "2. Using this second method, taking into account their mutual dependence allows us to use the chain rule. But does this sacrifice the flexibility that we wanted (ie, taking partial derivatives at fixed composition)? Time for a mental break. \n",
    "3. Next thing to try: with these new values for the various partial derivatives of the sigma field, we should try calculating the sound speeds again to see what we get. \n",
    "    - If this doesn't work, this just means, we need to take the partial derivatives without using the chain rule. And try again. Hopefully that works. Else, idk what to do.\n",
    "    - Can try first approach again but this time take the Neutron to be the dependent one. "
   ]
  },
  {
   "cell_type": "markdown",
   "id": "829eb774",
   "metadata": {},
   "source": [
    "### Attempt At Sound Speed Difference Part 2"
   ]
  },
  {
   "cell_type": "code",
   "execution_count": 98,
   "id": "1467c846",
   "metadata": {},
   "outputs": [],
   "source": [
    "partial_sigma_nb = np.zeros(len(nb_array))\n",
    "for i in range(len(nb_array)):\n",
    "    partial_sigma_nb[i] = partial_sigma_kfn[i]*np.pi**2 * neutron_frac[i]/fermi_n[i]**2"
   ]
  },
  {
   "cell_type": "code",
   "execution_count": 99,
   "id": "fbbca47d",
   "metadata": {},
   "outputs": [],
   "source": [
    "def partial_E_partial_kf(Baryon, fermi, sigma_field, partial_sigma):\n",
    "    m = mass_eff(Baryon, sigma_field)\n",
    "    EF = eff_energy(Baryon, fermi, sigma_field)\n",
    "    \n",
    "    term1 = fermi/EF \n",
    "    term2 = -m/EF * Baryon.num_g_sigma * partial_sigma\n",
    "    \n",
    "    return term1 + term2 "
   ]
  },
  {
   "cell_type": "code",
   "execution_count": 100,
   "id": "9186411b",
   "metadata": {},
   "outputs": [],
   "source": [
    "def partial_fermi(fermi, nb, baryon_frac, ind_var_name):\n",
    "    if (ind_var_name == 'nb'):\n",
    "        return np.pi**2 * baryon_frac / fermi**2\n",
    "    elif (ind_var_name == 'frac'):\n",
    "        return np.pi**2 * nb / fermi**2 "
   ]
  },
  {
   "cell_type": "code",
   "execution_count": 101,
   "id": "2baa76e9",
   "metadata": {},
   "outputs": [],
   "source": [
    "def partial_chem_pot(Baryon, fermi, sigma_field, partial_sigma, nb, baryon_frac, ind_var_name):\n",
    "    part_E = partial_E_partial_kf(Baryon, fermi, sigma_field, partial_sigma)\n",
    "    part_kf = partial_fermi(fermi, nb, baryon_frac, ind_var_name)\n",
    "    \n",
    "    return part_E * part_kf"
   ]
  },
  {
   "cell_type": "code",
   "execution_count": 102,
   "id": "3640a338",
   "metadata": {},
   "outputs": [],
   "source": [
    "partial_proton_nb = np.zeros(len(nb_array))\n",
    "partial_neutron_nb = np.zeros(len(nb_array))\n",
    "\n",
    "partial_proton_xe = np.zeros(len(nb_array))\n",
    "partial_neutron_xe = np.zeros(len(nb_array))\n",
    "\n",
    "for i in range(len(nb_array)):\n",
    "    partial_proton_nb[i] = partial_chem_pot(Proton, fermi_p[i], sigma_array[i], partial_sigma_kfp_2[i], nb_array[i],\\\n",
    "                                        proton_frac[i], 'nb')\n",
    "    partial_proton_xe[i] = partial_chem_pot(Proton, fermi_p[i], sigma_array[i], partial_sigma_kfp_2[i], nb_array[i],\\\n",
    "                                        proton_frac[i], 'frac')\n",
    "    \n",
    "    partial_neutron_nb[i] = partial_chem_pot(Neutron, fermi_n[i], sigma_array[i], partial_sigma_kfn[i], nb_array[i],\\\n",
    "                                        neutron_frac[i], 'nb')\n",
    "    partial_neutron_xe[i] = partial_chem_pot(Neutron, fermi_n[i], sigma_array[i], partial_sigma_kfn[i], nb_array[i],\\\n",
    "                                        neutron_frac[i], 'frac')"
   ]
  },
  {
   "cell_type": "code",
   "execution_count": 103,
   "id": "c73539e9",
   "metadata": {},
   "outputs": [],
   "source": [
    "part_mu_tilde_part_nb = partial_neutron_nb - partial_proton_nb \n",
    "part_mu_tilde_part_xe = partial_neutron_xe - partial_proton_xe"
   ]
  },
  {
   "cell_type": "code",
   "execution_count": 104,
   "id": "1569d5a0",
   "metadata": {},
   "outputs": [],
   "source": [
    "neutron_chem_pot = np.zeros(len(nb_array))\n",
    "for i in range(len(nb_array)):\n",
    "    neutron_chem_pot[i] = eff_energy(Neutron, fermi_n[i], sigma_array[i])"
   ]
  },
  {
   "cell_type": "code",
   "execution_count": 107,
   "id": "0c2c52c3",
   "metadata": {},
   "outputs": [],
   "source": [
    "sound_speed_diff = np.zeros(len(nb_array))\n",
    "\n",
    "for i in range(len(nb_array)):\n",
    "    sound_speed_diff[i] = (nb_array[i]*n0*hc**3)**2/neutron_chem_pot[i] * part_mu_tilde_part_nb[i]**2 / part_mu_tilde_part_xe[i]"
   ]
  },
  {
   "cell_type": "code",
   "execution_count": 108,
   "id": "2ff2fc7f",
   "metadata": {},
   "outputs": [
    {
     "data": {
      "text/plain": [
       "array([  57.48622295,   62.28840848,   67.32609541,   72.60364451,\n",
       "         78.12536636,   83.89552058,   89.91831546,   96.19790738,\n",
       "        102.73840053,  109.5438466 ,  116.61824451,  123.96554032,\n",
       "        131.58962713,  139.49434501,  147.68348094,  156.16076909,\n",
       "        164.92989059,  173.99447393,  183.35809501,  193.02427732,\n",
       "        202.99649226,  213.27815933,  223.87264641,  234.78327012,\n",
       "        246.01329614,  257.56593956,  269.44436518,  281.65168803,\n",
       "        294.19097363,  307.06523862,  320.27745085,  333.83053017,\n",
       "        347.72734869,  361.97073129,  376.56345603,  391.50825473,\n",
       "        406.80781341,  422.46477261,  438.48172824,  454.86123169,\n",
       "        471.6057905 ,  488.71786896,  506.19988836,  524.05422766,\n",
       "        542.28322395,  560.88917284,  579.87432921,  599.24090738,\n",
       "        618.99108179,  639.12698749,  659.65072054,  680.56433841,\n",
       "        701.86986079,  723.56926969,  745.66450999,  768.15749006,\n",
       "        791.05008213,  814.34412261,  838.04141261,  862.14371863,\n",
       "        886.65277252,  911.57027223,  936.89788223,  962.63723372,\n",
       "        988.78992521, 1015.3575229 , 1042.34156093, 1069.74354206,\n",
       "       1097.56493772, 1125.8071885 , 1154.47170472, 1183.55986646,\n",
       "       1213.07302416, 1243.01249885, 1273.37958248, 1304.17553846,\n",
       "       1335.40160154, 1367.05897871, 1399.14884909, 1431.67236439,\n",
       "       1464.63064916, 1498.02480134, 1531.85589191, 1566.12496611,\n",
       "       1600.83304286, 1635.9811156 , 1671.57015226, 1707.60109565,\n",
       "       1744.0748637 , 1780.99234969, 1818.35442255, 1856.16192708,\n",
       "       1894.41568417])"
      ]
     },
     "execution_count": 108,
     "metadata": {},
     "output_type": "execute_result"
    }
   ],
   "source": [
    "sound_speed_diff"
   ]
  },
  {
   "cell_type": "code",
   "execution_count": 109,
   "id": "1ca4b2d1",
   "metadata": {},
   "outputs": [
    {
     "data": {
      "text/plain": [
       "[<matplotlib.lines.Line2D at 0x7fcd58d637c0>]"
      ]
     },
     "execution_count": 109,
     "metadata": {},
     "output_type": "execute_result"
    },
    {
     "data": {
      "image/png": "[encoded data removed]",
      "text/plain": [
       "<Figure size 432x288 with 1 Axes>"
      ]
     },
     "metadata": {
      "needs_background": "light"
     },
     "output_type": "display_data"
    }
   ],
   "source": [
    "plt.plot(nb_array, sound_speed_diff)"
   ]
  },
  {
   "cell_type": "markdown",
   "id": "bfc04ec7",
   "metadata": {},
   "source": [
    "### Okay too big still... so Method 3\n",
    "$$\n",
    "    \\frac{\\partial \\sigma}{\\partial k_{F_n}} = \n",
    "    \\frac{\\partial \\sigma}{\\partial k_{F_p}} \\frac{\\partial k_{F_p}}{\\partial k_{F_n}}\n",
    "    = \\frac{\\partial \\sigma}{\\partial k_{F_p}} \n",
    "    \\left[\\frac{\\partial k_{F_p}}{\\partial n_B}\\frac{\\partial n_B}{\\partial k_{F_n}}\\right] \n",
    "    = \n",
    "    \\frac{\\partial \\sigma}{\\partial k_{F_p}} \n",
    "    \\left[\\frac{\\pi^2 x_p}{k_{F_p}^2} \\frac{k_{F_n}^2}{\\pi^2 x_n}\\right] \n",
    "$$"
   ]
  },
  {
   "cell_type": "code",
   "execution_count": 31,
   "id": "d547311d",
   "metadata": {},
   "outputs": [],
   "source": [
    "def partial_fermi_nb(frac, fermi):\n",
    "    return np.pi**2 * frac / fermi**2"
   ]
  },
  {
   "cell_type": "code",
   "execution_count": 32,
   "id": "a8087ff0",
   "metadata": {},
   "outputs": [],
   "source": [
    "def partial_sigma_kfn_func(part_sig_kfp, neutron_fermi, proton_fermi, neutron_frac, proton_frac):\n",
    "    return part_sig_kfp * proton_frac * neutron_fermi**2 / proton_fermi**2 / neutron_frac"
   ]
  },
  {
   "cell_type": "code",
   "execution_count": 33,
   "id": "076d8058",
   "metadata": {},
   "outputs": [],
   "source": [
    "partial_sigma_kfn_2 = np.zeros(len(nb_array))\n",
    "\n",
    "for i in range(len(nb_array)):\n",
    "    partial_sigma_kfn_2[i] = partial_sigma_kfn_func(partial_sigma_kfp[i], fermi_n[i], fermi_p[i], neutron_frac[i], proton_frac[i])"
   ]
  },
  {
   "cell_type": "code",
   "execution_count": 34,
   "id": "418f72c9",
   "metadata": {},
   "outputs": [],
   "source": [
    "partial_sigma_nb = np.zeros(len(nb_array))\n",
    "for i in range(len(nb_array)):\n",
    "    partial_sigma_nb[i] = partial_sigma_kfn_2[i]*np.pi**2 * neutron_frac[i]/fermi_n[i]**2"
   ]
  },
  {
   "cell_type": "code",
   "execution_count": 35,
   "id": "53c08dd1",
   "metadata": {},
   "outputs": [],
   "source": [
    "partial_proton_nb_3 = np.zeros(len(nb_array))\n",
    "partial_neutron_nb_3 = np.zeros(len(nb_array))\n",
    "\n",
    "partial_proton_xe_3 = np.zeros(len(nb_array))\n",
    "partial_neutron_xe_3 = np.zeros(len(nb_array))\n",
    "\n",
    "for i in range(len(nb_array)):\n",
    "    partial_proton_nb_3[i] = partial_chem_pot(Proton, fermi_p[i], sigma_array[i], partial_sigma_kfp[i], nb_array[i],\\\n",
    "                                        proton_frac[i], 'nb')\n",
    "    partial_proton_xe_3[i] = partial_chem_pot(Proton, fermi_p[i], sigma_array[i], partial_sigma_kfp[i], nb_array[i],\\\n",
    "                                        proton_frac[i], 'frac')\n",
    "    \n",
    "    partial_neutron_nb_3[i] = partial_chem_pot(Neutron, fermi_n[i], sigma_array[i], partial_sigma_kfn_2[i], nb_array[i],\\\n",
    "                                        neutron_frac[i], 'nb')\n",
    "    partial_neutron_xe_3[i] = partial_chem_pot(Neutron, fermi_n[i], sigma_array[i], partial_sigma_kfn_2[i], nb_array[i],\\\n",
    "                                        neutron_frac[i], 'frac')"
   ]
  },
  {
   "cell_type": "code",
   "execution_count": 36,
   "id": "6c7012d6",
   "metadata": {},
   "outputs": [],
   "source": [
    "part_mu_tilde_part_nb = partial_neutron_nb - partial_proton_nb \n",
    "part_mu_tilde_part_xe = partial_neutron_xe - partial_proton_xe"
   ]
  },
  {
   "cell_type": "code",
   "execution_count": 37,
   "id": "561ddd77",
   "metadata": {},
   "outputs": [],
   "source": [
    "neutron_chem_pot = np.zeros(len(nb_array))\n",
    "for i in range(len(nb_array)):\n",
    "    neutron_chem_pot[i] = eff_energy(Neutron, fermi_n[i], sigma_array[i])"
   ]
  },
  {
   "cell_type": "code",
   "execution_count": 38,
   "id": "58d8d297",
   "metadata": {},
   "outputs": [],
   "source": [
    "sound_speed_diff = np.zeros(len(nb_array))\n",
    "\n",
    "for i in range(len(nb_array)):\n",
    "    sound_speed_diff[i] = (nb_array[i]*n0*hc**3)**2/neutron_chem_pot[i] * part_mu_tilde_part_nb[i]**2 / part_mu_tilde_part_xe[i]"
   ]
  },
  {
   "cell_type": "code",
   "execution_count": 39,
   "id": "2b9eb2d9",
   "metadata": {},
   "outputs": [
    {
     "data": {
      "text/plain": [
       "array([-3.80798303e+04, -4.02233257e+04, -4.23870403e+04, -4.45691151e+04,\n",
       "       -4.67677924e+04, -4.89814061e+04, -5.12083772e+04, -5.34472069e+04,\n",
       "       -5.56964702e+04, -5.79548120e+04, -6.02209416e+04, -6.24936292e+04,\n",
       "       -6.47717014e+04, -6.70540381e+04, -6.93395685e+04, -7.16272690e+04,\n",
       "       -7.39161597e+04, -7.62053023e+04, -7.84937974e+04, -8.07807827e+04,\n",
       "       -8.30654302e+04, -8.53469457e+04, -8.76245652e+04, -8.98975551e+04,\n",
       "       -9.21652094e+04, -9.44268485e+04, -9.66818186e+04, -9.89294903e+04,\n",
       "       -1.01169256e+05, -1.03400531e+05, -1.05622751e+05, -1.07835372e+05,\n",
       "       -1.10037867e+05, -1.12229732e+05, -1.14410474e+05, -1.16579622e+05,\n",
       "       -1.18736718e+05, -1.20881321e+05, -1.23013002e+05, -1.25131349e+05,\n",
       "       -1.27235963e+05, -1.29326456e+05, -1.31402454e+05, -1.33463597e+05,\n",
       "       -1.35509532e+05, -1.37539920e+05, -1.39554433e+05, -1.41552753e+05,\n",
       "       -1.43534570e+05, -1.45499587e+05, -1.47447514e+05, -1.49378071e+05,\n",
       "       -1.51290985e+05, -1.53185994e+05, -1.55062843e+05, -1.56921284e+05,\n",
       "       -1.58761077e+05, -1.60581991e+05, -1.62383800e+05, -1.64166286e+05,\n",
       "       -1.65929238e+05, -1.67672450e+05, -1.69395725e+05, -1.71098870e+05,\n",
       "       -1.72781698e+05, -1.74444029e+05, -1.76085689e+05, -1.77706507e+05,\n",
       "       -1.79306321e+05, -1.80884970e+05, -1.82442302e+05, -1.83978169e+05,\n",
       "       -1.85492427e+05, -1.86984935e+05, -1.88455561e+05, -1.89904175e+05,\n",
       "       -1.91330651e+05, -1.92734868e+05, -1.94116711e+05, -1.95476065e+05,\n",
       "       -1.96812823e+05, -1.98126880e+05, -1.99418137e+05, -2.00686496e+05,\n",
       "       -2.01931865e+05, -2.03154154e+05, -2.04353280e+05, -2.05529158e+05,\n",
       "       -2.06681713e+05, -2.07810869e+05, -2.08916554e+05, -2.09998703e+05,\n",
       "       -2.11057249e+05, -2.12092133e+05, -2.13103297e+05, -2.14090687e+05,\n",
       "       -2.15054251e+05, -2.15993942e+05, -2.16909715e+05, -2.17801530e+05,\n",
       "       -2.18669347e+05, -2.19513132e+05, -2.20332853e+05, -2.21128481e+05,\n",
       "       -2.21899990e+05, -2.22647358e+05, -2.23370565e+05, -2.24069595e+05,\n",
       "       -2.24744433e+05, -2.25395071e+05, -2.26021500e+05, -2.26623716e+05,\n",
       "       -2.27201718e+05, -2.27755507e+05, -2.28285089e+05, -2.28790471e+05,\n",
       "       -2.29271664e+05, -2.29728683e+05, -2.30161543e+05, -2.30570265e+05,\n",
       "       -2.30954873e+05, -2.31315392e+05, -2.31651852e+05, -2.31964285e+05,\n",
       "       -2.32252727e+05, -2.32517216e+05, -2.32757793e+05, -2.32974505e+05,\n",
       "       -2.33167398e+05, -2.33336524e+05, -2.33481938e+05, -2.33603696e+05,\n",
       "       -2.33701860e+05, -2.33776493e+05, -2.33827663e+05, -2.33855440e+05,\n",
       "       -2.33859898e+05, -2.33841113e+05, -2.33799166e+05, -2.33734141e+05,\n",
       "       -2.33646124e+05, -2.33535204e+05, -2.33401477e+05, -2.33245038e+05,\n",
       "       -2.33065988e+05, -2.32864429e+05, -2.32640470e+05, -2.32394220e+05,\n",
       "       -2.32125793e+05, -2.31835306e+05, -2.31522879e+05, -2.31188636e+05,\n",
       "       -2.30832705e+05, -2.30455216e+05, -2.30056304e+05, -2.29636106e+05,\n",
       "       -2.29194762e+05, -2.28732419e+05, -2.28249222e+05, -2.27745324e+05,\n",
       "       -2.27220880e+05, -2.26676047e+05, -2.26110987e+05, -2.25525865e+05,\n",
       "       -2.24920849e+05, -2.24296112e+05, -2.23651828e+05, -2.22988176e+05,\n",
       "       -2.22305337e+05, -2.21603498e+05, -2.20882845e+05, -2.20143573e+05,\n",
       "       -2.19385874e+05, -2.18609948e+05, -2.17815996e+05, -2.17004223e+05,\n",
       "       -2.16174838e+05, -2.15328050e+05, -2.14464074e+05, -2.13583127e+05,\n",
       "       -2.12685430e+05, -2.11771206e+05, -2.10840681e+05, -2.09894084e+05,\n",
       "       -2.08931648e+05, -2.07953606e+05, -2.06960198e+05, -2.05951662e+05,\n",
       "       -2.04928242e+05, -2.03890183e+05, -2.02837735e+05, -2.01771147e+05,\n",
       "       -2.00690672e+05, -1.99596566e+05, -1.98489088e+05, -1.97368496e+05,\n",
       "       -1.96235053e+05, -1.95089024e+05, -1.93930675e+05, -1.92760274e+05,\n",
       "       -1.91578092e+05, -1.90384400e+05, -1.89179473e+05, -1.87963586e+05,\n",
       "       -1.86737017e+05, -1.85500043e+05, -1.84252945e+05, -1.82996004e+05,\n",
       "       -1.81729502e+05, -1.80453725e+05, -1.79168955e+05, -1.77875479e+05,\n",
       "       -1.76573584e+05, -1.75263558e+05, -1.73945687e+05, -1.72620261e+05,\n",
       "       -1.71287570e+05, -1.69947903e+05, -1.68601550e+05, -1.67248801e+05,\n",
       "       -1.65889946e+05, -1.64525276e+05, -1.63155081e+05, -1.61779651e+05,\n",
       "       -1.60399276e+05, -1.59014246e+05, -1.57624849e+05, -1.56231373e+05,\n",
       "       -1.54834107e+05, -1.53433337e+05, -1.52029349e+05, -1.50622428e+05,\n",
       "       -1.49212859e+05, -1.47800923e+05, -1.46386903e+05, -1.44971079e+05,\n",
       "       -1.43553729e+05, -1.42135130e+05, -1.40715559e+05, -1.39295287e+05,\n",
       "       -1.37874589e+05, -1.36453732e+05, -1.35032986e+05, -1.33612616e+05,\n",
       "       -1.32192885e+05, -1.30774055e+05, -1.29356385e+05, -1.27940131e+05,\n",
       "       -1.26525547e+05, -1.25112885e+05, -1.23702392e+05, -1.22294315e+05,\n",
       "       -1.20888897e+05, -1.19486378e+05, -1.18086994e+05, -1.16690980e+05,\n",
       "       -1.15298566e+05, -1.13909981e+05, -1.12525448e+05, -1.11145189e+05,\n",
       "       -1.09769421e+05, -1.08398358e+05, -1.07032212e+05, -1.05671190e+05,\n",
       "       -1.04315495e+05, -1.02965327e+05, -1.01620883e+05, -1.00282355e+05,\n",
       "       -9.89499315e+04, -9.76237987e+04, -9.63041374e+04, -9.49911248e+04,\n",
       "       -9.36849345e+04, -9.23857361e+04, -9.10936952e+04, -8.98089736e+04,\n",
       "       -8.85317288e+04, -8.72621146e+04, -8.60002807e+04, -8.47463728e+04,\n",
       "       -8.35005324e+04, -8.22628972e+04, -8.10336006e+04, -7.98127722e+04,\n",
       "       -7.86005373e+04, -7.73970175e+04, -7.62023299e+04, -7.50165878e+04,\n",
       "       -7.38399006e+04, -7.26723735e+04, -7.15141077e+04, -7.03652005e+04,\n",
       "       -6.92257451e+04, -6.80958308e+04, -6.69755430e+04, -6.58649632e+04,\n",
       "       -6.47641689e+04, -6.36732339e+04, -6.25922280e+04, -6.15212173e+04,\n",
       "       -6.04602640e+04, -5.94094268e+04, -5.83687605e+04, -5.73383163e+04,\n",
       "       -5.63181417e+04, -5.53082807e+04, -5.43087737e+04, -5.33196576e+04,\n",
       "       -5.23409658e+04, -5.13727283e+04, -5.04149718e+04, -4.94677196e+04,\n",
       "       -4.85309916e+04, -4.76048047e+04, -4.66891724e+04, -4.57841052e+04,\n",
       "       -4.48896104e+04, -4.40056924e+04, -4.31323525e+04, -4.22695891e+04,\n",
       "       -4.14173977e+04, -4.05757711e+04, -3.97446993e+04, -3.89241693e+04,\n",
       "       -3.81141659e+04, -3.73146709e+04, -3.65256638e+04, -3.57471215e+04,\n",
       "       -3.49790185e+04, -3.42213269e+04, -3.34740165e+04, -3.27370548e+04,\n",
       "       -3.20104071e+04, -3.12940365e+04, -3.05879043e+04, -2.98919692e+04,\n",
       "       -2.92061884e+04, -2.85305170e+04, -2.78649082e+04, -2.72093135e+04,\n",
       "       -2.65636824e+04, -2.59279629e+04, -2.53021013e+04, -2.46860423e+04,\n",
       "       -2.40797290e+04, -2.34831031e+04, -2.28961048e+04, -2.23186730e+04,\n",
       "       -2.17507451e+04, -2.11922573e+04, -2.06431446e+04, -2.01033409e+04,\n",
       "       -1.95727787e+04, -1.90513897e+04, -1.85391043e+04, -1.80358523e+04,\n",
       "       -1.75415621e+04, -1.70561615e+04, -1.65795774e+04, -1.61117358e+04,\n",
       "       -1.56525622e+04, -1.52019810e+04, -1.47599162e+04, -1.43262911e+04,\n",
       "       -1.39010285e+04, -1.34840504e+04, -1.30752786e+04, -1.26746342e+04,\n",
       "       -1.22820380e+04, -1.18974103e+04, -1.15206713e+04, -1.11517405e+04,\n",
       "       -1.07905374e+04, -1.04369812e+04, -1.00909907e+04, -9.75248476e+03,\n",
       "       -9.42138201e+03, -9.09760091e+03, -8.78105988e+03, -8.47167727e+03,\n",
       "       -8.16937139e+03, -7.87406056e+03, -7.58566314e+03, -7.30409752e+03,\n",
       "       -7.02928218e+03, -6.76113571e+03, -6.49957684e+03, -6.24452443e+03,\n",
       "       -5.99589754e+03, -5.75361541e+03, -5.51759753e+03, -5.28776360e+03,\n",
       "       -5.06403362e+03, -4.84632786e+03, -4.63456687e+03, -4.42867155e+03,\n",
       "       -4.22856314e+03, -4.03416322e+03, -3.84539376e+03, -3.66217711e+03,\n",
       "       -3.48443602e+03, -3.31209367e+03, -3.14507367e+03, -2.98330008e+03,\n",
       "       -2.82669743e+03, -2.67519069e+03, -2.52870535e+03, -2.38716739e+03,\n",
       "       -2.25050327e+03, -2.11864001e+03, -1.99150513e+03, -1.86902668e+03,\n",
       "       -1.75113328e+03, -1.63775409e+03, -1.52881884e+03, -1.42425781e+03,\n",
       "       -1.32400189e+03, -1.22798252e+03, -1.13613174e+03, -1.04838220e+03,\n",
       "       -9.64667129e+02, -8.84920373e+02, -8.09076386e+02, -7.37070234e+02,\n",
       "       -6.68837602e+02, -6.04314795e+02, -5.43438746e+02, -4.86147011e+02,\n",
       "       -4.32377777e+02, -3.82069864e+02, -3.35162724e+02, -2.91596445e+02,\n",
       "       -2.51311751e+02, -2.14250002e+02, -1.80353199e+02, -1.49563978e+02,\n",
       "       -1.21825616e+02, -9.70820270e+01, -7.52777637e+01, -5.63580157e+01,\n",
       "       -4.02686103e+01, -2.69560094e+01, -1.63673102e+01, -8.45024239e+00,\n",
       "       -3.15316749e+00, -4.25076390e-01, -2.15587701e-01, -2.47494549e+00,\n",
       "       -7.15401690e+00, -1.42042898e+01, -2.35778700e+01, -3.52274784e+01,\n",
       "       -4.91064484e+01, -6.51687224e+01, -8.33688487e+01, -1.03661979e+02,\n",
       "       -1.26003862e+02, -1.50350845e+02, -1.76659865e+02, -2.04888449e+02,\n",
       "       -2.34994706e+02, -2.66937328e+02, -3.00675580e+02, -3.36169303e+02,\n",
       "       -3.73378904e+02, -4.12265352e+02, -4.52790178e+02, -4.94915468e+02,\n",
       "       -5.38603855e+02, -5.83818521e+02, -6.30523189e+02, -6.78682116e+02,\n",
       "       -7.28260094e+02, -7.79222441e+02, -8.31534996e+02, -8.85164117e+02,\n",
       "       -9.40076676e+02, -9.96240049e+02, -1.05362212e+03, -1.11219126e+03,\n",
       "       -1.17191636e+03, -1.23276676e+03, -1.29471231e+03, -1.35772333e+03,\n",
       "       -1.42177062e+03, -1.48682545e+03, -1.55285953e+03, -1.61984504e+03,\n",
       "       -1.68775464e+03, -1.75656139e+03, -1.82623883e+03, -1.89676093e+03,\n",
       "       -1.96810209e+03, -2.04023712e+03, -2.11314128e+03, -2.18679025e+03,\n",
       "       -2.26116009e+03, -2.33622730e+03, -2.41196877e+03, -2.48836179e+03,\n",
       "       -2.56538405e+03, -2.64301362e+03, -2.72122895e+03, -2.80000888e+03,\n",
       "       -2.87933262e+03, -2.95917974e+03, -3.03953020e+03, -3.12036429e+03,\n",
       "       -3.20166267e+03, -3.28340635e+03, -3.36557668e+03, -3.44815537e+03,\n",
       "       -3.53112444e+03, -3.61446625e+03, -3.69816351e+03, -3.78219921e+03,\n",
       "       -3.86655671e+03, -3.95121965e+03, -4.03617198e+03, -4.12139797e+03,\n",
       "       -4.20688219e+03, -4.29260950e+03, -4.37856505e+03, -4.46473429e+03,\n",
       "       -4.55110295e+03, -4.63765703e+03, -4.72438283e+03, -4.81126690e+03,\n",
       "       -4.89829607e+03, -4.98545743e+03, -5.07273832e+03, -5.16012637e+03,\n",
       "       -5.24760942e+03, -5.33517560e+03, -5.42281325e+03, -5.51051098e+03,\n",
       "       -5.59825761e+03, -5.68604222e+03, -5.77385410e+03, -5.86168279e+03,\n",
       "       -5.94951803e+03, -6.03734980e+03, -6.12516827e+03, -6.21296386e+03,\n",
       "       -6.30072717e+03, -6.38844902e+03, -6.47612043e+03, -6.56373262e+03,\n",
       "       -6.65127701e+03, -6.73874521e+03, -6.82612901e+03, -6.91342042e+03,\n",
       "       -7.00061160e+03, -7.08769491e+03, -7.17466287e+03, -7.26150821e+03,\n",
       "       -7.34822380e+03, -7.43480269e+03, -7.52123811e+03, -7.60752343e+03,\n",
       "       -7.69365220e+03, -7.77961811e+03, -7.86541504e+03, -7.95103699e+03,\n",
       "       -8.03647812e+03, -8.12173275e+03, -8.20679532e+03, -8.29166045e+03,\n",
       "       -8.37632287e+03, -8.46077746e+03, -8.54501923e+03, -8.62904333e+03,\n",
       "       -8.71284505e+03, -8.79641978e+03, -8.87976307e+03, -8.96287056e+03,\n",
       "       -9.04573805e+03, -9.12836143e+03, -9.21073672e+03, -9.29286006e+03,\n",
       "       -9.37472768e+03, -9.45633596e+03, -9.53768136e+03, -9.61876046e+03,\n",
       "       -9.69956993e+03, -9.78010657e+03, -9.86036725e+03, -9.94034897e+03,\n",
       "       -1.00200488e+04, -1.00994640e+04, -1.01785917e+04, -1.02574293e+04,\n",
       "       -1.03359744e+04, -1.04142244e+04, -1.04921770e+04, -1.05698300e+04,\n",
       "       -1.06471810e+04, -1.07242280e+04, -1.08009690e+04, -1.08774020e+04,\n",
       "       -1.09535251e+04, -1.10293366e+04, -1.11048347e+04, -1.11800178e+04,\n",
       "       -1.12548843e+04, -1.13294327e+04, -1.14036615e+04, -1.14775693e+04,\n",
       "       -1.15511550e+04, -1.16244172e+04, -1.16973547e+04, -1.17699665e+04,\n",
       "       -1.18422515e+04, -1.19142086e+04, -1.19858371e+04, -1.20571359e+04,\n",
       "       -1.21281043e+04, -1.21987415e+04, -1.22690468e+04, -1.23390195e+04,\n",
       "       -1.24086591e+04, -1.24779649e+04, -1.25469365e+04, -1.26155734e+04,\n",
       "       -1.26838752e+04, -1.27518416e+04, -1.28194722e+04, -1.28867667e+04,\n",
       "       -1.29537249e+04, -1.30203467e+04, -1.30866319e+04, -1.31525803e+04,\n",
       "       -1.32181919e+04, -1.32834668e+04, -1.33484048e+04, -1.34130061e+04,\n",
       "       -1.34772706e+04, -1.35411987e+04, -1.36047903e+04, -1.36680458e+04,\n",
       "       -1.37309652e+04, -1.37935489e+04, -1.38557972e+04, -1.39177103e+04,\n",
       "       -1.39792887e+04, -1.40405326e+04, -1.41014426e+04, -1.41620189e+04,\n",
       "       -1.42222622e+04, -1.42821728e+04, -1.43417513e+04, -1.44009982e+04,\n",
       "       -1.44599141e+04, -1.45184995e+04, -1.45767551e+04, -1.46346815e+04,\n",
       "       -1.46922794e+04, -1.47495494e+04, -1.48064922e+04, -1.48631086e+04,\n",
       "       -1.49193993e+04, -1.49753649e+04, -1.50310064e+04, -1.50863245e+04,\n",
       "       -1.51413200e+04, -1.51959938e+04, -1.52503466e+04, -1.53043794e+04,\n",
       "       -1.53580930e+04, -1.54114883e+04, -1.54645662e+04, -1.55173277e+04,\n",
       "       -1.55697737e+04, -1.56219051e+04, -1.56737228e+04, -1.57252280e+04,\n",
       "       -1.57764215e+04, -1.58273043e+04, -1.58778775e+04, -1.59281421e+04,\n",
       "       -1.59780991e+04, -1.60277496e+04, -1.60770946e+04, -1.61261352e+04,\n",
       "       -1.61748724e+04, -1.62233074e+04, -1.62714412e+04, -1.63192749e+04,\n",
       "       -1.63668097e+04, -1.64140466e+04, -1.64609868e+04, -1.65076314e+04,\n",
       "       -1.65539815e+04, -1.66000383e+04, -1.66458030e+04, -1.66912766e+04,\n",
       "       -1.67364604e+04, -1.67813555e+04, -1.68259631e+04, -1.68702843e+04,\n",
       "       -1.69143204e+04, -1.69580726e+04, -1.70015419e+04, -1.70447297e+04,\n",
       "       -1.70876371e+04, -1.71302653e+04, -1.71726156e+04, -1.72146891e+04,\n",
       "       -1.72564870e+04, -1.72980106e+04, -1.73392610e+04, -1.73802396e+04,\n",
       "       -1.74209475e+04, -1.74613859e+04, -1.75015561e+04, -1.75414593e+04,\n",
       "       -1.75810967e+04, -1.76204695e+04, -1.76595791e+04, -1.76984265e+04,\n",
       "       -1.77370131e+04, -1.77753401e+04, -1.78134086e+04, -1.78512200e+04,\n",
       "       -1.78887755e+04, -1.79260763e+04, -1.79631236e+04, -1.79999187e+04,\n",
       "       -1.80364628e+04, -1.80727572e+04, -1.81088030e+04, -1.81446015e+04,\n",
       "       -1.81801539e+04, -1.82154615e+04, -1.82505255e+04, -1.82853471e+04,\n",
       "       -1.83199275e+04, -1.83542680e+04, -1.83883697e+04, -1.84222339e+04,\n",
       "       -1.84558619e+04, -1.84892548e+04, -1.85224138e+04, -1.85553402e+04,\n",
       "       -1.85880352e+04, -1.86204999e+04, -1.86527356e+04, -1.86847435e+04,\n",
       "       -1.87165247e+04, -1.87480806e+04, -1.87794122e+04, -1.88105208e+04,\n",
       "       -1.88414075e+04, -1.88720736e+04, -1.89025202e+04, -1.89327485e+04,\n",
       "       -1.89627597e+04, -1.89925549e+04, -1.90221354e+04, -1.90515023e+04,\n",
       "       -1.90806567e+04, -1.91095999e+04, -1.91383329e+04, -1.91668570e+04,\n",
       "       -1.91951733e+04, -1.92232828e+04, -1.92511869e+04, -1.92788866e+04,\n",
       "       -1.93063830e+04, -1.93336773e+04, -1.93607706e+04, -1.93876641e+04,\n",
       "       -1.94143588e+04])"
      ]
     },
     "execution_count": 39,
     "metadata": {},
     "output_type": "execute_result"
    }
   ],
   "source": [
    "sound_speed_diff"
   ]
  },
  {
   "cell_type": "code",
   "execution_count": 40,
   "id": "3e0d6b97",
   "metadata": {},
   "outputs": [
    {
     "data": {
      "text/plain": [
       "[<matplotlib.lines.Line2D at 0x7fbb7b268e80>]"
      ]
     },
     "execution_count": 40,
     "metadata": {},
     "output_type": "execute_result"
    },
    {
     "data": {
      "image/png": "[encoded data removed]",
      "text/plain": [
       "<Figure size 432x288 with 1 Axes>"
      ]
     },
     "metadata": {
      "needs_background": "light"
     },
     "output_type": "display_data"
    }
   ],
   "source": [
    "plt.plot(nb_array*n0, sound_speed_diff)"
   ]
  },
  {
   "cell_type": "markdown",
   "id": "b62c40cb",
   "metadata": {},
   "source": [
    "### Still haven't considered meson contribution yet... "
   ]
  },
  {
   "cell_type": "code",
   "execution_count": null,
   "id": "d0419a2a",
   "metadata": {},
   "outputs": [],
   "source": []
  }
 ],
 "metadata": {
  "kernelspec": {
   "display_name": "Python 3",
   "language": "python",
   "name": "python3"
  },
  "language_info": {
   "codemirror_mode": {
    "name": "ipython",
    "version": 3
   },
   "file_extension": ".py",
   "mimetype": "text/x-python",
   "name": "python",
   "nbconvert_exporter": "python",
   "pygments_lexer": "ipython3",
   "version": "3.8.8"
  }
 },
 "nbformat": 4,
 "nbformat_minor": 5
}
