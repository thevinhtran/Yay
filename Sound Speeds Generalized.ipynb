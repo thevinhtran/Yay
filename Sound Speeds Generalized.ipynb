{
 "cells": [
  {
   "cell_type": "code",
   "execution_count": 74,
   "id": "6932d1d2",
   "metadata": {},
   "outputs": [],
   "source": [
    "from sound_speeds import *\n",
    "import matplotlib.pyplot as plt"
   ]
  },
  {
   "cell_type": "code",
   "execution_count": 88,
   "id": "675d00c8",
   "metadata": {},
   "outputs": [],
   "source": [
    "baryon_list = [Neutron, Proton]\n",
    "meson_list = [sigma, omega, rho]\n",
    "lepton_list = [electron]\n",
    "\n",
    "gm3 = eos(g_sigma_N = 8.784820, g_omega_N = 8.720086, g_rho_N = 8.544795, g_phi_N = 0.0, b = 0.008628, c = -0.002433,\\\n",
    "             g_sigma_H = 5.408849, g_omega_H = 5.813391, g_rho_H = 0.0, g_phi_H = -4.110688)\n",
    "\n",
    "init_system(gm3, meson_list, baryon_list)"
   ]
  },
  {
   "cell_type": "code",
   "execution_count": 98,
   "id": "ed888fb5",
   "metadata": {},
   "outputs": [
    {
     "data": {
      "text/latex": [
       "$\\displaystyle \\frac{g_{\\omega N} \\left(g_{\\omega N} x_{e} + g_{\\omega N} \\left(1 - x_{e}\\right)\\right)}{m_{\\omega}^{2}} + \\frac{g_{\\rho N} \\left(0.5 g_{\\rho N} x_{e} - 0.5 g_{\\rho N} \\left(1 - x_{e}\\right)\\right)}{m_{\\rho}^{2}} + \\frac{g_{\\sigma N} \\left(g_{\\omega N} x_{e} + g_{\\omega N} \\left(1 - x_{e}\\right)\\right)}{m_{\\omega}^{2}} + \\frac{- \\frac{g_{\\sigma N} m^{*}_{p} \\left(\\frac{2 g_{\\sigma N} m^{*}_{p} x_{e}}{E^{*}_{p}} + \\frac{2 g_{\\sigma N} m^{*}_{n} \\left(1 - x_{e}\\right)}{E^{*}_{n}}\\right)}{2 b g_{\\sigma N}^{3} \\sigma + 3 c g_{\\sigma N}^{4} \\sigma^{2} - g_{\\sigma N} \\left(\\frac{3 g_{\\sigma N} \\left(m^{*}_{n}\\right)^{2} \\log{\\left(\\frac{E^{*}_{n} + k_{n}}{m^{*}_{n}} \\right)}}{\\pi^{2}} - \\frac{2 g_{\\sigma N} \\left(\\frac{E^{*}_{n} k_{n}}{2} + \\frac{k_{n} \\left(m^{*}_{n}\\right)^{2}}{E^{*}_{n}}\\right)}{\\pi^{2}}\\right) - g_{\\sigma N} \\left(\\frac{3 g_{\\sigma N} \\left(m^{*}_{p}\\right)^{2} \\log{\\left(\\frac{E^{*}_{p} + k_{p}}{m^{*}_{p}} \\right)}}{\\pi^{2}} - \\frac{2 g_{\\sigma N} \\left(\\frac{E^{*}_{p} k_{p}}{2} + \\frac{k_{p} \\left(m^{*}_{p}\\right)^{2}}{E^{*}_{p}}\\right)}{\\pi^{2}}\\right) + m_{\\sigma}^{2}} + \\frac{\\pi^{2} x_{e}}{k_{p}}}{\\sqrt{k_{p}^{2} + \\left(m^{*}_{p}\\right)^{2}}}$"
      ],
      "text/plain": [
       "g_omega_N*(g_omega_N*x_e + g_omega_N*(1 - x_e))/m_omega**2 + g_rho_N*(0.5*g_rho_N*x_e - 0.5*g_rho_N*(1 - x_e))/m_rho**2 + g_sigma_N*(g_omega_N*x_e + g_omega_N*(1 - x_e))/m_omega**2 + (-g_sigma_N*m_p^**(2*g_sigma_N*m_p^**x_e/E^*_p + 2*g_sigma_N*m_n^**(1 - x_e)/E^*_n)/(2*b*g_sigma_N**3*sigma + 3*c*g_sigma_N**4*sigma**2 - g_sigma_N*(3*g_sigma_N*m_n^***2*log((E^*_n + k_n)/m_n^*)/pi**2 - 2*g_sigma_N*(E^*_n*k_n/2 + k_n*m_n^***2/E^*_n)/pi**2) - g_sigma_N*(3*g_sigma_N*m_p^***2*log((E^*_p + k_p)/m_p^*)/pi**2 - 2*g_sigma_N*(E^*_p*k_p/2 + k_p*m_p^***2/E^*_p)/pi**2) + m_sigma**2) + pi**2*x_e/k_p)/sqrt(k_p**2 + m_p^***2)"
      ]
     },
     "execution_count": 98,
     "metadata": {},
     "output_type": "execute_result"
    }
   ],
   "source": [
    "chem_pot_part_deriv(Proton, baryon_list, meson_list, nb.var)"
   ]
  },
  {
   "cell_type": "code",
   "execution_count": 94,
   "id": "d255f4e5",
   "metadata": {
    "scrolled": true
   },
   "outputs": [
    {
     "data": {
      "text/html": [
       "<div>\n",
       "<style scoped>\n",
       "    .dataframe tbody tr th:only-of-type {\n",
       "        vertical-align: middle;\n",
       "    }\n",
       "\n",
       "    .dataframe tbody tr th {\n",
       "        vertical-align: top;\n",
       "    }\n",
       "\n",
       "    .dataframe thead th {\n",
       "        text-align: right;\n",
       "    }\n",
       "</style>\n",
       "<table border=\"1\" class=\"dataframe\">\n",
       "  <thead>\n",
       "    <tr style=\"text-align: right;\">\n",
       "      <th></th>\n",
       "      <th>Unnamed: 0</th>\n",
       "      <th>nB/n0</th>\n",
       "      <th>sigma field (MeV)</th>\n",
       "      <th>rho field (MeV)</th>\n",
       "      <th>omega field (MeV)</th>\n",
       "      <th>Neutron kF (MeV)</th>\n",
       "      <th>Proton kF (MeV)</th>\n",
       "      <th>electron kF (MeV)</th>\n",
       "      <th>Neutron frac</th>\n",
       "      <th>Proton frac</th>\n",
       "      <th>electron frac</th>\n",
       "    </tr>\n",
       "  </thead>\n",
       "  <tbody>\n",
       "    <tr>\n",
       "      <th>0</th>\n",
       "      <td>0</td>\n",
       "      <td>0.27</td>\n",
       "      <td>70.962328</td>\n",
       "      <td>-2.103558</td>\n",
       "      <td>4.514730</td>\n",
       "      <td>208.169453</td>\n",
       "      <td>72.273102</td>\n",
       "      <td>72.273102</td>\n",
       "      <td>0.959833</td>\n",
       "      <td>0.040167</td>\n",
       "      <td>0.040167</td>\n",
       "    </tr>\n",
       "    <tr>\n",
       "      <th>1</th>\n",
       "      <td>1</td>\n",
       "      <td>0.28</td>\n",
       "      <td>72.342422</td>\n",
       "      <td>-2.165325</td>\n",
       "      <td>4.681942</td>\n",
       "      <td>210.459068</td>\n",
       "      <td>75.164537</td>\n",
       "      <td>75.164537</td>\n",
       "      <td>0.956430</td>\n",
       "      <td>0.043570</td>\n",
       "      <td>0.043570</td>\n",
       "    </tr>\n",
       "    <tr>\n",
       "      <th>2</th>\n",
       "      <td>2</td>\n",
       "      <td>0.29</td>\n",
       "      <td>73.655275</td>\n",
       "      <td>-2.225569</td>\n",
       "      <td>4.849154</td>\n",
       "      <td>212.676867</td>\n",
       "      <td>78.020836</td>\n",
       "      <td>78.020836</td>\n",
       "      <td>0.952952</td>\n",
       "      <td>0.047048</td>\n",
       "      <td>0.047048</td>\n",
       "    </tr>\n",
       "    <tr>\n",
       "      <th>3</th>\n",
       "      <td>3</td>\n",
       "      <td>0.30</td>\n",
       "      <td>74.901967</td>\n",
       "      <td>-2.284365</td>\n",
       "      <td>5.016367</td>\n",
       "      <td>214.827865</td>\n",
       "      <td>80.834097</td>\n",
       "      <td>80.834097</td>\n",
       "      <td>0.949421</td>\n",
       "      <td>0.050579</td>\n",
       "      <td>0.050579</td>\n",
       "    </tr>\n",
       "    <tr>\n",
       "      <th>4</th>\n",
       "      <td>4</td>\n",
       "      <td>0.31</td>\n",
       "      <td>76.083901</td>\n",
       "      <td>-2.341805</td>\n",
       "      <td>5.183579</td>\n",
       "      <td>216.916892</td>\n",
       "      <td>83.597213</td>\n",
       "      <td>83.597213</td>\n",
       "      <td>0.945860</td>\n",
       "      <td>0.054140</td>\n",
       "      <td>0.054140</td>\n",
       "    </tr>\n",
       "    <tr>\n",
       "      <th>...</th>\n",
       "      <td>...</td>\n",
       "      <td>...</td>\n",
       "      <td>...</td>\n",
       "      <td>...</td>\n",
       "      <td>...</td>\n",
       "      <td>...</td>\n",
       "      <td>...</td>\n",
       "      <td>...</td>\n",
       "      <td>...</td>\n",
       "      <td>...</td>\n",
       "      <td>...</td>\n",
       "    </tr>\n",
       "    <tr>\n",
       "      <th>88</th>\n",
       "      <td>88</td>\n",
       "      <td>1.15</td>\n",
       "      <td>98.722050</td>\n",
       "      <td>-6.578575</td>\n",
       "      <td>19.229406</td>\n",
       "      <td>322.463735</td>\n",
       "      <td>186.622399</td>\n",
       "      <td>186.622399</td>\n",
       "      <td>0.837632</td>\n",
       "      <td>0.162368</td>\n",
       "      <td>0.162368</td>\n",
       "    </tr>\n",
       "    <tr>\n",
       "      <th>89</th>\n",
       "      <td>89</td>\n",
       "      <td>1.16</td>\n",
       "      <td>98.777104</td>\n",
       "      <td>-6.627741</td>\n",
       "      <td>19.396618</td>\n",
       "      <td>323.343070</td>\n",
       "      <td>187.318795</td>\n",
       "      <td>187.318795</td>\n",
       "      <td>0.837223</td>\n",
       "      <td>0.162777</td>\n",
       "      <td>0.162777</td>\n",
       "    </tr>\n",
       "    <tr>\n",
       "      <th>90</th>\n",
       "      <td>90</td>\n",
       "      <td>1.17</td>\n",
       "      <td>98.831199</td>\n",
       "      <td>-6.676850</td>\n",
       "      <td>19.563830</td>\n",
       "      <td>324.217275</td>\n",
       "      <td>188.011165</td>\n",
       "      <td>188.011165</td>\n",
       "      <td>0.836818</td>\n",
       "      <td>0.163182</td>\n",
       "      <td>0.163182</td>\n",
       "    </tr>\n",
       "    <tr>\n",
       "      <th>91</th>\n",
       "      <td>91</td>\n",
       "      <td>1.18</td>\n",
       "      <td>98.884363</td>\n",
       "      <td>-6.725901</td>\n",
       "      <td>19.731042</td>\n",
       "      <td>325.086416</td>\n",
       "      <td>188.699583</td>\n",
       "      <td>188.699583</td>\n",
       "      <td>0.836417</td>\n",
       "      <td>0.163583</td>\n",
       "      <td>0.163583</td>\n",
       "    </tr>\n",
       "    <tr>\n",
       "      <th>92</th>\n",
       "      <td>92</td>\n",
       "      <td>1.19</td>\n",
       "      <td>98.936621</td>\n",
       "      <td>-6.774895</td>\n",
       "      <td>19.898255</td>\n",
       "      <td>325.950561</td>\n",
       "      <td>189.384122</td>\n",
       "      <td>189.384122</td>\n",
       "      <td>0.836020</td>\n",
       "      <td>0.163980</td>\n",
       "      <td>0.163980</td>\n",
       "    </tr>\n",
       "  </tbody>\n",
       "</table>\n",
       "<p>93 rows × 11 columns</p>\n",
       "</div>"
      ],
      "text/plain": [
       "    Unnamed: 0  nB/n0  sigma field (MeV)  rho field (MeV)  omega field (MeV)  \\\n",
       "0            0   0.27          70.962328        -2.103558           4.514730   \n",
       "1            1   0.28          72.342422        -2.165325           4.681942   \n",
       "2            2   0.29          73.655275        -2.225569           4.849154   \n",
       "3            3   0.30          74.901967        -2.284365           5.016367   \n",
       "4            4   0.31          76.083901        -2.341805           5.183579   \n",
       "..         ...    ...                ...              ...                ...   \n",
       "88          88   1.15          98.722050        -6.578575          19.229406   \n",
       "89          89   1.16          98.777104        -6.627741          19.396618   \n",
       "90          90   1.17          98.831199        -6.676850          19.563830   \n",
       "91          91   1.18          98.884363        -6.725901          19.731042   \n",
       "92          92   1.19          98.936621        -6.774895          19.898255   \n",
       "\n",
       "    Neutron kF (MeV)  Proton kF (MeV)  electron kF (MeV)  Neutron frac  \\\n",
       "0         208.169453        72.273102          72.273102      0.959833   \n",
       "1         210.459068        75.164537          75.164537      0.956430   \n",
       "2         212.676867        78.020836          78.020836      0.952952   \n",
       "3         214.827865        80.834097          80.834097      0.949421   \n",
       "4         216.916892        83.597213          83.597213      0.945860   \n",
       "..               ...              ...                ...           ...   \n",
       "88        322.463735       186.622399         186.622399      0.837632   \n",
       "89        323.343070       187.318795         187.318795      0.837223   \n",
       "90        324.217275       188.011165         188.011165      0.836818   \n",
       "91        325.086416       188.699583         188.699583      0.836417   \n",
       "92        325.950561       189.384122         189.384122      0.836020   \n",
       "\n",
       "    Proton frac  electron frac  \n",
       "0      0.040167       0.040167  \n",
       "1      0.043570       0.043570  \n",
       "2      0.047048       0.047048  \n",
       "3      0.050579       0.050579  \n",
       "4      0.054140       0.054140  \n",
       "..          ...            ...  \n",
       "88     0.162368       0.162368  \n",
       "89     0.162777       0.162777  \n",
       "90     0.163182       0.163182  \n",
       "91     0.163583       0.163583  \n",
       "92     0.163980       0.163980  \n",
       "\n",
       "[93 rows x 11 columns]"
      ]
     },
     "execution_count": 94,
     "metadata": {},
     "output_type": "execute_result"
    }
   ],
   "source": [
    "data = pd.read_csv(r'/Users/vinhtran/Desktop/Yay/sigma_omega_rho.csv')\n",
    "data"
   ]
  },
  {
   "cell_type": "code",
   "execution_count": 95,
   "id": "bd40bf74",
   "metadata": {},
   "outputs": [],
   "source": [
    "nb_array = data.loc[:,'nB/n0'].values\n",
    "sigma_array = data.loc[:,'sigma field (MeV)'].values\n",
    "omega_array = data.loc[:,'omega field (MeV)'].values\n",
    "rho_array = data.loc[:, 'rho field (MeV)'].values\n",
    "\n",
    "neutron_frac = data.loc[:, 'Neutron frac'].values\n",
    "proton_frac = data.loc[:, 'Proton frac'].values\n",
    "electron_frac = data.loc[:, 'electron frac'].values\n",
    "\n",
    "fermi_n = data.loc[:, 'Neutron kF (MeV)'].values\n",
    "fermi_p = data.loc[:, 'Proton kF (MeV)'].values\n",
    "fermi_e = data.loc[:, 'electron kF (MeV)'].values"
   ]
  },
  {
   "cell_type": "code",
   "execution_count": 99,
   "id": "9bfacbbe",
   "metadata": {},
   "outputs": [],
   "source": [
    "def load_values(i):\n",
    "    # load in values to numerical baryon object from data table \n",
    "    \n",
    "    n0 = 0.153\n",
    "    \n",
    "    # re-write baryon density in MeV^3 \n",
    "    # this would yield the correct fermi momentum values as given in the data\n",
    "    nb.num_val = nb_array[i]*n0*hc**3\n",
    "    \n",
    "    # allocate values\n",
    "    \n",
    "    # meson field values \n",
    "    sigma.num_field = sigma_array[i]\n",
    "    omega.num_field = omega_array[i]\n",
    "    rho.num_field = rho_array[i]\n",
    "\n",
    "    # particle fractions\n",
    "    Neutron.num_frac = neutron_frac[i]\n",
    "    Proton.num_frac = proton_frac[i]\n",
    "    electron.num_frac = electron_frac[i]\n",
    "    \n",
    "    # particle fermi momentum \n",
    "    Neutron.num_kf = fermi_n[i]\n",
    "    Proton.num_kf = fermi_p[i]\n",
    "    electron.num_kf = fermi_e[i]\n",
    "    \n",
    "    # effective masses\n",
    "    Neutron.num_mass_eff = Neutron.num_mass - Neutron.num_g_sigma*sigma_array[i]\n",
    "    Proton.num_mass_eff = Proton.num_mass - Proton.num_g_sigma*sigma_array[i]\n",
    "    \n",
    "    # need to fill in eff values!!\n",
    "    Neutron.num_ef = np.sqrt(Neutron.num_kf**2 + Neutron.num_mass_eff**2)\n",
    "    Proton.num_ef = np.sqrt(Neutron.num_kf**2 + Proton.num_mass_eff**2)\n",
    "        \n",
    "    # can fill in chemical potentials \n",
    "    Neutron.num_chem_pot = baryon_chemical_potential(Neutron, meson_list)\n",
    "    Proton.num_chem_pot = baryon_chemical_potential(Proton, meson_list)\n",
    "    \n",
    "    # can fill in num. densities, although we don't use them directly as we re-write everything\n",
    "    # in terms of nB, xe\n",
    "    #neutron_num.num_density = nb.num_val*neutron_num.frac\n",
    "    #proton_num.num_density = nb.num_val*proton_num.frac"
   ]
  },
  {
   "cell_type": "code",
   "execution_count": 100,
   "id": "c3f7af1b",
   "metadata": {},
   "outputs": [],
   "source": [
    "def chem_pot_part_deriv_num(baryon, baryon_list, meson_list, lepton_list, x_j):\n",
    "    # substitute in numerical values and get a numerical \n",
    "    # result for partial derivative of baryon wrt to independent variable \n",
    "    \n",
    "    # call the symbolic expression \n",
    "    symbolic_part_deriv = chem_pot_part_deriv(baryon, baryon_list, meson_list, x_j)\n",
    "    \n",
    "\n",
    "    # replace Pi using subs \n",
    "    symbolic_part_deriv = symbolic_part_deriv.subs(Pi, np.pi)\n",
    "    \n",
    "\n",
    "    # baryon substitution \n",
    "    for baryon in baryon_list: \n",
    "        symbolic_part_deriv = symbolic_part_deriv.subs(baryon.sym_mass, baryon.num_mass)\n",
    "        symbolic_part_deriv = symbolic_part_deriv.subs([(baryon.sym_g_sigma, baryon.num_g_sigma),\\\n",
    "                                (baryon.sym_g_omega, baryon.num_g_omega), (baryon.sym_g_phi, baryon.num_g_phi),\\\n",
    "                                (baryon.sym_g_rho, baryon.num_g_rho)])\n",
    "        symbolic_part_deriv = symbolic_part_deriv.subs(baryon.sym_mass_eff, baryon.num_mass - baryon.num_g_omega * sigma.num_field)\n",
    "        # fermi momentum \n",
    "        symbolic_part_deriv = symbolic_part_deriv.subs(baryon.sym_kf, baryon.num_kf)\n",
    "        # effective energy\n",
    "        symbolic_part_deriv = symbolic_part_deriv.subs(baryon.sym_ef, baryon.num_ef)\n",
    "        # particle fraction\n",
    "        symbolic_part_deriv = symbolic_part_deriv.subs(baryon.sym_frac, baryon.num_frac)\n",
    "\n",
    "\n",
    "    # meson substitution \n",
    "    for meson in meson_list:\n",
    "        symbolic_part_deriv = symbolic_part_deriv.subs(meson.sym_mass, meson.num_mass) \n",
    "        symbolic_part_deriv = symbolic_part_deriv.subs(meson.sym_field, meson.num_field)\n",
    "\n",
    "\n",
    "    # lepton substitution \n",
    "    for lepton in lepton_list:\n",
    "        symbolic_part_deriv = symbolic_part_deriv.subs(lepton.sym_frac, lepton.num_frac)\n",
    "\n",
    "    # replace partial derivative of U self energy\n",
    "    symbolic_part_deriv = symbolic_part_deriv.subs([(sym.symbols('b'), sigma.num_b), (sym.symbols('c'), sigma.num_c)])\n",
    "    symbolic_part_deriv = symbolic_part_deriv.subs(nb.var, nb.num_val)\n",
    "    \n",
    "    #return symbolic_part_deriv\n",
    "    return symbolic_part_deriv"
   ]
  },
  {
   "cell_type": "code",
   "execution_count": 101,
   "id": "0cccd8b3",
   "metadata": {},
   "outputs": [],
   "source": [
    "def partial_mu_x_e_tilde(baryon_list, meson_list, lepton_list, x_j):\n",
    "    # returns numerical values for the tilde chemical potentials\n",
    "    result = -chem_pot_part_deriv_num(Neutron, baryon_list, meson_list, lepton_list, x_j)\\\n",
    "        + chem_pot_part_deriv_num(Proton, baryon_list, meson_list, lepton_list, x_j)\\\n",
    "        + chem_pot_electron_num(x_j)\n",
    "    return sym.N(result)"
   ]
  },
  {
   "cell_type": "code",
   "execution_count": 102,
   "id": "0288aea1",
   "metadata": {},
   "outputs": [],
   "source": [
    "def sound_speed_diff_npe(baryon_list, meson_list, lepton_list, nbb):\n",
    "    return nbb**2/Neutron.num_chem_pot*partial_mu_x_e_tilde(baryon_list, meson_list, lepton_list, nb.var)**2/partial_mu_x_e_tilde(baryon_list, meson_list, lepton_list, xe.var)"
   ]
  },
  {
   "cell_type": "code",
   "execution_count": 103,
   "id": "943afd61",
   "metadata": {},
   "outputs": [],
   "source": [
    "nb_mev_array = np.zeros(len(nb_array))\n",
    "sound_array = np.zeros(len(nb_array))\n",
    "\n",
    "for i in range(len(nb_array)):\n",
    "    nb_mev_array[i] = nb_array[i]*0.153*hc**3\n",
    "    load_values(i)\n",
    "    \n",
    "    sound_array[i] = sound_speed_diff_npe(baryon_list, meson_list, lepton_list, nb_mev_array[i])"
   ]
  },
  {
   "cell_type": "code",
   "execution_count": 104,
   "id": "0e15547e",
   "metadata": {},
   "outputs": [
    {
     "data": {
      "text/plain": [
       "<matplotlib.collections.PathCollection at 0x7f8dc0c70af0>"
      ]
     },
     "execution_count": 104,
     "metadata": {},
     "output_type": "execute_result"
    },
    {
     "data": {
      "image/png": "[encoded data removed]",
      "text/plain": [
       "<Figure size 432x288 with 1 Axes>"
      ]
     },
     "metadata": {
      "needs_background": "light"
     },
     "output_type": "display_data"
    }
   ],
   "source": [
    "plt.scatter(nb_array, sound_array)"
   ]
  },
  {
   "cell_type": "code",
   "execution_count": 105,
   "id": "fc415405",
   "metadata": {},
   "outputs": [
    {
     "data": {
      "text/plain": [
       "array([9.97504752e-04, 1.21201497e-03, 1.47837298e-03, 1.80806889e-03,\n",
       "       2.21546731e-03, 2.71880427e-03, 3.34167502e-03, 4.11527313e-03,\n",
       "       5.08182382e-03, 6.29996698e-03, 7.85340681e-03, 9.86530647e-03,\n",
       "       1.25232003e-02, 1.61242443e-02, 2.11622457e-02, 2.85071749e-02,\n",
       "       3.98094536e-02, 5.85192409e-02, 9.28793922e-02, 1.66869006e-01,\n",
       "       3.77104246e-01, 1.49639738e+00, 8.96530009e+03, 1.57618213e+00,\n",
       "       3.86917342e-01, 1.69846478e-01, 9.43044648e-02, 5.94680536e-02,\n",
       "       4.06044017e-02, 2.92668870e-02, 2.19348264e-02, 1.69288314e-02,\n",
       "       1.33653810e-02, 1.07436442e-02, 8.76252123e-03, 7.23215562e-03,\n",
       "       6.02803012e-03, 5.06572927e-03, 4.28638601e-03, 3.64793865e-03,\n",
       "       3.11968566e-03, 2.67879963e-03, 2.30802278e-03, 1.99411383e-03,\n",
       "       1.72678031e-03, 1.49792577e-03, 1.30111092e-03, 1.13116539e-03,\n",
       "       9.83900006e-04, 8.55892867e-04, 7.44327617e-04, 6.46869689e-04,\n",
       "       5.61572776e-04, 4.86803117e-04, 4.21183375e-04, 3.63544613e-04,\n",
       "       3.12891448e-04, 2.68371940e-04, 2.29253926e-04, 1.94905602e-04,\n",
       "       1.64780135e-04, 1.38402173e-04, 1.15357483e-04, 9.52838689e-05,\n",
       "       7.78636222e-05, 6.28173319e-05, 4.98987566e-05, 3.88904311e-05,\n",
       "       2.95994606e-05, 2.18547725e-05, 1.55041200e-05, 1.04118132e-05,\n",
       "       6.45668471e-06, 3.53025446e-06, 1.53543877e-06, 3.84978178e-07,\n",
       "       4.74689770e-10, 3.11319119e-07, 1.25386741e-06, 2.77063053e-06,\n",
       "       4.80964402e-06, 7.32387845e-06, 1.02707164e-05, 1.36114884e-05,\n",
       "       1.73110611e-05, 2.13375301e-05, 2.56618549e-05, 3.02574896e-05,\n",
       "       3.51003262e-05, 4.01684299e-05, 4.54416704e-05, 5.09015939e-05,\n",
       "       5.65313492e-05])"
      ]
     },
     "execution_count": 105,
     "metadata": {},
     "output_type": "execute_result"
    }
   ],
   "source": [
    "sound_array"
   ]
  },
  {
   "cell_type": "code",
   "execution_count": 108,
   "id": "7c73dde7",
   "metadata": {},
   "outputs": [
    {
     "ename": "IndexError",
     "evalue": "arrays used as indices must be of integer (or boolean) type",
     "output_type": "error",
     "traceback": [
      "\u001b[0;31m---------------------------------------------------------------------------\u001b[0m",
      "\u001b[0;31mIndexError\u001b[0m                                Traceback (most recent call last)",
      "\u001b[0;32m<ipython-input-108-ab7114c0a1fd>\u001b[0m in \u001b[0;36m<module>\u001b[0;34m\u001b[0m\n\u001b[0;32m----> 1\u001b[0;31m \u001b[0mnp\u001b[0m\u001b[0;34m.\u001b[0m\u001b[0mdelete\u001b[0m\u001b[0;34m(\u001b[0m\u001b[0msound_array\u001b[0m\u001b[0;34m,\u001b[0m \u001b[0;36m8.96530009e+03\u001b[0m\u001b[0;34m)\u001b[0m\u001b[0;34m\u001b[0m\u001b[0;34m\u001b[0m\u001b[0m\n\u001b[0m",
      "\u001b[0;32m<__array_function__ internals>\u001b[0m in \u001b[0;36mdelete\u001b[0;34m(*args, **kwargs)\u001b[0m\n",
      "\u001b[0;32m~/opt/anaconda3/lib/python3.8/site-packages/numpy/lib/function_base.py\u001b[0m in \u001b[0;36mdelete\u001b[0;34m(arr, obj, axis)\u001b[0m\n\u001b[1;32m   4478\u001b[0m         \u001b[0;32melse\u001b[0m\u001b[0;34m:\u001b[0m\u001b[0;34m\u001b[0m\u001b[0;34m\u001b[0m\u001b[0m\n\u001b[1;32m   4479\u001b[0m             \u001b[0mkeep\u001b[0m \u001b[0;34m=\u001b[0m \u001b[0mones\u001b[0m\u001b[0;34m(\u001b[0m\u001b[0mN\u001b[0m\u001b[0;34m,\u001b[0m \u001b[0mdtype\u001b[0m\u001b[0;34m=\u001b[0m\u001b[0mbool\u001b[0m\u001b[0;34m)\u001b[0m\u001b[0;34m\u001b[0m\u001b[0;34m\u001b[0m\u001b[0m\n\u001b[0;32m-> 4480\u001b[0;31m             \u001b[0mkeep\u001b[0m\u001b[0;34m[\u001b[0m\u001b[0mobj\u001b[0m\u001b[0;34m,\u001b[0m\u001b[0;34m]\u001b[0m \u001b[0;34m=\u001b[0m \u001b[0;32mFalse\u001b[0m\u001b[0;34m\u001b[0m\u001b[0;34m\u001b[0m\u001b[0m\n\u001b[0m\u001b[1;32m   4481\u001b[0m \u001b[0;34m\u001b[0m\u001b[0m\n\u001b[1;32m   4482\u001b[0m         \u001b[0mslobj\u001b[0m\u001b[0;34m[\u001b[0m\u001b[0maxis\u001b[0m\u001b[0;34m]\u001b[0m \u001b[0;34m=\u001b[0m \u001b[0mkeep\u001b[0m\u001b[0;34m\u001b[0m\u001b[0;34m\u001b[0m\u001b[0m\n",
      "\u001b[0;31mIndexError\u001b[0m: arrays used as indices must be of integer (or boolean) type"
     ]
    }
   ],
   "source": [
    "np.delete(sound_array, 8.96530009e+03)"
   ]
  },
  {
   "cell_type": "code",
   "execution_count": 109,
   "id": "6d5aad6d",
   "metadata": {},
   "outputs": [
    {
     "ename": "AttributeError",
     "evalue": "module 'numpy' has no attribute 'loc'",
     "output_type": "error",
     "traceback": [
      "\u001b[0;31m---------------------------------------------------------------------------\u001b[0m",
      "\u001b[0;31mAttributeError\u001b[0m                            Traceback (most recent call last)",
      "\u001b[0;32m<ipython-input-109-eb89183c70d9>\u001b[0m in \u001b[0;36m<module>\u001b[0;34m\u001b[0m\n\u001b[0;32m----> 1\u001b[0;31m \u001b[0mnp\u001b[0m\u001b[0;34m.\u001b[0m\u001b[0mloc\u001b[0m\u001b[0;34m\u001b[0m\u001b[0;34m\u001b[0m\u001b[0m\n\u001b[0m",
      "\u001b[0;32m~/opt/anaconda3/lib/python3.8/site-packages/numpy/__init__.py\u001b[0m in \u001b[0;36m__getattr__\u001b[0;34m(attr)\u001b[0m\n\u001b[1;32m    301\u001b[0m                 \u001b[0;32mreturn\u001b[0m \u001b[0mTester\u001b[0m\u001b[0;34m\u001b[0m\u001b[0;34m\u001b[0m\u001b[0m\n\u001b[1;32m    302\u001b[0m \u001b[0;34m\u001b[0m\u001b[0m\n\u001b[0;32m--> 303\u001b[0;31m             raise AttributeError(\"module {!r} has no attribute \"\n\u001b[0m\u001b[1;32m    304\u001b[0m                                  \"{!r}\".format(__name__, attr))\n\u001b[1;32m    305\u001b[0m \u001b[0;34m\u001b[0m\u001b[0m\n",
      "\u001b[0;31mAttributeError\u001b[0m: module 'numpy' has no attribute 'loc'"
     ]
    }
   ],
   "source": [
    "np.loc"
   ]
  },
  {
   "cell_type": "code",
   "execution_count": null,
   "id": "c6451384",
   "metadata": {},
   "outputs": [],
   "source": []
  }
 ],
 "metadata": {
  "kernelspec": {
   "display_name": "Python 3",
   "language": "python",
   "name": "python3"
  },
  "language_info": {
   "codemirror_mode": {
    "name": "ipython",
    "version": 3
   },
   "file_extension": ".py",
   "mimetype": "text/x-python",
   "name": "python",
   "nbconvert_exporter": "python",
   "pygments_lexer": "ipython3",
   "version": "3.8.8"
  }
 },
 "nbformat": 4,
 "nbformat_minor": 5
}
