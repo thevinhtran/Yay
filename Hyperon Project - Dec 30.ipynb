{
 "cells": [
  {
   "cell_type": "markdown",
   "id": "1bd830da",
   "metadata": {},
   "source": [
    "# Chemical Potentials and Sound Speeds\n",
    "1. In this notebook, we have arrived at a way to calculate partial derivatives of chemical potentials. This is done by first calculating the chemical potentials symbolically. After we arrive at a symbolic expression for the chemical potential, we then can substitute in numerical values. \n",
    "2. Have attempted to calculate sound speed difference and get numerical results but do not match with expected results at the moment. "
   ]
  },
  {
   "cell_type": "code",
   "execution_count": 3,
   "id": "31e48697",
   "metadata": {},
   "outputs": [],
   "source": [
    "# loading in useful, generic libraries \n",
    "import numpy as np\n",
    "import pandas as pd\n",
    "import matplotlib.pyplot as plt\n",
    "import time\n",
    "\n",
    "# sympy library allows for symbolic manipulation like in Mathematica\n",
    "import sympy as sym\n",
    "\n",
    "pi = np.pi\n",
    "Pi = sym.symbols('pi')\n",
    "\n",
    "hc = 197.33 # MeV fm\n",
    "n_sat = 0.16 # fm-3\n",
    "n0 = 0.153 # fm-3"
   ]
  },
  {
   "cell_type": "markdown",
   "id": "3aa18745",
   "metadata": {},
   "source": [
    "## Declaring Classes\n",
    "We declare an EOS class, baryon, lepton, and meson classes. These store values for each thing. For example, each particle class stores the mass, fermi momentum, effective energy, etc for the particles.\n",
    "\n",
    "For each class, we declare two objects: a numeric object that will store numerical values and a symbolic object that stores the symbols. From the latter we can arrive at a symbolic expression for the partial derivatives and stuff. Then, we can substitute in numerical values (in principle) to perform evaluations.\n",
    "- The advantage of this approach is that it's easier (hopefully) to see that we have written in the correct expression before inserting numerical values. "
   ]
  },
  {
   "cell_type": "markdown",
   "id": "03400e61",
   "metadata": {},
   "source": [
    "### Equation of State with Coupling Constants\n",
    "1. Allows for collection of coupling constants here. \n",
    "2. In the future could allow for generalization to other RMF-type models albiet at the moment, this would have to be the exact same model but with different coupling values"
   ]
  },
  {
   "cell_type": "code",
   "execution_count": 4,
   "id": "521e9fe9",
   "metadata": {},
   "outputs": [],
   "source": [
    "class eos:\n",
    "    def __init__(self, g_sigma_N, g_omega_N, g_rho_N, g_phi_N, b, c,\\\n",
    "                    g_sigma_LA, g_omega_LA, g_rho_LA, g_phi_LA):\n",
    "        \n",
    "        self.g_sigma_N = g_sigma_N\n",
    "        self.g_omega_N = g_omega_N\n",
    "        self.g_rho_N = g_rho_N\n",
    "        self.g_phi_N = g_phi_N\n",
    "        \n",
    "        self.g_sigma_LA = g_sigma_LA\n",
    "        self.g_omega_LA = g_omega_LA\n",
    "        self.g_rho_LA = g_rho_LA\n",
    "        self.g_phi_LA = g_phi_LA\n",
    "        \n",
    "        self.b = b\n",
    "        self.c = c"
   ]
  },
  {
   "cell_type": "code",
   "execution_count": 5,
   "id": "5bf702a6",
   "metadata": {},
   "outputs": [],
   "source": [
    "# initializing numerical eos object \n",
    "gm3 = eos(g_sigma_N = 8.784820, g_omega_N = 8.720086, g_rho_N = 8.544795, g_phi_N = 0.0, b = 0.008628, c = -0.002433,\\\n",
    "             g_sigma_LA = 5.408849, g_omega_LA = 5.813391, g_rho_LA = 0.0, g_phi_LA = -4.110688)\n",
    "\n",
    "# initializing symbolic eos object \n",
    "    # declaring symbols \n",
    "g_sigma_N, g_omega_N, g_rho_N, g_phi_N, b, c = sym.symbols('g_sigma_N, g_omega_N, g_rho_N, g_phi_N, b, c')\n",
    "g_sigma_LA, g_omega_LA, g_rho_LA, g_phi_LA = sym.symbols('g_sigma_Lambda, g_omega_Lamda, g_rho_Lambda, g_phi_Lambda')\n",
    "\n",
    "# initializing symbolic eos object\n",
    "gm3_sym = eos(g_sigma_N, g_omega_N, g_rho_N, g_phi_N, b, c,\\\n",
    "                    g_sigma_LA, g_omega_LA, g_rho_LA, g_phi_LA)"
   ]
  },
  {
   "cell_type": "markdown",
   "id": "753a165f",
   "metadata": {},
   "source": [
    "### Sigma Field Self Interaction Term\n",
    "$$\n",
    "    U(\\sigma) = \\frac{1}{3}bm_N (g_\\sigma \\sigma)^3 + \\frac{1}{4}c(g_\\sigma \\sigma)^4\n",
    "$$"
   ]
  },
  {
   "cell_type": "code",
   "execution_count": 6,
   "id": "437c1cad",
   "metadata": {},
   "outputs": [],
   "source": [
    "U = sym.Function('U')"
   ]
  },
  {
   "cell_type": "markdown",
   "id": "af6d88c5",
   "metadata": {},
   "source": [
    "### Baryons, Leptons\n",
    "1. Declaring classes for baryons, leptons. Allows us to declare a baryon and lepton object that has the relevant data for each type of particle such as mass, charge, Fermi momentum, etc. \n",
    "2. The purpose of this is that we first arrive at an expression for the partial derivative of the chemical potentials symbolically. After that, we could then substitute in numerical values.\n",
    "3. The symbolic particles have their named followed by a sym suffix. The numeric objects ahve their name followed by a num suffix. "
   ]
  },
  {
   "cell_type": "markdown",
   "id": "a6c47e8e",
   "metadata": {},
   "source": [
    "#### Declaring Numeric Classes"
   ]
  },
  {
   "cell_type": "code",
   "execution_count": 7,
   "id": "026bed73",
   "metadata": {},
   "outputs": [],
   "source": [
    "class baryon:\n",
    "    def __init__(self, mass, isospin, charge, kind, var_type, mass_eff = 0.0, num_density = 0.0,\\\n",
    "                 frac = 0.0, kf = 0.0, ef = 0.0, chem_pot = 0.0):\n",
    "    \n",
    "        # variables to be established at baryon declaration\n",
    "        self.mass = mass\n",
    "        self.isospin = isospin\n",
    "        self.charge = charge\n",
    "        self.kind = kind\n",
    "        self.var_type = var_type\n",
    "    \n",
    "        # variables to be stored later\n",
    "        self.mass_eff = mass_eff\n",
    "        self.num_density = num_density\n",
    "        self.frac = frac\n",
    "        self.kf = kf\n",
    "        self.ef = ef\n",
    "        self.chem_pot = chem_pot\n",
    "\n",
    "class lepton:\n",
    "    def __init__(self, mass, charge, num_density = 0.0, frac = 0.0, var_type = 0.0, kf = 0.0, chem_pot = 0.0):\n",
    "        self.mass = mass\n",
    "        self.charge = charge\n",
    "        self.num_density = num_density\n",
    "        self.frac = frac\n",
    "        self.var_type = var_type\n",
    "        self.kf = kf\n",
    "        self.chem_pot = chem_pot"
   ]
  },
  {
   "cell_type": "markdown",
   "id": "a11c753b",
   "metadata": {},
   "source": [
    "Initializing the symbolic and numeric particle objects"
   ]
  },
  {
   "cell_type": "code",
   "execution_count": 8,
   "id": "32bbc206",
   "metadata": {},
   "outputs": [],
   "source": [
    "# electron\n",
    "electron_sym = lepton(sym.symbols('m_e'), -1, sym.symbols('n_e'), sym.symbols('x_e'), 'Independent',\\\n",
    "                      sym.symbols('k_F_e'), sym.symbols('\\mu_e'))\n",
    "electron_num = lepton(0.510, -1)\n",
    "\n",
    "\n",
    "# lambda hyperon\n",
    "lambda_sym = baryon(sym.symbols('m_Lambda'), 0.0, 0.0, 'Hyperon', 'Independent', sym.symbols('m_Lambda^*'),\\\n",
    "                    sym.symbols('n_Lambda'), sym.symbols('x_Lambda'), sym.symbols('k_F_Lambda'),\\\n",
    "                    sym.symbols('E^*_F_Lambda'), sym.symbols('mu_Lambda'))\n",
    "lambda_num = baryon(1116.0, 0, 0, 'Hyperon', 'Independent')\n",
    "\n",
    "\n",
    "# proton \n",
    "proton_sym = baryon(sym.symbols('m_p'), 1/2, 1, 'Nucleon', 'Dependent', sym.symbols('m_p^*'),\\\n",
    "                    sym.symbols('n_p'), sym.symbols('x_p'), sym.symbols('k_F_p'),\\\n",
    "                    sym.symbols('E^*_F_p'), sym.symbols('mu_p'))\n",
    "proton_num = baryon(939.0, 1/2, 1, 'Nucleon', 'Dependent')\n",
    "\n",
    "\n",
    "# neutron \n",
    "neutron_sym = baryon(sym.symbols('m_n'), -1/2, 0, 'Nucleon', 'Dependent', sym.symbols('m_n^*'),\\\n",
    "                    sym.symbols('n_n'), sym.symbols('x_n'), sym.symbols('k_F_n'),\\\n",
    "                    sym.symbols('E^*_F_n'), sym.symbols('mu_n'))\n",
    "neutron_num = baryon(939.0, -1/2, 0, 'Nucleon', 'Dependent')"
   ]
  },
  {
   "cell_type": "markdown",
   "id": "b99a28db",
   "metadata": {},
   "source": [
    "### Declaring Independent Variable Class\n",
    "1. Stores information for an independent variable such as its symbolic representation and numeric value. "
   ]
  },
  {
   "cell_type": "code",
   "execution_count": 9,
   "id": "ba7d5db4",
   "metadata": {},
   "outputs": [],
   "source": [
    "class independent_var:\n",
    "    def __init__(self, var, func, tilde_chem_pot = 0.0, tilde_chem_pot_val = 0.0, num_val = 0.0, total_deriv = 0.0):\n",
    "        self.var = var # var is the symbol for the variable\n",
    "        self.func = func \n",
    "        \n",
    "        self.tilde_chem_pot = tilde_chem_pot\n",
    "        self.tilde_chem_pot_val = tilde_chem_pot_val\n",
    "        \n",
    "        self.num_val = num_val\n",
    "        \n",
    "        # total derivative of fraction wrt to nB\n",
    "        self.total_deriv = total_deriv"
   ]
  },
  {
   "cell_type": "code",
   "execution_count": 10,
   "id": "a0f9c87e",
   "metadata": {},
   "outputs": [],
   "source": [
    "# initializing independent variables\n",
    "nb = independent_var(sym.symbols('n_B'), sym.Function('n_B'))\n",
    "xe = independent_var(sym.symbols('x_e'), sym.Function('x_e'), sym.symbols('mu tilde_x_e'))\n",
    "xl = independent_var(sym.symbols('x_Lambda'), sym.Function('x_Lambda'), sym.symbols('mu tilde_x_Lambda'))"
   ]
  },
  {
   "cell_type": "code",
   "execution_count": 11,
   "id": "78be49e4",
   "metadata": {},
   "outputs": [],
   "source": [
    "# re-write proton and neutron number densities and fractions in terms of independent ones\n",
    "proton_sym.num_density = nb.var*(xe.var)\n",
    "proton_sym.frac = xe.var\n",
    "\n",
    "neutron_sym.num_density = nb.var*(1 - xe.var - xl.var)\n",
    "neutron_sym.frac = 1 - xe.var - xl.var"
   ]
  },
  {
   "cell_type": "markdown",
   "id": "e310bda7",
   "metadata": {},
   "source": [
    "### Mesons"
   ]
  },
  {
   "cell_type": "code",
   "execution_count": 12,
   "id": "1182581c",
   "metadata": {},
   "outputs": [],
   "source": [
    "class meson:\n",
    "    def __init__(self, mass, field = 0.0):\n",
    "        self.mass = mass # in MeV\n",
    "        self.field = 0.0 "
   ]
  },
  {
   "cell_type": "code",
   "execution_count": 13,
   "id": "9c415840",
   "metadata": {},
   "outputs": [],
   "source": [
    "# declaring the symbolic meson objects\n",
    "sigma_sym = meson(sym.symbols('m_sigma'), sym.symbols('sigma'))\n",
    "omega_sym = meson(sym.symbols('m_omega'), sym.symbols('omega'))\n",
    "rho_sym = meson(sym.symbols('m_rho'), sym.symbols('rho'))\n",
    "phi_sym = meson(sym.symbols('m_phi'), sym.symbols('phi'))\n",
    "\n",
    "# declaring the numeric meson objects\n",
    "sigma_num = meson(550.0)\n",
    "omega_num = meson(783.0)\n",
    "rho_num = meson(770.0)\n",
    "phi_num = meson(1020.0)"
   ]
  },
  {
   "cell_type": "markdown",
   "id": "999ccd11",
   "metadata": {},
   "source": [
    "### Establishing Helpful Lists\n",
    "1. Consolidating all the objects into helpful lists to be summed over. "
   ]
  },
  {
   "cell_type": "code",
   "execution_count": 14,
   "id": "69bfbcb6",
   "metadata": {},
   "outputs": [],
   "source": [
    "# Making a list of the independent variables\n",
    "independent_variables = [nb, xe, xl]\n",
    "\n",
    "# List of symbolic and numeric baryon objects\n",
    "baryon_list = [proton_sym, neutron_sym, lambda_sym]\n",
    "baryon_num_list = [proton_num, neutron_num, lambda_num]\n",
    "\n",
    "# List of symbolic and numeric lepton objects (just electrons for now)\n",
    "lepton_list = [electron_sym]\n",
    "lepton_num_list = [electron_num]\n",
    "\n",
    "# List of symbolic and numeric meson objects\n",
    "meson_list = [sigma_sym, omega_sym, rho_sym, phi_sym]\n",
    "meson_num_list = [sigma_num, omega_num, rho_num, phi_num]"
   ]
  },
  {
   "cell_type": "markdown",
   "id": "c9c58074",
   "metadata": {},
   "source": [
    "#### Baryon and Lepton Chemical Potentials\n",
    "1. Though not strictly relevant (except for the neutron chemical potential), we include these here at the beginning so they can be declared when needed. These return the chemical potentials (not the partial derivatives)"
   ]
  },
  {
   "cell_type": "code",
   "execution_count": 15,
   "id": "9c981529",
   "metadata": {},
   "outputs": [],
   "source": [
    "def baryon_chemical_potential(baryon):\n",
    "    if (baryon.kind == 'Nucleon'):\n",
    "        #baryon.chem_pot = np.sqrt(baryon.kf**2 + baryon.mass_eff**2) + gm3.g_omega_N*omega_num.field\\\n",
    "        #            + gm3.g_phi_N*phi_num.field + baryon.isospin*gm3.g_rho_N*rho_num.field\n",
    "        return np.sqrt(baryon.kf**2 + baryon.mass_eff**2) + gm3.g_omega_N*omega_num.field\\\n",
    "                    + gm3.g_phi_N*phi_num.field + baryon.isospin*gm3.g_rho_N*rho_num.field\n",
    "    elif (baryon.kind == 'Hyperon'):\n",
    "        #baryon.chem_pot = np.sqrt(baryon.kf**2 + baryon.mass_eff**2) + gm3.g_omega_N*omega_num.field\\\n",
    "        #            + gm3.g_phi_N*phi_num.field + baryon.isospin*gm3.g_rho_N*rho_num.field\n",
    "        return np.sqrt(baryon.kf**2 + baryon.mass_eff**2) + gm3.g_omega_LA*omega_num.field\\\n",
    "                    + gm3.g_phi_LA*phi_num.field + baryon.isospin*gm3.g_rho_LA*rho_num.field\n",
    "    \n",
    "def baryon_chemical_potential_test(baryon):\n",
    "    if (baryon.kind == 'Nucleon'):\n",
    "        baryon.chem_pot = np.sqrt((baryon.kf-gm3.g_omega_N*omega_num.field - gm3.g_rho_N*rho_num.field*baryon.isospin)**2 + baryon.mass_eff**2) + gm3.g_omega_N*omega_num.field\\\n",
    "                     + baryon.isospin*gm3.g_rho_N*rho_num.field\n",
    "        return np.sqrt((baryon.kf-gm3.g_omega_N*omega_num.field - gm3.g_rho_N*rho_num.field*baryon.isospin)**2 + baryon.mass_eff**2) + gm3.g_omega_N*omega_num.field\\\n",
    "                     + baryon.isospin*gm3.g_rho_N*rho_num.field\n",
    "    elif (baryon.kind == 'Hyperon'):\n",
    "        baryon.chem_pot = np.sqrt((baryon.kf-gm3.g_omega_LA*omega_num.field - gm3.g_rho_LA*rho_num.field*baryon.isospin)**2 + baryon.mass_eff**2) + gm3.g_omega_N*omega_num.field\\\n",
    "                     + baryon.isospin*gm3.g_rho_N*rho_num.field\n",
    "        return np.sqrt(((baryon.kf-gm3.g_omega_LA*omega_num.field - gm3.g_rho_LA*rho_num.field*baryon.isospin)**2)**2 + baryon.mass_eff**2) + gm3.g_omega_LA*omega_num.field\\\n",
    "                    + baryon.isospin*gm3.g_rho_LA*rho_num.field\n",
    "    \n",
    "def lepton_chemical_potential(lepton):\n",
    "    return np.sqrt(lepton.kf**2 + lepton.mass**2)"
   ]
  },
  {
   "cell_type": "markdown",
   "id": "5ec51d41",
   "metadata": {},
   "source": [
    "## Lepton/Electron Chemical Potential Derivative\n",
    "$$\n",
    "    \\mu_e = \\sqrt{k_{F_e}^2 + m_e^2} \\qquad k_{F_e} = (3\\pi^2 n_e)^{1/3} \\qquad \n",
    "       n_e = n_B x_e\n",
    "$$"
   ]
  },
  {
   "cell_type": "code",
   "execution_count": 17,
   "id": "811639cf",
   "metadata": {},
   "outputs": [],
   "source": [
    "def chem_pot_electron(x_j):\n",
    "    # calculates derivative of electron chemical potential wrt variable x_j\n",
    "    mu_e = sym.sqrt(electron_sym.kf**2 + electron_sym.mass**2)\n",
    "    mu_e = mu_e.subs(electron_sym.kf, (3*Pi**2*sym.symbols('n_B')*electron_sym.frac)**(sym.S(1)/3))\n",
    "    return mu_e.diff(x_j)"
   ]
  },
  {
   "cell_type": "code",
   "execution_count": 18,
   "id": "e3886e64",
   "metadata": {},
   "outputs": [
    {
     "data": {
      "text/latex": [
       "$\\displaystyle \\frac{3^{\\frac{2}{3}} \\left(n_{B} \\pi^{2} x_{e}\\right)^{\\frac{2}{3}}}{3 n_{B} \\sqrt{m_{e}^{2} + 3^{\\frac{2}{3}} \\left(n_{B} \\pi^{2} x_{e}\\right)^{\\frac{2}{3}}}}$"
      ],
      "text/plain": [
       "3**(2/3)*(n_B*pi**2*x_e)**(2/3)/(3*n_B*sqrt(m_e**2 + 3**(2/3)*(n_B*pi**2*x_e)**(2/3)))"
      ]
     },
     "execution_count": 18,
     "metadata": {},
     "output_type": "execute_result"
    }
   ],
   "source": [
    "# sample \n",
    "chem_pot_electron(nb.var)"
   ]
  },
  {
   "cell_type": "markdown",
   "id": "12eb933a",
   "metadata": {},
   "source": [
    "# Working towards Baryon Chemical Potential Partial Derivatives\n",
    "The Baryon chemical potential expression that we have is given by \n",
    "$$\n",
    "    \\mu_i = \\mu_i^* + g_{\\omega i}\\omega_0 + g_{\\phi i}\\phi_0 + I_{3B}g_{\\rho i}\\rho_0 \\qquad \\mu_i^* = \\sqrt{k_{F_i}^2 + {m_i^*}^2}\n",
    "$$\n",
    "\n",
    "Ultimately, we want to write down a function that takes a baryon $i$ and an independent variable $x_j$ and returns the partial derivative of the chemical potential of baryon $i$ with respect to $x_j$. That is,\n",
    "\n",
    "$$\n",
    "    \\frac{\\partial \\mu_i}{\\partial x_j} = \\frac{\\partial \\mu_i^*}{\\partial x_j} + \\frac{\\partial \\mu_i^R}{\\partial x_j}\n",
    "$$\n",
    "\n",
    "where \n",
    "\n",
    "$$\n",
    "    \\frac{\\partial \\mu_i^*}{\\partial x_j} = \\frac{\\partial }{\\partial x_j}\\sqrt{k_{F_i}^2 + {m_i^*}^2}\n",
    "    \\qquad\n",
    "    \\frac{\\partial \\mu_i^R}{\\partial x_j} = g_{\\omega i}\\frac{\\partial \\omega_0}{\\partial x_j} + g_{\\phi i}\\frac{\\partial \\phi_0}{\\partial x_j} + I_{3B}g_{\\rho i}\\frac{\\partial \\rho_0}{\\partial x_j}\n",
    "$$\n",
    "\n",
    "This task is broken down as follows:\n",
    "- Calculate  $\\partial \\mu_i^R/\\partial x_j$ and $\\partial \\mu_i^*/\\partial x_j$\n",
    "    - For the first task, we need to calculate partial derivatives of meson fields and then multiply by relevant coupling constants \n",
    "    - For the second task, then need to find the partial derivative of the effective energy. This then amounts to finding the partial derivative of the sigma fields and partial derivatives of the Fermi momentum with respect to the independent variable.\n",
    "    \n",
    "With this in mind, let us start from the bottom and work ourselves back up."
   ]
  },
  {
   "cell_type": "markdown",
   "id": "65cfa482",
   "metadata": {},
   "source": [
    "## Task 1: Working Towards $\\partial \\mu^R_i/\\partial x_j$"
   ]
  },
  {
   "cell_type": "markdown",
   "id": "38fd8122",
   "metadata": {},
   "source": [
    "#### Task 1a: Calculating Partial Derivatives of Meson Fields with respect to independent variable $x_j$\n",
    "1. Goal here: write a function that takes as input independent variable $x_j$ and returns $\\partial \\omega_0/\\partial x_j$ and more.\n",
    "2. At the moment, we have three functions. But in principle, they are all quite similar. Could try to generalize this by associating to each meson class object an 'Equation of state' function as well as their relevant coupling constants. Would allow us to condense these three equations into one single equation."
   ]
  },
  {
   "cell_type": "code",
   "execution_count": 19,
   "id": "b94d02aa",
   "metadata": {},
   "outputs": [],
   "source": [
    "def partial_omega(x_j):\n",
    "    # returns domega/dxj\n",
    "    omega_sym.field = 0\n",
    "    \n",
    "    # equation of motion \n",
    "    for i in range(len(baryon_list)):\n",
    "        if(baryon_list[i].kind == 'Nucleon'):\n",
    "            omega_sym.field = gm3_sym.g_omega_N*nb.var*baryon_list[i].frac + omega_sym.field\n",
    "        elif(baryon_list[i].kind == 'Hyperon'):\n",
    "            omega_sym.field = gm3_sym.g_omega_LA*nb.var*baryon_list[i].frac + omega_sym.field\n",
    "        \n",
    "    omega_sym.field = 1/omega_sym.mass**2*omega_sym.field \n",
    "\n",
    "    # calculate partial derivative \n",
    "    return sym.collect(omega_sym.field.diff(x_j), gm3_sym.g_omega_N)"
   ]
  },
  {
   "cell_type": "code",
   "execution_count": 20,
   "id": "0510f850",
   "metadata": {},
   "outputs": [],
   "source": [
    "def partial_rho(x_j):\n",
    "    # returns drho/dxj\n",
    "    rho_sym.field = 0 \n",
    "    \n",
    "    # equation of motion\n",
    "    # in the future would be good to call the equation of motion directly here... from Lagrangian\n",
    "    for i in range(len(baryon_list)):\n",
    "        if(baryon_list[i].kind == 'Nucleon'):\n",
    "            rho_sym.field = gm3_sym.g_rho_N*baryon_list[i].frac*nb.var*baryon_list[i].isospin + rho_sym.field\n",
    "        elif(baryon_list[i].kind == 'Hyperon'):\n",
    "            rho_sym.field = gm3_sym.g_rho_LA*baryon_list[i].frac*nb.var*baryon_list[i].isospin + rho_sym.field\n",
    "    \n",
    "    rho_sym.field = 1/rho_sym.mass**2*rho_sym.field\n",
    "    \n",
    "    # calculate partial derivative\n",
    "    return sym.simplify(rho_sym.field.diff(x_j))"
   ]
  },
  {
   "cell_type": "code",
   "execution_count": 21,
   "id": "f5bb2fa6",
   "metadata": {},
   "outputs": [],
   "source": [
    "def partial_phi(x_j):\n",
    "    # returns dmeson/dxj\n",
    "    phi_sym.field = 0\n",
    "    \n",
    "    # equation of motion \n",
    "    for i in range(len(baryon_list)):\n",
    "        if(baryon_list[i].kind == 'Nucleon'):\n",
    "            phi_sym.field = gm3_sym.g_phi_N*baryon_list[i].frac*nb.var + phi_sym.field\n",
    "        elif(baryon_list[i].kind == 'Hyperon'):\n",
    "            phi_sym.field = gm3_sym.g_phi_LA*baryon_list[i].frac*nb.var + phi_sym.field\n",
    "        \n",
    "    phi_sym.field = 1/phi_sym.mass**2*phi_sym.field \n",
    "    \n",
    "    # calculate partial derivative \n",
    "    return sym.simplify(phi_sym.field.diff(x_j))"
   ]
  },
  {
   "cell_type": "markdown",
   "id": "09d89e8a",
   "metadata": {},
   "source": [
    "### Task 1b: Arriving at expression for Partial Derivative of $\\mu_i^R$\n",
    "Where \n",
    "$$\n",
    "    \\mu_i^R = g_{\\omega i}\\omega + g_{\\phi i}\\phi + I_{3B}g_{\\rho i}\\rho\n",
    "$$\n",
    "and \n",
    "$$\n",
    "    \\frac{\\partial \\mu_i^R}{\\partial x_j} = g_{\\omega i}\\frac{\\partial \\omega}{\\partial x_j} + g_{\\phi i}\\frac{\\partial \\phi}{\\partial x_j} + I_{3B}g_{\\rho i}\\frac{\\partial \\rho}{\\partial x_j}\n",
    "$$"
   ]
  },
  {
   "cell_type": "code",
   "execution_count": 22,
   "id": "0b9f9238",
   "metadata": {},
   "outputs": [],
   "source": [
    "def partial_mu_R(baryon_sym, x_j):\n",
    "    # returns dmu_i^R/dx_j\n",
    "    \n",
    "    # checks if baryon is a nucleon or hyperon as they have different\n",
    "    # coupling constants\n",
    "    \n",
    "    if(baryon_sym.kind == 'Nucleon'):\n",
    "        return gm3_sym.g_omega_N*partial_omega(x_j) + gm3_sym.g_phi_N*partial_phi(x_j)\\\n",
    "            + baryon_sym.isospin*gm3_sym.g_rho_N*partial_rho(x_j)\n",
    "    \n",
    "    elif(baryon_sym.kind == 'Hyperon'):\n",
    "        return gm3_sym.g_omega_LA*partial_omega(x_j) + gm3_sym.g_phi_LA*partial_omega(x_j)\\\n",
    "            + baryon_sym.isospin*gm3_sym.g_rho_LA*partial_rho(x_j)"
   ]
  },
  {
   "cell_type": "markdown",
   "id": "39b24df0",
   "metadata": {},
   "source": [
    "## Task 2: Working towards $\\partial \\mu_i*/\\partial x_j$\n",
    "We have the following expression for \n",
    "$$\n",
    "    \\frac{\\partial \\mu_i'}{\\partial x_j} = \\frac{\\partial }{\\partial x_j}\\sqrt{k_{F_i}^2 + {m_i^*}^2}\n",
    "    = \\frac{1}{2}\\frac{k_{F_i}\\dfrac{\\partial k_{F_i}}{\\partial x_j} - g_{\\sigma i}m_i^* \\dfrac{\\partial\\sigma}{\\partial x_j}}{\\sqrt{k_{F_i}^2 + {m_i^*}^2}}\n",
    "$$\n",
    "which depends on \n",
    "$$\n",
    "    \\frac{\\partial k_{F_i}}{\\partial x_j} \\qquad \\frac{\\partial\\sigma}{\\partial x_j}\n",
    "$$"
   ]
  },
  {
   "cell_type": "markdown",
   "id": "62da4d9c",
   "metadata": {},
   "source": [
    "### Task 2a: Calculating $\\frac{\\partial k_{F_i}}{\\partial x_j}$ with respect to independent variables\n",
    "1. We have two functions that can do this. First does this by substituting in fully for the Fermi momentum and asking python to take and return the derivative for us. The second function, we calculate the derivative by hand and write in it directly in terms of the Fermi momentum which is a cleaner result. The two results may look different but end up being equivalent. "
   ]
  },
  {
   "cell_type": "code",
   "execution_count": 23,
   "id": "a24e48b4",
   "metadata": {},
   "outputs": [],
   "source": [
    "def partial_fermi_old(baryon_sym, x_j):\n",
    "    # assumes baryon number density has already been re-written in terms of independent variables at the beginning\n",
    "    kFi = (3*Pi**2*nb.var*baryon_sym.frac)**(sym.S(1)/3)\n",
    "    return kFi.diff(x_j)"
   ]
  },
  {
   "cell_type": "code",
   "execution_count": 24,
   "id": "7a58d5e9",
   "metadata": {},
   "outputs": [
    {
     "data": {
      "text/latex": [
       "$\\displaystyle \\frac{\\sqrt[3]{3} \\sqrt[3]{n_{B} \\pi^{2} x_{e}}}{3 n_{B}}$"
      ],
      "text/plain": [
       "3**(1/3)*(n_B*pi**2*x_e)**(1/3)/(3*n_B)"
      ]
     },
     "execution_count": 24,
     "metadata": {},
     "output_type": "execute_result"
    }
   ],
   "source": [
    "# sample: calculating derivative of proton momentum wrt to nB\n",
    "partial_fermi_old(proton_sym, nb.var)"
   ]
  },
  {
   "cell_type": "code",
   "execution_count": 25,
   "id": "3b29705e",
   "metadata": {},
   "outputs": [],
   "source": [
    "def partial_fermi(baryon_sym, x_j):\n",
    "    kFi_sort_of = (Pi**2*nb.var*baryon_sym.frac)/baryon_sym.kf**2\n",
    "    return kFi_sort_of.diff(x_j)"
   ]
  },
  {
   "cell_type": "code",
   "execution_count": 26,
   "id": "3e46d2ad",
   "metadata": {},
   "outputs": [
    {
     "data": {
      "text/latex": [
       "$\\displaystyle \\frac{\\pi^{2} x_{e}}{k_{F p}^{2}}$"
      ],
      "text/plain": [
       "pi**2*x_e/k_F_p**2"
      ]
     },
     "execution_count": 26,
     "metadata": {},
     "output_type": "execute_result"
    }
   ],
   "source": [
    "# sample: calculating derivative of proton momentum wrt to nB\n",
    "partial_fermi(proton_sym, nb.var)"
   ]
  },
  {
   "cell_type": "markdown",
   "id": "940cf631",
   "metadata": {},
   "source": [
    "### Task 2b: Calculate $\\partial \\sigma/\\partial x_j$\n",
    "From the notes, we have\n",
    "$$\n",
    "    \\frac{\\partial \\sigma}{\\partial x_j} = \\frac{\\sum_i g_{\\sigma i} \\beta_i \\dfrac{\\partial k_{F_i}}{\\partial x_j}}{m_\\sigma^2 + \\dfrac{\\partial^2 U}{\\partial \\sigma^2} - \\sum_i g_{\\sigma i}\\alpha_i}\n",
    "$$\n",
    "where\n",
    "$$\n",
    "    \\alpha_i = \\left[\\frac{3}{2}\\frac{g_{\\sigma i}{m_i^*}^2}{\\pi^2}\n",
    "        \\ln\\frac{k_{F_i} + E_{F_i}}{m_i^*} -\\frac{g_{\\sigma i}}{\\pi^2}\\left(\\frac{1}{2}k_{F_i}E_{F_i} + {m_i^*}^2\\frac{k_{F_i}}{E_{F_i}}\\right)\\right]\n",
    "$$\n",
    "and\n",
    "$$\n",
    "    \\beta_i = \\frac{m_i^*}{\\pi^2}\\frac{k_{F_i}^2}{E_{F_i}}\n",
    "$$"
   ]
  },
  {
   "cell_type": "markdown",
   "id": "b26d6d8b",
   "metadata": {},
   "source": [
    "We have alpha given here but as we see, the code is a little ugly and redundant. We can improve this by using a sub class hopefully? Not esssential I guess."
   ]
  },
  {
   "cell_type": "code",
   "execution_count": 27,
   "id": "996a1a27",
   "metadata": {},
   "outputs": [],
   "source": [
    "def alpha(baryon_sym):\n",
    "    # takes a baryon and returns alpha as defined above\n",
    "    if (baryon_sym.kind == 'Nucleon'):\n",
    "        g_sigma = gm3_sym.g_sigma_N \n",
    "    elif (baryon_sym.kind == 'Hyperon'):\n",
    "        g_sigma = gm3_sym.g_sigma_LA \n",
    "        \n",
    "    term1 = (sym.S(3)/2)*(1/Pi**2)*g_sigma*baryon_sym.mass_eff**2*sym.log((baryon_sym.kf + baryon_sym.ef)/baryon_sym.mass_eff)\n",
    "    term2 = (sym.S(1)/2)*baryon_sym.kf*baryon_sym.ef \n",
    "    term3 = baryon_sym.mass_eff**2*baryon_sym.kf/baryon_sym.ef\n",
    "    \n",
    "    return term1 - g_sigma/Pi**2*(term2 + term3)\n",
    "\n",
    "def beta(baryon_sym):\n",
    "    # takes a baryon and returns beta as defined above\n",
    "    return baryon_sym.mass_eff*baryon_sym.kf**2/Pi**2/baryon_sym.ef"
   ]
  },
  {
   "cell_type": "code",
   "execution_count": 28,
   "id": "238fa092",
   "metadata": {},
   "outputs": [
    {
     "data": {
      "text/latex": [
       "$\\displaystyle \\frac{3 g_{\\sigma N} \\left(m^{*}_{p}\\right)^{2} \\log{\\left(\\frac{E^{*}_{F p} + k_{F p}}{m^{*}_{p}} \\right)}}{2 \\pi^{2}} - \\frac{g_{\\sigma N} \\left(\\frac{E^{*}_{F p} k_{F p}}{2} + \\frac{k_{F p} \\left(m^{*}_{p}\\right)^{2}}{E^{*}_{F p}}\\right)}{\\pi^{2}}$"
      ],
      "text/plain": [
       "3*g_sigma_N*m_p^***2*log((E^*_F_p + k_F_p)/m_p^*)/(2*pi**2) - g_sigma_N*(E^*_F_p*k_F_p/2 + k_F_p*m_p^***2/E^*_F_p)/pi**2"
      ]
     },
     "execution_count": 28,
     "metadata": {},
     "output_type": "execute_result"
    }
   ],
   "source": [
    "# samples \n",
    "alpha(proton_sym)"
   ]
  },
  {
   "cell_type": "code",
   "execution_count": 29,
   "id": "e69ea6fd",
   "metadata": {},
   "outputs": [
    {
     "data": {
      "text/latex": [
       "$\\displaystyle \\frac{k_{F \\Lambda}^{2} m^{*}_{\\Lambda}}{E^{*}_{F \\Lambda} \\pi^{2}}$"
      ],
      "text/plain": [
       "k_F_Lambda**2*m_Lambda^*/(E^*_F_Lambda*pi**2)"
      ]
     },
     "execution_count": 29,
     "metadata": {},
     "output_type": "execute_result"
    }
   ],
   "source": [
    "# sample \n",
    "beta(lambda_sym)"
   ]
  },
  {
   "cell_type": "markdown",
   "id": "33b35010",
   "metadata": {},
   "source": [
    "Now that we have our two ''unknowns'' we can plug back into the specified expression for partial sigma."
   ]
  },
  {
   "cell_type": "code",
   "execution_count": 30,
   "id": "bbf74ff6",
   "metadata": {},
   "outputs": [],
   "source": [
    "def partial_sigma(x_j):\n",
    "    # returns dsigma/dx_j\n",
    "    \n",
    "    numerator = 0 \n",
    "    denominator = sigma_sym.mass**2 + sym.diff(U(sym.symbols('sigma')),sym.symbols('sigma'),sym.symbols('sigma'))\n",
    "    for i in range(len(baryon_list)):\n",
    "        if (baryon_list[i].kind == 'Nucleon'):\n",
    "            numerator = numerator + gm3_sym.g_sigma_N*beta(baryon_list[i])*partial_fermi(baryon_list[i], x_j)\n",
    "            denominator = denominator - gm3_sym.g_sigma_N*alpha(baryon_list[i])\n",
    "        elif (baryon_list[i].kind == 'Hyperon'):\n",
    "            numerator = numerator + gm3_sym.g_sigma_LA*beta(baryon_list[i])*partial_fermi(baryon_list[i], x_j)\n",
    "            denominator = denominator - gm3_sym.g_sigma_LA*alpha(baryon_list[i])\n",
    "    \n",
    "    return numerator/denominator"
   ]
  },
  {
   "cell_type": "code",
   "execution_count": 31,
   "id": "408ecdd2",
   "metadata": {},
   "outputs": [
    {
     "data": {
      "text/latex": [
       "$\\displaystyle \\frac{\\frac{g_{\\sigma N} m^{*}_{p} x_{e}}{E^{*}_{F p}} + \\frac{g_{\\sigma N} m^{*}_{n} \\left(- x_{\\Lambda} - x_{e} + 1\\right)}{E^{*}_{F n}} + \\frac{g_{\\sigma \\Lambda} m^{*}_{\\Lambda} x_{\\Lambda}}{E^{*}_{F \\Lambda}}}{- g_{\\sigma \\Lambda} \\left(\\frac{3 g_{\\sigma \\Lambda} \\left(m^{*}_{\\Lambda}\\right)^{2} \\log{\\left(\\frac{E^{*}_{F \\Lambda} + k_{F \\Lambda}}{m^{*}_{\\Lambda}} \\right)}}{2 \\pi^{2}} - \\frac{g_{\\sigma \\Lambda} \\left(\\frac{E^{*}_{F \\Lambda} k_{F \\Lambda}}{2} + \\frac{k_{F \\Lambda} \\left(m^{*}_{\\Lambda}\\right)^{2}}{E^{*}_{F \\Lambda}}\\right)}{\\pi^{2}}\\right) - g_{\\sigma N} \\left(\\frac{3 g_{\\sigma N} \\left(m^{*}_{n}\\right)^{2} \\log{\\left(\\frac{E^{*}_{F n} + k_{F n}}{m^{*}_{n}} \\right)}}{2 \\pi^{2}} - \\frac{g_{\\sigma N} \\left(\\frac{E^{*}_{F n} k_{F n}}{2} + \\frac{k_{F n} \\left(m^{*}_{n}\\right)^{2}}{E^{*}_{F n}}\\right)}{\\pi^{2}}\\right) - g_{\\sigma N} \\left(\\frac{3 g_{\\sigma N} \\left(m^{*}_{p}\\right)^{2} \\log{\\left(\\frac{E^{*}_{F p} + k_{F p}}{m^{*}_{p}} \\right)}}{2 \\pi^{2}} - \\frac{g_{\\sigma N} \\left(\\frac{E^{*}_{F p} k_{F p}}{2} + \\frac{k_{F p} \\left(m^{*}_{p}\\right)^{2}}{E^{*}_{F p}}\\right)}{\\pi^{2}}\\right) + m_{\\sigma}^{2} + \\frac{d^{2}}{d \\sigma^{2}} U{\\left(\\sigma \\right)}}$"
      ],
      "text/plain": [
       "(g_sigma_N*m_p^**x_e/E^*_F_p + g_sigma_N*m_n^**(-x_Lambda - x_e + 1)/E^*_F_n + g_sigma_Lambda*m_Lambda^**x_Lambda/E^*_F_Lambda)/(-g_sigma_Lambda*(3*g_sigma_Lambda*m_Lambda^***2*log((E^*_F_Lambda + k_F_Lambda)/m_Lambda^*)/(2*pi**2) - g_sigma_Lambda*(E^*_F_Lambda*k_F_Lambda/2 + k_F_Lambda*m_Lambda^***2/E^*_F_Lambda)/pi**2) - g_sigma_N*(3*g_sigma_N*m_n^***2*log((E^*_F_n + k_F_n)/m_n^*)/(2*pi**2) - g_sigma_N*(E^*_F_n*k_F_n/2 + k_F_n*m_n^***2/E^*_F_n)/pi**2) - g_sigma_N*(3*g_sigma_N*m_p^***2*log((E^*_F_p + k_F_p)/m_p^*)/(2*pi**2) - g_sigma_N*(E^*_F_p*k_F_p/2 + k_F_p*m_p^***2/E^*_F_p)/pi**2) + m_sigma**2 + Derivative(U(sigma), (sigma, 2)))"
      ]
     },
     "execution_count": 31,
     "metadata": {},
     "output_type": "execute_result"
    }
   ],
   "source": [
    "# sample: calculating dsigma/dnB\n",
    "partial_sigma(nb.var)"
   ]
  },
  {
   "cell_type": "markdown",
   "id": "bc92bab6",
   "metadata": {},
   "source": [
    "### Task 2c: Arriving at expression for $\\partial \\mu'_i/\\partial x_j$\n",
    "With both $    \\frac{\\partial k_{F_i}}{\\partial x_j}$ and $\\frac{\\partial\\sigma}{\\partial x_j}$ in hand, we have \n",
    "$\\partial \\mu'_i/\\partial x_j$ via \n",
    "$$\n",
    "    \\frac{\\partial \\mu_i'}{\\partial x_j} = \\frac{\\partial }{\\partial x_j}\\sqrt{k_{F_i}^2 + {m_i^*}^2}\n",
    "    = \\frac{k_{F_i}\\dfrac{\\partial k_{F_i}}{\\partial x_j} - g_{\\sigma i}m_i^* \\dfrac{\\partial\\sigma}{\\partial x_j}}{\\sqrt{k_{F_i}^2 + {m_i^*}^2}}\n",
    "$$"
   ]
  },
  {
   "cell_type": "code",
   "execution_count": 32,
   "id": "b771edb2",
   "metadata": {},
   "outputs": [],
   "source": [
    "def partial_mu_prime(baryon, x_j):\n",
    "    if (baryon.kind == 'Nucleon'):\n",
    "        return 1/sym.sqrt(baryon.kf**2 + baryon.mass_eff**2)*(baryon.kf*partial_fermi(baryon, x_j)\\\n",
    "                - gm3_sym.g_sigma_N*baryon.mass_eff*partial_sigma(x_j))\n",
    "    elif (baryon.kind == 'Hyperon'):\n",
    "        return 1/sym.sqrt(baryon.kf**2 + baryon.mass_eff**2)*(baryon.kf*partial_fermi(baryon, x_j)\\\n",
    "                - gm3_sym.g_sigma_LA*baryon.mass_eff*partial_sigma(x_j))"
   ]
  },
  {
   "cell_type": "markdown",
   "id": "64c7bbc0",
   "metadata": {},
   "source": [
    "##  Adding $\\partial \\mu^*_i/\\partial x_j$ and $\\partial \\mu^R_i/\\partial x_j$ together to get the Chemical Potential Partial Derivative: $\\partial \\mu_i/\\partial x_j$\n",
    "From $$\n",
    "    \\frac{\\partial \\mu_i}{\\partial x_j} = \\frac{\\partial \\mu_i^*}{\\partial x_j} + \\frac{\\partial \\mu_i^R}{\\partial x_j}\n",
    "$$\n"
   ]
  },
  {
   "cell_type": "code",
   "execution_count": 33,
   "id": "b9a6f769",
   "metadata": {},
   "outputs": [],
   "source": [
    "def chem_pot_part_deriv(baryon, x_j):\n",
    "    return partial_mu_prime(baryon, x_j) + partial_mu_R(baryon, x_j)"
   ]
  },
  {
   "cell_type": "markdown",
   "id": "4749e785",
   "metadata": {},
   "source": [
    "For visualization, we calculate the partial derivative of the proton chemical potential with respect to $n_B$. We see that it is not a fun expression. "
   ]
  },
  {
   "cell_type": "code",
   "execution_count": 34,
   "id": "3e66c809",
   "metadata": {},
   "outputs": [
    {
     "data": {
      "text/latex": [
       "$\\displaystyle \\frac{g_{\\omega N} \\left(g_{\\omega \\Lambda} x_{\\Lambda} + g_{\\omega N} \\left(1 - x_{\\Lambda}\\right)\\right)}{m_{\\omega}^{2}} + \\frac{g_{\\phi N} \\left(g_{\\phi \\Lambda} x_{\\Lambda} - g_{\\phi N} x_{\\Lambda} + g_{\\phi N}\\right)}{m_{\\phi}^{2}} + \\frac{0.25 g_{\\rho N}^{2} \\left(x_{\\Lambda} + 2 x_{e} - 1\\right)}{m_{\\rho}^{2}} + \\frac{- \\frac{g_{\\sigma N} m^{*}_{p} \\left(\\frac{g_{\\sigma N} m^{*}_{p} x_{e}}{E^{*}_{F p}} + \\frac{g_{\\sigma N} m^{*}_{n} \\left(- x_{\\Lambda} - x_{e} + 1\\right)}{E^{*}_{F n}} + \\frac{g_{\\sigma \\Lambda} m^{*}_{\\Lambda} x_{\\Lambda}}{E^{*}_{F \\Lambda}}\\right)}{- g_{\\sigma \\Lambda} \\left(\\frac{3 g_{\\sigma \\Lambda} \\left(m^{*}_{\\Lambda}\\right)^{2} \\log{\\left(\\frac{E^{*}_{F \\Lambda} + k_{F \\Lambda}}{m^{*}_{\\Lambda}} \\right)}}{2 \\pi^{2}} - \\frac{g_{\\sigma \\Lambda} \\left(\\frac{E^{*}_{F \\Lambda} k_{F \\Lambda}}{2} + \\frac{k_{F \\Lambda} \\left(m^{*}_{\\Lambda}\\right)^{2}}{E^{*}_{F \\Lambda}}\\right)}{\\pi^{2}}\\right) - g_{\\sigma N} \\left(\\frac{3 g_{\\sigma N} \\left(m^{*}_{n}\\right)^{2} \\log{\\left(\\frac{E^{*}_{F n} + k_{F n}}{m^{*}_{n}} \\right)}}{2 \\pi^{2}} - \\frac{g_{\\sigma N} \\left(\\frac{E^{*}_{F n} k_{F n}}{2} + \\frac{k_{F n} \\left(m^{*}_{n}\\right)^{2}}{E^{*}_{F n}}\\right)}{\\pi^{2}}\\right) - g_{\\sigma N} \\left(\\frac{3 g_{\\sigma N} \\left(m^{*}_{p}\\right)^{2} \\log{\\left(\\frac{E^{*}_{F p} + k_{F p}}{m^{*}_{p}} \\right)}}{2 \\pi^{2}} - \\frac{g_{\\sigma N} \\left(\\frac{E^{*}_{F p} k_{F p}}{2} + \\frac{k_{F p} \\left(m^{*}_{p}\\right)^{2}}{E^{*}_{F p}}\\right)}{\\pi^{2}}\\right) + m_{\\sigma}^{2} + \\frac{d^{2}}{d \\sigma^{2}} U{\\left(\\sigma \\right)}} + \\frac{\\pi^{2} x_{e}}{k_{F p}}}{\\sqrt{k_{F p}^{2} + \\left(m^{*}_{p}\\right)^{2}}}$"
      ],
      "text/plain": [
       "g_omega_N*(g_omega_Lamda*x_Lambda + g_omega_N*(1 - x_Lambda))/m_omega**2 + g_phi_N*(g_phi_Lambda*x_Lambda - g_phi_N*x_Lambda + g_phi_N)/m_phi**2 + 0.25*g_rho_N**2*(x_Lambda + 2*x_e - 1)/m_rho**2 + (-g_sigma_N*m_p^**(g_sigma_N*m_p^**x_e/E^*_F_p + g_sigma_N*m_n^**(-x_Lambda - x_e + 1)/E^*_F_n + g_sigma_Lambda*m_Lambda^**x_Lambda/E^*_F_Lambda)/(-g_sigma_Lambda*(3*g_sigma_Lambda*m_Lambda^***2*log((E^*_F_Lambda + k_F_Lambda)/m_Lambda^*)/(2*pi**2) - g_sigma_Lambda*(E^*_F_Lambda*k_F_Lambda/2 + k_F_Lambda*m_Lambda^***2/E^*_F_Lambda)/pi**2) - g_sigma_N*(3*g_sigma_N*m_n^***2*log((E^*_F_n + k_F_n)/m_n^*)/(2*pi**2) - g_sigma_N*(E^*_F_n*k_F_n/2 + k_F_n*m_n^***2/E^*_F_n)/pi**2) - g_sigma_N*(3*g_sigma_N*m_p^***2*log((E^*_F_p + k_F_p)/m_p^*)/(2*pi**2) - g_sigma_N*(E^*_F_p*k_F_p/2 + k_F_p*m_p^***2/E^*_F_p)/pi**2) + m_sigma**2 + Derivative(U(sigma), (sigma, 2))) + pi**2*x_e/k_F_p)/sqrt(k_F_p**2 + m_p^***2)"
      ]
     },
     "execution_count": 34,
     "metadata": {},
     "output_type": "execute_result"
    }
   ],
   "source": [
    "chem_pot_part_deriv(proton_sym, nb.var)"
   ]
  },
  {
   "cell_type": "markdown",
   "id": "87a0a1db",
   "metadata": {},
   "source": [
    "# Numerical Calculations\n",
    "1. We have a symbolic expression for the chemical potential partial derivatives. In this part, we want to then get the numerical expressions. We substitute in for all variables the values of the fields, masses, coupling constants, fractions, etc. The plan here is to take the data from the data file and for each data row (ie, for a given nB and other fixed fractions and stuff) and store that in the numeric baryon class. Assuming that is done, we can then perform the substitution."
   ]
  },
  {
   "cell_type": "markdown",
   "id": "26ae7a59",
   "metadata": {},
   "source": [
    "## Loading in Data"
   ]
  },
  {
   "cell_type": "code",
   "execution_count": 35,
   "id": "771144b1",
   "metadata": {},
   "outputs": [
    {
     "data": {
      "text/html": [
       "<div>\n",
       "<style scoped>\n",
       "    .dataframe tbody tr th:only-of-type {\n",
       "        vertical-align: middle;\n",
       "    }\n",
       "\n",
       "    .dataframe tbody tr th {\n",
       "        vertical-align: top;\n",
       "    }\n",
       "\n",
       "    .dataframe thead th {\n",
       "        text-align: right;\n",
       "    }\n",
       "</style>\n",
       "<table border=\"1\" class=\"dataframe\">\n",
       "  <thead>\n",
       "    <tr style=\"text-align: right;\">\n",
       "      <th></th>\n",
       "      <th>nb/n0</th>\n",
       "      <th>P</th>\n",
       "      <th>E</th>\n",
       "      <th>Sigma</th>\n",
       "      <th>Rho</th>\n",
       "      <th>Omega</th>\n",
       "      <th>Phi</th>\n",
       "      <th>xn</th>\n",
       "      <th>xp</th>\n",
       "      <th>xe</th>\n",
       "      <th>xL</th>\n",
       "      <th>fermi_n</th>\n",
       "      <th>fermi_p</th>\n",
       "      <th>fermi_e</th>\n",
       "      <th>fermi_L</th>\n",
       "      <th>nan</th>\n",
       "    </tr>\n",
       "  </thead>\n",
       "  <tbody>\n",
       "    <tr>\n",
       "      <th>0</th>\n",
       "      <td>0.28</td>\n",
       "      <td>0.070686</td>\n",
       "      <td>40.349774</td>\n",
       "      <td>8.198005</td>\n",
       "      <td>-2.328705</td>\n",
       "      <td>4.681230</td>\n",
       "      <td>-0.000000</td>\n",
       "      <td>0.990944</td>\n",
       "      <td>0.009056</td>\n",
       "      <td>0.009056</td>\n",
       "      <td>0.000000</td>\n",
       "      <td>212.949950</td>\n",
       "      <td>44.522679</td>\n",
       "      <td>44.522679</td>\n",
       "      <td>0.000000</td>\n",
       "      <td>NaN</td>\n",
       "    </tr>\n",
       "    <tr>\n",
       "      <th>1</th>\n",
       "      <td>0.29</td>\n",
       "      <td>0.080052</td>\n",
       "      <td>41.793525</td>\n",
       "      <td>8.453906</td>\n",
       "      <td>-2.409592</td>\n",
       "      <td>4.848417</td>\n",
       "      <td>-0.000000</td>\n",
       "      <td>0.990479</td>\n",
       "      <td>0.009521</td>\n",
       "      <td>0.009521</td>\n",
       "      <td>0.000000</td>\n",
       "      <td>215.421820</td>\n",
       "      <td>45.803502</td>\n",
       "      <td>45.803502</td>\n",
       "      <td>0.000000</td>\n",
       "      <td>NaN</td>\n",
       "    </tr>\n",
       "    <tr>\n",
       "      <th>2</th>\n",
       "      <td>0.30</td>\n",
       "      <td>0.090248</td>\n",
       "      <td>43.237612</td>\n",
       "      <td>8.707875</td>\n",
       "      <td>-2.490287</td>\n",
       "      <td>5.015604</td>\n",
       "      <td>-0.000000</td>\n",
       "      <td>0.990008</td>\n",
       "      <td>0.009992</td>\n",
       "      <td>0.009992</td>\n",
       "      <td>0.000000</td>\n",
       "      <td>217.835457</td>\n",
       "      <td>47.075844</td>\n",
       "      <td>47.075844</td>\n",
       "      <td>0.000000</td>\n",
       "      <td>NaN</td>\n",
       "    </tr>\n",
       "    <tr>\n",
       "      <th>3</th>\n",
       "      <td>0.31</td>\n",
       "      <td>0.101300</td>\n",
       "      <td>44.682054</td>\n",
       "      <td>8.959955</td>\n",
       "      <td>-2.570788</td>\n",
       "      <td>5.182791</td>\n",
       "      <td>-0.000000</td>\n",
       "      <td>0.989530</td>\n",
       "      <td>0.010470</td>\n",
       "      <td>0.010470</td>\n",
       "      <td>0.000000</td>\n",
       "      <td>220.194014</td>\n",
       "      <td>48.339953</td>\n",
       "      <td>48.339953</td>\n",
       "      <td>0.000000</td>\n",
       "      <td>NaN</td>\n",
       "    </tr>\n",
       "    <tr>\n",
       "      <th>4</th>\n",
       "      <td>0.32</td>\n",
       "      <td>0.113235</td>\n",
       "      <td>46.126866</td>\n",
       "      <td>9.210186</td>\n",
       "      <td>-2.651092</td>\n",
       "      <td>5.349977</td>\n",
       "      <td>-0.000000</td>\n",
       "      <td>0.989046</td>\n",
       "      <td>0.010954</td>\n",
       "      <td>0.010954</td>\n",
       "      <td>0.000000</td>\n",
       "      <td>222.500376</td>\n",
       "      <td>49.596057</td>\n",
       "      <td>49.596057</td>\n",
       "      <td>0.000000</td>\n",
       "      <td>NaN</td>\n",
       "    </tr>\n",
       "    <tr>\n",
       "      <th>...</th>\n",
       "      <td>...</td>\n",
       "      <td>...</td>\n",
       "      <td>...</td>\n",
       "      <td>...</td>\n",
       "      <td>...</td>\n",
       "      <td>...</td>\n",
       "      <td>...</td>\n",
       "      <td>...</td>\n",
       "      <td>...</td>\n",
       "      <td>...</td>\n",
       "      <td>...</td>\n",
       "      <td>...</td>\n",
       "      <td>...</td>\n",
       "      <td>...</td>\n",
       "      <td>...</td>\n",
       "      <td>...</td>\n",
       "    </tr>\n",
       "    <tr>\n",
       "      <th>768</th>\n",
       "      <td>7.96</td>\n",
       "      <td>424.462572</td>\n",
       "      <td>1518.141189</td>\n",
       "      <td>76.157712</td>\n",
       "      <td>-19.387450</td>\n",
       "      <td>110.614440</td>\n",
       "      <td>-18.722709</td>\n",
       "      <td>0.390550</td>\n",
       "      <td>0.103000</td>\n",
       "      <td>0.103000</td>\n",
       "      <td>0.506450</td>\n",
       "      <td>476.509635</td>\n",
       "      <td>305.580406</td>\n",
       "      <td>305.580406</td>\n",
       "      <td>519.627154</td>\n",
       "      <td>NaN</td>\n",
       "    </tr>\n",
       "    <tr>\n",
       "      <th>769</th>\n",
       "      <td>7.97</td>\n",
       "      <td>425.578051</td>\n",
       "      <td>1520.582346</td>\n",
       "      <td>76.195184</td>\n",
       "      <td>-19.389709</td>\n",
       "      <td>110.732982</td>\n",
       "      <td>-18.763248</td>\n",
       "      <td>0.390156</td>\n",
       "      <td>0.102934</td>\n",
       "      <td>0.102934</td>\n",
       "      <td>0.506910</td>\n",
       "      <td>476.548918</td>\n",
       "      <td>305.642795</td>\n",
       "      <td>305.642795</td>\n",
       "      <td>520.001921</td>\n",
       "      <td>NaN</td>\n",
       "    </tr>\n",
       "    <tr>\n",
       "      <th>770</th>\n",
       "      <td>7.98</td>\n",
       "      <td>426.695085</td>\n",
       "      <td>1523.024904</td>\n",
       "      <td>76.232608</td>\n",
       "      <td>-19.391960</td>\n",
       "      <td>110.851508</td>\n",
       "      <td>-18.803800</td>\n",
       "      <td>0.389763</td>\n",
       "      <td>0.102868</td>\n",
       "      <td>0.102868</td>\n",
       "      <td>0.507369</td>\n",
       "      <td>476.588102</td>\n",
       "      <td>305.705038</td>\n",
       "      <td>305.705038</td>\n",
       "      <td>520.376269</td>\n",
       "      <td>NaN</td>\n",
       "    </tr>\n",
       "    <tr>\n",
       "      <th>771</th>\n",
       "      <td>7.99</td>\n",
       "      <td>427.813675</td>\n",
       "      <td>1525.468863</td>\n",
       "      <td>76.269983</td>\n",
       "      <td>-19.394204</td>\n",
       "      <td>110.970019</td>\n",
       "      <td>-18.844365</td>\n",
       "      <td>0.389371</td>\n",
       "      <td>0.102802</td>\n",
       "      <td>0.102802</td>\n",
       "      <td>0.507827</td>\n",
       "      <td>476.627187</td>\n",
       "      <td>305.767137</td>\n",
       "      <td>305.767137</td>\n",
       "      <td>520.750198</td>\n",
       "      <td>NaN</td>\n",
       "    </tr>\n",
       "    <tr>\n",
       "      <th>772</th>\n",
       "      <td>8.00</td>\n",
       "      <td>428.933819</td>\n",
       "      <td>1527.914222</td>\n",
       "      <td>76.307311</td>\n",
       "      <td>-19.396441</td>\n",
       "      <td>111.088515</td>\n",
       "      <td>-18.884943</td>\n",
       "      <td>0.388980</td>\n",
       "      <td>0.102736</td>\n",
       "      <td>0.102736</td>\n",
       "      <td>0.508284</td>\n",
       "      <td>476.666172</td>\n",
       "      <td>305.829092</td>\n",
       "      <td>305.829092</td>\n",
       "      <td>521.123709</td>\n",
       "      <td>NaN</td>\n",
       "    </tr>\n",
       "  </tbody>\n",
       "</table>\n",
       "<p>773 rows × 16 columns</p>\n",
       "</div>"
      ],
      "text/plain": [
       "     nb/n0           P            E      Sigma        Rho       Omega  \\\n",
       "0     0.28    0.070686    40.349774   8.198005  -2.328705    4.681230   \n",
       "1     0.29    0.080052    41.793525   8.453906  -2.409592    4.848417   \n",
       "2     0.30    0.090248    43.237612   8.707875  -2.490287    5.015604   \n",
       "3     0.31    0.101300    44.682054   8.959955  -2.570788    5.182791   \n",
       "4     0.32    0.113235    46.126866   9.210186  -2.651092    5.349977   \n",
       "..     ...         ...          ...        ...        ...         ...   \n",
       "768   7.96  424.462572  1518.141189  76.157712 -19.387450  110.614440   \n",
       "769   7.97  425.578051  1520.582346  76.195184 -19.389709  110.732982   \n",
       "770   7.98  426.695085  1523.024904  76.232608 -19.391960  110.851508   \n",
       "771   7.99  427.813675  1525.468863  76.269983 -19.394204  110.970019   \n",
       "772   8.00  428.933819  1527.914222  76.307311 -19.396441  111.088515   \n",
       "\n",
       "           Phi        xn        xp        xe        xL     fermi_n  \\\n",
       "0    -0.000000  0.990944  0.009056  0.009056  0.000000  212.949950   \n",
       "1    -0.000000  0.990479  0.009521  0.009521  0.000000  215.421820   \n",
       "2    -0.000000  0.990008  0.009992  0.009992  0.000000  217.835457   \n",
       "3    -0.000000  0.989530  0.010470  0.010470  0.000000  220.194014   \n",
       "4    -0.000000  0.989046  0.010954  0.010954  0.000000  222.500376   \n",
       "..         ...       ...       ...       ...       ...         ...   \n",
       "768 -18.722709  0.390550  0.103000  0.103000  0.506450  476.509635   \n",
       "769 -18.763248  0.390156  0.102934  0.102934  0.506910  476.548918   \n",
       "770 -18.803800  0.389763  0.102868  0.102868  0.507369  476.588102   \n",
       "771 -18.844365  0.389371  0.102802  0.102802  0.507827  476.627187   \n",
       "772 -18.884943  0.388980  0.102736  0.102736  0.508284  476.666172   \n",
       "\n",
       "        fermi_p     fermi_e     fermi_L  nan  \n",
       "0     44.522679   44.522679    0.000000  NaN  \n",
       "1     45.803502   45.803502    0.000000  NaN  \n",
       "2     47.075844   47.075844    0.000000  NaN  \n",
       "3     48.339953   48.339953    0.000000  NaN  \n",
       "4     49.596057   49.596057    0.000000  NaN  \n",
       "..          ...         ...         ...  ...  \n",
       "768  305.580406  305.580406  519.627154  NaN  \n",
       "769  305.642795  305.642795  520.001921  NaN  \n",
       "770  305.705038  305.705038  520.376269  NaN  \n",
       "771  305.767137  305.767137  520.750198  NaN  \n",
       "772  305.829092  305.829092  521.123709  NaN  \n",
       "\n",
       "[773 rows x 16 columns]"
      ]
     },
     "execution_count": 35,
     "metadata": {},
     "output_type": "execute_result"
    }
   ],
   "source": [
    "data = pd.read_csv(r'/Users/vinhtran/Downloads/datafile_gm3.txt', sep=\" \", header=0,\\\n",
    "                       names = ['nb/n0', 'P', 'E', 'Sigma', 'Rho','Omega', 'Phi', 'xn', 'xp',\\\n",
    "                            'xe', 'xL', 'fermi_n', 'fermi_p', 'fermi_e', 'fermi_L', 'nan'])\n",
    "data"
   ]
  },
  {
   "cell_type": "markdown",
   "id": "528f35e7",
   "metadata": {},
   "source": [
    "Extract each column and store into its own array"
   ]
  },
  {
   "cell_type": "code",
   "execution_count": 36,
   "id": "857b08b1",
   "metadata": {},
   "outputs": [],
   "source": [
    "nb_array = data.loc[:,'nb/n0'].values\n",
    "P_array = data.loc[:,'P'].values\n",
    "E_array = data.loc[:,'E'].values\n",
    "sigma_array = data.loc[:,'Sigma'].values\n",
    "rho_array = data.loc[:,'Rho'].values\n",
    "omega_array = data.loc[:,'Omega'].values\n",
    "phi_array = data.loc[:,'Phi'].values\n",
    "\n",
    "neutron_frac = data.loc[:, 'xn'].values\n",
    "proton_frac = data.loc[:, 'xp'].values\n",
    "electron_frac = data.loc[:, 'xe'].values\n",
    "lambda_frac = data.loc[:, 'xL'].values\n",
    "\n",
    "fermi_n = data.loc[:, 'fermi_n'].values\n",
    "fermi_p = data.loc[:, 'fermi_p'].values\n",
    "fermi_e = data.loc[:, 'fermi_e'].values\n",
    "fermi_L = data.loc[:, 'fermi_L'].values"
   ]
  },
  {
   "cell_type": "markdown",
   "id": "3304b388",
   "metadata": {},
   "source": [
    "#### Define a load values function\n",
    "1. Each row in the table of data above represents a given instance of the system. We can then load in all the values in a given row into our numerical baryon, lepton, independent variables objects. The function takes an integer as argument which corresponds to the index/row number. "
   ]
  },
  {
   "cell_type": "code",
   "execution_count": 54,
   "id": "ea8d676a",
   "metadata": {},
   "outputs": [],
   "source": [
    "def load_values(i):\n",
    "    # load in values to numerical baryon object from data table \n",
    "    \n",
    "    n0 = 0.153\n",
    "    \n",
    "    # re-write baryon density in MeV^3 \n",
    "    # this would yield the correct fermi momentum values as given in the data\n",
    "    nb.num_val = nb_array[i]*n0*hc**3\n",
    "    \n",
    "    # allocate values\n",
    "    \n",
    "    # meson field values \n",
    "    sigma_num.field = sigma_array[i]\n",
    "    rho_num.field = rho_array[i]\n",
    "    omega_num.field = omega_array[i]\n",
    "    phi_num.field = phi_array[i]\n",
    "    \n",
    "    # particle fractions\n",
    "    neutron_num.frac = neutron_frac[i]\n",
    "    proton_num.frac = proton_frac[i]\n",
    "    electron_num.frac = electron_frac[i]\n",
    "    lambda_num.frac = lambda_frac[i]\n",
    "    \n",
    "    # particle fermi momentum \n",
    "    neutron_num.kf = fermi_n[i]\n",
    "    proton_num.kf = fermi_p[i]\n",
    "    electron_num.kf = fermi_e[i]\n",
    "    lambda_num.kf = fermi_L[i]\n",
    "    \n",
    "    # effective masses\n",
    "    neutron_num.mass_eff = neutron_num.mass - gm3.g_sigma_N*sigma_array[i]\n",
    "    proton_num.mass_eff = proton_num.mass - gm3.g_sigma_N*sigma_array[i]\n",
    "    lambda_num.mass_eff = lambda_num.mass - gm3.g_sigma_LA*sigma_array[i]\n",
    "    \n",
    "    # need to fill in eff values!!\n",
    "    neutron_num.ef = np.sqrt(neutron_num.kf**2 + neutron_num.mass_eff**2)\n",
    "    proton_num.ef = np.sqrt(neutron_num.kf**2 + proton_num.mass_eff**2)\n",
    "    lambda_num.ef = np.sqrt(neutron_num.kf**2 + lambda_num.mass_eff**2)\n",
    "        \n",
    "    # can fill in chemical potentials \n",
    "    neutron_num.chem_pot = baryon_chemical_potential(neutron_num)\n",
    "    proton_num.chem_pot = baryon_chemical_potential(proton_num)\n",
    "    lambda_num.chem_pot = baryon_chemical_potential(lambda_num)\n",
    "    \n",
    "    # can fill in num. densities, although we don't use them directly as we re-write everything\n",
    "    # in terms of nB, xe\n",
    "    neutron_num.num_density = nb.num_val*neutron_num.frac\n",
    "    proton_num.num_density = nb.num_val*proton_num.frac\n",
    "    lambda_num.num_density = nb.num_val*lambda_num.frac"
   ]
  },
  {
   "cell_type": "markdown",
   "id": "a8ecbc3e",
   "metadata": {},
   "source": [
    "## Numerical Methods"
   ]
  },
  {
   "cell_type": "markdown",
   "id": "49daf097",
   "metadata": {},
   "source": [
    "### Numerical Electron Chemical Potential Function"
   ]
  },
  {
   "cell_type": "code",
   "execution_count": 38,
   "id": "e4be0999",
   "metadata": {},
   "outputs": [],
   "source": [
    "def chem_pot_electron_num(ind_var):\n",
    "    # takes symbolic electron chemical potential partial derivative\n",
    "    # and returns numeric expression using information stored in electron_sym and \n",
    "    # electron_num objects. Idea is that electron_sym contains symbols like m_e and electron_num contains\n",
    "    # numerical values for those symbols like: m_e = 0.510 MeV\n",
    "    \n",
    "    # load in symbolic expression \n",
    "    \n",
    "    symbolic = chem_pot_electron(ind_var)\n",
    "\n",
    "    # replace symbolic variables using sympy subs method \n",
    "    symbolic = symbolic.subs([(Pi, np.pi), (electron_sym.mass, electron_num.mass),\\\n",
    "        (electron_sym.frac, electron_num.frac), (nb.var, nb.num_val)])\n",
    "    \n",
    "    return sym.simplify(symbolic)"
   ]
  },
  {
   "cell_type": "markdown",
   "id": "88452ccd",
   "metadata": {},
   "source": [
    "### Numerical Baryon Chemical Potential Derivative Function\n",
    "1. We have the symbolic expresison for the partial derivative of a baryon chemical potential given previously in terms of symbols. This function replaces the symbolic values with their respective numeric values. "
   ]
  },
  {
   "cell_type": "code",
   "execution_count": 39,
   "id": "04302832",
   "metadata": {},
   "outputs": [],
   "source": [
    "def chem_pot_part_deriv_num(baryon, x_j):\n",
    "    # substitute in numerical values and get a numerical \n",
    "    # result for partial derivative of baryon wrt to independent variable \n",
    "    \n",
    "    # call the symbolic expression \n",
    "    symbolic_part_deriv = chem_pot_part_deriv(baryon, x_j)\n",
    "    \n",
    "    # replace Pi using subs \n",
    "    symbolic_part_deriv = symbolic_part_deriv.subs(Pi, np.pi)\n",
    "    \n",
    "    # replace baryon masses\n",
    "    for i in range(len(baryon_list)):\n",
    "        symbolic_part_deriv = symbolic_part_deriv.subs(baryon_list[i].mass, baryon_num_list[i].mass)\n",
    "\n",
    "    # replace coupling constants\n",
    "    symbolic_part_deriv = symbolic_part_deriv.subs([(gm3_sym.g_sigma_N, gm3.g_sigma_N),\\\n",
    "                                (gm3_sym.g_sigma_LA, gm3.g_sigma_LA), (gm3_sym.g_omega_N, gm3.g_omega_N),\\\n",
    "                                (gm3_sym.g_omega_LA, gm3.g_omega_LA), (gm3_sym.g_phi_N, gm3.g_phi_N),\\\n",
    "                                (gm3_sym.g_phi_LA, gm3.g_phi_LA), (gm3_sym.g_rho_N, gm3.g_rho_N),\\\n",
    "                                (gm3_sym.g_rho_LA, gm3.g_rho_LA)])\n",
    "\n",
    "    # replace meson field masses\n",
    "    symbolic_part_deriv = symbolic_part_deriv.subs([(omega_sym.mass, omega_num.mass), (sigma_sym.mass, sigma_num.mass),\\\n",
    "                                                   (phi_sym.mass, phi_num.mass), (rho_sym.mass, rho_num.mass)])\n",
    "\n",
    "    \n",
    "    # replace effective mass \n",
    "    for i in range(len(baryon_list)):\n",
    "        if (baryon.kind == \"Nucleon\"):\n",
    "            symbolic_part_deriv = symbolic_part_deriv.subs(baryon_list[i].mass_eff,\\\n",
    "                                                           baryon_num_list[i].mass - gm3.g_omega_N*sigma_num.field)\n",
    "        elif (baryon.kind == \"Hyperon\"):\n",
    "            symbolic_part_deriv = symbolic_part_deriv.subs(baryon_list[i].mass_eff,\\\n",
    "                                                           baryon_num_list[i].mass - gm3.g_omega_LA*sigma_num.field)\n",
    "\n",
    "    # replace fermi momentum\n",
    "    for i in range(len(baryon_list)):\n",
    "        symbolic_part_deriv = symbolic_part_deriv.subs(baryon_list[i].kf, baryon_num_list[i].kf)\n",
    "    \n",
    "    \n",
    "    # replace effective energy\n",
    "    for i in range(len(baryon_list)):\n",
    "        symbolic_part_deriv = symbolic_part_deriv.subs(baryon_list[i].ef, baryon_num_list[i].ef)\n",
    "    \n",
    "    # replace baryon number density\n",
    "    #for i in range(len(baryon_list)):\n",
    "    #    symbolic_part_deriv = symbolic_part_deriv.subs(baryon_list[i].num_density, baryon_num_list[i].num_density)\n",
    "    \n",
    "    \n",
    "    # replace particle fractions \n",
    "    for i in range(len(baryon_list)):\n",
    "        symbolic_part_deriv = symbolic_part_deriv.subs(baryon_list[i].frac, baryon_num_list[i].frac)\n",
    "    for i in range(len(lepton_list)):\n",
    "        symbolic_part_deriv = symbolic_part_deriv.subs(lepton_list[i].frac, lepton_num_list[i].frac)\n",
    "    \n",
    "    # replace partial derivative of U self energy\n",
    "    symbolic_part_deriv = symbolic_part_deriv.subs(sym.diff(U(sym.symbols('sigma')),sym.symbols('sigma'),sym.symbols('sigma')),\\\n",
    "                                                  2*gm3.b*gm3.g_sigma_N**3*sigma_num.field + 3*gm3.c*gm3.g_sigma_N**4*sigma_num.field**2)\n",
    "    \n",
    "    symbolic_part_deriv = symbolic_part_deriv.subs(nb.var, nb.num_val)\n",
    "    \n",
    "    return symbolic_part_deriv"
   ]
  },
  {
   "cell_type": "markdown",
   "id": "3ec9d49e",
   "metadata": {},
   "source": [
    "## Tilde Chemical Potentials\n",
    "After having found numerical values for the chemical potential partial derivatives, we can then take the appropriate linear combinations to get \n",
    "$$\n",
    "    \\frac{\\partial \\tilde{\\mu}_{x_e}}{\\partial x_j} \\qquad \\frac{\\partial \\tilde{\\mu}_{x_\\Lambda}}{\\partial x_j} \\qquad x_j = n_B, x_e, x_\\Lambda\n",
    "$$"
   ]
  },
  {
   "cell_type": "code",
   "execution_count": 40,
   "id": "cc502e3d",
   "metadata": {},
   "outputs": [],
   "source": [
    "def partial_mu_x_e_tilde(x_j):\n",
    "    # returns numerical values for the tilde chemical potentials\n",
    "    result = -chem_pot_part_deriv_num(neutron_sym, x_j) + chem_pot_part_deriv_num(proton_sym, x_j)\\\n",
    "        + electron_part_deriv_num(x_j)\n",
    "    return sym.N(result)\n",
    "\n",
    "def partial_mu_x_l_tilde(x_j):\n",
    "    # returns numerical values for the tilde chemical potentials\n",
    "    result = - chem_pot_part_deriv_num(neutron_sym, x_j) + chem_pot_part_deriv_num(lambda_sym, x_j)\n",
    "    return sym.N(result)"
   ]
  },
  {
   "cell_type": "code",
   "execution_count": 55,
   "id": "079551df",
   "metadata": {},
   "outputs": [],
   "source": [
    "load_values(100)"
   ]
  },
  {
   "cell_type": "markdown",
   "id": "af9c2fc1",
   "metadata": {},
   "source": [
    "# System of Equations for $dx_j/dn_B$\n",
    "We have two equations here:\n",
    "$$\n",
    "    \\frac{\\partial \\tilde{\\mu}_{x_e}}{\\partial n_B} = -\\sum_j \\frac{\\partial \\tilde{\\mu}_{x_e}}{\\partial x_j}\\frac{dx_j}{dn_B} \\qquad j \\in \\text{ind. vars.}\n",
    "$$\n",
    "and\n",
    "$$\n",
    "    \\frac{\\partial \\tilde{\\mu}_{x_\\Lambda}}{\\partial n_B} = -\\sum_j \\frac{\\partial \\tilde{\\mu}_{x_\\Lambda}}{\\partial x_j}\\frac{dx_j}{dn_B} \\qquad j \\in \\text{ind. vars.}\n",
    "$$\n",
    "And our goal is to solve for $dx_j/dn_B$."
   ]
  },
  {
   "cell_type": "code",
   "execution_count": 42,
   "id": "20ac4802",
   "metadata": {},
   "outputs": [],
   "source": [
    "total_deriv_ind_var = [sym.diff(xe.func(nb.var), nb.var), sym.diff(xl.func(nb.var), nb.var)]"
   ]
  },
  {
   "cell_type": "markdown",
   "id": "541c55b1",
   "metadata": {},
   "source": [
    "Write out explicit expressions for the two equations in our system. "
   ]
  },
  {
   "cell_type": "code",
   "execution_count": 43,
   "id": "66ebdb6f",
   "metadata": {},
   "outputs": [],
   "source": [
    "def expression_xe(independent_variables, total_deriv_ind_var):\n",
    "    expression = 0.0 \n",
    "    for i in range(len(independent_variables)-1):\n",
    "        expression = partial_mu_x_e_tilde(independent_variables[i+1].var)*total_deriv_ind_var[i] + expression\n",
    "    return partial_mu_x_e_tilde(nb.var) + expression \n",
    "\n",
    "def expression_xl(independent_variables, total_deriv_ind_var):\n",
    "    expression = 0.0 \n",
    "    for i in range(len(independent_variables)-1):\n",
    "        expression = partial_mu_x_l_tilde(independent_variables[i+1].var)*total_deriv_ind_var[i] + expression\n",
    "    return partial_mu_x_l_tilde(nb.var) + expression "
   ]
  },
  {
   "cell_type": "markdown",
   "id": "7241a402",
   "metadata": {},
   "source": [
    "Function to load in the expressions and solve the system of two linear equations for $dx_j/dn_B$"
   ]
  },
  {
   "cell_type": "code",
   "execution_count": 44,
   "id": "0025588f",
   "metadata": {},
   "outputs": [],
   "source": [
    "def numerical_total_deriv(independent_variables, total_deriv_ind_var):\n",
    "    # return numerical values for total derivatives of ind. vars with respect to nB\n",
    "    \n",
    "    eqn1 = expression_xe(independent_variables, total_deriv_ind_var)\n",
    "    eqn2 = expression_xl(independent_variables, total_deriv_ind_var)\n",
    "\n",
    "    #expr = sym.linsolve([eqn1, eqn2], (total_deriv_ind_var))\n",
    "    expr = sym.solve([eqn1, eqn2], (total_deriv_ind_var), dict = 'True')\n",
    "    \n",
    "    independent_variables[1].total_deriv = expr[0][total_deriv_ind_var[0]]\n",
    "    independent_variables[2].total_deriv = expr[0][total_deriv_ind_var[1]]"
   ]
  },
  {
   "cell_type": "code",
   "execution_count": 45,
   "id": "6a402b62",
   "metadata": {},
   "outputs": [],
   "source": [
    "def numerical_2():\n",
    "    eqn1 = expression_xe(independent_variables, total_deriv_ind_var)\n",
    "    eqn2 = expression_xl(independent_variables, total_deriv_ind_var)\n",
    "    expr = sym.solve([eqn1, eqn2], (total_deriv_ind_var), dict = 'True')\n",
    "    \n",
    "    xe.total_deriv = expr[0][total_deriv_ind_var[0]]\n",
    "    xl.total_deriv = expr[0][total_deriv_ind_var[1]]"
   ]
  },
  {
   "cell_type": "markdown",
   "id": "f18cc4f8",
   "metadata": {},
   "source": [
    "## Sound Speed Difference\n",
    "With both numerical values for $\\partial\\tilde{\\mu_i}/\\partial x_j$ and $dx_j/dn_B$ ($i$ a baryon, $j$ an independent variable), we can then plug into our expression for the sound speed difference to find\n",
    "$$\n",
    "    c_s^2 - c_e^2 = - \\frac{n_B^2}{\\mu_n}\n",
    "    \\sum_j \\frac{\\partial \\tilde{\\mu}_{x_j}}{\\partial n_B}\\frac{dx_j}{dn_B} \\qquad j \\in \\text{ind. var minus $n_B$}\n",
    "$$"
   ]
  },
  {
   "cell_type": "code",
   "execution_count": 46,
   "id": "ebd541e8",
   "metadata": {},
   "outputs": [],
   "source": [
    "def sound_speed_diff(integer):\n",
    "    # first load in numerical values \n",
    "    load_values(integer)\n",
    "    expression = 0.0\n",
    "    \n",
    "    # find total derivatives dx_j/dnB\n",
    "    numerical_2()\n",
    "    \n",
    "    # get expression inside of sum \n",
    "    expression = part_mu_x_e_tilde(nb.var)*xe.total_deriv + part_mu_x_l_tilde(nb.var)*xl.total_deriv\n",
    "    \n",
    "    return -nb.num_val**2/baryon_chemical_potential(neutron_num)*expression "
   ]
  },
  {
   "cell_type": "markdown",
   "id": "f6ac3bb8",
   "metadata": {},
   "source": [
    "## Attempt at calculating $c_s^2 - c_e^2$ as a function of $n_B$"
   ]
  },
  {
   "cell_type": "code",
   "execution_count": 47,
   "id": "463006e1",
   "metadata": {},
   "outputs": [
    {
     "ename": "NameError",
     "evalue": "name 'x' is not defined",
     "output_type": "error",
     "traceback": [
      "\u001b[0;31m---------------------------------------------------------------------------\u001b[0m",
      "\u001b[0;31mNameError\u001b[0m                                 Traceback (most recent call last)",
      "\u001b[0;32m<ipython-input-47-8b4f2c49397a>\u001b[0m in \u001b[0;36m<module>\u001b[0;34m\u001b[0m\n\u001b[1;32m      2\u001b[0m \u001b[0msound_diff\u001b[0m \u001b[0;34m=\u001b[0m \u001b[0mnp\u001b[0m\u001b[0;34m.\u001b[0m\u001b[0mzeros\u001b[0m\u001b[0;34m(\u001b[0m\u001b[0;36m15\u001b[0m\u001b[0;34m)\u001b[0m\u001b[0;34m\u001b[0m\u001b[0;34m\u001b[0m\u001b[0m\n\u001b[1;32m      3\u001b[0m \u001b[0;34m\u001b[0m\u001b[0m\n\u001b[0;32m----> 4\u001b[0;31m \u001b[0;32mfor\u001b[0m \u001b[0mi\u001b[0m \u001b[0;32min\u001b[0m \u001b[0mrange\u001b[0m\u001b[0;34m(\u001b[0m\u001b[0mlen\u001b[0m\u001b[0;34m(\u001b[0m\u001b[0mx\u001b[0m\u001b[0;34m)\u001b[0m\u001b[0;34m)\u001b[0m\u001b[0;34m:\u001b[0m\u001b[0;34m\u001b[0m\u001b[0;34m\u001b[0m\u001b[0m\n\u001b[0m\u001b[1;32m      5\u001b[0m     \u001b[0mnb_data\u001b[0m\u001b[0;34m[\u001b[0m\u001b[0mi\u001b[0m\u001b[0;34m]\u001b[0m \u001b[0;34m=\u001b[0m \u001b[0mnb_array\u001b[0m\u001b[0;34m[\u001b[0m\u001b[0;36m50\u001b[0m\u001b[0;34m*\u001b[0m\u001b[0mi\u001b[0m\u001b[0;34m]\u001b[0m\u001b[0;34m\u001b[0m\u001b[0;34m\u001b[0m\u001b[0m\n\u001b[1;32m      6\u001b[0m     \u001b[0msound_diff\u001b[0m\u001b[0;34m[\u001b[0m\u001b[0mi\u001b[0m\u001b[0;34m]\u001b[0m \u001b[0;34m=\u001b[0m \u001b[0msound_speed_diff\u001b[0m\u001b[0;34m(\u001b[0m\u001b[0;36m50\u001b[0m\u001b[0;34m*\u001b[0m\u001b[0mi\u001b[0m\u001b[0;34m)\u001b[0m\u001b[0;34m\u001b[0m\u001b[0;34m\u001b[0m\u001b[0m\n",
      "\u001b[0;31mNameError\u001b[0m: name 'x' is not defined"
     ]
    }
   ],
   "source": [
    "nb_data = np.zeros(15)\n",
    "sound_diff = np.zeros(15)\n",
    "\n",
    "for i in range(len(x)):\n",
    "    nb_data[i] = nb_array[50*i]\n",
    "    sound_diff[i] = sound_speed_diff(50*i)"
   ]
  },
  {
   "cell_type": "code",
   "execution_count": 48,
   "id": "19e7f163",
   "metadata": {},
   "outputs": [
    {
     "data": {
      "image/png": "[encoded data removed]",
      "text/plain": [
       "<Figure size 432x288 with 1 Axes>"
      ]
     },
     "metadata": {
      "needs_background": "light"
     },
     "output_type": "display_data"
    }
   ],
   "source": [
    "plt.scatter(nb_data*0.16, sound_diff)\n",
    "plt.xlabel('$n_B$ (in fm^-3)')\n",
    "plt.grid(True)\n",
    "plt.ylabel('$c_s^2 - c_e^2$')\n",
    "plt.show()"
   ]
  },
  {
   "cell_type": "markdown",
   "id": "0d994a37",
   "metadata": {},
   "source": [
    "# Trouble Shooting"
   ]
  },
  {
   "cell_type": "markdown",
   "id": "83960c85",
   "metadata": {},
   "source": [
    "## Chemical Potential Calculations\n",
    "- Checking to see if chemical potentials (just the potentials, not the derivatives) satisfy beta equilibrium conditions. This would tell us immediately if we have an issue somewhere. And we find that the chemical potentials do not vanish. The issue is more severe in the $\\mu_n - \\mu_\\Lambda$ case which is a problem. Wrong coupling constants? Wrong Lagrangian?  Wrong expression for chemical potentials?\n",
    "- Answer: The difference is actually neglible. And the difference for neutrons and lambda hyperon is signficant but only prior to the appearance of lambda hyperons, ie, for lower densities. I'm not sure how this would arise mathematically... "
   ]
  },
  {
   "cell_type": "code",
   "execution_count": 61,
   "id": "fa33a0ec",
   "metadata": {},
   "outputs": [],
   "source": [
    "neutron_chem_pot = np.empty(700)\n",
    "proton_chem_pot = np.empty(700)\n",
    "lambda_chem_pot = np.empty(700)\n",
    "electron_chem_pot = np.empty(700)\n",
    "\n",
    "xe_diff = np.empty(700)\n",
    "xl_diff = np.empty(700)"
   ]
  },
  {
   "cell_type": "code",
   "execution_count": 62,
   "id": "2cf73b2b",
   "metadata": {},
   "outputs": [],
   "source": [
    "for i in range(len(neutron_chem_pot)):\n",
    "    load_values(i)\n",
    "    neutron_chem_pot[i] = baryon_chemical_potential(neutron_num)\n",
    "    proton_chem_pot[i] = baryon_chemical_potential(proton_num)\n",
    "    lambda_chem_pot[i] = baryon_chemical_potential(lambda_num)\n",
    "    electron_chem_pot[i] = lepton_chemical_potential(electron_num)"
   ]
  },
  {
   "cell_type": "code",
   "execution_count": 63,
   "id": "d12a4d38",
   "metadata": {},
   "outputs": [],
   "source": [
    "for i in range(len(neutron_chem_pot)):\n",
    "    xe_diff[i] = neutron_chem_pot[i] - proton_chem_pot[i] - electron_chem_pot[i]\n",
    "    xl_diff[i] = neutron_chem_pot[i] - lambda_chem_pot[i]"
   ]
  },
  {
   "cell_type": "code",
   "execution_count": 64,
   "id": "aa811278",
   "metadata": {},
   "outputs": [
    {
     "data": {
      "text/plain": [
       "array([-1.12995232e-04, -1.10971544e-04, -1.08896804e-04, -1.03152170e-04,\n",
       "       -9.95008134e-05, -1.03194239e-04, -9.63662604e-05, -9.50614393e-05,\n",
       "       -9.10855700e-05, -9.33061277e-05, -8.71450254e-05, -8.37949616e-05,\n",
       "       -8.43163820e-05, -8.53588163e-05, -8.26950757e-05, -8.05185517e-05,\n",
       "       -7.79214935e-05, -7.91610857e-05, -7.45676837e-05, -7.32882846e-05,\n",
       "       -7.35672526e-05, -7.45469671e-05, -7.03525931e-05, -6.90630578e-05,\n",
       "       -6.44535316e-05, -6.82717012e-05, -6.44131617e-05, -6.70768719e-05,\n",
       "       -6.89769727e-05, -6.57520928e-05, -6.34725877e-05, -5.76938543e-05,\n",
       "       -6.26898397e-05, -5.87356945e-05, -6.00710845e-05, -5.66796823e-05,\n",
       "       -5.48330963e-05, -5.45092668e-05, -5.40589575e-05, -5.26766475e-05,\n",
       "       -5.94319834e-05, -5.60623716e-05, -5.32920184e-05, -5.05073040e-05,\n",
       "       -4.96780160e-05, -5.10506232e-05, -4.90583129e-05, -5.27596977e-05,\n",
       "       -4.82371918e-05, -5.38664026e-05, -4.72959179e-05, -4.79793368e-05,\n",
       "       -5.14785132e-05, -5.08800366e-05, -5.11652521e-05, -4.61172706e-05,\n",
       "       -4.96338349e-05, -4.73328016e-05, -4.44038852e-05, -4.42236800e-05,\n",
       "       -4.47180840e-05, -4.93277253e-05, -4.45811882e-05, -4.79271349e-05,\n",
       "       -4.36806203e-05, -4.58191330e-05, -4.64292305e-05, -3.87638507e-05,\n",
       "       -3.91199824e-05, -4.48177776e-05, -4.25365043e-05, -4.12556046e-05,\n",
       "       -3.66877530e-05, -3.63923487e-05, -3.76394796e-05, -3.84844285e-05,\n",
       "       -3.65291635e-05, -3.89608370e-05, -3.48516151e-05, -4.07700172e-05,\n",
       "       -3.68246262e-05, -3.80441988e-05, -3.65626020e-05, -3.65500462e-05,\n",
       "       -3.90138699e-05, -3.34508135e-05, -3.47401216e-05, -3.44304806e-05,\n",
       "       -3.80643347e-05, -3.82425720e-05, -3.26949364e-05, -3.79159485e-05,\n",
       "       -3.43405159e-05, -3.88747082e-05, -3.54596928e-05, -3.71269465e-05,\n",
       "       -3.52840299e-05, -3.16484811e-05, -3.05160116e-05, -3.27422888e-05,\n",
       "       -3.63950535e-05, -3.45580776e-05, -3.18844124e-05, -2.94493108e-05,\n",
       "       -3.58733558e-05, -2.99611743e-05, -3.23222689e-05, -3.16578942e-05,\n",
       "       -3.50442057e-05, -3.40898146e-05, -3.60760032e-05, -3.25479028e-05,\n",
       "       -3.13538298e-05, -3.03916292e-05, -3.06145616e-05, -3.13318663e-05,\n",
       "       -3.01062279e-05, -2.78563990e-05, -3.13718583e-05, -3.31865649e-05,\n",
       "       -3.01248562e-05, -3.08463833e-05, -2.58434392e-05, -3.23445191e-05,\n",
       "       -3.18552003e-05, -3.22309187e-05, -3.28945313e-05, -3.19799919e-05,\n",
       "       -2.98502682e-05, -3.32129885e-05, -3.31036063e-05, -2.91646153e-05,\n",
       "       -2.74055680e-05, -2.86694880e-05, -3.12282588e-05, -2.41114381e-05,\n",
       "       -2.60436509e-05, -2.66793687e-05, -2.40271034e-05, -2.65980103e-05,\n",
       "       -3.21644301e-05, -3.15531073e-05, -2.30797362e-05, -2.46514886e-05,\n",
       "       -2.40692853e-05, -3.14060004e-05, -2.52078995e-05, -2.25149176e-05,\n",
       "       -2.27759170e-05, -2.49070290e-05, -2.48042956e-05, -2.57703236e-05,\n",
       "       -3.08447263e-05, -2.27436799e-05, -2.59666713e-05, -2.20453749e-05,\n",
       "       -2.67419914e-05, -2.79429845e-05, -2.76061459e-05, -2.95173862e-05,\n",
       "       -2.53414115e-05, -2.08663002e-05, -2.42106332e-05, -2.35074082e-05,\n",
       "       -2.62334707e-05, -2.31068500e-05, -2.82110127e-05, -2.31884387e-05,\n",
       "       -2.19137179e-05, -2.53191568e-05, -2.76983713e-05, -2.27901703e-05,\n",
       "       -2.25398602e-05, -2.52303944e-05, -2.13731509e-05, -2.61630443e-05,\n",
       "       -1.98630150e-05, -2.53720158e-05, -2.31389525e-05, -2.15450645e-05,\n",
       "       -2.52911839e-05, -2.55745803e-05, -2.55491429e-05, -2.50634006e-05,\n",
       "       -1.97938631e-05, -2.56043471e-05, -2.54487294e-05, -2.13955833e-05,\n",
       "       -2.11457983e-05, -2.31888824e-05, -2.38818108e-05, -2.07422283e-05,\n",
       "       -2.14886896e-05, -1.90996339e-05, -2.40426847e-05, -2.33075209e-05,\n",
       "       -2.35050337e-05, -1.97568352e-05, -1.92168120e-05, -1.94965456e-05,\n",
       "       -2.55206654e-05, -1.85558777e-05, -1.90617596e-05, -1.90751209e-05,\n",
       "       -2.09581645e-05, -2.24757160e-05, -2.06768624e-05, -2.33245233e-05,\n",
       "       -2.44925587e-05, -2.16678771e-05, -2.22058231e-05, -2.07900656e-05,\n",
       "       -2.31344391e-05, -2.49210272e-05, -1.62313343e-05, -2.05980316e-05,\n",
       "       -2.39908451e-05, -1.90867350e-05, -2.36691911e-05, -2.10656930e-05,\n",
       "       -1.95666427e-05, -2.42662733e-05, -1.69638074e-05, -2.05144252e-05,\n",
       "       -1.80410808e-05, -2.11149897e-05, -2.22932336e-05, -1.57146430e-05,\n",
       "       -1.86606028e-05, -2.33919805e-05, -2.24063077e-05, -1.86621141e-05,\n",
       "       -1.99854375e-05, -1.73481368e-05, -1.64351026e-05, -1.83522041e-05,\n",
       "       -2.24152371e-05, -2.02940215e-05, -2.22236070e-05, -1.91168148e-05,\n",
       "       -2.09999116e-05, -2.34679124e-05, -2.09476024e-05, -2.04469026e-05,\n",
       "       -1.91346583e-05, -2.34834694e-05, -2.05434518e-05, -1.98428328e-05,\n",
       "       -2.34751336e-05, -1.99105451e-05, -1.86712013e-05, -2.30095773e-05,\n",
       "       -2.05335680e-05, -2.18887185e-05, -2.11616979e-05, -2.17143931e-05,\n",
       "       -1.91839408e-05, -2.33203572e-05, -2.01475635e-05, -1.72929901e-05,\n",
       "       -2.01810088e-05, -1.98958263e-05, -2.03546364e-05, -2.23957702e-05,\n",
       "       -1.86179974e-05, -1.41333255e-05, -2.10483513e-05, -2.29131403e-05,\n",
       "       -2.12094996e-05, -1.55815252e-05, -1.66922819e-05, -2.18344215e-05,\n",
       "       -1.50480846e-05, -1.92574420e-05, -2.26840585e-05, -2.26085249e-05,\n",
       "       -1.70191922e-05, -1.93637403e-05, -1.54342584e-05, -1.99715881e-05,\n",
       "       -1.88954155e-05, -1.46120177e-05, -1.99674903e-05, -2.02147169e-05,\n",
       "       -1.68956805e-05, -2.12922457e-05, -1.78475302e-05, -1.58679114e-05,\n",
       "       -1.85313755e-05, -1.83037759e-05, -2.23889966e-05, -1.48863141e-05,\n",
       "       -2.20542632e-05, -1.85376433e-05, -2.06614718e-05, -1.94246075e-05,\n",
       "       -1.56295639e-05, -1.40930974e-05, -1.83885454e-05, -1.72670316e-05,\n",
       "       -1.42626596e-05, -2.05221900e-05, -1.69015334e-05, -1.88596453e-05,\n",
       "       -1.43329466e-05, -1.86513188e-05, -1.39318161e-05, -1.36112344e-05,\n",
       "       -1.79974340e-05, -2.08087729e-05, -2.14418152e-05, -1.83060162e-05,\n",
       "       -1.34701023e-05, -1.58939416e-05, -2.14990344e-05, -1.72674225e-05,\n",
       "       -1.93574269e-05, -1.30524905e-05, -1.45621384e-05, -1.90047437e-05,\n",
       "       -1.40193219e-05, -2.13648304e-05, -2.12083757e-05, -1.76456564e-05,\n",
       "       -1.43256347e-05, -1.87390524e-05, -1.47180075e-05, -1.53472932e-05,\n",
       "       -1.82042584e-05, -1.81632315e-05, -1.92402074e-05, -1.80534945e-05,\n",
       "       -1.55479324e-05, -2.03616910e-05, -1.41265614e-05, -1.27603608e-05,\n",
       "       -1.93056447e-05, -2.03458151e-05, -1.94465960e-05, -1.83154456e-05,\n",
       "       -1.49336804e-05, -1.79044620e-05, -1.73024737e-05, -1.48730303e-05,\n",
       "       -1.39622805e-05, -1.69975957e-05, -1.97264674e-05, -1.85421084e-05,\n",
       "       -2.08351951e-05, -1.57337894e-05, -1.41421091e-05, -1.89578104e-05,\n",
       "       -1.72771791e-05, -1.83494366e-05, -1.65196075e-05, -1.90129060e-05,\n",
       "       -1.50860419e-05, -1.89136069e-05, -1.26914975e-05, -1.22406982e-05,\n",
       "       -1.87443396e-05, -1.57884118e-05, -1.69941652e-05, -1.44852676e-05,\n",
       "       -1.38436559e-05, -1.28721771e-05, -1.93601360e-05, -1.46658700e-05,\n",
       "       -2.01519106e-05, -2.00320387e-05, -1.85787674e-05, -1.55831924e-05,\n",
       "       -1.59726484e-05, -1.25482296e-05, -1.58543099e-05, -1.85940557e-05,\n",
       "       -1.58694513e-05, -1.87888886e-05, -2.08519179e-05, -1.41299500e-05,\n",
       "       -1.83225427e-05, -1.12958251e-05, -1.21757583e-05, -1.35979343e-05,\n",
       "       -1.53599636e-05, -1.67405769e-05, -1.39712832e-05, -1.17864657e-05,\n",
       "       -1.22108542e-05, -1.64639458e-05, -1.94911416e-05, -2.02662598e-05,\n",
       "       -1.43140061e-05, -2.00715472e-05, -1.29256407e-05, -1.43068478e-05,\n",
       "       -1.31017071e-05, -1.63501359e-05, -1.31491260e-05, -1.60298024e-05,\n",
       "       -1.77272758e-05, -1.15646039e-05, -1.58258565e-05, -1.38342252e-05,\n",
       "       -1.97876064e-05, -1.32677275e-05, -1.77447781e-05, -1.42732642e-05,\n",
       "       -1.34390693e-05, -1.83713302e-05, -1.33704747e-05, -1.79803818e-05,\n",
       "       -1.18822451e-05, -1.93607983e-05, -1.26934925e-05, -1.18099229e-05,\n",
       "       -9.88327355e-06, -1.88480377e-05, -1.99572855e-05, -1.47401595e-05,\n",
       "       -1.38963406e-05, -1.21383613e-05, -1.83086011e-05, -1.57399174e-05,\n",
       "       -1.33954735e-05, -1.52672422e-05, -1.39100764e-05, -1.67899262e-05,\n",
       "       -1.16208768e-05, -1.37413178e-05, -1.92128273e-05, -1.76065389e-05,\n",
       "       -1.01920442e-05, -1.87381257e-05, -1.57735130e-05, -1.46505692e-05,\n",
       "       -1.18450334e-05, -1.16722794e-05, -1.42039958e-05, -1.20977015e-05,\n",
       "       -1.72084869e-05, -1.11504733e-05, -1.37694185e-05, -1.74579285e-05,\n",
       "       -1.33050804e-05, -1.15435697e-05, -1.63572370e-05, -1.72078694e-05,\n",
       "       -1.73397619e-05, -1.41868830e-05, -1.23719720e-05, -1.31404673e-05,\n",
       "       -1.58592148e-05, -1.38507275e-05, -1.74664160e-05, -1.69545780e-05,\n",
       "       -1.40544889e-05, -1.35847932e-05, -1.20713760e-05, -1.27608769e-05,\n",
       "       -1.51895965e-05, -1.33669626e-05, -1.68200777e-05, -1.73526419e-05,\n",
       "       -1.89694859e-05, -1.58399004e-05, -1.44227531e-05, -1.54479583e-05,\n",
       "       -1.87458915e-05, -1.58022375e-05, -1.62573851e-05, -1.48120998e-05,\n",
       "       -1.09822656e-05, -1.58632923e-05, -1.17543028e-05, -1.53780101e-05,\n",
       "       -1.27647986e-05, -1.19660626e-05, -1.48335367e-05, -1.46072620e-05,\n",
       "       -1.83208803e-05, -1.08581713e-05, -1.24979921e-05, -1.18953039e-05,\n",
       "       -1.15396912e-05, -1.39781371e-05, -1.70439541e-05, -1.63972618e-05,\n",
       "       -1.83577610e-05, -1.69785970e-05, -1.23898616e-05, -1.42126371e-05,\n",
       "       -1.40297998e-05, -1.44378969e-05, -1.39679856e-05, -1.52876087e-05,\n",
       "       -1.22714255e-05, -1.05711374e-05, -1.28019499e-05, -9.69142314e-06,\n",
       "       -1.39992407e-05, -1.33773719e-05, -1.42151791e-05, -1.14303410e-05,\n",
       "       -1.03873527e-05, -1.77456188e-05, -1.94807408e-05, -1.36263040e-05,\n",
       "       -1.81580457e-05, -1.06816263e-05, -1.62888106e-05, -9.45211542e-06,\n",
       "       -1.06282676e-05, -1.68362041e-05, -1.35245145e-05, -1.16505512e-05,\n",
       "       -1.69457991e-05, -1.48113715e-05, -1.46393419e-05, -1.74389466e-05,\n",
       "       -1.39808839e-05, -1.61770660e-05, -1.55802477e-05, -1.70764565e-05,\n",
       "       -1.84571538e-05, -1.75012092e-05, -1.52599230e-05, -1.15696319e-05,\n",
       "       -1.81502215e-05, -1.58758344e-05, -1.67848979e-05, -1.00581966e-05,\n",
       "       -1.54082818e-05, -1.50432550e-05, -1.13687074e-05, -1.16971736e-05,\n",
       "       -1.83910337e-05, -1.29942818e-05, -1.57910802e-05, -1.60345056e-05,\n",
       "       -1.78847027e-05, -1.83037655e-05, -1.03567802e-05, -1.29683967e-05,\n",
       "       -1.85040195e-05, -1.60725145e-05, -1.06307626e-05, -1.54248111e-05,\n",
       "       -1.73946702e-05, -1.52515684e-05, -1.04658689e-05, -1.17864052e-05,\n",
       "       -1.17077952e-05, -1.02982418e-05, -1.68691249e-05, -1.38713970e-05,\n",
       "       -1.06138925e-05, -1.04304131e-05, -1.25870669e-05, -1.64848157e-05,\n",
       "       -1.21408524e-05, -1.36332021e-05, -8.67864520e-06, -1.06578736e-05,\n",
       "       -1.56900758e-05, -1.07206034e-05, -1.07334405e-05, -1.64464321e-05,\n",
       "       -1.41442940e-05, -1.16242894e-05, -1.44808558e-05, -1.19676516e-05,\n",
       "       -1.66143108e-05, -1.36887954e-05, -1.34664846e-05, -1.53347386e-05,\n",
       "       -1.31075853e-05, -1.24058690e-05, -1.62839004e-05, -1.65325694e-05,\n",
       "       -9.93402841e-06, -1.15298524e-05, -8.85801086e-06, -1.38078161e-05,\n",
       "       -1.62272295e-05, -9.29786819e-06, -1.02981402e-05, -1.07248021e-05,\n",
       "       -1.21563025e-05, -1.24307249e-05, -1.62860545e-05, -1.13596840e-05,\n",
       "       -1.56526663e-05, -1.69008397e-05, -1.20088772e-05, -9.55626734e-06,\n",
       "       -1.20801267e-05, -1.10704183e-05, -1.44427864e-05, -1.28697359e-05,\n",
       "       -1.03666483e-05, -1.33696257e-05, -1.46895073e-05, -1.46934366e-05,\n",
       "       -1.34115085e-05, -1.22553756e-05, -1.00249407e-05, -1.68309242e-05,\n",
       "       -1.47919375e-05, -1.58102872e-05, -9.70115531e-06, -1.29164900e-05,\n",
       "       -1.17263652e-05, -1.29013151e-05, -1.59326756e-05, -1.46564075e-05,\n",
       "       -9.94329025e-06, -1.11815610e-05, -1.45767042e-05, -1.62683751e-05,\n",
       "       -1.47926626e-05, -9.34427050e-06, -1.34793471e-05, -1.46904708e-05,\n",
       "       -1.45043428e-05, -1.39257836e-05, -1.29971326e-05, -1.09079514e-05,\n",
       "       -9.48955142e-06, -9.30064431e-06, -9.83598727e-06, -1.26447293e-05,\n",
       "       -9.50600185e-06, -1.63827318e-05, -1.71916089e-05, -1.27957126e-05,\n",
       "       -1.19203206e-05, -1.44288596e-05, -1.19317609e-05, -1.46894927e-05,\n",
       "       -1.56772551e-05, -1.10497258e-05, -1.25537481e-05, -1.08196334e-05,\n",
       "       -9.22412960e-06, -1.16094305e-05, -1.49996008e-05, -1.77120583e-05,\n",
       "       -1.75824878e-05, -7.75745957e-06, -9.20778069e-06, -8.67894602e-06,\n",
       "       -8.71795493e-06, -1.16720005e-05, -1.60530914e-05, -1.01133738e-05,\n",
       "       -1.04955478e-05, -1.07925933e-05, -1.42277250e-05, -1.15797328e-05,\n",
       "       -1.37598187e-05, -9.87247478e-06, -9.48131384e-06, -1.47667057e-05,\n",
       "       -1.50168583e-05, -1.34350300e-05, -1.68635427e-05, -1.52884927e-05,\n",
       "       -1.21860202e-05, -1.66617113e-05, -8.39989792e-06, -7.88197286e-06,\n",
       "       -1.59413759e-05, -1.31299425e-05, -8.84406836e-06, -1.48315384e-05,\n",
       "       -1.07809261e-05, -1.63360560e-05, -1.26928910e-05, -1.17941564e-05,\n",
       "       -8.72797546e-06, -1.00893743e-05, -1.18265698e-05, -1.56153314e-05,\n",
       "       -1.44243764e-05, -1.37681308e-05, -8.94923073e-06, -1.49074795e-05,\n",
       "       -7.48425674e-06, -1.33650028e-05, -1.43958898e-05, -1.07635154e-05,\n",
       "       -1.18606302e-05, -9.97367374e-06, -1.27827221e-05, -1.25896483e-05,\n",
       "       -8.71839842e-06, -1.12182921e-05, -1.25834604e-05, -1.17370235e-05])"
      ]
     },
     "execution_count": 64,
     "metadata": {},
     "output_type": "execute_result"
    }
   ],
   "source": [
    "xe_diff"
   ]
  },
  {
   "cell_type": "code",
   "execution_count": 65,
   "id": "2abecb62",
   "metadata": {},
   "outputs": [
    {
     "data": {
      "text/plain": [
       "array([-1.55350538e+02, -1.54723559e+02, -1.54095944e+02, -1.53467593e+02,\n",
       "       -1.52838423e+02, -1.52208358e+02, -1.51577327e+02, -1.50945281e+02,\n",
       "       -1.50312177e+02, -1.49677973e+02, -1.49042631e+02, -1.48406127e+02,\n",
       "       -1.47768448e+02, -1.47129571e+02, -1.46489474e+02, -1.45848155e+02,\n",
       "       -1.45205604e+02, -1.44561819e+02, -1.43916796e+02, -1.43270530e+02,\n",
       "       -1.42623028e+02, -1.41974294e+02, -1.41324325e+02, -1.40673134e+02,\n",
       "       -1.40020720e+02, -1.39367100e+02, -1.38712272e+02, -1.38056251e+02,\n",
       "       -1.37399051e+02, -1.36740669e+02, -1.36081119e+02, -1.35420418e+02,\n",
       "       -1.34758578e+02, -1.34095601e+02, -1.33431504e+02, -1.32766296e+02,\n",
       "       -1.32099990e+02, -1.31432599e+02, -1.30764134e+02, -1.30094601e+02,\n",
       "       -1.29424023e+02, -1.28752397e+02, -1.28079748e+02, -1.27406075e+02,\n",
       "       -1.26731399e+02, -1.26055727e+02, -1.25379069e+02, -1.24701443e+02,\n",
       "       -1.24022843e+02, -1.23343298e+02, -1.22662805e+02, -1.21981382e+02,\n",
       "       -1.21299040e+02, -1.20615782e+02, -1.19931618e+02, -1.19246559e+02,\n",
       "       -1.18560621e+02, -1.17873803e+02, -1.17186118e+02, -1.16497575e+02,\n",
       "       -1.15808181e+02, -1.15117952e+02, -1.14426880e+02, -1.13734984e+02,\n",
       "       -1.13042271e+02, -1.12348748e+02, -1.11654423e+02, -1.10959296e+02,\n",
       "       -1.10263384e+02, -1.09566690e+02, -1.08869219e+02, -1.08170980e+02,\n",
       "       -1.07471973e+02, -1.06772211e+02, -1.06071700e+02, -1.05370441e+02,\n",
       "       -1.04668446e+02, -1.03965715e+02, -1.03262251e+02, -1.02558071e+02,\n",
       "       -1.01853168e+02, -1.01147553e+02, -1.00441225e+02, -9.97341966e+01,\n",
       "       -9.90264693e+01, -9.83180452e+01, -9.76089297e+01, -9.68991272e+01,\n",
       "       -9.61886449e+01, -9.54774797e+01, -9.47656432e+01, -9.40531334e+01,\n",
       "       -9.33399542e+01, -9.26261149e+01, -9.19116087e+01, -9.11964537e+01,\n",
       "       -9.04806386e+01, -8.97641684e+01, -8.90470537e+01, -8.83292948e+01,\n",
       "       -8.76108985e+01, -8.68918546e+01, -8.61721743e+01, -8.54518612e+01,\n",
       "       -8.47309216e+01, -8.40093461e+01, -8.32871440e+01, -8.25643160e+01,\n",
       "       -8.18408692e+01, -8.11168024e+01, -8.03921167e+01, -7.96668120e+01,\n",
       "       -7.89408925e+01, -7.82143614e+01, -7.74872250e+01, -7.67594755e+01,\n",
       "       -7.60311214e+01, -7.53021591e+01, -7.45725956e+01, -7.38424342e+01,\n",
       "       -7.31116666e+01, -7.23803014e+01, -7.16483378e+01, -7.09157838e+01,\n",
       "       -7.01826346e+01, -6.94488903e+01, -6.87145523e+01, -6.79796271e+01,\n",
       "       -6.72441120e+01, -6.65080117e+01, -6.57713214e+01, -6.50340438e+01,\n",
       "       -6.42961838e+01, -6.35577436e+01, -6.28187198e+01, -6.20791127e+01,\n",
       "       -6.13389278e+01, -6.05981630e+01, -5.98568230e+01, -5.91149057e+01,\n",
       "       -5.83724138e+01, -5.76293428e+01, -5.68856949e+01, -5.61414813e+01,\n",
       "       -5.53966914e+01, -5.46513329e+01, -5.39053989e+01, -5.31588980e+01,\n",
       "       -5.24118310e+01, -5.16641925e+01, -5.09159886e+01, -5.01672166e+01,\n",
       "       -4.94178850e+01, -4.86679774e+01, -4.79175125e+01, -4.71664815e+01,\n",
       "       -4.64148908e+01, -4.56627421e+01, -4.49100251e+01, -4.41567517e+01,\n",
       "       -4.34029138e+01, -4.26485181e+01, -4.18935703e+01, -4.11380602e+01,\n",
       "       -4.03819958e+01, -3.96253710e+01, -3.88681973e+01, -3.81104649e+01,\n",
       "       -3.73521794e+01, -3.65933402e+01, -3.58339518e+01, -3.50740048e+01,\n",
       "       -3.43135143e+01, -3.35524722e+01, -3.27908776e+01, -3.20287368e+01,\n",
       "       -3.12660456e+01, -3.05028120e+01, -2.97390259e+01, -2.89746957e+01,\n",
       "       -2.82098237e+01, -2.74444050e+01, -2.66784435e+01, -2.59119367e+01,\n",
       "       -2.51448870e+01, -2.43773021e+01, -2.36091759e+01, -2.28405049e+01,\n",
       "       -2.20712990e+01, -2.13015541e+01, -2.05312728e+01, -1.97604545e+01,\n",
       "       -1.89890985e+01, -1.82172095e+01, -1.74447884e+01, -1.66718323e+01,\n",
       "       -1.58983466e+01, -1.51243249e+01, -1.43497760e+01, -1.35746962e+01,\n",
       "       -1.27990946e+01, -1.20229554e+01, -1.12462931e+01, -1.04691041e+01,\n",
       "       -9.69139198e+00, -8.91316002e+00, -8.13439930e+00, -7.35511608e+00,\n",
       "       -6.57531394e+00, -5.79499008e+00, -5.01414888e+00, -4.23278720e+00,\n",
       "       -3.45091043e+00, -2.66851942e+00, -1.88560678e+00, -1.10218847e+00,\n",
       "       -3.18254006e-01, -1.07513317e-05, -1.44232918e-05, -8.53344659e-06,\n",
       "       -1.09711266e-05, -1.24834230e-05, -8.00375187e-06, -1.25767986e-05,\n",
       "       -1.09123380e-05, -1.12286170e-05, -1.44487144e-05, -6.87235752e-06,\n",
       "       -1.11045354e-05, -1.29720706e-05, -1.22540866e-05, -1.19724609e-05,\n",
       "       -1.06037071e-05, -1.06116822e-05, -7.51286666e-06, -1.11039967e-05,\n",
       "       -1.39332490e-05, -1.41596083e-05, -1.32298026e-05, -9.67913184e-06,\n",
       "       -1.23031489e-05, -1.24618944e-05, -8.87953001e-06, -1.46342531e-05,\n",
       "       -9.06656965e-06, -1.22039871e-05, -1.42377075e-05, -1.03711809e-05,\n",
       "       -1.14846280e-05, -1.50494968e-05, -9.04849026e-06, -1.34725387e-05,\n",
       "       -1.23230232e-05, -1.51122156e-05, -1.22119407e-05, -1.27586893e-05,\n",
       "       -1.55067705e-05, -1.42348833e-05, -1.23205868e-05, -9.49792616e-06,\n",
       "       -9.85881479e-06, -1.13957517e-05, -1.58801306e-05, -1.24022720e-05,\n",
       "       -1.11043878e-05, -1.22448891e-05, -1.63620980e-05, -1.15855660e-05,\n",
       "       -1.50036560e-05, -1.15992245e-05, -1.08341030e-05, -1.38334842e-05,\n",
       "       -1.09495854e-05, -1.11350691e-05, -1.68327945e-05, -1.47801961e-05,\n",
       "       -1.52674488e-05, -1.08363990e-05, -1.36474380e-05, -1.55809105e-05,\n",
       "       -1.44751432e-05, -8.76590093e-06, -1.40705865e-05, -1.19640795e-05,\n",
       "       -1.40789166e-05, -1.38400505e-05, -1.20131638e-05, -1.36782871e-05,\n",
       "       -1.53887788e-05, -1.52845093e-05, -1.29716611e-05, -1.02897036e-05,\n",
       "       -1.54205190e-05, -1.26548812e-05, -1.22926779e-05, -1.27065830e-05,\n",
       "       -9.99724921e-06, -1.17880518e-05, -1.42075760e-05, -1.14617753e-05,\n",
       "       -1.27288338e-05, -1.52926405e-05, -1.42419581e-05, -1.31232625e-05,\n",
       "       -8.90552610e-06, -1.45358076e-05, -9.98582095e-06, -1.45144372e-05,\n",
       "       -1.35294110e-05, -1.48499862e-05, -1.91699307e-05, -1.35113387e-05,\n",
       "       -1.02648937e-05, -1.45790730e-05, -1.74118870e-05, -1.31142103e-05,\n",
       "       -1.59667386e-05, -1.05886584e-05, -1.23668406e-05, -1.41743094e-05,\n",
       "       -1.06977448e-05, -1.65378549e-05, -1.66729083e-05, -1.52944517e-05,\n",
       "       -1.11889049e-05, -1.44311425e-05, -1.01792623e-05, -1.46350083e-05,\n",
       "       -1.59890731e-05, -1.49730849e-05, -1.80117690e-05, -1.30523574e-05,\n",
       "       -1.48021261e-05, -1.71871857e-05, -1.34809966e-05, -1.11258744e-05,\n",
       "       -1.34962352e-05, -1.66025814e-05, -1.47902099e-05, -1.79602944e-05,\n",
       "       -1.50197634e-05, -1.41364037e-05, -1.58346165e-05, -1.53469000e-05,\n",
       "       -1.41362302e-05, -1.50752862e-05, -1.63700156e-05, -1.60672423e-05,\n",
       "       -1.71857628e-05, -1.62205727e-05, -1.05296212e-05, -1.72445802e-05,\n",
       "       -1.34726031e-05, -1.56289138e-05, -1.60699735e-05, -1.95371372e-05,\n",
       "       -1.24730082e-05, -1.78813025e-05, -1.25446725e-05, -1.25238930e-05,\n",
       "       -1.60791460e-05, -1.29411103e-05, -1.30743638e-05, -1.58241021e-05,\n",
       "       -1.11665195e-05, -1.50424817e-05, -1.81498456e-05, -1.53769392e-05,\n",
       "       -1.51691124e-05, -1.53363408e-05, -1.66019774e-05, -1.58618168e-05,\n",
       "       -1.72528432e-05, -1.43579634e-05, -1.56776589e-05, -1.61459486e-05,\n",
       "       -1.48588970e-05, -2.00974803e-05, -1.77869858e-05, -1.50565998e-05,\n",
       "       -1.58060548e-05, -1.36405176e-05, -1.41050773e-05, -1.41293187e-05,\n",
       "       -1.68890879e-05, -1.66239759e-05, -1.85677345e-05, -1.73498872e-05,\n",
       "       -1.36780379e-05, -1.82590832e-05, -1.95154719e-05, -1.89227096e-05,\n",
       "       -1.80254267e-05, -2.10138517e-05, -1.45266215e-05, -1.32550554e-05,\n",
       "       -1.62825045e-05, -1.73451135e-05, -1.48967308e-05, -1.58005480e-05,\n",
       "       -2.04768091e-05, -1.29163850e-05, -1.87153125e-05, -1.63156940e-05,\n",
       "       -1.87469195e-05, -1.55462462e-05, -1.65704798e-05, -1.44378630e-05,\n",
       "       -1.94891145e-05, -2.07062128e-05, -1.89976618e-05, -1.67497903e-05,\n",
       "       -1.57860620e-05, -2.08689935e-05, -1.63961552e-05, -1.71417335e-05,\n",
       "       -1.52161615e-05, -1.81818082e-05, -2.20084087e-05, -1.77997299e-05,\n",
       "       -1.85962360e-05, -1.51476679e-05, -1.90434416e-05, -1.72801410e-05,\n",
       "       -1.92441032e-05, -1.60353136e-05, -1.72091302e-05, -2.11515480e-05,\n",
       "       -1.60658656e-05, -1.98231030e-05, -1.77036495e-05, -1.80070615e-05,\n",
       "       -1.64155142e-05, -2.16716394e-05, -1.71479269e-05, -1.66680707e-05,\n",
       "       -1.71675256e-05, -1.58379030e-05, -1.68526983e-05, -1.81240814e-05,\n",
       "       -2.09213040e-05, -1.99786427e-05, -1.96310232e-05, -2.00058505e-05,\n",
       "       -1.55514738e-05, -1.97148270e-05, -2.06751472e-05, -2.08437471e-05,\n",
       "       -1.98558887e-05, -1.84068167e-05, -1.40892334e-05, -2.02674871e-05,\n",
       "       -1.76198250e-05, -1.71330555e-05, -1.83211305e-05, -1.96032438e-05,\n",
       "       -1.89992238e-05, -1.58567827e-05, -1.79484359e-05, -2.05834517e-05,\n",
       "       -1.82899528e-05, -1.99137298e-05, -2.30080004e-05, -2.18003206e-05,\n",
       "       -2.23661889e-05, -1.78858947e-05, -1.98917819e-05, -1.76310095e-05,\n",
       "       -2.30026797e-05, -1.65152635e-05, -2.12121456e-05, -1.93904186e-05,\n",
       "       -1.83081368e-05, -1.96326193e-05, -1.87667015e-05, -2.04069897e-05,\n",
       "       -1.89620569e-05, -1.76863846e-05, -1.98177374e-05, -2.28077311e-05,\n",
       "       -2.18853486e-05, -1.71140623e-05, -1.87469279e-05, -1.85643182e-05,\n",
       "       -2.02153362e-05, -2.22330700e-05, -2.11430645e-05, -2.13111043e-05,\n",
       "       -2.27069752e-05, -2.05583608e-05, -1.69953735e-05, -2.15191860e-05,\n",
       "       -2.01504597e-05, -2.02436620e-05, -1.96108467e-05, -2.26515647e-05,\n",
       "       -1.92484870e-05, -2.02471858e-05, -1.88122403e-05, -2.07487524e-05,\n",
       "       -2.14138070e-05, -1.96523497e-05, -2.07468465e-05, -1.88646063e-05,\n",
       "       -1.75176017e-05, -2.41355770e-05, -2.17229410e-05, -1.93854246e-05,\n",
       "       -2.36200342e-05, -2.06322254e-05, -2.13412361e-05, -1.86602740e-05,\n",
       "       -2.02037068e-05, -2.15234222e-05, -2.17103275e-05, -1.74774768e-05,\n",
       "       -2.14096774e-05, -2.18445457e-05, -2.27055948e-05, -2.11502763e-05,\n",
       "       -2.35497303e-05, -2.37334950e-05, -1.82352612e-05, -2.12198008e-05,\n",
       "       -2.24509670e-05, -2.16016606e-05, -2.11144338e-05, -2.10469334e-05,\n",
       "       -2.25297242e-05, -2.04121261e-05, -2.33639782e-05, -1.69808288e-05,\n",
       "       -2.19130420e-05, -2.01242756e-05, -2.18143689e-05, -2.23137872e-05,\n",
       "       -2.54492904e-05, -2.05976492e-05, -2.39704477e-05, -2.37511294e-05,\n",
       "       -2.28750018e-05, -2.38059831e-05, -2.13859851e-05, -2.27699159e-05,\n",
       "       -2.59512099e-05, -2.26504478e-05, -1.90919934e-05, -2.31313904e-05,\n",
       "       -2.28414497e-05, -2.15913756e-05, -2.09236964e-05, -1.89579093e-05,\n",
       "       -1.70285589e-05, -2.00096981e-05, -2.30696915e-05, -2.19642466e-05,\n",
       "       -2.22980168e-05, -2.26934860e-05, -2.17019187e-05, -2.30636615e-05,\n",
       "       -2.24439859e-05, -2.30269557e-05, -1.97742609e-05, -2.08873441e-05,\n",
       "       -2.21326534e-05, -1.98245125e-05, -2.05474391e-05, -2.44740768e-05,\n",
       "       -2.26028371e-05, -2.07660523e-05, -2.54956078e-05, -1.96051365e-05,\n",
       "       -2.39309345e-05, -2.33606804e-05, -2.56758372e-05, -2.49962879e-05,\n",
       "       -2.19585302e-05, -2.34050349e-05, -2.42167557e-05, -2.53240389e-05,\n",
       "       -2.48439594e-05, -2.23024824e-05, -1.99044141e-05, -2.32037285e-05,\n",
       "       -2.22038948e-05, -1.88249446e-05, -2.05143381e-05, -2.25998019e-05,\n",
       "       -2.08749921e-05, -2.25794881e-05, -2.18325026e-05, -2.40037027e-05,\n",
       "       -2.25199096e-05, -2.48692809e-05, -2.08427321e-05, -2.19079407e-05,\n",
       "       -2.17987401e-05, -2.05493709e-05, -2.29728396e-05, -2.14504730e-05,\n",
       "       -2.40912075e-05, -2.11965223e-05, -2.41701900e-05, -2.55065218e-05,\n",
       "       -2.62963424e-05, -2.18862190e-05, -2.32026935e-05, -2.53305393e-05,\n",
       "       -2.50179039e-05, -2.69818290e-05, -1.91797665e-05, -2.29167631e-05,\n",
       "       -2.37694587e-05, -2.42614421e-05, -2.70475628e-05, -2.65687222e-05,\n",
       "       -2.40663092e-05, -2.16953963e-05, -2.63661170e-05, -2.63917095e-05,\n",
       "       -2.38248199e-05, -2.53725354e-05, -2.63451209e-05, -2.50231192e-05,\n",
       "       -2.19294066e-05, -2.30645787e-05, -2.35933965e-05, -2.39070084e-05,\n",
       "       -2.42044289e-05, -2.35176899e-05, -2.21379630e-05, -2.62963654e-05,\n",
       "       -2.34085701e-05, -2.70722246e-05, -2.81409684e-05, -2.44998218e-05,\n",
       "       -2.37713373e-05, -2.74460642e-05, -2.32659254e-05, -2.61120585e-05,\n",
       "       -2.73326345e-05, -2.50212654e-05, -2.71734650e-05, -2.22941048e-05,\n",
       "       -2.16017932e-05, -2.47157793e-05, -2.65155320e-05, -2.76494679e-05,\n",
       "       -2.44586693e-05, -2.49828452e-05, -2.52916000e-05, -2.29384964e-05,\n",
       "       -2.36067815e-05, -2.55428517e-05, -2.56917076e-05, -2.55205459e-05,\n",
       "       -2.39611170e-05, -2.41501800e-05, -2.77184251e-05, -2.51918252e-05,\n",
       "       -2.38727434e-05, -2.31995073e-05, -2.33395153e-05, -2.54217900e-05,\n",
       "       -2.97064564e-05, -2.37015634e-05, -2.58895316e-05, -2.82989106e-05,\n",
       "       -2.44779999e-05, -2.66342743e-05, -2.26356606e-05, -2.41217863e-05,\n",
       "       -2.68652691e-05, -2.77341799e-05, -2.61997907e-05, -2.76426231e-05,\n",
       "       -2.33688515e-05, -2.47488908e-05, -2.69105201e-05, -2.79707988e-05,\n",
       "       -2.47995372e-05, -2.37775560e-05, -2.63392835e-05, -2.60858776e-05,\n",
       "       -2.88446251e-05, -2.95338784e-05, -2.45399801e-05, -2.86618858e-05,\n",
       "       -2.61362488e-05, -2.81535113e-05, -2.89195182e-05, -2.82372716e-05,\n",
       "       -2.79984672e-05, -2.44696266e-05, -2.71318997e-05, -2.46852267e-05,\n",
       "       -2.54259098e-05, -2.44328537e-05, -2.56693204e-05, -2.60432500e-05])"
      ]
     },
     "execution_count": 65,
     "metadata": {},
     "output_type": "execute_result"
    }
   ],
   "source": [
    "xl_diff"
   ]
  },
  {
   "cell_type": "code",
   "execution_count": 75,
   "id": "ae4b9acf",
   "metadata": {},
   "outputs": [
    {
     "data": {
      "text/plain": [
       "-8.533446589353844e-06"
      ]
     },
     "execution_count": 75,
     "metadata": {},
     "output_type": "execute_result"
    }
   ],
   "source": [
    "xl_diff[219]"
   ]
  },
  {
   "cell_type": "code",
   "execution_count": 82,
   "id": "99034eac",
   "metadata": {},
   "outputs": [
    {
     "data": {
      "text/plain": [
       "-1.075133172889764e-05"
      ]
     },
     "execution_count": 82,
     "metadata": {},
     "output_type": "execute_result"
    }
   ],
   "source": [
    "xl_diff[217]"
   ]
  },
  {
   "cell_type": "code",
   "execution_count": null,
   "id": "b8368389",
   "metadata": {},
   "outputs": [],
   "source": []
  },
  {
   "cell_type": "code",
   "execution_count": null,
   "id": "7aef4eaa",
   "metadata": {},
   "outputs": [],
   "source": []
  },
  {
   "cell_type": "code",
   "execution_count": null,
   "id": "fff07f84",
   "metadata": {},
   "outputs": [],
   "source": []
  }
 ],
 "metadata": {
  "kernelspec": {
   "display_name": "Python 3",
   "language": "python",
   "name": "python3"
  },
  "language_info": {
   "codemirror_mode": {
    "name": "ipython",
    "version": 3
   },
   "file_extension": ".py",
   "mimetype": "text/x-python",
   "name": "python",
   "nbconvert_exporter": "python",
   "pygments_lexer": "ipython3",
   "version": "3.8.8"
  }
 },
 "nbformat": 4,
 "nbformat_minor": 5
}
